{
 "cells": [
  {
   "cell_type": "code",
   "execution_count": 5,
   "id": "d0047f65",
   "metadata": {},
   "outputs": [],
   "source": [
    "import re\n",
    "import ssl\n",
    "\n",
    "from Bio.Blast import NCBIWWW, NCBIXML\n",
    "from Bio.Seq import Seq\n",
    "import numpy as np\n",
    "\n",
    "ssl._create_default_https_context = ssl._create_unverified_context"
   ]
  },
  {
   "cell_type": "code",
   "execution_count": 6,
   "id": "fc8e094b",
   "metadata": {},
   "outputs": [],
   "source": [
    "g = (\n",
    "    'TGGGCCTCATATTTATCCTATATACCATGTTCGTATGGTGGCGCGATGTTCTACGTGAATCCACG'\n",
    "    'TTCGAAGGACATCATACCAAAGTCGTACAATTAGGACCTCGATATGGTTTTATTCTGTTTATCGT'\n",
    "    'ATCGGAGGTTATGTTCTTTTTTGCTCTTTTTCGGGCTTCTTCTCATTCTTCTTTGGCACCTACGG'\n",
    "    'TAGAG')"
   ]
  },
  {
   "cell_type": "code",
   "execution_count": 7,
   "id": "7cfce031",
   "metadata": {},
   "outputs": [],
   "source": [
    "res = NCBIWWW.qblast('blastn', 'nt', g)\n",
    "rec = NCBIXML.read(res)"
   ]
  },
  {
   "cell_type": "code",
   "execution_count": 12,
   "id": "b12543bf",
   "metadata": {},
   "outputs": [
    {
     "name": "stdout",
     "output_type": "stream",
     "text": [
      "1.53482e-95:  Solanum macrocarpon isolate NN6 chromosome 1, complete genome\n",
      "gi|1883211572|gb|MT122970.1| Solanum macrocarpon isolate NN6 chromosome 1, complete genome\n"
     ]
    }
   ],
   "source": [
    "mn = float('inf')\n",
    "best = None\n",
    "align = None\n",
    "for alignment in rec.alignments:\n",
    "    for hsp in alignment.hsps:\n",
    "        e = hsp.expect\n",
    "        if e < mn:\n",
    "            print(f'{e}: {alignment.title.split(\"|\")[-1]}')\n",
    "            best = alignment.title\n",
    "            align = alignment\n",
    "            mn = e\n",
    "print(best)"
   ]
  },
  {
   "cell_type": "code",
   "execution_count": 13,
   "id": "9b6010c1",
   "metadata": {},
   "outputs": [
    {
     "data": {
      "text/plain": [
       "<Bio.Blast.NCBIXML.Alignment at 0x115256050>"
      ]
     },
     "execution_count": 13,
     "metadata": {},
     "output_type": "execute_result"
    }
   ],
   "source": [
    "align"
   ]
  },
  {
   "cell_type": "code",
   "execution_count": 17,
   "id": "bca1bbed",
   "metadata": {},
   "outputs": [
    {
     "data": {
      "text/plain": [
       "Seq('CTCTACCGTAGGTGCCAAAGAAGAATGAGAAGAAGCCCGAAAAAGAGCAAAAAA...CCA')"
      ]
     },
     "execution_count": 17,
     "metadata": {},
     "output_type": "execute_result"
    }
   ],
   "source": [
    "Seq(g).reverse_complement()"
   ]
  },
  {
   "cell_type": "code",
   "execution_count": 18,
   "id": "19e01e16",
   "metadata": {},
   "outputs": [
    {
     "name": "stderr",
     "output_type": "stream",
     "text": [
      "/Users/damiansp/.venv/lib/python3.11/site-packages/Bio/Seq.py:2879: BiopythonWarning: Partial codon, len(sequence) not a multiple of three. Explicitly trim the sequence or add trailing N before translation. This may become an error in future.\n",
      "  warnings.warn(\n"
     ]
    },
    {
     "data": {
      "text/plain": [
       "Seq('WASYLSYIPCSYGGAMFYVNPRSKDIIPKSYN*DLDMVLFCLSYRRLCSFLLFF...LR*')"
      ]
     },
     "execution_count": 18,
     "metadata": {},
     "output_type": "execute_result"
    }
   ],
   "source": [
    "s = Seq(g)\n",
    "s.translate()"
   ]
  },
  {
   "cell_type": "code",
   "execution_count": null,
   "id": "12ae5db3",
   "metadata": {},
   "outputs": [],
   "source": []
  }
 ],
 "metadata": {
  "kernelspec": {
   "display_name": "Python 3 (ipykernel)",
   "language": "python",
   "name": "python3"
  },
  "language_info": {
   "codemirror_mode": {
    "name": "ipython",
    "version": 3
   },
   "file_extension": ".py",
   "mimetype": "text/x-python",
   "name": "python",
   "nbconvert_exporter": "python",
   "pygments_lexer": "ipython3",
   "version": "3.11.3"
  }
 },
 "nbformat": 4,
 "nbformat_minor": 5
}
