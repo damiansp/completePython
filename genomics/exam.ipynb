{
 "cells": [
  {
   "cell_type": "code",
   "execution_count": 1,
   "id": "433c1c09",
   "metadata": {},
   "outputs": [
    {
     "name": "stdout",
     "output_type": "stream",
     "text": [
      "bio_test.ipynb    dna.example.fasta exam.ipynb\r\n"
     ]
    }
   ],
   "source": [
    "!ls ."
   ]
  },
  {
   "cell_type": "code",
   "execution_count": 2,
   "id": "862a28cb",
   "metadata": {},
   "outputs": [
    {
     "name": "stdout",
     "output_type": "stream",
     "text": [
      ">gi|142022655|gb|EQ086233.1|43 marine metagenome JCVI_SCAF_1096627390048 genomic scaffold, whole genome shotgun sequence\r\n",
      "TCGGGCGAAGGCGGCAGCAAGTCGTCCACGCGCAGCGCGGCACCGCGGGCCTCTGCCGTGCGCTGCTTGG\r\n",
      "CCATGGCCTCCAGCGCACCGATCGGATCAAAGCCGCTGAAGCCTTCGCGCATCAGGCGGCCATAGTTGGC\r\n",
      "GCCAGTGACCGTACCAACCGCCTTGATGCGGCGCTCGGTCATCGCTGCATTGATCGAGTAGCCACCGCCG\r\n",
      "CCGCAAATGCCCAGCACGCCAATGCGTTCTTCATCCACATAGGGGAGCGTTACGAGGTAGTCGCAGACCA\r\n",
      "CGCGGAAATCCTCGACGCGCAGTGTCGGGTCTTCGGTAAAACGTGGTTCGCCGCCGCTGGCACCCTGGAA\r\n",
      "GCTGGCGTCGAAGGCGATGACGACGAAACCTTCCTTGGCCAGCGCCTCGCCATACACGTTCCCCGATGTT\r\n",
      "TGCTCCTTGCAGCTGCCGATCGGATGCGCGCTGATGATGGCGGGATATTTCTTGCCTTCGTCGAAGTTCG\r\n",
      "GCGGGAAGTGGATGTCGGCTGCGATATCCCAATACACATTCTTGATCTTGACGCTTTTCATGACAGCTCC\r\n",
      "GTTCAGGGGGAGGGGGTAAGTTCGCCAGGCCGAATCGTTGGTAGCCAAGCGGCAACGACTCGAATATAGA\r\n"
     ]
    }
   ],
   "source": [
    "!head -10 dna.example.fasta"
   ]
  },
  {
   "cell_type": "markdown",
   "id": "d1edb8bf",
   "metadata": {},
   "source": [
    "1) How many records in the file?"
   ]
  },
  {
   "cell_type": "code",
   "execution_count": 3,
   "id": "374f6091",
   "metadata": {},
   "outputs": [],
   "source": [
    "FILE = './dna.example.fasta'"
   ]
  },
  {
   "cell_type": "code",
   "execution_count": 39,
   "id": "5ec39f56",
   "metadata": {},
   "outputs": [],
   "source": [
    "class Record:\n",
    "    def __init__(self, record_str):\n",
    "        self.record_str = record_str\n",
    "        self.header, self.seq = record_str.split('\\n', 1)\n",
    "        self.a, self.id, self.c, self.call, self.descr = (\n",
    "            self.header.split('|'))\n",
    "\n",
    "    def __str__(self):\n",
    "        return self.record_str\n",
    "    \n",
    "    def __len__(self):\n",
    "        return len(self.seq)"
   ]
  },
  {
   "cell_type": "code",
   "execution_count": 40,
   "id": "d607f989",
   "metadata": {},
   "outputs": [],
   "source": [
    "def get_records(path):\n",
    "    with open(path, 'r') as f:\n",
    "        t = ''.join(f.readlines())\n",
    "    records = t.split('>')[1:]\n",
    "    return [Record(record) for record in records]"
   ]
  },
  {
   "cell_type": "code",
   "execution_count": 41,
   "id": "c48eb437",
   "metadata": {},
   "outputs": [
    {
     "name": "stdout",
     "output_type": "stream",
     "text": [
      "25\n",
      "\n",
      "gi|142022655|gb|EQ086233.1|101 marine metagenome JCVI_SCAF_1096627390048 genomic scaffold, whole genome shotgun sequence\n",
      "CACATCGACACGAAGATCACCGCGCATGCGTTGCTGATCACGCTCGTCAGCGCGCGTGCCTCGGACATGA\n",
      "AGCGATCGATGCCGACCAGCAGTGCGACACCGGCGACGGGCAGGTCGGGCATGACGACGAGCGTGGCGAC\n",
      "CAGCGCAACCAGCCCGCTTCCGGAAACGCCGGCCGCGCCCTTGGACGTGAGCAGCATGATGGCGAGCATC\n",
      "ACGGCGATCTGCGACGCGGAAAGGGGCACGTCGCACGCCTGCGCGATGAACAACGCGGCGAGCGTCAGAT\n",
      "AGATCGCGGTACCGTCCAGATTGAACGAATAACCCGCCGGCAGCACGAGCCCCACGACGCCCTTGTCGCA\n",
      "CCCGAGCGATTCCAGCTTGACGATCAGGCGTGGCAGAACGGGCTCCGAAGAGGACGTCGCGAGGACGATG\n",
      "AGCAACTCTTCGCGCAGGTAGCGCAAGAGCCGCCACAGCGCGAAGCCGTGCAGCCGCGCGAGCGGGGCGA\n",
      "GCACCAGTGCGACGAACAGCCCGCAGGCCACGTAGAAGGACAGCATCAGCTTCGCGAGCGAGCCGATCGA\n",
      "GCCGATTCCGAAGCGGCCCACCGTGAAGGCCATCGCGCCGAATGCGCCGAGCGGCGCGAGCCGCATGATC\n",
      "ATCGCGAGCACGCGAAAGACGACCTGGGCGACGCCGTCGATCAGTGCAAGAACGGGCCGCCCGGCCCGCG\n",
      "GGTGTGCGTTCAGCGAGAAGCCGAACAACAGCGACAGCAGCAGCACCGGCAACACCTCGCCTTTCTCGAA\n",
      "CGCGCCGAGCATCGTATCGGGGATCACGCTCAGCCCGAACGCGACGAGCCCGTTCGGTTGCGCGTCCCTC\n",
      "ACGTACGGCGCGAGGATGCGCGAATCGAGATGGTGGACGTCGATGTGCATGCCGGCGCCCGGTTGCAACA\n",
      "CGAACGCGGTGATGAGCCCGATGGCGAGCGCGACGGCGGTGAGCAGATAGAAGAGCGCGAGCGCCCGCAC\n",
      "GATCGTGCGGCCGATTGCCTGCCCGTTCGCCAGCGACGTGATGCCCGAGACGATCGTGCAGAACACGATC\n",
      "GGCGCGATGGTCATCCTCACGAGGCCGACGAACGCGTCGCTGAGCGGTTTGAACATCGCGCCTGCGTCCG\n",
      "GCCATACATGACCGACGGTCACGCCGAGCAGCATCGCGAGCAGGACCTGCACGTAGAGCGATTTGAGCAG\n",
      "CCTGGCCAACCTCACGGAACGGTCTTCCTTCGTGTCTCTTGTGTCGTTGTCACACCGATGCATCGCTGTT\n",
      "CGCGATGCCGTCGCGCTTCGCGTCGACGATCATCCGGTGAAATGCTTCGGCGGCCGGCGTGAGCGGCCGT\n",
      "CCGCGCCGCTTGACGATGCCCACGCGGCGTTTGACGACCGGCTCGACGAGCGGCACGCTCGTGAGAATCG\n",
      "GGTGGTCGTGCCCGGGCATCGCCATCGACGGCACCGCGGCGACGCCGAGCCCCGCCTCGATCAAGCCGAG\n",
      "CAGGGTCGTCACGTGGCGCGCTTCGCATACGCTCGGCCCCCGCGGCGCCACGGCGGCCAGCGCCTGGTCG\n",
      "AGCAACAGGCGGTTCCCGGAAGTCTTGTCCACCGACACGTAATCGTGCTCGTACAGTTCGTTCCAGGTAA\n",
      "CGCGCTTCTTGCGCGCGAGCGGATGGTCGCGGCGGCAGGCAGCGACGAACCGCTCCTGGAGCAACATCTT\n",
      "GAACTCGATGTCGGATTCCTGGCTGCCCATGAAGCTCACGCCGAAATCGGCTTCGCCGCTGATGACGGCG\n",
      "CCCAGCACCTCGTTCGCGCTCGCGTCCAGCAGCTTGACCCGGATGCGCGGAAAGCGCTGATGATAGCGCG\n",
      "CGATGATGGCCGGCAGAAAGTAGTAGGCGACCGAGGGCACGCACGCGATGGTCACATGGCCCAGGCGGCT\n",
      "CGACGACACGTCGCGAATGCCGAGCAGCGCCGCATCGAGATCGTCGAGCAGCTGTTCGGCGCTCTGGGCG\n",
      "AACACGCGGCCGACCGTGGTGAGCGCGACGCGACGCGTGGTGCGCTCGAACAGGCGCACGCCGAGCGCTT\n",
      "CCTCGAGCTTGTCGATCCGGCGACTCAACGCGGGCTGGGAAATGCTGACCGATTCCGCGGCCTTGCGGAA\n",
      "ACTGCCCGTTTCCACGACCGCGCGAAACGCCTGCAAGTCGTTCAAGTCGAAGTTGATCCCCACGGGCGCG\n",
      "TCTCCCCATCTCAGATGGGGCGTATTTTGCATGATTTCGCCGGGCGGCCGCATCGGCGCGGCACGCATTC\n",
      "GCGCCACCCTCGATCGCAACCGCGTGCGTGAGCGTGCGGCCTGGCCGTCGATCCGCCGCGCGTCGATGTC\n",
      "GATGGGGGGCGTCGAGCCTGCGGGCCTTACGGCGCAAGCAGGCCGCGTGCGGCCAGATTGGCATACAGCG\n",
      "CGCGCACGCCGAAGGTCCAAGGCGCGATCTCGGTGCACAGCCGCACGGTGTTGACGAGTGCGCCGAGCG\n",
      "\n"
     ]
    }
   ],
   "source": [
    "records = get_records(FILE)\n",
    "print(len(records))\n",
    "print()\n",
    "print(records[-1])"
   ]
  },
  {
   "cell_type": "code",
   "execution_count": 42,
   "id": "c9b995ab",
   "metadata": {},
   "outputs": [
    {
     "name": "stdout",
     "output_type": "stream",
     "text": [
      "gi|142022655|gb|EQ086233.1|43 marine metagenome JCVI_SCAF_1096627390048 genomic scaffold, whole genome shotgun sequence\n",
      "TCGGGCGAAGGCGGCAGCAAGTCGTCCACGCGCAGCGCGGCACCGCGGGCCTCTGCCGTGCGCTGCTTGG\n",
      "CCATGGCCTCCAGCGCACCGATCGGATCAAAGCCGCTGAAGCCTTCGCGCATCAGGCGGCCATAGTTGGC\n",
      "GCCAGTGACCGTACCAACCGCCTTGATGCGGCGCTCGGTCATCGCTGCATTGATCGAGTAGCCACCGCCG\n",
      "CCGCAAATGCCCAGCACGCCAATGCGTTCTTCATCCACATAGGGGAGCGTTACGAGGTAGTCGCAGACCA\n",
      "CGCGGAAATCCTCGACGCGCAGTGTCGGGTCTTCGGTAAAACGTGGTTCGCCGCCGCTGGCACCCTGGAA\n",
      "GCTGGCGTCGAAGGCGATGACGACGAAACCTTCCTTGGCCAGCGCCTCGCCATACACGTTCCCCGATGTT\n",
      "TGCTCCTTGCAGCTGCCGATCGGATGCGCGCTGATGATGGCGGGATATTTCTTGCCTTCGTCGAAGTTCG\n",
      "GCGGGAAGTGGATGTCGGCTGCGATATCCCAATACACATTCTTGATCTTGACGCTTTTCATGACAGCTCC\n",
      "GTTCAGGGGGAGGGGGTAAGTTCGCCAGGCCGAATCGTTGGTAGCCAAGCGGCAACGACTCGAATATAGA\n",
      "GAGCCGATTGGAATTCCGTAAGATCGCAATCTGGACTACAGTGGTATCTTCAAATTGACAATGGCACCTA\n",
      "CATGGATCCCTCACTGCTTCCGTCTCTCGCGTGGTTCGCCCACGTCGCACATCATCGTAGCTTCACGAAA\n",
      "GCGGCTGCGGAAATGGGCGTTTCTCGAGCAAACCTGTCGCAGAACGTGAAGGCGCTCGAACGCCGGTTGA\n",
      "ACGTCAAGCTGCTGTATCGAACGACTCGCGACATGTCGCTGACCGAGGAGGGGCAGCGGCTCTACGAGGT\n",
      "GTGGTATCCCGCGCTGGTCGCGGTCGAGCGGACGGTCGACGCGCTGCACGAGGAGCGCGACGAGCCGTCG\n",
      "GGGTTGATTC\n",
      "\n"
     ]
    }
   ],
   "source": [
    "print(records[0])"
   ]
  },
  {
   "cell_type": "markdown",
   "id": "2cf379f5",
   "metadata": {},
   "source": [
    "2) What are the lengths of the records?  Shortest?  Longest?"
   ]
  },
  {
   "cell_type": "code",
   "execution_count": 43,
   "id": "00fcb991",
   "metadata": {},
   "outputs": [
    {
     "name": "stdout",
     "output_type": "stream",
     "text": [
      "1005\n",
      "735\n",
      "3124\n",
      "2904\n",
      "3887\n",
      "4874\n",
      "1687\n",
      "520\n",
      "701\n",
      "3116\n",
      "1827\n",
      "3655\n",
      "2514\n",
      "1631\n",
      "4813\n",
      "1836\n",
      "3473\n",
      "1472\n",
      "3323\n",
      "2155\n",
      "1737\n",
      "1344\n",
      "1206\n",
      "563\n",
      "2484\n"
     ]
    }
   ],
   "source": [
    "for r in records:\n",
    "    print(len(r))"
   ]
  },
  {
   "cell_type": "code",
   "execution_count": 45,
   "id": "aaecc8a3",
   "metadata": {},
   "outputs": [],
   "source": [
    "def get_longest(records):\n",
    "    longest = 0\n",
    "    out = []\n",
    "    for record in records:\n",
    "        seq_len = len(record)\n",
    "        if seq_len > longest:\n",
    "            longest = seq_len\n",
    "            out = [record]\n",
    "        elif seq_len == longest:\n",
    "            out.append(record)\n",
    "    return out"
   ]
  },
  {
   "cell_type": "code",
   "execution_count": 48,
   "id": "e7c21dd9",
   "metadata": {},
   "outputs": [],
   "source": [
    "def get_shortest(records):\n",
    "    shortest = 9e999\n",
    "    out = []\n",
    "    for record in records:\n",
    "        seq_len = len(record)\n",
    "        if seq_len < shortest:\n",
    "            shortest = seq_len\n",
    "            out = [record]\n",
    "        elif seq_len == shortest:\n",
    "            out.append(record)\n",
    "    return out"
   ]
  },
  {
   "cell_type": "code",
   "execution_count": 49,
   "id": "8c024cdb",
   "metadata": {},
   "outputs": [
    {
     "name": "stdout",
     "output_type": "stream",
     "text": [
      "longest:\n",
      "gi|142022655|gb|EQ086233.1|323 marine metagenome JCVI_SCAF_1096627390048 genomic scaffold, whole genome shotgun sequence 4874\n",
      "\n",
      "shortest:\n",
      "gi|142022655|gb|EQ086233.1|521 marine metagenome JCVI_SCAF_1096627390048 genomic scaffold, whole genome shotgun sequence 520\n"
     ]
    }
   ],
   "source": [
    "longest = get_longest(records)\n",
    "shortest = get_shortest(records)\n",
    "\n",
    "print('longest:')\n",
    "for r in longest:\n",
    "    print(r.header, len(r))\n",
    "print('\\nshortest:')\n",
    "for r in shortest:\n",
    "    print(r.header, len(r))"
   ]
  },
  {
   "cell_type": "code",
   "execution_count": null,
   "id": "fcf31f05",
   "metadata": {},
   "outputs": [],
   "source": []
  }
 ],
 "metadata": {
  "kernelspec": {
   "display_name": "Python 3 (ipykernel)",
   "language": "python",
   "name": "python3"
  },
  "language_info": {
   "codemirror_mode": {
    "name": "ipython",
    "version": 3
   },
   "file_extension": ".py",
   "mimetype": "text/x-python",
   "name": "python",
   "nbconvert_exporter": "python",
   "pygments_lexer": "ipython3",
   "version": "3.11.3"
  }
 },
 "nbformat": 4,
 "nbformat_minor": 5
}
