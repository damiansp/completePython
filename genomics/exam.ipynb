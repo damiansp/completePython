{
 "cells": [
  {
   "cell_type": "code",
   "execution_count": 89,
   "id": "9fd470b0",
   "metadata": {},
   "outputs": [],
   "source": [
    "#from collections import Counter"
   ]
  },
  {
   "cell_type": "code",
   "execution_count": 1,
   "id": "862a28cb",
   "metadata": {},
   "outputs": [
    {
     "name": "stdout",
     "output_type": "stream",
     "text": [
      ">gi|142022655|gb|EQ086233.1|43 marine metagenome JCVI_SCAF_1096627390048 genomic scaffold, whole genome shotgun sequence\r\n",
      "TCGGGCGAAGGCGGCAGCAAGTCGTCCACGCGCAGCGCGGCACCGCGGGCCTCTGCCGTGCGCTGCTTGG\r\n",
      "CCATGGCCTCCAGCGCACCGATCGGATCAAAGCCGCTGAAGCCTTCGCGCATCAGGCGGCCATAGTTGGC\r\n",
      "GCCAGTGACCGTACCAACCGCCTTGATGCGGCGCTCGGTCATCGCTGCATTGATCGAGTAGCCACCGCCG\r\n",
      "CCGCAAATGCCCAGCACGCCAATGCGTTCTTCATCCACATAGGGGAGCGTTACGAGGTAGTCGCAGACCA\r\n",
      "CGCGGAAATCCTCGACGCGCAGTGTCGGGTCTTCGGTAAAACGTGGTTCGCCGCCGCTGGCACCCTGGAA\r\n",
      "GCTGGCGTCGAAGGCGATGACGACGAAACCTTCCTTGGCCAGCGCCTCGCCATACACGTTCCCCGATGTT\r\n",
      "TGCTCCTTGCAGCTGCCGATCGGATGCGCGCTGATGATGGCGGGATATTTCTTGCCTTCGTCGAAGTTCG\r\n",
      "GCGGGAAGTGGATGTCGGCTGCGATATCCCAATACACATTCTTGATCTTGACGCTTTTCATGACAGCTCC\r\n",
      "GTTCAGGGGGAGGGGGTAAGTTCGCCAGGCCGAATCGTTGGTAGCCAAGCGGCAACGACTCGAATATAGA\r\n"
     ]
    }
   ],
   "source": [
    "!head -10 dna.example.fasta"
   ]
  },
  {
   "cell_type": "markdown",
   "id": "d1edb8bf",
   "metadata": {},
   "source": [
    "1) How many records in the file?"
   ]
  },
  {
   "cell_type": "code",
   "execution_count": 2,
   "id": "374f6091",
   "metadata": {},
   "outputs": [],
   "source": [
    "#FILE = './dna.example.fasta'  # dev\n",
    "FILE = './dna2.fasta'          # exam"
   ]
  },
  {
   "cell_type": "code",
   "execution_count": 3,
   "id": "5ec39f56",
   "metadata": {},
   "outputs": [],
   "source": [
    "class Record:\n",
    "    def __init__(self, record_str):\n",
    "        self.record_str = record_str\n",
    "        self.header, seq = record_str.split('\\n', 1)\n",
    "        self.seq = seq.replace('\\n', '')\n",
    "        self.a, self.id, self.c, self.call, self.descr = (\n",
    "            self.header.split('|'))\n",
    "\n",
    "    def __str__(self):\n",
    "        return self.record_str\n",
    "    \n",
    "    def __len__(self):\n",
    "        return len(self.seq)"
   ]
  },
  {
   "cell_type": "code",
   "execution_count": 18,
   "id": "d8020845",
   "metadata": {},
   "outputs": [],
   "source": [
    "class DNASeq:\n",
    "    def __init__(self, seq: str):\n",
    "        self.seq = seq\n",
    "        self.start_codon = 'ATG'\n",
    "        self.stop_codons = ['TAA', 'TAG', 'TGA']\n",
    "        self.n = len(seq)\n",
    "        \n",
    "    def to_codons(self, frame_start=1):\n",
    "        codons = [\n",
    "            self.seq[i:i+3] for i in range(frame_start - 1, self.n, 3)]\n",
    "        return [c for c in codons if len(c) == 3]\n",
    "\n",
    "    def get_orfs(self, frame_start=1):\n",
    "        'ORF: open reading frame'\n",
    "        orfs = []\n",
    "        codons = self.to_codons(frame_start)\n",
    "        while codons:\n",
    "            if self.start_codon in codons:\n",
    "                start = codons.index(self.start_codon)\n",
    "                first_stop = len(codons) + 1\n",
    "                for stop in self.stop_codons:\n",
    "                    if stop in codons[start + 1:]:\n",
    "                        stop_idx = codons.index(stop, start + 1)\n",
    "                        if stop_idx < first_stop:\n",
    "                            first_stop = stop_idx\n",
    "                if first_stop <= len(codons):\n",
    "                    orf = ''.join(codons[start:first_stop + 1])\n",
    "                    orfs.append([orf, start * 3])\n",
    "                    codons = codons[first_stop + 1:]\n",
    "                else:\n",
    "                    break\n",
    "            else:\n",
    "                break\n",
    "        return orfs\n",
    "    \n",
    "    def get_repeats(self, n):\n",
    "        'n is the length of the repeat sequence'\n",
    "        repeats = []\n",
    "        #for start in range(len(self.seq)):\n",
    "        #    seq = self.seq[start:start + n]\n",
    "        #    rep = seq\n",
    "        #    for next_frame_start in range(start + n, len(self.seq), n):\n",
    "        #        if (self.seq[next_frame_start:next_frame_start + n] \n",
    "        #            == seq):\n",
    "        #            rep += seq\n",
    "        #        else:\n",
    "        #            break\n",
    "        #    if len(rep) > n:\n",
    "        #        repeats.append(rep)\n",
    "        # with overlaps:\n",
    "        for start in range(len(self.seq)):\n",
    "            seq = self.seq[start:start + n]\n",
    "            rep = seq\n",
    "            count = 1\n",
    "            for next_frame_start in range(start + 1, start + 1 + n):\n",
    "                if (self.seq[\n",
    "                        next_frame_start:next_frame_start + n] == seq):\n",
    "                    rep = self.seq[start:next_frame_start + n]\n",
    "                    next_frame_start += 1\n",
    "                    count += 1\n",
    "                    continue\n",
    "            if len(rep) > n:\n",
    "                repeats.append((rep, seq, count))\n",
    "        return repeats"
   ]
  },
  {
   "cell_type": "code",
   "execution_count": 19,
   "id": "42fc0450",
   "metadata": {},
   "outputs": [
    {
     "name": "stdout",
     "output_type": "stream",
     "text": [
      "[('ACACA', 'ACA', 2)]\n",
      "\n",
      "[('GGCGGC', 'GGC', 2), ('GCAGCA', 'GCA', 2), ('GTCGTC', 'GTC', 2), ('CGCGC', 'CGC', 2), ('GCGCG', 'GCG', 2), ('GCTGCT', 'GCT', 2), ('CGCGC', 'CGC', 2), ('GGCGGC', 'GGC', 2), ('GCGGCG', 'GCG', 2), ('CCGCCG', 'CCG', 2), ('CGCCGC', 'CGC', 2), ('GCCGCC', 'GCC', 2), ('CCGCCG', 'CCG', 2), ('CGCCGC', 'CGC', 2), ('TTCTTC', 'TTC', 2), ('GGGG', 'GGG', 2), ('CGCGC', 'CGC', 2), ('AAAA', 'AAA', 2), ('CGCCGC', 'CGC', 2), ('GCCGCC', 'GCC', 2), ('CCGCCG', 'CCG', 2), ('CGCCGC', 'CGC', 2), ('GACGAC', 'GAC', 2), ('ACGACG', 'ACG', 2), ('CGACGA', 'CGA', 2), ('CCCC', 'CCC', 2), ('GCGCG', 'GCG', 2), ('CGCGC', 'CGC', 2), ('TGATGA', 'TGA', 2), ('GATGAT', 'GAT', 2), ('ATGATG', 'ATG', 2), ('TCGTCG', 'TCG', 2), ('CGGCGG', 'CGG', 2), ('ACACA', 'ACA', 2), ('TTTT', 'TTT', 2), ('GGGGG', 'GGG', 3), ('GGGG', 'GGG', 2), ('GGGGG', 'GGG', 3), ('GGGG', 'GGG', 2), ('ATATA', 'ATA', 2)]\n"
     ]
    }
   ],
   "source": [
    "seq = DNASeq('ACACA')\n",
    "print(seq.get_repeats(3))\n",
    "print()\n",
    "\n",
    "seq = (\n",
    "    'TCGGGCGAAGGCGGCAGCAAGTCGTCCACGCGCAGCGCGGCACCGCGGGCCTCTGCCGTGCGCTG'\n",
    "    'CTTGGCCATGGCCTCCAGCGCACCGATCGGATCAAAGCCGCTGAAGCCTTCGCGCATCAGGCGGC'\n",
    "    'CATAGTTGGCGCCAGTGACCGTACCAACCGCCTTGATGCGGCGCTCGGTCATCGCTGCATTGATC'\n",
    "    'GAGTAGCCACCGCCGCCGCAAATGCCCAGCACGCCAATGCGTTCTTCATCCACATAGGGGAGCGT'\n",
    "    'TACGAGGTAGTCGCAGACCACGCGGAAATCCTCGACGCGCAGTGTCGGGTCTTCGGTAAAACGTG'\n",
    "    'GTTCGCCGCCGCTGGCACCCTGGAAGCTGGCGTCGAAGGCGATGACGACGAAACCTTCCTTGGCC'\n",
    "    'AGCGCCTCGCCATACACGTTCCCCGATGTTTGCTCCTTGCAGCTGCCGATCGGATGCGCGCTGAT'\n",
    "    'GATGGCGGGATATTTCTTGCCTTCGTCGAAGTTCGGCGGGAAGTGGATGTCGGCTGCGATATCCC'\n",
    "    'AATACACATTCTTGATCTTGACGCTTTTCATGACAGCTCCGTTCAGGGGGAGGGGGTAAGTTCGC'\n",
    "    'CAGGCCGAATCGTTGGTAGCCAAGCGGCAACGACTCGAATATAGA')\n",
    "seq = DNASeq(seq)\n",
    "print(seq.get_repeats(3))"
   ]
  },
  {
   "cell_type": "code",
   "execution_count": 20,
   "id": "b1f9415e",
   "metadata": {},
   "outputs": [
    {
     "data": {
      "text/plain": [
       "[['ATGTTTGCTCCTTGCAGCTGCCGATCGGATGCGCGCTGA', 414]]"
      ]
     },
     "execution_count": 20,
     "metadata": {},
     "output_type": "execute_result"
    }
   ],
   "source": [
    "seq.get_orfs(2)"
   ]
  },
  {
   "cell_type": "code",
   "execution_count": 7,
   "id": "1b64539d",
   "metadata": {},
   "outputs": [
    {
     "data": {
      "text/plain": [
       "['ATGCGCGCTGATGATGGCGGGATATTTCTTGCCTTCGTCGAAGTTCGGCGGGAAGTGGATGTCGGCTGCGATATCCCAATACACATTCTTGATCTTGACGCTTTTCATGACAGCTCCGTTCAGGGGGAGGGGGTAAGTTCGCCAGGCCGAATCGTTGGTAGCCAAGCGGCAACGACTCGAATATAG']"
      ]
     },
     "execution_count": 7,
     "metadata": {},
     "output_type": "execute_result"
    }
   ],
   "source": [
    "seq.get_orfs(3)"
   ]
  },
  {
   "cell_type": "code",
   "execution_count": 8,
   "id": "d607f989",
   "metadata": {},
   "outputs": [],
   "source": [
    "def get_records(path):\n",
    "    with open(path, 'r') as f:\n",
    "        t = ''.join(f.readlines())\n",
    "    records = t.split('>')[1:]\n",
    "    return [Record(record) for record in records]"
   ]
  },
  {
   "cell_type": "code",
   "execution_count": 9,
   "id": "c48eb437",
   "metadata": {},
   "outputs": [
    {
     "name": "stdout",
     "output_type": "stream",
     "text": [
      "18\n",
      "\n",
      "gi|142022655|gb|EQ086233.1|527 marine metagenome JCVI_SCAF_1096627390048 genomic scaffold, whole genome shotgun sequence\n",
      "GAGAACCGGGAACCGGAACCATGACAGCCCCGCGCCGGTTTTACGCGAGATAGCCGGAAACGCCGTCCCA\n",
      "GAGCAGTTTCAATGCGGTCACCGCCAGCAATCCGTAGCAGCTCCGGTAGATCAGGCGCTGGTCCAGCCTG\n",
      "CCGTGAAGCCGCCAGCCGAACACCACGCCGGCCGGAATGGCAAGCAGGCACACCGCCATCAACGCCCAGA\n",
      "CGTTCGCGGTCGGCTGCACGATCAGCAGCCACGGCACTGCCTTGATCGCATTGCCCACGGTGAAGAACAG\n",
      "GCTCGTCGTTCCCGCGTACATCTCCTTGCTGAGGCCAAGCGGCAGCAGATACATCGCGAGCGGCGGCCCG\n",
      "CCCGAGTGCGCGACCATCGTCGTGACGCCCGATGCAAGGCCGGCCGAGACTGCCTTCGGCGACGAACGCG\n",
      "GACGAACCGTCGGCTCCGCCCCGCCCCTCACCCACAGCCCGACGAAGACCAGCGTGACCACCGCCATCAA\n",
      "AAGCTCGATGGCGCGATGGTCGAGGAAGCGGAAAGCCAGGTAACCGAACCCGATACCGACCACCAGCCCC\n",
      "GGCAGGAGCAGCACGAGGTCGGGCTTCGACCATGTCGACGGCTTCCAGTACCGCAGCGCGAACAGGTCCA\n",
      "TCGCGATGAACAGCGGGGCGAGCAAGCCGCCGGCCGTCACGGGGTCCATCACGAGGGACAGCAGCGGAAT\n",
      "GCCGATGATCGCGAATCCACCACCGAACGCGCCGCGCATGAACGCGATCACGAACACGCCGGCAAACGCG\n",
      "ATCAGGATCGTGGCCAGCGTCAATTGCAGGCCCATCGCAGCAGGGGTCGCCATCACGACCTCCATGCCGG\n",
      "TTCGAATCGCGGCGTGGCGGACAGCCACGGAGCGGGTCGCACGCGCGGCATCGCCGCACGATGGATCCGG\n",
      "GTTGAACGCGTTGCACCCATGCTGCTTCTCCAATGAGGTACCGGGGCGATGCGGTACACCAACGCACCGC\n",
      "AGGCCGCATGGGCCGCACAAGCATTTCAGCCCCGGTACAATCGACTTGACGAAAGCAGAATGCACCGCCG\n",
      "TCTATCTCAGTGCAATTAAAACATTGACCTCGGTGCAATATTCATTGTTATCGGTGCAATCCATGTCGAA\n",
      "TTCCGAATACCTGCAGTTGGCCGACGCGATCGCCGCCCAAATTGCCGACGGCACGCTCAGGCCGGGCGAC\n",
      "CGCCTGCCTCCGCAGCGTCATTTCGCCGACCAGCATGCGATCGCCGCATCGACGGCGGGACGGGTTTACG\n",
      "CGGAACTGTTACGGCGCGGCCTTGTGGTCGGCGAAGTCGGCCGAGGCACTTTCGTGTCGGGTGAGACGCG\n",
      "ACGCGGGGCCGCTGCGCCGGGCGAGCCGCGCGGCGTTCGGATCGATTTCGAGTTCAACTACCCGACCGTC\n",
      "CCGGCCCAGACCGCGTTGATCACCAGAAGCCTGCGCGGATTGCACCGACCTGCGGAGCTCGACGCCGCGT\n",
      "TACGCGAGGCGACGAGTACCGGGACCCCGGTCATCCGAAGCGTTGCCGCCGCGTATCTGGCGCAGCATGA\n",
      "ATGGGCCCCATCGCCCGACCAGCTCGTGTTTACCGGCAACGGGCGGCAAAGCATCGCCGCGGCCGTTGCC\n",
      "GCGGTCGTGCCGACCGGCGGACGCTGTGGCGTGGAGGCATTGACCTACCCGTTCATCAAGGGCATCGCGG\n",
      "CCAAGCTGGGGATCTCGCTGGTGCCACTGGCGATGGACGACGACGGCGTGCGGCCCGACGCCGTGCAAAA\n",
      "GGCCCACCGCGAGGCCAGGCTGTCGGCGATCTACGTTCAGCCAGCCATCCAGAATCCGCTCGGCACGACG\n",
      "ATGAGCGCCGCTCGCCGCGCCGATCTGCTGCGTGTCGTCGACAAACTCGACATACCGGTCATCGAAGACA\n",
      "ACGTGTACGGCTTTCTCGGCGACGAGCCGCCGCTGGCCGCACTCGCCCCGGACGCCTGCATCGTGATCGA\n",
      "CAGCCTGTCCAAGCGGGTCACGCCAGGCCTGACCCTCGGCTTCATCGTGCCGCCGCCGCGGCTGCGCGAA\n",
      "AGCGTGATGGCGTCGGTACGCTCGGGGGGATGGACCGCTTCCGGGTTCGCGTTTGCAGCCGCTCAGCGCT\n",
      "TGATGCGTGACGGCACCGTGGCCGAACTCGCGAGATTGAAACGCATCGACGCAATTGCACGTCAGGCGCT\n",
      "GGCGATCGAGCGTCTGGCGGGTTTCGATGTCCGGACCAACGGCAAGTGCTATCACCTGTGGCTGACGTTG\n",
      "CCGGCGCACTGGCGTTCGCAGGCCCTCGTCGCAGCCGCGGCCCGGCGCGACATCGGGCTGACGCCGTCGA\n",
      "CCACCTTCGCCGTTTCGTCCGGCCATGCGCCGAACGCGATCAGGCTCGCGCTGGCCGCGCCGAGCATGGA\n",
      "TCAGCTCGACGCCGGCCTGCGCACGCTGACCGCGATGCTGAACGGCCGCGAGGGCGATTTCGACGCGACC\n",
      "GAGTGAGCATCGCGCGGATGTGTCGTCGTACATCACCCGCCTGATTCGGTATCCGGATCAATATCAAGCC\n",
      "GTCACTTCGTCAGCAACTCGGCCTCCAGCTCGCGCAACCGTTCCGGAAACCGGACGCGCAGCACCAGGAA\n",
      "CCACCCGAGCCCGATCGCCAGCAATGCGACGAACACATACGGCAGCCACGCATAGA\n",
      "\n"
     ]
    }
   ],
   "source": [
    "records = get_records(FILE)\n",
    "print(len(records))\n",
    "print()\n",
    "print(records[-1])"
   ]
  },
  {
   "cell_type": "code",
   "execution_count": 11,
   "id": "c9b995ab",
   "metadata": {},
   "outputs": [],
   "source": [
    "#print(records[0])"
   ]
  },
  {
   "cell_type": "markdown",
   "id": "2cf379f5",
   "metadata": {},
   "source": [
    "2) What are the lengths of the records?  Shortest?  Longest?"
   ]
  },
  {
   "cell_type": "code",
   "execution_count": 12,
   "id": "00fcb991",
   "metadata": {},
   "outputs": [
    {
     "name": "stdout",
     "output_type": "stream",
     "text": [
      "4635\n",
      "1151\n",
      "4894\n",
      "3511\n",
      "4076\n",
      "2867\n",
      "442\n",
      "890\n",
      "967\n",
      "4338\n",
      "1352\n",
      "4564\n",
      "4804\n",
      "964\n",
      "2095\n",
      "1432\n",
      "115\n",
      "2646\n"
     ]
    }
   ],
   "source": [
    "for r in records:\n",
    "    print(len(r))"
   ]
  },
  {
   "cell_type": "code",
   "execution_count": 13,
   "id": "aaecc8a3",
   "metadata": {},
   "outputs": [],
   "source": [
    "def get_longest(records):\n",
    "    longest = 0\n",
    "    out = []\n",
    "    for record in records:\n",
    "        seq_len = len(record)\n",
    "        if seq_len > longest:\n",
    "            longest = seq_len\n",
    "            out = [record]\n",
    "        elif seq_len == longest:\n",
    "            out.append(record)\n",
    "    return out"
   ]
  },
  {
   "cell_type": "code",
   "execution_count": 14,
   "id": "e7c21dd9",
   "metadata": {},
   "outputs": [],
   "source": [
    "def get_shortest(records):\n",
    "    shortest = 9e999\n",
    "    out = []\n",
    "    for record in records:\n",
    "        seq_len = len(record)\n",
    "        if seq_len < shortest:\n",
    "            shortest = seq_len\n",
    "            out = [record]\n",
    "        elif seq_len == shortest:\n",
    "            out.append(record)\n",
    "    return out"
   ]
  },
  {
   "cell_type": "code",
   "execution_count": 15,
   "id": "8c024cdb",
   "metadata": {},
   "outputs": [
    {
     "name": "stdout",
     "output_type": "stream",
     "text": [
      "longest:\n",
      "gi|142022655|gb|EQ086233.1|255 marine metagenome JCVI_SCAF_1096627390048 genomic scaffold, whole genome shotgun sequence 4894\n",
      "\n",
      "shortest:\n",
      "gi|142022655|gb|EQ086233.1|346 marine metagenome JCVI_SCAF_1096627390048 genomic scaffold, whole genome shotgun sequence 115\n"
     ]
    }
   ],
   "source": [
    "longest = get_longest(records)\n",
    "shortest = get_shortest(records)\n",
    "\n",
    "print('longest:')\n",
    "for r in longest:\n",
    "    print(r.header, len(r))\n",
    "print('\\nshortest:')\n",
    "for r in shortest:\n",
    "    print(r.header, len(r))"
   ]
  },
  {
   "cell_type": "markdown",
   "id": "ecdab23b",
   "metadata": {},
   "source": [
    "3) Get longest ORF"
   ]
  },
  {
   "cell_type": "code",
   "execution_count": 27,
   "id": "72b6a145",
   "metadata": {},
   "outputs": [],
   "source": [
    "def get_longest_orf(records, frame_start):\n",
    "    longest = 0\n",
    "    header = None\n",
    "    pos = None\n",
    "    for record in records:\n",
    "        seq = DNASeq(record.seq)\n",
    "        orfs = seq.get_orfs(frame_start)\n",
    "        if orfs:\n",
    "            n = max([len(o[0]) for o in orfs])\n",
    "            if n > longest:\n",
    "                longest = n\n",
    "                for o in orfs:\n",
    "                    if len(o[0]) == n:\n",
    "                        pos = o[1]\n",
    "                header = record.header\n",
    "    return longest, pos, header"
   ]
  },
  {
   "cell_type": "code",
   "execution_count": 33,
   "id": "d1ad794f",
   "metadata": {},
   "outputs": [
    {
     "name": "stdout",
     "output_type": "stream",
     "text": [
      "longest: 2394 (at position 384)\n",
      "gi|142022655|gb|EQ086233.1|45 marine metagenome JCVI_SCAF_1096627390048 genomic scaffold, whole genome shotgun sequence\n"
     ]
    }
   ],
   "source": [
    "longest, pos, header = get_longest_orf(records, 1)\n",
    "print(f'longest: {longest} (at position {pos})\\n{header}')"
   ]
  },
  {
   "cell_type": "code",
   "execution_count": 31,
   "id": "697da6aa",
   "metadata": {},
   "outputs": [
    {
     "name": "stdout",
     "output_type": "stream",
     "text": [
      "longest: 1458 (at position 945)\n",
      "gi|142022655|gb|EQ086233.1|16 marine metagenome JCVI_SCAF_1096627390048 genomic scaffold, whole genome shotgun sequence\n"
     ]
    }
   ],
   "source": [
    "longest, pos, header = get_longest_orf(records, 2)\n",
    "print(f'longest: {longest} (at position {pos})\\n{header}')"
   ]
  },
  {
   "cell_type": "code",
   "execution_count": 32,
   "id": "6a8bf8cf",
   "metadata": {},
   "outputs": [
    {
     "name": "stdout",
     "output_type": "stream",
     "text": [
      "longest: 1821 (at position 102)\n",
      "gi|142022655|gb|EQ086233.1|527 marine metagenome JCVI_SCAF_1096627390048 genomic scaffold, whole genome shotgun sequence\n"
     ]
    }
   ],
   "source": [
    "longest, pos, header = get_longest_orf(records, 3)\n",
    "print(f'longest: {longest} (at position {pos})\\n{header}')"
   ]
  },
  {
   "cell_type": "code",
   "execution_count": 37,
   "id": "9fa3d075",
   "metadata": {},
   "outputs": [
    {
     "data": {
      "text/plain": [
       "'gi|142022655|gb|EQ086233.1|16 marine metagenome JCVI_SCAF_1096627390048 genomic scaffold, whole genome shotgun sequence'"
      ]
     },
     "execution_count": 37,
     "metadata": {},
     "output_type": "execute_result"
    }
   ],
   "source": [
    "identifier = 'gi|142022655|gb|EQ086233.1|16'\n",
    "id_record = None\n",
    "for r in records:\n",
    "    if identifier in r.header:\n",
    "        id_record = r\n",
    "    \n",
    "id_record.header"
   ]
  },
  {
   "cell_type": "code",
   "execution_count": 42,
   "id": "5f90db70",
   "metadata": {},
   "outputs": [],
   "source": [
    "def get_longest_orf_in_record(record):\n",
    "    seq = DNASeq(record.seq)\n",
    "    longest = 0\n",
    "    for frame in [1, 2, 3]:\n",
    "        print('Start frame:', frame)\n",
    "        orfs = seq.get_orfs(frame)\n",
    "        lens = [o[1] for o in orfs]\n",
    "        frame_longest = max(lens)\n",
    "        print('Longest in frame:', frame_longest)\n",
    "        if frame_longest > longest:\n",
    "            longest = frame_longest\n",
    "    return longest"
   ]
  },
  {
   "cell_type": "code",
   "execution_count": 43,
   "id": "e7320a93",
   "metadata": {},
   "outputs": [
    {
     "name": "stdout",
     "output_type": "stream",
     "text": [
      "Start frame: 1\n",
      "Longest in frame: 1683\n",
      "Start frame: 2\n",
      "Longest in frame: 945\n",
      "Start frame: 3\n",
      "Longest in frame: 276\n",
      "Longest: 1683\n"
     ]
    }
   ],
   "source": [
    "longest = get_longest_orf_in_record(id_record)\n",
    "print('Longest:', longest)"
   ]
  },
  {
   "cell_type": "markdown",
   "id": "afe336ff",
   "metadata": {},
   "source": [
    "4) Get repeats"
   ]
  },
  {
   "cell_type": "code",
   "execution_count": 62,
   "id": "f113df33",
   "metadata": {},
   "outputs": [],
   "source": [
    "counts = {}\n",
    "\n",
    "for record in records:\n",
    "    seq = DNASeq(record.seq)\n",
    "    for n in [2, 3, 4, 5, 6, 7, 8, 9, 10, 11, 12]:\n",
    "        repeats = seq.get_repeats(n)\n",
    "        for r in repeats:\n",
    "            pattern = r[1]\n",
    "            if not isinstance(pattern, str):\n",
    "                print('\\n\\nERROR:')\n",
    "                print(pattern)\n",
    "                print(record.seq)\n",
    "                break\n",
    "            reps = r[2]\n",
    "            key = (pattern, reps)\n",
    "            if key in counts:\n",
    "                counts[key] = counts[key] + 1\n",
    "            else:\n",
    "                counts[key] = 1\n",
    "    #print(repeats)\n",
    "    #print()"
   ]
  },
  {
   "cell_type": "code",
   "execution_count": 63,
   "id": "a974ffcf",
   "metadata": {},
   "outputs": [
    {
     "name": "stdout",
     "output_type": "stream",
     "text": [
      "('CG', 2)\n"
     ]
    }
   ],
   "source": [
    "most_common = max(counts.values())\n",
    "for k, v in counts.items():\n",
    "    if v == most_common:\n",
    "        print(k)"
   ]
  },
  {
   "cell_type": "code",
   "execution_count": 70,
   "id": "2604157a",
   "metadata": {},
   "outputs": [
    {
     "data": {
      "text/plain": [
       "{('GCCGGC', 2): 5,\n",
       " ('CCGGCC', 2): 2,\n",
       " ('CGCCGC', 2): 9,\n",
       " ('CGGCGG', 2): 4,\n",
       " ('GGCGGC', 2): 5,\n",
       " ('GCGGCG', 2): 3,\n",
       " ('CGCGCG', 2): 17,\n",
       " ('CCGCCG', 2): 3,\n",
       " ('CATGCG', 2): 1,\n",
       " ('CGTTGT', 2): 1,\n",
       " ('GTTGTC', 2): 1,\n",
       " ('TTGTCG', 2): 1,\n",
       " ('TGTCGT', 2): 1,\n",
       " ('GACGTT', 2): 1,\n",
       " ('GCGCGC', 3): 3,\n",
       " ('GCGCGC', 2): 15,\n",
       " ('GATGAT', 2): 2,\n",
       " ('GCGCGT', 2): 1,\n",
       " ('CGCGTG', 2): 1,\n",
       " ('CGACGC', 2): 1,\n",
       " ('GCCGGG', 2): 1,\n",
       " ('CCGGGC', 2): 1,\n",
       " ('CCGCGC', 2): 1,\n",
       " ('CCTGGC', 2): 1,\n",
       " ('GGCCGT', 2): 1,\n",
       " ('TGCTGC', 3): 1,\n",
       " ('GCTGCT', 2): 4,\n",
       " ('CTGCTG', 2): 5,\n",
       " ('TGCTGC', 2): 5,\n",
       " ('CGTACA', 2): 1,\n",
       " ('AGCAGC', 2): 5,\n",
       " ('GGGGCG', 2): 1,\n",
       " ('GGCGCG', 2): 1,\n",
       " ('CTTCGC', 2): 1,\n",
       " ('GACGAC', 2): 3,\n",
       " ('AAAAAA', 2): 2,\n",
       " ('TGGGGC', 2): 1,\n",
       " ('CGAGCC', 2): 1,\n",
       " ('CATCAT', 2): 1,\n",
       " ('GTGACG', 2): 1,\n",
       " ('CGGCCG', 2): 3,\n",
       " ('GGCCGG', 2): 1,\n",
       " ('GATCAG', 2): 1,\n",
       " ('CACCAT', 2): 1,\n",
       " ('ACCATC', 2): 1,\n",
       " ('GCGACG', 2): 2,\n",
       " ('CGACGA', 2): 6,\n",
       " ('GCGAGC', 2): 2,\n",
       " ('CGAGCG', 2): 2,\n",
       " ('GCCGCC', 2): 3,\n",
       " ('CAGCAG', 2): 1,\n",
       " ('CGCGCA', 2): 1,\n",
       " ('CGCGTC', 2): 1,\n",
       " ('GCGTCG', 2): 2,\n",
       " ('CGTCGC', 2): 1,\n",
       " ('GTCGCG', 2): 1,\n",
       " ('CGCGCG', 3): 3,\n",
       " ('GTTGTT', 2): 1,\n",
       " ('TTGTTG', 2): 1,\n",
       " ('CGGGCG', 2): 1,\n",
       " ('TGCGCG', 2): 1,\n",
       " ('CGCGAA', 2): 1,\n",
       " ('GCGAAC', 2): 1,\n",
       " ('GTGCCG', 2): 1,\n",
       " ('TGCTGA', 2): 1,\n",
       " ('GCTGAT', 2): 1,\n",
       " ('TCGTCG', 3): 1,\n",
       " ('CGTCGT', 3): 1,\n",
       " ('GTCGTC', 2): 1,\n",
       " ('TCGTCG', 2): 3,\n",
       " ('CGTCGT', 2): 1,\n",
       " ('CGATGC', 2): 1,\n",
       " ('GATGCG', 2): 1,\n",
       " ('GCCCGC', 2): 1,\n",
       " ('CCCGCC', 2): 1,\n",
       " ('CCGCCC', 2): 2,\n",
       " ('GCAGCA', 2): 1,\n",
       " ('AGCCGT', 2): 1,\n",
       " ('GCCGTA', 2): 1,\n",
       " ('CAGCAC', 2): 1,\n",
       " ('TGACGA', 2): 1,\n",
       " ('CGGGCC', 2): 1,\n",
       " ('CGATCG', 2): 1,\n",
       " ('CCGGCG', 2): 1,\n",
       " ('CGGCGC', 2): 1,\n",
       " ('GCCGCG', 2): 1,\n",
       " ('CCGCGG', 2): 1,\n",
       " ('CGCGGC', 2): 1,\n",
       " ('GCGGCC', 2): 1,\n",
       " ('GAGAGA', 2): 1,\n",
       " ('ACCTGA', 2): 1,\n",
       " ('CCTGAA', 2): 1,\n",
       " ('TGCATG', 2): 1,\n",
       " ('CCGATC', 2): 1,\n",
       " ('TCGTGC', 2): 1,\n",
       " ('CATCGG', 2): 1,\n",
       " ('GCGCGG', 2): 1,\n",
       " ('CCTCCT', 2): 1,\n",
       " ('CTCCTC', 2): 1,\n",
       " ('ACGACG', 2): 2,\n",
       " ('GCCTGC', 2): 1,\n",
       " ('CCTGCC', 2): 1,\n",
       " ('GCGCAG', 2): 1,\n",
       " ('CGCAGC', 2): 1,\n",
       " ('GCAGCG', 2): 1,\n",
       " ('CAGCGC', 2): 1,\n",
       " ('CGTGCG', 2): 1,\n",
       " ('GGAACC', 2): 1,\n",
       " ('CGCCCC', 2): 1,\n",
       " ('GACGCG', 2): 1,\n",
       " ('CAGCCA', 2): 1}"
      ]
     },
     "execution_count": 70,
     "metadata": {},
     "output_type": "execute_result"
    }
   ],
   "source": [
    "six_counts = {}\n",
    "for record in records:\n",
    "    seq = DNASeq(record.seq)\n",
    "    reps = seq.get_repeats(6)\n",
    "    for rep in reps:\n",
    "        key = (rep[1], rep[2])\n",
    "        if key in six_counts:\n",
    "            six_counts[key] = six_counts[key] + 1\n",
    "        else:\n",
    "            six_counts[key] = 1\n",
    "                \n",
    "six_counts"
   ]
  },
  {
   "cell_type": "code",
   "execution_count": 71,
   "id": "d04ece6e",
   "metadata": {},
   "outputs": [
    {
     "data": {
      "text/plain": [
       "{('GCCGGCC', 2): 2,\n",
       " ('CGGCGGC', 2): 2,\n",
       " ('CGTTGTC', 2): 1,\n",
       " ('GTTGTCG', 2): 1,\n",
       " ('TTGTCGT', 2): 1,\n",
       " ('GGCGGCG', 2): 1,\n",
       " ('GTCTCTC', 2): 1,\n",
       " ('CGCGGTG', 2): 1,\n",
       " ('GCGGTGC', 2): 1,\n",
       " ('GCGCGCG', 2): 8,\n",
       " ('CGCGCGC', 2): 6,\n",
       " ('GCGCGTG', 2): 1,\n",
       " ('GCCGGGC', 2): 1,\n",
       " ('TGCTGCT', 2): 3,\n",
       " ('GCTGCTG', 2): 2,\n",
       " ('CTGCTGC', 2): 3,\n",
       " ('TCGCGCT', 2): 1,\n",
       " ('CGCGCTT', 2): 1,\n",
       " ('GCGCTTC', 2): 1,\n",
       " ('CGCTTCG', 2): 1,\n",
       " ('GCTTCGC', 2): 1,\n",
       " ('CTTCGCG', 2): 1,\n",
       " ('CATTCGC', 2): 10,\n",
       " ('ATTCGCC', 2): 10,\n",
       " ('TTCGCCA', 2): 9,\n",
       " ('TCGCCAT', 2): 9,\n",
       " ('CGCCATT', 2): 9,\n",
       " ('GCCATTC', 2): 9,\n",
       " ('CCATTCG', 2): 9,\n",
       " ('CACCATC', 2): 1,\n",
       " ('GCGAGCG', 2): 2,\n",
       " ('CGCCGCC', 2): 2,\n",
       " ('CAGCAGC', 2): 1,\n",
       " ('CGCGTCG', 2): 1,\n",
       " ('GCGTCGC', 2): 1,\n",
       " ('CGTCGCG', 2): 1,\n",
       " ('CGCGCGC', 3): 1,\n",
       " ('GTTGTTG', 2): 1,\n",
       " ('CGCGAAC', 2): 1,\n",
       " ('CGCGCGA', 2): 1,\n",
       " ('TGCTGAT', 2): 1,\n",
       " ('TCGTCGT', 3): 1,\n",
       " ('CGTCGTC', 2): 1,\n",
       " ('GTCGTCG', 2): 1,\n",
       " ('TCGTCGT', 2): 1,\n",
       " ('CCGGCCG', 2): 1,\n",
       " ('CGATGCG', 2): 1,\n",
       " ('GCCCGCC', 2): 1,\n",
       " ('CCCGCCC', 2): 1,\n",
       " ('AGCAGCA', 2): 1,\n",
       " ('AGCCGTA', 2): 1,\n",
       " ('CCGGCGC', 2): 1,\n",
       " ('GCCGCGG', 2): 1,\n",
       " ('CCGCGGC', 2): 1,\n",
       " ('CGCGGCC', 2): 1,\n",
       " ('ACCTGAA', 2): 1,\n",
       " ('CCTCCTC', 2): 1,\n",
       " ('ACACCCG', 2): 1,\n",
       " ('CGACGAC', 2): 1,\n",
       " ('GACGACG', 2): 2,\n",
       " ('GCCTGCC', 2): 1,\n",
       " ('GCGCAGC', 2): 1,\n",
       " ('CGCAGCG', 2): 1,\n",
       " ('GCAGCGC', 2): 1,\n",
       " ('GAACCGG', 2): 1,\n",
       " ('CCGCCCC', 2): 1,\n",
       " ('GCCGCCG', 2): 1,\n",
       " ('CCGCCGC', 2): 1}"
      ]
     },
     "execution_count": 71,
     "metadata": {},
     "output_type": "execute_result"
    }
   ],
   "source": [
    "seven_counts = {}\n",
    "for record in records:\n",
    "    seq = DNASeq(record.seq)\n",
    "    reps = seq.get_repeats(7)\n",
    "    for rep in reps:\n",
    "        key = (rep[1], rep[2])\n",
    "        if key in seven_counts:\n",
    "            seven_counts[key] = seven_counts[key] + 1\n",
    "        else:\n",
    "            seven_counts[key] = 1\n",
    "                \n",
    "seven_counts"
   ]
  },
  {
   "cell_type": "code",
   "execution_count": 64,
   "id": "4b78e1f7",
   "metadata": {},
   "outputs": [
    {
     "data": {
      "text/plain": [
       "[[('GG', 3), 93],\n",
       " [('TT', 3), 44],\n",
       " [('CC', 3), 93],\n",
       " [('AA', 3), 55],\n",
       " [('CGC', 2), 539],\n",
       " [('ACG', 2), 50],\n",
       " [('GTG', 2), 36],\n",
       " [('GGG', 2), 77],\n",
       " [('GGA', 2), 5],\n",
       " [('CGG', 2), 73],\n",
       " [('GGC', 2), 81],\n",
       " [('GCG', 2), 520],\n",
       " [('TCG', 2), 89],\n",
       " [('GCA', 2), 39],\n",
       " [('CAG', 2), 41],\n",
       " [('AGC', 2), 40],\n",
       " [('GCC', 2), 87],\n",
       " [('CCG', 2), 80],\n",
       " [('TTT', 2), 35],\n",
       " [('CAT', 2), 18],\n",
       " [('ATC', 2), 16],\n",
       " [('CGA', 2), 96],\n",
       " [('GAC', 2), 39],\n",
       " [('ATA', 2), 8],\n",
       " [('GAA', 2), 13],\n",
       " [('CTG', 2), 47],\n",
       " [('TGC', 2), 64],\n",
       " [('GTT', 2), 6],\n",
       " [('TTG', 2), 6],\n",
       " [('CCC', 2), 77],\n",
       " [('AGG', 2), 4],\n",
       " [('TCT', 2), 12],\n",
       " [('CTT', 2), 5],\n",
       " [('TTC', 2), 10],\n",
       " [('AAA', 2), 37],\n",
       " [('CGT', 2), 61],\n",
       " [('AAG', 2), 5],\n",
       " [('AGA', 2), 10],\n",
       " [('GAT', 2), 21],\n",
       " [('ACC', 2), 15],\n",
       " [('CCA', 2), 13],\n",
       " [('GTA', 2), 4],\n",
       " [('GTC', 2), 42],\n",
       " [('CAC', 2), 32],\n",
       " [('CTC', 2), 20],\n",
       " [('TGA', 2), 16],\n",
       " [('TTA', 2), 1],\n",
       " [('TAT', 2), 2],\n",
       " [('TAA', 2), 1],\n",
       " [('CCT', 2), 6],\n",
       " [('ATG', 2), 9],\n",
       " [('TGT', 2), 18],\n",
       " [('TGG', 2), 13],\n",
       " [('GCT', 2), 41],\n",
       " [('ACA', 2), 10],\n",
       " [('GGT', 2), 11],\n",
       " [('GAG', 2), 12],\n",
       " [('TCA', 2), 12],\n",
       " [('TCC', 2), 5],\n",
       " [('TAC', 2), 4],\n",
       " [('AAC', 2), 6],\n",
       " [('TAG', 2), 1],\n",
       " [('AGT', 2), 3],\n",
       " [('ACT', 2), 3],\n",
       " [('CTA', 2), 2],\n",
       " [('AAT', 2), 1]]"
      ]
     },
     "execution_count": 64,
     "metadata": {},
     "output_type": "execute_result"
    }
   ],
   "source": [
    "sixes = [[k, v] for k, v in counts.items() if len(k[0]) * k[1] == 6]\n",
    "sixes"
   ]
  },
  {
   "cell_type": "code",
   "execution_count": 65,
   "id": "e2bf35ce",
   "metadata": {
    "scrolled": false
   },
   "outputs": [
    {
     "data": {
      "text/plain": [
       "[[('CCC', 4), 2],\n",
       " [('CGCG', 3), 20],\n",
       " [('CCCC', 3), 2],\n",
       " [('GCCGGC', 2), 5],\n",
       " [('CCGGCC', 2), 2],\n",
       " [('CGCCGC', 2), 9],\n",
       " [('CGGCGG', 2), 4],\n",
       " [('GGCGGC', 2), 5],\n",
       " [('GCGGCG', 2), 3],\n",
       " [('CGCGCG', 2), 17],\n",
       " [('CCGCCG', 2), 3],\n",
       " [('CATGCG', 2), 1],\n",
       " [('CGTTGT', 2), 1],\n",
       " [('GTTGTC', 2), 1],\n",
       " [('TTGTCG', 2), 1],\n",
       " [('TGTCGT', 2), 1],\n",
       " [('GACGTT', 2), 1],\n",
       " [('GCGC', 3), 18],\n",
       " [('GCGCGC', 2), 15],\n",
       " [('GATGAT', 2), 2],\n",
       " [('GCGCGT', 2), 1],\n",
       " [('CGCGTG', 2), 1],\n",
       " [('AAA', 4), 6],\n",
       " [('GGG', 4), 3],\n",
       " [('AAAA', 3), 4],\n",
       " [('GGGG', 3), 3],\n",
       " [('CGACGC', 2), 1],\n",
       " [('GCCGGG', 2), 1],\n",
       " [('CCGGGC', 2), 1],\n",
       " [('CCGCGC', 2), 1],\n",
       " [('CCTGGC', 2), 1],\n",
       " [('GGCCGT', 2), 1],\n",
       " [('GCTGCT', 2), 4],\n",
       " [('CTGCTG', 2), 5],\n",
       " [('TGCTGC', 2), 5],\n",
       " [('CGTACA', 2), 1],\n",
       " [('AGCAGC', 2), 5],\n",
       " [('GGGGCG', 2), 1],\n",
       " [('GGCGCG', 2), 1],\n",
       " [('CTTCGC', 2), 1],\n",
       " [('GACGAC', 2), 3],\n",
       " [('AAAAAA', 2), 2],\n",
       " [('TGGGGC', 2), 1],\n",
       " [('CGAGCC', 2), 1],\n",
       " [('CATCAT', 2), 1],\n",
       " [('GTGACG', 2), 1],\n",
       " [('CGGCCG', 2), 3],\n",
       " [('GGCCGG', 2), 1],\n",
       " [('GATCAG', 2), 1],\n",
       " [('CACCAT', 2), 1],\n",
       " [('ACCATC', 2), 1],\n",
       " [('GCGACG', 2), 2],\n",
       " [('CGACGA', 2), 6],\n",
       " [('GCGAGC', 2), 2],\n",
       " [('CGAGCG', 2), 2],\n",
       " [('GCCGCC', 2), 3],\n",
       " [('CAGCAG', 2), 1],\n",
       " [('CGCGCA', 2), 1],\n",
       " [('CGCGTC', 2), 1],\n",
       " [('GCGTCG', 2), 2],\n",
       " [('CGTCGC', 2), 1],\n",
       " [('GTCGCG', 2), 1],\n",
       " [('GTTGTT', 2), 1],\n",
       " [('TTGTTG', 2), 1],\n",
       " [('CGGGCG', 2), 1],\n",
       " [('TGCGCG', 2), 1],\n",
       " [('CGCGAA', 2), 1],\n",
       " [('GCGAAC', 2), 1],\n",
       " [('GTGCCG', 2), 1],\n",
       " [('TGCTGA', 2), 1],\n",
       " [('GCTGAT', 2), 1],\n",
       " [('GTCGTC', 2), 1],\n",
       " [('TCGTCG', 2), 3],\n",
       " [('CGTCGT', 2), 1],\n",
       " [('CGATGC', 2), 1],\n",
       " [('GATGCG', 2), 1],\n",
       " [('GCCCGC', 2), 1],\n",
       " [('CCCGCC', 2), 1],\n",
       " [('CCGCCC', 2), 2],\n",
       " [('GCAGCA', 2), 1],\n",
       " [('AGCCGT', 2), 1],\n",
       " [('GCCGTA', 2), 1],\n",
       " [('CAGCAC', 2), 1],\n",
       " [('TGACGA', 2), 1],\n",
       " [('CGGGCC', 2), 1],\n",
       " [('CGATCG', 2), 1],\n",
       " [('CCGGCG', 2), 1],\n",
       " [('CGGCGC', 2), 1],\n",
       " [('GCCGCG', 2), 1],\n",
       " [('CCGCGG', 2), 1],\n",
       " [('CGCGGC', 2), 1],\n",
       " [('GCGGCC', 2), 1],\n",
       " [('GAGA', 3), 1],\n",
       " [('GAGAGA', 2), 1],\n",
       " [('ACCTGA', 2), 1],\n",
       " [('CCTGAA', 2), 1],\n",
       " [('TGCATG', 2), 1],\n",
       " [('CCGATC', 2), 1],\n",
       " [('TCGTGC', 2), 1],\n",
       " [('CATCGG', 2), 1],\n",
       " [('GCGCGG', 2), 1],\n",
       " [('CCTCCT', 2), 1],\n",
       " [('CTCCTC', 2), 1],\n",
       " [('ACGACG', 2), 2],\n",
       " [('GCCTGC', 2), 1],\n",
       " [('CCTGCC', 2), 1],\n",
       " [('GCGCAG', 2), 1],\n",
       " [('CGCAGC', 2), 1],\n",
       " [('GCAGCG', 2), 1],\n",
       " [('CAGCGC', 2), 1],\n",
       " [('CGTGCG', 2), 1],\n",
       " [('GGAACC', 2), 1],\n",
       " [('CGCCCC', 2), 1],\n",
       " [('GACGCG', 2), 1],\n",
       " [('CAGCCA', 2), 1]]"
      ]
     },
     "execution_count": 65,
     "metadata": {},
     "output_type": "execute_result"
    }
   ],
   "source": [
    "twelves = [[k, v] for k, v in counts.items() if len(k[0]) * k[1] == 12]\n",
    "twelves"
   ]
  },
  {
   "cell_type": "code",
   "execution_count": null,
   "id": "e25b1315",
   "metadata": {},
   "outputs": [],
   "source": []
  }
 ],
 "metadata": {
  "kernelspec": {
   "display_name": "Python 3 (ipykernel)",
   "language": "python",
   "name": "python3"
  },
  "language_info": {
   "codemirror_mode": {
    "name": "ipython",
    "version": 3
   },
   "file_extension": ".py",
   "mimetype": "text/x-python",
   "name": "python",
   "nbconvert_exporter": "python",
   "pygments_lexer": "ipython3",
   "version": "3.11.3"
  }
 },
 "nbformat": 4,
 "nbformat_minor": 5
}
