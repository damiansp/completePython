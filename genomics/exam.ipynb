{
 "cells": [
  {
   "cell_type": "code",
   "execution_count": 89,
   "id": "9fd470b0",
   "metadata": {},
   "outputs": [],
   "source": [
    "from collections import Counter"
   ]
  },
  {
   "cell_type": "code",
   "execution_count": 2,
   "id": "862a28cb",
   "metadata": {},
   "outputs": [
    {
     "name": "stdout",
     "output_type": "stream",
     "text": [
      ">gi|142022655|gb|EQ086233.1|43 marine metagenome JCVI_SCAF_1096627390048 genomic scaffold, whole genome shotgun sequence\r\n",
      "TCGGGCGAAGGCGGCAGCAAGTCGTCCACGCGCAGCGCGGCACCGCGGGCCTCTGCCGTGCGCTGCTTGG\r\n",
      "CCATGGCCTCCAGCGCACCGATCGGATCAAAGCCGCTGAAGCCTTCGCGCATCAGGCGGCCATAGTTGGC\r\n",
      "GCCAGTGACCGTACCAACCGCCTTGATGCGGCGCTCGGTCATCGCTGCATTGATCGAGTAGCCACCGCCG\r\n",
      "CCGCAAATGCCCAGCACGCCAATGCGTTCTTCATCCACATAGGGGAGCGTTACGAGGTAGTCGCAGACCA\r\n",
      "CGCGGAAATCCTCGACGCGCAGTGTCGGGTCTTCGGTAAAACGTGGTTCGCCGCCGCTGGCACCCTGGAA\r\n",
      "GCTGGCGTCGAAGGCGATGACGACGAAACCTTCCTTGGCCAGCGCCTCGCCATACACGTTCCCCGATGTT\r\n",
      "TGCTCCTTGCAGCTGCCGATCGGATGCGCGCTGATGATGGCGGGATATTTCTTGCCTTCGTCGAAGTTCG\r\n",
      "GCGGGAAGTGGATGTCGGCTGCGATATCCCAATACACATTCTTGATCTTGACGCTTTTCATGACAGCTCC\r\n",
      "GTTCAGGGGGAGGGGGTAAGTTCGCCAGGCCGAATCGTTGGTAGCCAAGCGGCAACGACTCGAATATAGA\r\n"
     ]
    }
   ],
   "source": [
    "!head -10 dna.example.fasta"
   ]
  },
  {
   "cell_type": "markdown",
   "id": "d1edb8bf",
   "metadata": {},
   "source": [
    "1) How many records in the file?"
   ]
  },
  {
   "cell_type": "code",
   "execution_count": 1,
   "id": "374f6091",
   "metadata": {},
   "outputs": [],
   "source": [
    "FILE = './dna.example.fasta'"
   ]
  },
  {
   "cell_type": "code",
   "execution_count": 2,
   "id": "5ec39f56",
   "metadata": {},
   "outputs": [],
   "source": [
    "class Record:\n",
    "    def __init__(self, record_str):\n",
    "        self.record_str = record_str\n",
    "        self.header, seq = record_str.split('\\n', 1)\n",
    "        self.seq = seq.replace('\\n', '')\n",
    "        self.a, self.id, self.c, self.call, self.descr = (\n",
    "            self.header.split('|'))\n",
    "\n",
    "    def __str__(self):\n",
    "        return self.record_str\n",
    "    \n",
    "    def __len__(self):\n",
    "        return len(self.seq)"
   ]
  },
  {
   "cell_type": "code",
   "execution_count": 87,
   "id": "d8020845",
   "metadata": {},
   "outputs": [],
   "source": [
    "class DNASeq:\n",
    "    def __init__(self, seq: str):\n",
    "        self.seq = seq\n",
    "        self.start_codon = 'ATG'\n",
    "        self.stop_codons = ['TAA', 'TAG', 'TGA']\n",
    "        self.n = len(seq)\n",
    "        \n",
    "    def to_codons(self, frame_start=1):\n",
    "        codons = [\n",
    "            self.seq[i:i+3] for i in range(frame_start - 1, self.n, 3)]\n",
    "        return [c for c in codons if len(c) == 3]\n",
    "\n",
    "    def get_orfs(self, frame_start=1):\n",
    "        'ORF: open reading frame'\n",
    "        orfs = []\n",
    "        codons = self.to_codons(frame_start)\n",
    "        while codons:\n",
    "            if self.start_codon in codons:\n",
    "                start = codons.index(self.start_codon)\n",
    "                first_stop = len(codons) + 1\n",
    "                for stop in self.stop_codons:\n",
    "                    if stop in codons[start + 1:]:\n",
    "                        stop_idx = codons.index(stop, start + 1)\n",
    "                        if stop_idx < first_stop:\n",
    "                            first_stop = stop_idx\n",
    "                if first_stop <= len(codons):\n",
    "                    orf = ''.join(codons[start:first_stop + 1])\n",
    "                    orfs.append(orf)\n",
    "                    codons = codons[first_stop + 1:]\n",
    "                else:\n",
    "                    break\n",
    "            else:\n",
    "                break\n",
    "        return orfs\n",
    "    \n",
    "    def get_repeats(self, n):\n",
    "        'n is the length of the repeat sequence'\n",
    "        repeats = []\n",
    "        #for start in range(len(self.seq)):\n",
    "        #    seq = self.seq[start:start + n]\n",
    "        #    rep = seq\n",
    "        #    for next_frame_start in range(start + n, len(self.seq), n):\n",
    "        #        if (self.seq[next_frame_start:next_frame_start + n] \n",
    "        #            == seq):\n",
    "        #            rep += seq\n",
    "        #        else:\n",
    "        #            break\n",
    "        #    if len(rep) > n:\n",
    "        #        repeats.append(rep)\n",
    "        # with overlaps:\n",
    "        for start in range(len(self.seq)):\n",
    "            seq = self.seq[start:start + n]\n",
    "            rep = seq\n",
    "            count = 1\n",
    "            for next_frame_start in range(start + 1, start + 1 + n):\n",
    "                if (self.seq[\n",
    "                        next_frame_start:next_frame_start + n] == seq):\n",
    "                    rep = self.seq[start:next_frame_start + n]\n",
    "                    next_frame_start += 1\n",
    "                    count += 1\n",
    "                    continue\n",
    "            if len(rep) > n:\n",
    "                repeats.append((rep, seq, count))\n",
    "        return repeats"
   ]
  },
  {
   "cell_type": "code",
   "execution_count": 83,
   "id": "c2d5ec32",
   "metadata": {},
   "outputs": [
    {
     "data": {
      "text/plain": [
       "0.875"
      ]
     },
     "execution_count": 83,
     "metadata": {},
     "output_type": "execute_result"
    }
   ],
   "source": [
    "7/8"
   ]
  },
  {
   "cell_type": "code",
   "execution_count": 84,
   "id": "42fc0450",
   "metadata": {},
   "outputs": [
    {
     "name": "stdout",
     "output_type": "stream",
     "text": [
      "[['GGCGGC', 'GGC', 2], ['GCAGCA', 'GCA', 2], ['GTCGTC', 'GTC', 2], ['CGCGC', 'CGC', 2], ['GCGCG', 'GCG', 2], ['GCTGCT', 'GCT', 2], ['CGCGC', 'CGC', 2], ['GGCGGC', 'GGC', 2], ['GCGGCG', 'GCG', 2], ['CCGCCG', 'CCG', 2], ['CGCCGC', 'CGC', 2], ['GCCGCC', 'GCC', 2], ['CCGCCG', 'CCG', 2], ['CGCCGC', 'CGC', 2], ['TTCTTC', 'TTC', 2], ['GGGG', 'GGG', 2], ['CGCGC', 'CGC', 2], ['AAAA', 'AAA', 2], ['CGCCGC', 'CGC', 2], ['GCCGCC', 'GCC', 2], ['CCGCCG', 'CCG', 2], ['CGCCGC', 'CGC', 2], ['GACGAC', 'GAC', 2], ['ACGACG', 'ACG', 2], ['CGACGA', 'CGA', 2], ['CCCC', 'CCC', 2], ['GCGCG', 'GCG', 2], ['CGCGC', 'CGC', 2], ['TGATGA', 'TGA', 2], ['GATGAT', 'GAT', 2], ['ATGATG', 'ATG', 2], ['TCGTCG', 'TCG', 2], ['CGGCGG', 'CGG', 2], ['ACACA', 'ACA', 2], ['TTTT', 'TTT', 2], ['GGGGG', 'GGG', 3], ['GGGG', 'GGG', 2], ['GGGGG', 'GGG', 3], ['GGGG', 'GGG', 2], ['ATATA', 'ATA', 2]]\n",
      "\n",
      "[['ACACA', 'ACA', 2]]\n"
     ]
    }
   ],
   "source": [
    "seq = (\n",
    "    'TCGGGCGAAGGCGGCAGCAAGTCGTCCACGCGCAGCGCGGCACCGCGGGCCTCTGCCGTGCGCTG'\n",
    "    'CTTGGCCATGGCCTCCAGCGCACCGATCGGATCAAAGCCGCTGAAGCCTTCGCGCATCAGGCGGC'\n",
    "    'CATAGTTGGCGCCAGTGACCGTACCAACCGCCTTGATGCGGCGCTCGGTCATCGCTGCATTGATC'\n",
    "    'GAGTAGCCACCGCCGCCGCAAATGCCCAGCACGCCAATGCGTTCTTCATCCACATAGGGGAGCGT'\n",
    "    'TACGAGGTAGTCGCAGACCACGCGGAAATCCTCGACGCGCAGTGTCGGGTCTTCGGTAAAACGTG'\n",
    "    'GTTCGCCGCCGCTGGCACCCTGGAAGCTGGCGTCGAAGGCGATGACGACGAAACCTTCCTTGGCC'\n",
    "    'AGCGCCTCGCCATACACGTTCCCCGATGTTTGCTCCTTGCAGCTGCCGATCGGATGCGCGCTGAT'\n",
    "    'GATGGCGGGATATTTCTTGCCTTCGTCGAAGTTCGGCGGGAAGTGGATGTCGGCTGCGATATCCC'\n",
    "    'AATACACATTCTTGATCTTGACGCTTTTCATGACAGCTCCGTTCAGGGGGAGGGGGTAAGTTCGC'\n",
    "    'CAGGCCGAATCGTTGGTAGCCAAGCGGCAACGACTCGAATATAGA')\n",
    "seq = DNASeq(seq)\n",
    "print(seq.get_repeats(3))\n",
    "print()\n",
    "seq = DNASeq('ACACA')\n",
    "print(seq.get_repeats(3))"
   ]
  },
  {
   "cell_type": "code",
   "execution_count": 5,
   "id": "b1f9415e",
   "metadata": {},
   "outputs": [
    {
     "data": {
      "text/plain": [
       "['ATGTTTGCTCCTTGCAGCTGCCGATCGGATGCGCGCTGA']"
      ]
     },
     "execution_count": 5,
     "metadata": {},
     "output_type": "execute_result"
    }
   ],
   "source": [
    "seq.get_orfs(2)"
   ]
  },
  {
   "cell_type": "code",
   "execution_count": 6,
   "id": "1b64539d",
   "metadata": {},
   "outputs": [
    {
     "data": {
      "text/plain": [
       "['ATGCGCGCTGATGATGGCGGGATATTTCTTGCCTTCGTCGAAGTTCGGCGGGAAGTGGATGTCGGCTGCGATATCCCAATACACATTCTTGATCTTGACGCTTTTCATGACAGCTCCGTTCAGGGGGAGGGGGTAAGTTCGCCAGGCCGAATCGTTGGTAGCCAAGCGGCAACGACTCGAATATAG']"
      ]
     },
     "execution_count": 6,
     "metadata": {},
     "output_type": "execute_result"
    }
   ],
   "source": [
    "seq.get_orfs(3)"
   ]
  },
  {
   "cell_type": "code",
   "execution_count": 8,
   "id": "d607f989",
   "metadata": {},
   "outputs": [],
   "source": [
    "def get_records(path):\n",
    "    with open(path, 'r') as f:\n",
    "        t = ''.join(f.readlines())\n",
    "    records = t.split('>')[1:]\n",
    "    return [Record(record) for record in records]"
   ]
  },
  {
   "cell_type": "code",
   "execution_count": 9,
   "id": "c48eb437",
   "metadata": {},
   "outputs": [
    {
     "name": "stdout",
     "output_type": "stream",
     "text": [
      "25\n",
      "\n",
      "gi|142022655|gb|EQ086233.1|101 marine metagenome JCVI_SCAF_1096627390048 genomic scaffold, whole genome shotgun sequence\n",
      "CACATCGACACGAAGATCACCGCGCATGCGTTGCTGATCACGCTCGTCAGCGCGCGTGCCTCGGACATGA\n",
      "AGCGATCGATGCCGACCAGCAGTGCGACACCGGCGACGGGCAGGTCGGGCATGACGACGAGCGTGGCGAC\n",
      "CAGCGCAACCAGCCCGCTTCCGGAAACGCCGGCCGCGCCCTTGGACGTGAGCAGCATGATGGCGAGCATC\n",
      "ACGGCGATCTGCGACGCGGAAAGGGGCACGTCGCACGCCTGCGCGATGAACAACGCGGCGAGCGTCAGAT\n",
      "AGATCGCGGTACCGTCCAGATTGAACGAATAACCCGCCGGCAGCACGAGCCCCACGACGCCCTTGTCGCA\n",
      "CCCGAGCGATTCCAGCTTGACGATCAGGCGTGGCAGAACGGGCTCCGAAGAGGACGTCGCGAGGACGATG\n",
      "AGCAACTCTTCGCGCAGGTAGCGCAAGAGCCGCCACAGCGCGAAGCCGTGCAGCCGCGCGAGCGGGGCGA\n",
      "GCACCAGTGCGACGAACAGCCCGCAGGCCACGTAGAAGGACAGCATCAGCTTCGCGAGCGAGCCGATCGA\n",
      "GCCGATTCCGAAGCGGCCCACCGTGAAGGCCATCGCGCCGAATGCGCCGAGCGGCGCGAGCCGCATGATC\n",
      "ATCGCGAGCACGCGAAAGACGACCTGGGCGACGCCGTCGATCAGTGCAAGAACGGGCCGCCCGGCCCGCG\n",
      "GGTGTGCGTTCAGCGAGAAGCCGAACAACAGCGACAGCAGCAGCACCGGCAACACCTCGCCTTTCTCGAA\n",
      "CGCGCCGAGCATCGTATCGGGGATCACGCTCAGCCCGAACGCGACGAGCCCGTTCGGTTGCGCGTCCCTC\n",
      "ACGTACGGCGCGAGGATGCGCGAATCGAGATGGTGGACGTCGATGTGCATGCCGGCGCCCGGTTGCAACA\n",
      "CGAACGCGGTGATGAGCCCGATGGCGAGCGCGACGGCGGTGAGCAGATAGAAGAGCGCGAGCGCCCGCAC\n",
      "GATCGTGCGGCCGATTGCCTGCCCGTTCGCCAGCGACGTGATGCCCGAGACGATCGTGCAGAACACGATC\n",
      "GGCGCGATGGTCATCCTCACGAGGCCGACGAACGCGTCGCTGAGCGGTTTGAACATCGCGCCTGCGTCCG\n",
      "GCCATACATGACCGACGGTCACGCCGAGCAGCATCGCGAGCAGGACCTGCACGTAGAGCGATTTGAGCAG\n",
      "CCTGGCCAACCTCACGGAACGGTCTTCCTTCGTGTCTCTTGTGTCGTTGTCACACCGATGCATCGCTGTT\n",
      "CGCGATGCCGTCGCGCTTCGCGTCGACGATCATCCGGTGAAATGCTTCGGCGGCCGGCGTGAGCGGCCGT\n",
      "CCGCGCCGCTTGACGATGCCCACGCGGCGTTTGACGACCGGCTCGACGAGCGGCACGCTCGTGAGAATCG\n",
      "GGTGGTCGTGCCCGGGCATCGCCATCGACGGCACCGCGGCGACGCCGAGCCCCGCCTCGATCAAGCCGAG\n",
      "CAGGGTCGTCACGTGGCGCGCTTCGCATACGCTCGGCCCCCGCGGCGCCACGGCGGCCAGCGCCTGGTCG\n",
      "AGCAACAGGCGGTTCCCGGAAGTCTTGTCCACCGACACGTAATCGTGCTCGTACAGTTCGTTCCAGGTAA\n",
      "CGCGCTTCTTGCGCGCGAGCGGATGGTCGCGGCGGCAGGCAGCGACGAACCGCTCCTGGAGCAACATCTT\n",
      "GAACTCGATGTCGGATTCCTGGCTGCCCATGAAGCTCACGCCGAAATCGGCTTCGCCGCTGATGACGGCG\n",
      "CCCAGCACCTCGTTCGCGCTCGCGTCCAGCAGCTTGACCCGGATGCGCGGAAAGCGCTGATGATAGCGCG\n",
      "CGATGATGGCCGGCAGAAAGTAGTAGGCGACCGAGGGCACGCACGCGATGGTCACATGGCCCAGGCGGCT\n",
      "CGACGACACGTCGCGAATGCCGAGCAGCGCCGCATCGAGATCGTCGAGCAGCTGTTCGGCGCTCTGGGCG\n",
      "AACACGCGGCCGACCGTGGTGAGCGCGACGCGACGCGTGGTGCGCTCGAACAGGCGCACGCCGAGCGCTT\n",
      "CCTCGAGCTTGTCGATCCGGCGACTCAACGCGGGCTGGGAAATGCTGACCGATTCCGCGGCCTTGCGGAA\n",
      "ACTGCCCGTTTCCACGACCGCGCGAAACGCCTGCAAGTCGTTCAAGTCGAAGTTGATCCCCACGGGCGCG\n",
      "TCTCCCCATCTCAGATGGGGCGTATTTTGCATGATTTCGCCGGGCGGCCGCATCGGCGCGGCACGCATTC\n",
      "GCGCCACCCTCGATCGCAACCGCGTGCGTGAGCGTGCGGCCTGGCCGTCGATCCGCCGCGCGTCGATGTC\n",
      "GATGGGGGGCGTCGAGCCTGCGGGCCTTACGGCGCAAGCAGGCCGCGTGCGGCCAGATTGGCATACAGCG\n",
      "CGCGCACGCCGAAGGTCCAAGGCGCGATCTCGGTGCACAGCCGCACGGTGTTGACGAGTGCGCCGAGCG\n",
      "\n"
     ]
    }
   ],
   "source": [
    "records = get_records(FILE)\n",
    "print(len(records))\n",
    "print()\n",
    "print(records[-1])"
   ]
  },
  {
   "cell_type": "code",
   "execution_count": 11,
   "id": "c9b995ab",
   "metadata": {},
   "outputs": [
    {
     "name": "stdout",
     "output_type": "stream",
     "text": [
      "gi|142022655|gb|EQ086233.1|43 marine metagenome JCVI_SCAF_1096627390048 genomic scaffold, whole genome shotgun sequence\n",
      "TCGGGCGAAGGCGGCAGCAAGTCGTCCACGCGCAGCGCGGCACCGCGGGCCTCTGCCGTGCGCTGCTTGG\n",
      "CCATGGCCTCCAGCGCACCGATCGGATCAAAGCCGCTGAAGCCTTCGCGCATCAGGCGGCCATAGTTGGC\n",
      "GCCAGTGACCGTACCAACCGCCTTGATGCGGCGCTCGGTCATCGCTGCATTGATCGAGTAGCCACCGCCG\n",
      "CCGCAAATGCCCAGCACGCCAATGCGTTCTTCATCCACATAGGGGAGCGTTACGAGGTAGTCGCAGACCA\n",
      "CGCGGAAATCCTCGACGCGCAGTGTCGGGTCTTCGGTAAAACGTGGTTCGCCGCCGCTGGCACCCTGGAA\n",
      "GCTGGCGTCGAAGGCGATGACGACGAAACCTTCCTTGGCCAGCGCCTCGCCATACACGTTCCCCGATGTT\n",
      "TGCTCCTTGCAGCTGCCGATCGGATGCGCGCTGATGATGGCGGGATATTTCTTGCCTTCGTCGAAGTTCG\n",
      "GCGGGAAGTGGATGTCGGCTGCGATATCCCAATACACATTCTTGATCTTGACGCTTTTCATGACAGCTCC\n",
      "GTTCAGGGGGAGGGGGTAAGTTCGCCAGGCCGAATCGTTGGTAGCCAAGCGGCAACGACTCGAATATAGA\n",
      "GAGCCGATTGGAATTCCGTAAGATCGCAATCTGGACTACAGTGGTATCTTCAAATTGACAATGGCACCTA\n",
      "CATGGATCCCTCACTGCTTCCGTCTCTCGCGTGGTTCGCCCACGTCGCACATCATCGTAGCTTCACGAAA\n",
      "GCGGCTGCGGAAATGGGCGTTTCTCGAGCAAACCTGTCGCAGAACGTGAAGGCGCTCGAACGCCGGTTGA\n",
      "ACGTCAAGCTGCTGTATCGAACGACTCGCGACATGTCGCTGACCGAGGAGGGGCAGCGGCTCTACGAGGT\n",
      "GTGGTATCCCGCGCTGGTCGCGGTCGAGCGGACGGTCGACGCGCTGCACGAGGAGCGCGACGAGCCGTCG\n",
      "GGGTTGATTC\n",
      "\n"
     ]
    }
   ],
   "source": [
    "print(records[0])"
   ]
  },
  {
   "cell_type": "markdown",
   "id": "2cf379f5",
   "metadata": {},
   "source": [
    "2) What are the lengths of the records?  Shortest?  Longest?"
   ]
  },
  {
   "cell_type": "code",
   "execution_count": 12,
   "id": "00fcb991",
   "metadata": {},
   "outputs": [
    {
     "name": "stdout",
     "output_type": "stream",
     "text": [
      "990\n",
      "724\n",
      "3080\n",
      "2863\n",
      "3832\n",
      "4805\n",
      "1663\n",
      "512\n",
      "691\n",
      "3072\n",
      "1801\n",
      "3603\n",
      "2478\n",
      "1608\n",
      "4745\n",
      "1810\n",
      "3424\n",
      "1451\n",
      "3276\n",
      "2124\n",
      "1712\n",
      "1325\n",
      "1189\n",
      "555\n",
      "2449\n"
     ]
    }
   ],
   "source": [
    "for r in records:\n",
    "    print(len(r))"
   ]
  },
  {
   "cell_type": "code",
   "execution_count": 13,
   "id": "aaecc8a3",
   "metadata": {},
   "outputs": [],
   "source": [
    "def get_longest(records):\n",
    "    longest = 0\n",
    "    out = []\n",
    "    for record in records:\n",
    "        seq_len = len(record)\n",
    "        if seq_len > longest:\n",
    "            longest = seq_len\n",
    "            out = [record]\n",
    "        elif seq_len == longest:\n",
    "            out.append(record)\n",
    "    return out"
   ]
  },
  {
   "cell_type": "code",
   "execution_count": 14,
   "id": "e7c21dd9",
   "metadata": {},
   "outputs": [],
   "source": [
    "def get_shortest(records):\n",
    "    shortest = 9e999\n",
    "    out = []\n",
    "    for record in records:\n",
    "        seq_len = len(record)\n",
    "        if seq_len < shortest:\n",
    "            shortest = seq_len\n",
    "            out = [record]\n",
    "        elif seq_len == shortest:\n",
    "            out.append(record)\n",
    "    return out"
   ]
  },
  {
   "cell_type": "code",
   "execution_count": 15,
   "id": "8c024cdb",
   "metadata": {},
   "outputs": [
    {
     "name": "stdout",
     "output_type": "stream",
     "text": [
      "longest:\n",
      "gi|142022655|gb|EQ086233.1|323 marine metagenome JCVI_SCAF_1096627390048 genomic scaffold, whole genome shotgun sequence 4805\n",
      "\n",
      "shortest:\n",
      "gi|142022655|gb|EQ086233.1|521 marine metagenome JCVI_SCAF_1096627390048 genomic scaffold, whole genome shotgun sequence 512\n"
     ]
    }
   ],
   "source": [
    "longest = get_longest(records)\n",
    "shortest = get_shortest(records)\n",
    "\n",
    "print('longest:')\n",
    "for r in longest:\n",
    "    print(r.header, len(r))\n",
    "print('\\nshortest:')\n",
    "for r in shortest:\n",
    "    print(r.header, len(r))"
   ]
  },
  {
   "cell_type": "markdown",
   "id": "ecdab23b",
   "metadata": {},
   "source": [
    "3) Get longest ORF"
   ]
  },
  {
   "cell_type": "code",
   "execution_count": 30,
   "id": "72b6a145",
   "metadata": {},
   "outputs": [],
   "source": [
    "def get_longest_orf(records, frame_start):\n",
    "    longest = 0\n",
    "    header = None\n",
    "    for record in records:\n",
    "        seq = DNASeq(record.seq)\n",
    "        orfs = seq.get_orfs(frame_start)\n",
    "        if orfs:\n",
    "            n = max([len(o) for o in orfs])\n",
    "            if n > longest:\n",
    "                longest = n\n",
    "                header = record.header\n",
    "    return longest, header"
   ]
  },
  {
   "cell_type": "code",
   "execution_count": 33,
   "id": "697da6aa",
   "metadata": {},
   "outputs": [
    {
     "name": "stdout",
     "output_type": "stream",
     "text": [
      "longest: 1686\n",
      "gi|142022655|gb|EQ086233.1|323 marine metagenome JCVI_SCAF_1096627390048 genomic scaffold, whole genome shotgun sequence\n"
     ]
    }
   ],
   "source": [
    "longest, header = get_longest_orf(records, 1)\n",
    "print(f'longest: {longest}\\n{header}')"
   ]
  },
  {
   "cell_type": "markdown",
   "id": "afe336ff",
   "metadata": {},
   "source": [
    "4) Get repeats"
   ]
  },
  {
   "cell_type": "code",
   "execution_count": 98,
   "id": "f113df33",
   "metadata": {},
   "outputs": [],
   "source": [
    "counts = {}\n",
    "\n",
    "for record in records:\n",
    "    seq = DNASeq(record.seq)\n",
    "    repeats = seq.get_repeats(3)\n",
    "    for r in repeats:\n",
    "        pattern = r[1]\n",
    "        if not isinstance(pattern, str):\n",
    "            print('\\n\\nERROR:')\n",
    "            print(pattern)\n",
    "            print(record.seq)\n",
    "            break\n",
    "        reps = r[2]\n",
    "        key = (pattern, reps)\n",
    "        if key in counts:\n",
    "            counts[key] = counts[key] + 1\n",
    "        else:\n",
    "            counts[key] = 1\n",
    "    #print(repeats)\n",
    "    #print()"
   ]
  },
  {
   "cell_type": "code",
   "execution_count": 100,
   "id": "a974ffcf",
   "metadata": {},
   "outputs": [
    {
     "name": "stdout",
     "output_type": "stream",
     "text": [
      "('GCG', 2)\n"
     ]
    }
   ],
   "source": [
    "most_common = max(counts.values())\n",
    "for k, v in counts.items():\n",
    "    if v == most_common:\n",
    "        print(k)"
   ]
  },
  {
   "cell_type": "code",
   "execution_count": null,
   "id": "4b78e1f7",
   "metadata": {},
   "outputs": [],
   "source": []
  }
 ],
 "metadata": {
  "kernelspec": {
   "display_name": "Python 3 (ipykernel)",
   "language": "python",
   "name": "python3"
  },
  "language_info": {
   "codemirror_mode": {
    "name": "ipython",
    "version": 3
   },
   "file_extension": ".py",
   "mimetype": "text/x-python",
   "name": "python",
   "nbconvert_exporter": "python",
   "pygments_lexer": "ipython3",
   "version": "3.11.3"
  }
 },
 "nbformat": 4,
 "nbformat_minor": 5
}
