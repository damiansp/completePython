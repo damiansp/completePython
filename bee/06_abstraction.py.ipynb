{
 "cells": [
  {
   "cell_type": "code",
   "execution_count": 1,
   "metadata": {
    "collapsed": true
   },
   "outputs": [],
   "source": [
    "import math"
   ]
  },
  {
   "cell_type": "code",
   "execution_count": 2,
   "metadata": {
    "collapsed": false
   },
   "outputs": [
    {
     "name": "stdout",
     "output_type": "stream",
     "text": [
      "False\n",
      "True\n"
     ]
    }
   ],
   "source": [
    "x = 1\n",
    "s = math.sqrt\n",
    "\n",
    "print(callable(x))\n",
    "print(callable(s))"
   ]
  },
  {
   "cell_type": "code",
   "execution_count": 4,
   "metadata": {
    "collapsed": false
   },
   "outputs": [],
   "source": [
    "def squarea(x):\n",
    "    '''Computes the area of a square with side x'''\n",
    "    return x * x"
   ]
  },
  {
   "cell_type": "code",
   "execution_count": 5,
   "metadata": {
    "collapsed": false
   },
   "outputs": [
    {
     "data": {
      "text/plain": [
       "'Computes the area of a square with side x'"
      ]
     },
     "execution_count": 5,
     "metadata": {},
     "output_type": "execute_result"
    }
   ],
   "source": [
    "squarea.__doc__"
   ]
  },
  {
   "cell_type": "markdown",
   "metadata": {
    "collapsed": true
   },
   "source": [
    "### Collecting Parameters"
   ]
  },
  {
   "cell_type": "code",
   "execution_count": 1,
   "metadata": {
    "collapsed": false
   },
   "outputs": [
    {
     "name": "stdout",
     "output_type": "stream",
     "text": [
      "('Testing',)\n",
      "(1, 2, 3)\n"
     ]
    }
   ],
   "source": [
    "def print_params(*params):\n",
    "    print(params)\n",
    "    \n",
    "print_params('Testing')\n",
    "print_params(1, 2, 3)"
   ]
  },
  {
   "cell_type": "code",
   "execution_count": 2,
   "metadata": {
    "collapsed": false
   },
   "outputs": [
    {
     "name": "stdout",
     "output_type": "stream",
     "text": [
      "Testing\n",
      "(1, 2, 3)\n"
     ]
    }
   ],
   "source": [
    "def print_params(title, *params):\n",
    "    print(title)\n",
    "    print(params)\n",
    "    \n",
    "print_params('Testing', 1, 2, 3)"
   ]
  },
  {
   "cell_type": "code",
   "execution_count": 3,
   "metadata": {
    "collapsed": false
   },
   "outputs": [
    {
     "name": "stdout",
     "output_type": "stream",
     "text": [
      "{'x': 1, 'y': 2, 'z': 3}\n"
     ]
    }
   ],
   "source": [
    "def print_params(**params):\n",
    "    print(params)\n",
    "    \n",
    "print_params(x=1, y=2, z=3)"
   ]
  },
  {
   "cell_type": "code",
   "execution_count": 4,
   "metadata": {
    "collapsed": false
   },
   "outputs": [
    {
     "name": "stdout",
     "output_type": "stream",
     "text": [
      "1 2 3\n",
      "* (4, 5, 6, 7)\n",
      "** {'i': 8, 'j': 9, 'k': 0}\n"
     ]
    }
   ],
   "source": [
    "def print_params(x, y, z=3, *pos_par, **key_par):\n",
    "    print(x, y, z)\n",
    "    print('*', pos_par)\n",
    "    print('**', key_par)\n",
    "    \n",
    "print_params(1, 2, 3, 4, 5, 6, 7, i=8, j=9, k=0)"
   ]
  },
  {
   "cell_type": "code",
   "execution_count": 5,
   "metadata": {
    "collapsed": true
   },
   "outputs": [],
   "source": [
    "def with_stars(**keywords):\n",
    "    print(keywords['name'], 'is', keywords['age'], 'years old')\n",
    "    \n",
    "def without_stars(keywords):\n",
    "    print(keywords['name'], 'is', keywords['age'], 'years old')"
   ]
  },
  {
   "cell_type": "code",
   "execution_count": 6,
   "metadata": {
    "collapsed": false
   },
   "outputs": [
    {
     "name": "stdout",
     "output_type": "stream",
     "text": [
      "Johnny Walker is 40 years old\n",
      "Johnny Walker is 40 years old\n"
     ]
    }
   ],
   "source": [
    "args = {'name': 'Johnny Walker', 'age': 40}\n",
    "with_stars(**args)\n",
    "without_stars(args)"
   ]
  },
  {
   "cell_type": "code",
   "execution_count": 7,
   "metadata": {
    "collapsed": false
   },
   "outputs": [
    {
     "name": "stdout",
     "output_type": "stream",
     "text": [
      "Well met, Sir Robin!\n"
     ]
    }
   ],
   "source": [
    "def hello(greeting='Hello', name=\"world\"):\n",
    "    print('%s, %s!' % (greeting, name))\n",
    "    \n",
    "params = {'name': 'Sir Robin', 'greeting': 'Well met'}\n",
    "hello(**params)"
   ]
  },
  {
   "cell_type": "code",
   "execution_count": 9,
   "metadata": {
    "collapsed": false
   },
   "outputs": [
    {
     "name": "stdout",
     "output_type": "stream",
     "text": [
      "Calling foo..\n",
      "1 2 3 4 5\n",
      "Calling foo..\n",
      "1 2 3 4 0\n",
      "Calling foo..\n",
      "1 2 3 0 0\n"
     ]
    }
   ],
   "source": [
    "def foo(x, y, z, m=0, n=0):\n",
    "    print(x, y, z, m, n)\n",
    "    \n",
    "def call_foo(*args, **keywords):\n",
    "    print('Calling foo..')\n",
    "    foo(*args, **keywords)\n",
    "    \n",
    "call_foo(1, 2, 3, 4, 5)\n",
    "call_foo(1, 2, 3, 4)\n",
    "call_foo(1, 2, 3)"
   ]
  },
  {
   "cell_type": "code",
   "execution_count": null,
   "metadata": {
    "collapsed": true
   },
   "outputs": [],
   "source": []
  }
 ],
 "metadata": {
  "kernelspec": {
   "display_name": "Python 3",
   "language": "python",
   "name": "python3"
  },
  "language_info": {
   "codemirror_mode": {
    "name": "ipython",
    "version": 3
   },
   "file_extension": ".py",
   "mimetype": "text/x-python",
   "name": "python",
   "nbconvert_exporter": "python",
   "pygments_lexer": "ipython3",
   "version": "3.6.1"
  }
 },
 "nbformat": 4,
 "nbformat_minor": 0
}
