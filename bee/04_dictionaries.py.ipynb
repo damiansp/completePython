{
 "cells": [
  {
   "cell_type": "code",
   "execution_count": 1,
   "metadata": {
    "collapsed": true
   },
   "outputs": [],
   "source": [
    "from copy import deepcopy"
   ]
  },
  {
   "cell_type": "code",
   "execution_count": 2,
   "metadata": {
    "collapsed": false
   },
   "outputs": [
    {
     "name": "stdout",
     "output_type": "stream",
     "text": [
      "Cecil's number is 35390.\n"
     ]
    }
   ],
   "source": [
    "phonebook = {'Adam': '1411', 'Boris': '20997', 'Cecil': '35390'}\n",
    "\n",
    "print(\"Cecil's number is %(Cecil)s.\" %phonebook)"
   ]
  },
  {
   "cell_type": "code",
   "execution_count": 3,
   "metadata": {
    "collapsed": false
   },
   "outputs": [
    {
     "name": "stdout",
     "output_type": "stream",
     "text": [
      "y: {'username': 'admin', 'machines': ['foo', 'fubar']}\n",
      "x: {'username': 'eldridge', 'machines': ['foo', 'fubar']}\n"
     ]
    }
   ],
   "source": [
    "# copy make creates a pointer \n",
    "x = {'username': 'admin', 'machines': ['foo', 'bar', 'fubar']}\n",
    "y = x.copy()\n",
    "x['username'] = 'eldridge'\n",
    "y['machines'].remove('bar')\n",
    "print('y:', y)\n",
    "print('x:', x)"
   ]
  },
  {
   "cell_type": "code",
   "execution_count": 4,
   "metadata": {
    "collapsed": false
   },
   "outputs": [
    {
     "name": "stdout",
     "output_type": "stream",
     "text": [
      "d: {'names': ['Aethelwold', 'Bertrand', 'Casper']} \n",
      "c: {'names': ['Aethelwold', 'Bertrand', 'Casper']} \n",
      "dc: {'names': ['Aethelwold', 'Bertrand']}\n"
     ]
    }
   ],
   "source": [
    "d = {'names': ['Aethelwold', 'Bertrand']}\n",
    "c = d.copy()\n",
    "dc = deepcopy(d) # new obj in memory, not a reference\n",
    "d['names'].append('Casper')\n",
    "\n",
    "print('d:', d, '\\nc:', c, '\\ndc:', dc)"
   ]
  },
  {
   "cell_type": "code",
   "execution_count": 5,
   "metadata": {
    "collapsed": false
   },
   "outputs": [
    {
     "data": {
      "text/plain": [
       "{'car': None, 'city': None, 'house': None, 'kingdom': None}"
      ]
     },
     "execution_count": 5,
     "metadata": {},
     "output_type": "execute_result"
    }
   ],
   "source": [
    "keys = ['car', 'house', 'city', 'kingdom']\n",
    "key_dict = {}.fromkeys(keys)\n",
    "key_dict"
   ]
  },
  {
   "cell_type": "code",
   "execution_count": 6,
   "metadata": {
    "collapsed": false
   },
   "outputs": [
    {
     "name": "stdout",
     "output_type": "stream",
     "text": [
      "None\n",
      "None\n",
      "dongle\n"
     ]
    }
   ],
   "source": [
    "key_dict['car'] = 'dongle'\n",
    "print(key_dict.get('kingdom'))\n",
    "print(key_dict.get('castle'))\n",
    "print(key_dict.get('car'))"
   ]
  },
  {
   "cell_type": "code",
   "execution_count": 7,
   "metadata": {
    "collapsed": false
   },
   "outputs": [
    {
     "name": "stdout",
     "output_type": "stream",
     "text": [
      "teeny\n"
     ]
    },
    {
     "ename": "KeyError",
     "evalue": "'mailbox'",
     "output_type": "error",
     "traceback": [
      "\u001b[0;31m---------------------------------------------------------------------------\u001b[0m",
      "\u001b[0;31mKeyError\u001b[0m                                  Traceback (most recent call last)",
      "\u001b[0;32m<ipython-input-7-72c55d75527b>\u001b[0m in \u001b[0;36m<module>\u001b[0;34m()\u001b[0m\n\u001b[1;32m      1\u001b[0m \u001b[0mtemp_key\u001b[0m \u001b[0;34m=\u001b[0m \u001b[0mkey_dict\u001b[0m\u001b[0;34m.\u001b[0m\u001b[0mget\u001b[0m\u001b[0;34m(\u001b[0m\u001b[0;34m'mailbox'\u001b[0m\u001b[0;34m,\u001b[0m \u001b[0;34m'teeny'\u001b[0m\u001b[0;34m)\u001b[0m\u001b[0;34m\u001b[0m\u001b[0m\n\u001b[1;32m      2\u001b[0m \u001b[0mprint\u001b[0m\u001b[0;34m(\u001b[0m\u001b[0mtemp_key\u001b[0m\u001b[0;34m)\u001b[0m\u001b[0;34m\u001b[0m\u001b[0m\n\u001b[0;32m----> 3\u001b[0;31m \u001b[0mprint\u001b[0m\u001b[0;34m(\u001b[0m\u001b[0mkey_dict\u001b[0m\u001b[0;34m[\u001b[0m\u001b[0;34m'mailbox'\u001b[0m\u001b[0;34m]\u001b[0m\u001b[0;34m)\u001b[0m\u001b[0;34m\u001b[0m\u001b[0m\n\u001b[0m",
      "\u001b[0;31mKeyError\u001b[0m: 'mailbox'"
     ]
    }
   ],
   "source": [
    "temp_key = key_dict.get('mailbox', 'teeny')\n",
    "print(temp_key)\n",
    "print(key_dict['mailbox'])"
   ]
  },
  {
   "cell_type": "code",
   "execution_count": null,
   "metadata": {
    "collapsed": false
   },
   "outputs": [],
   "source": [
    "key_dict.has_key('mailbox') # deprecated in 3.x"
   ]
  },
  {
   "cell_type": "code",
   "execution_count": null,
   "metadata": {
    "collapsed": false
   },
   "outputs": [],
   "source": [
    "key_dict.items()"
   ]
  },
  {
   "cell_type": "code",
   "execution_count": null,
   "metadata": {
    "collapsed": false
   },
   "outputs": [],
   "source": [
    "for (k, v) in key_dict.iteritems(): # deprecated in 3\n",
    "    print('%s: %s' %(k, v))"
   ]
  },
  {
   "cell_type": "code",
   "execution_count": null,
   "metadata": {
    "collapsed": false
   },
   "outputs": [],
   "source": [
    "for (k, v) in key_dict.items(): \n",
    "    print('%s: %s' %(k, v))"
   ]
  },
  {
   "cell_type": "code",
   "execution_count": null,
   "metadata": {
    "collapsed": false
   },
   "outputs": [],
   "source": [
    "list(key_dict.keys())"
   ]
  },
  {
   "cell_type": "code",
   "execution_count": 9,
   "metadata": {
    "collapsed": false
   },
   "outputs": [
    {
     "data": {
      "text/plain": [
       "'dongle'"
      ]
     },
     "execution_count": 9,
     "metadata": {},
     "output_type": "execute_result"
    }
   ],
   "source": [
    "key_dict.pop('car')"
   ]
  },
  {
   "cell_type": "code",
   "execution_count": 10,
   "metadata": {
    "collapsed": false
   },
   "outputs": [
    {
     "data": {
      "text/plain": [
       "{'city': None, 'house': None, 'kingdom': None}"
      ]
     },
     "execution_count": 10,
     "metadata": {},
     "output_type": "execute_result"
    }
   ],
   "source": [
    "key_dict"
   ]
  },
  {
   "cell_type": "code",
   "execution_count": 11,
   "metadata": {
    "collapsed": false
   },
   "outputs": [
    {
     "data": {
      "text/plain": [
       "('kingdom', None)"
      ]
     },
     "execution_count": 11,
     "metadata": {},
     "output_type": "execute_result"
    }
   ],
   "source": [
    "key_dict.popitem() # no guarantee which it'll be"
   ]
  },
  {
   "cell_type": "code",
   "execution_count": 12,
   "metadata": {
    "collapsed": false
   },
   "outputs": [
    {
     "data": {
      "text/plain": [
       "{'car': 'blank', 'city': None, 'house': None}"
      ]
     },
     "execution_count": 12,
     "metadata": {},
     "output_type": "execute_result"
    }
   ],
   "source": [
    "key_dict.setdefault('car', 'blank')\n",
    "key_dict"
   ]
  },
  {
   "cell_type": "code",
   "execution_count": 13,
   "metadata": {
    "collapsed": false
   },
   "outputs": [
    {
     "data": {
      "text/plain": [
       "{'car': 'blank', 'city': \"big'un\", 'house': None}"
      ]
     },
     "execution_count": 13,
     "metadata": {},
     "output_type": "execute_result"
    }
   ],
   "source": [
    "x = {'city': 'big\\'un'}\n",
    "key_dict.update(x)\n",
    "key_dict"
   ]
  },
  {
   "cell_type": "code",
   "execution_count": null,
   "metadata": {
    "collapsed": true
   },
   "outputs": [],
   "source": []
  }
 ],
 "metadata": {
  "kernelspec": {
   "display_name": "Python 3",
   "language": "python",
   "name": "python3"
  },
  "language_info": {
   "codemirror_mode": {
    "name": "ipython",
    "version": 3
   },
   "file_extension": ".py",
   "mimetype": "text/x-python",
   "name": "python",
   "nbconvert_exporter": "python",
   "pygments_lexer": "ipython3",
   "version": "3.6.1"
  }
 },
 "nbformat": 4,
 "nbformat_minor": 0
}
