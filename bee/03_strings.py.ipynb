{
 "cells": [
  {
   "cell_type": "markdown",
   "metadata": {},
   "source": [
    "# Basic String Operations"
   ]
  },
  {
   "cell_type": "code",
   "execution_count": 35,
   "metadata": {
    "collapsed": false
   },
   "outputs": [],
   "source": [
    "from math import pi\n",
    "from string import Template"
   ]
  },
  {
   "cell_type": "code",
   "execution_count": 5,
   "metadata": {
    "collapsed": false
   },
   "outputs": [
    {
     "data": {
      "text/plain": [
       "'cheese, glorious cheese!'"
      ]
     },
     "execution_count": 5,
     "metadata": {},
     "output_type": "execute_result"
    }
   ],
   "source": [
    "s = Template('$x, glorious $x!')\n",
    "s.substitute(x='cheese')"
   ]
  },
  {
   "cell_type": "code",
   "execution_count": 6,
   "metadata": {
    "collapsed": false
   },
   "outputs": [
    {
     "data": {
      "text/plain": [
       "'Who wants cheeseballs?'"
      ]
     },
     "execution_count": 6,
     "metadata": {},
     "output_type": "execute_result"
    }
   ],
   "source": [
    "s = Template('Who wants ${x}balls?')\n",
    "s.substitute(x='cheese')"
   ]
  },
  {
   "cell_type": "code",
   "execution_count": 7,
   "metadata": {
    "collapsed": false
   },
   "outputs": [
    {
     "data": {
      "text/plain": [
       "'A cheese must never offend'"
      ]
     },
     "execution_count": 7,
     "metadata": {},
     "output_type": "execute_result"
    }
   ],
   "source": [
    "s = Template('A $thing must never $action')\n",
    "d = {'thing': 'cheese', 'action': 'offend'}\n",
    "s.substitute(d)"
   ]
  },
  {
   "cell_type": "code",
   "execution_count": 13,
   "metadata": {
    "collapsed": false
   },
   "outputs": [
    {
     "name": "stdout",
     "output_type": "stream",
     "text": [
      "Pi:    3.1416\n"
     ]
    }
   ],
   "source": [
    "print('Pi:%10.4f' %pi)"
   ]
  },
  {
   "cell_type": "code",
   "execution_count": 15,
   "metadata": {
    "collapsed": false
   },
   "outputs": [
    {
     "name": "stdout",
     "output_type": "stream",
     "text": [
      "jet:     azaba\n"
     ]
    }
   ],
   "source": [
    "print('jet:%10.5s' %'azabache')"
   ]
  },
  {
   "cell_type": "code",
   "execution_count": 19,
   "metadata": {
    "collapsed": false
   },
   "outputs": [
    {
     "name": "stdout",
     "output_type": "stream",
     "text": [
      "one t\n"
     ]
    }
   ],
   "source": [
    "print('%.*s' %(5, 'one two three'))"
   ]
  },
  {
   "cell_type": "code",
   "execution_count": 4,
   "metadata": {
    "collapsed": false
   },
   "outputs": [
    {
     "name": "stdout",
     "output_type": "stream",
     "text": [
      "00003.1416\n"
     ]
    }
   ],
   "source": [
    "print('%010.4f' %pi) # 10 is entire width"
   ]
  },
  {
   "cell_type": "code",
   "execution_count": 10,
   "metadata": {
    "collapsed": false
   },
   "outputs": [
    {
     "name": "stdout",
     "output_type": "stream",
     "text": [
      "3.14      = pi\n"
     ]
    }
   ],
   "source": [
    "print('%-10.2f= pi' %pi) # left allign"
   ]
  },
  {
   "cell_type": "code",
   "execution_count": 13,
   "metadata": {
    "collapsed": false
   },
   "outputs": [
    {
     "name": "stdout",
     "output_type": "stream",
     "text": [
      "A:   10\n",
      "B:  -10\n"
     ]
    }
   ],
   "source": [
    "print('A:% 5d\\nB:% 5d' %(10, -10))"
   ]
  },
  {
   "cell_type": "code",
   "execution_count": 14,
   "metadata": {
    "collapsed": false
   },
   "outputs": [
    {
     "name": "stdout",
     "output_type": "stream",
     "text": [
      "A:  +10\n",
      "B:  -10\n"
     ]
    }
   ],
   "source": [
    "print('A:%+5d\\nB:%+5d' %(10, -10))"
   ]
  },
  {
   "cell_type": "code",
   "execution_count": 20,
   "metadata": {
    "collapsed": true
   },
   "outputs": [],
   "source": [
    "def print_list(width, border_char, items, prices):\n",
    "    price_width = 10\n",
    "    item_width  = width - price_width\n",
    "    header_format = '%-*s%*s'\n",
    "    format_       = '%-*s%*.2f'\n",
    "    print(border_char * width)\n",
    "    print(header_format %(item_width, 'Item', price_width, 'Price'))\n",
    "    print('-' * width)\n",
    "\n",
    "    for (item, price) in zip(items, prices):\n",
    "        print(format_ %(item_width, item, price_width, price))\n",
    "    print(border_char * width)"
   ]
  },
  {
   "cell_type": "code",
   "execution_count": 21,
   "metadata": {
    "collapsed": false
   },
   "outputs": [
    {
     "name": "stdout",
     "output_type": "stream",
     "text": [
      "===================================\n",
      "Item                          Price\n",
      "-----------------------------------\n",
      "Apples                         0.40\n",
      "Pears                          0.50\n",
      "Cantaloupes                    1.92\n",
      "Dried Apricots                 8.00\n",
      "Prunes                        12.00\n",
      "===================================\n"
     ]
    }
   ],
   "source": [
    "items = ['Apples', 'Pears', 'Cantaloupes', 'Dried Apricots', 'Prunes']\n",
    "prices = [0.4, 0.5, 1.92, 8, 12]\n",
    "\n",
    "print_list(35, '=', items, prices)"
   ]
  },
  {
   "cell_type": "code",
   "execution_count": 23,
   "metadata": {
    "collapsed": false
   },
   "outputs": [
    {
     "name": "stdout",
     "output_type": "stream",
     "text": [
      "^^^^^^^^^^^^^^^^^^^^^^^^^\n",
      "Item                Price\n",
      "-------------------------\n",
      "Prunes              12.00\n",
      "Dried Apricots       8.00\n",
      "Cantaloupes          1.92\n",
      "Pears                0.50\n",
      "Apples               0.40\n",
      "^^^^^^^^^^^^^^^^^^^^^^^^^\n"
     ]
    }
   ],
   "source": [
    "print_list(25, '^', reversed(items), reversed(prices))"
   ]
  },
  {
   "cell_type": "markdown",
   "metadata": {},
   "source": [
    "# String Methods"
   ]
  },
  {
   "cell_type": "code",
   "execution_count": 25,
   "metadata": {
    "collapsed": false
   },
   "outputs": [
    {
     "name": "stdout",
     "output_type": "stream",
     "text": [
      "-1\n",
      "8\n"
     ]
    }
   ],
   "source": [
    "lyrics = 'here an oink, there an oink, everywhere an oink-oink'\n",
    "print(lyrics.find('oing'))\n",
    "print(lyrics.find('oink'))"
   ]
  },
  {
   "cell_type": "code",
   "execution_count": 30,
   "metadata": {
    "collapsed": false
   },
   "outputs": [
    {
     "name": "stdout",
     "output_type": "stream",
     "text": [
      "23\n",
      "43\n",
      "23\n"
     ]
    }
   ],
   "source": [
    "print(lyrics.find('oink', 9))\n",
    "print(lyrics.find('oink', 24))\n",
    "print(lyrics.find('oink', 9, 42))"
   ]
  },
  {
   "cell_type": "code",
   "execution_count": 33,
   "metadata": {
    "collapsed": false
   },
   "outputs": [
    {
     "name": "stdout",
     "output_type": "stream",
     "text": [
      "Start.      Don't call me whitey!!!      End.\n",
      "Start. Don't call me whitey!!! End.\n",
      "Start. Don't call me whitey End.\n"
     ]
    }
   ],
   "source": [
    "whitey = \"     Don't call me whitey!!!     \"\n",
    "print('Start. %s End.' %(whitey))\n",
    "print('Start. %s End.' %(whitey.strip()))\n",
    "print('Start. %s End.' %(whitey.strip(' !')))"
   ]
  },
  {
   "cell_type": "code",
   "execution_count": 36,
   "metadata": {
    "collapsed": false
   },
   "outputs": [
    {
     "data": {
      "text/plain": [
       "24"
      ]
     },
     "execution_count": 36,
     "metadata": {},
     "output_type": "execute_result"
    }
   ],
   "source": [
    "table = ''.maketrans('eioubcdfgjklmnpqrstvwxyz',\n",
    "                     'oueipjtvkcgrnmbglzdfyxws')\n",
    "len(table)"
   ]
  },
  {
   "cell_type": "code",
   "execution_count": 40,
   "metadata": {
    "collapsed": false
   },
   "outputs": [
    {
     "data": {
      "text/plain": [
       "\"nw mano uz tanuam zaddoldhyaudo-bhurrubz. u'n a rinpolcajg, amt u'n egaw\""
      ]
     },
     "execution_count": 40,
     "metadata": {},
     "output_type": "execute_result"
    }
   ],
   "source": [
    "sentence = ('my name is damian satterthwaite-phillips. ' +\n",
    "            'i\\'m a lumberjack, and i\\'m okay')\n",
    "sentence.translate(table)"
   ]
  },
  {
   "cell_type": "code",
   "execution_count": null,
   "metadata": {
    "collapsed": true
   },
   "outputs": [],
   "source": []
  }
 ],
 "metadata": {
  "kernelspec": {
   "display_name": "Python 3",
   "language": "python",
   "name": "python3"
  },
  "language_info": {
   "codemirror_mode": {
    "name": "ipython",
    "version": 3
   },
   "file_extension": ".py",
   "mimetype": "text/x-python",
   "name": "python",
   "nbconvert_exporter": "python",
   "pygments_lexer": "ipython3",
   "version": "3.6.1"
  }
 },
 "nbformat": 4,
 "nbformat_minor": 0
}
