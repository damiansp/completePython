{
 "cells": [
  {
   "cell_type": "code",
   "execution_count": 6,
   "metadata": {},
   "outputs": [
    {
     "name": "stdout",
     "output_type": "stream",
     "text": [
      "1 2 3 4 5 6 7 \n",
      "NO MULTIPLES OF 7!!\n"
     ]
    }
   ],
   "source": [
    "x = 1\n",
    "\n",
    "while x < 10:\n",
    "    print(x, end=' ')\n",
    "    if x % 7 == 0:\n",
    "        print('\\nNO MULTIPLES OF 7!!')\n",
    "        break\n",
    "    x += 1\n",
    "else:\n",
    "    print('No god-forsaken multiples of 7 found')"
   ]
  },
  {
   "cell_type": "code",
   "execution_count": 8,
   "metadata": {},
   "outputs": [
    {
     "name": "stdout",
     "output_type": "stream",
     "text": [
      "1 2 3 4 5 6 7 8 9 \n",
      "No god-forsaken multiples of 7 found (only 7 itself)\n"
     ]
    }
   ],
   "source": [
    "x = 1\n",
    "\n",
    "while x < 10:\n",
    "    print(x, end=' ')\n",
    "    if x % 7 == 0 and x != 7:\n",
    "        print('\\nNO MULTIPLES OF 7 (except 7)!!')\n",
    "        break\n",
    "    x += 1\n",
    "else:\n",
    "    print('\\nNo god-forsaken multiples of 7 found (only 7 itself)')"
   ]
  },
  {
   "cell_type": "code",
   "execution_count": 10,
   "metadata": {},
   "outputs": [],
   "source": [
    "def do_nothing():\n",
    "    pass\n",
    "\n",
    "do_nothing()"
   ]
  },
  {
   "cell_type": "code",
   "execution_count": 11,
   "metadata": {
    "collapsed": true
   },
   "outputs": [],
   "source": [
    "def same_as_do_nothing():\n",
    "    ...\n",
    "    \n",
    "same_as_do_nothing()"
   ]
  },
  {
   "cell_type": "code",
   "execution_count": 13,
   "metadata": {},
   "outputs": [
    {
     "data": {
      "text/plain": [
       "{'eggs': 1, 'ham': 3, 'spam': 5}"
      ]
     },
     "execution_count": 13,
     "metadata": {},
     "output_type": "execute_result"
    }
   ],
   "source": [
    "keys = ['spam', 'ham', 'eggs']\n",
    "vals = [5, 3, 1]\n",
    "dict(zip(keys, vals))"
   ]
  },
  {
   "cell_type": "code",
   "execution_count": 14,
   "metadata": {},
   "outputs": [
    {
     "name": "stdout",
     "output_type": "stream",
     "text": [
      "Letter s appears at index 0\n",
      "Letter p appears at index 1\n",
      "Letter a appears at index 2\n",
      "Letter m appears at index 3\n"
     ]
    }
   ],
   "source": [
    "S = 'spam'\n",
    "for (i, item) in enumerate(S):\n",
    "    print('Letter %s appears at index %d' % (item, i))"
   ]
  },
  {
   "cell_type": "code",
   "execution_count": 15,
   "metadata": {},
   "outputs": [
    {
     "name": "stdout",
     "output_type": "stream",
     "text": [
      "(0, 's')\n",
      "(1, 'p')\n"
     ]
    }
   ],
   "source": [
    "E = enumerate(S)\n",
    "print(next(E))\n",
    "print(next(E))"
   ]
  },
  {
   "cell_type": "code",
   "execution_count": null,
   "metadata": {
    "collapsed": true
   },
   "outputs": [],
   "source": []
  }
 ],
 "metadata": {
  "kernelspec": {
   "display_name": "Python 3",
   "language": "python",
   "name": "python3"
  },
  "language_info": {
   "codemirror_mode": {
    "name": "ipython",
    "version": 3
   },
   "file_extension": ".py",
   "mimetype": "text/x-python",
   "name": "python",
   "nbconvert_exporter": "python",
   "pygments_lexer": "ipython3",
   "version": "3.6.2"
  }
 },
 "nbformat": 4,
 "nbformat_minor": 2
}
