{
 "cells": [
  {
   "cell_type": "code",
   "execution_count": 1,
   "metadata": {
    "collapsed": false
   },
   "outputs": [
    {
     "name": "stdout",
     "output_type": "stream",
     "text": [
      "\\traw\\ntext\n"
     ]
    }
   ],
   "source": [
    "print(r'\\traw\\ntext')"
   ]
  },
  {
   "cell_type": "code",
   "execution_count": 2,
   "metadata": {
    "collapsed": false
   },
   "outputs": [
    {
     "name": "stdout",
     "output_type": "stream",
     "text": [
      "b'byte string'\n"
     ]
    }
   ],
   "source": [
    "print(b'byte string')"
   ]
  },
  {
   "cell_type": "code",
   "execution_count": 6,
   "metadata": {
    "collapsed": false
   },
   "outputs": [
    {
     "data": {
      "text/plain": [
       "[115, 116, 114, 105, 110, 103, 32, 116, 111, 32, 111, 114, 100]"
      ]
     },
     "execution_count": 6,
     "metadata": {},
     "output_type": "execute_result"
    }
   ],
   "source": [
    "list(map(ord, 'string to ord'))"
   ]
  },
  {
   "cell_type": "code",
   "execution_count": 10,
   "metadata": {
    "collapsed": false
   },
   "outputs": [
    {
     "name": "stdout",
     "output_type": "stream",
     "text": [
      "\\'escaped\"\u0007(bell) \bbackspace\f",
      "formfeed\n",
      "overwrite\r",
      "carriage return\ttab\u000b",
      "vertical tab\n"
     ]
    }
   ],
   "source": [
    "print('\\\\\\'escaped\\\"\\a(bell) \\bbackspace\\fformfeed\\noverwrite\\rcarriage '\n",
    "      'return\\ttab\\vvertical tab')"
   ]
  },
  {
   "cell_type": "code",
   "execution_count": 15,
   "metadata": {
    "collapsed": false
   },
   "outputs": [
    {
     "name": "stdout",
     "output_type": "stream",
     "text": [
      "t h i s   p h r a s e "
     ]
    },
    {
     "data": {
      "text/plain": [
       "[None, None, None, None, None, None, None, None, None, None, None]"
      ]
     },
     "execution_count": 15,
     "metadata": {},
     "output_type": "execute_result"
    }
   ],
   "source": [
    "[print(letter, end=' ') for letter in 'this phrase']"
   ]
  },
  {
   "cell_type": "code",
   "execution_count": 4,
   "metadata": {
    "collapsed": false
   },
   "outputs": [
    {
     "name": "stdout",
     "output_type": "stream",
     "text": [
      "[115, 116, 114, 105, 110, 103, 32, 116, 111, 32, 111, 114, 100]\n"
     ]
    }
   ],
   "source": [
    "ascii_byte_str = list(map(ord, 'string to ord'))\n",
    "print(ascii_byte_str)"
   ]
  },
  {
   "cell_type": "code",
   "execution_count": 6,
   "metadata": {
    "collapsed": false
   },
   "outputs": [
    {
     "data": {
      "text/plain": [
       "'string to ord'"
      ]
     },
     "execution_count": 6,
     "metadata": {},
     "output_type": "execute_result"
    }
   ],
   "source": [
    "''.join(list(map(chr, ascii_byte_str)))"
   ]
  },
  {
   "cell_type": "code",
   "execution_count": 13,
   "metadata": {
    "collapsed": false
   },
   "outputs": [
    {
     "name": "stdout",
     "output_type": "stream",
     "text": [
      "there are 4 hot pies on the table\n",
      "there are no braces({}) on the table\n"
     ]
    }
   ],
   "source": [
    "print('there are {0} {1} on the table'.format(4, 'hot pies'))\n",
    "print('there are {} braces({}) on the table'.format('no', '{}'))"
   ]
  },
  {
   "cell_type": "code",
   "execution_count": 19,
   "metadata": {
    "collapsed": false
   },
   "outputs": [
    {
     "name": "stdout",
     "output_type": "stream",
     "text": [
      "THIS string\n",
      "that STRING\n"
     ]
    }
   ],
   "source": [
    "print('this STRING'.swapcase())\n",
    "print('THAT string'.swapcase())"
   ]
  },
  {
   "cell_type": "code",
   "execution_count": 17,
   "metadata": {
    "collapsed": false
   },
   "outputs": [
    {
     "name": "stdout",
     "output_type": "stream",
     "text": [
      "   this   \n",
      "^^^this^^^\n"
     ]
    }
   ],
   "source": [
    "print('this'.center(10))\n",
    "print('this'.center(10, '^'))"
   ]
  },
  {
   "cell_type": "code",
   "execution_count": 18,
   "metadata": {
    "collapsed": false
   },
   "outputs": [
    {
     "name": "stdout",
     "output_type": "stream",
     "text": [
      "           this\n",
      "            and\n",
      "           that\n"
     ]
    }
   ],
   "source": [
    "width = 15\n",
    "for word in 'this and that'.split(' '):\n",
    "    print(word.rjust(width))"
   ]
  },
  {
   "cell_type": "code",
   "execution_count": 1,
   "metadata": {
    "collapsed": false
   },
   "outputs": [
    {
     "name": "stdout",
     "output_type": "stream",
     "text": [
      "the fuzzy elephant catapults a marvelously flapping chihuahua\n"
     ]
    }
   ],
   "source": [
    "madlib = 'the {adj} {n1} {v_present} a {adv} {gerund} {n2}'\n",
    "print(madlib.format(adj='fuzzy', \n",
    "                    n1='elephant', \n",
    "                    v_present='catapults', \n",
    "                    adv='marvelously', \n",
    "                    gerund='flapping', \n",
    "                    n2='chihuahua'))"
   ]
  },
  {
   "cell_type": "code",
   "execution_count": 4,
   "metadata": {
    "collapsed": false
   },
   "outputs": [
    {
     "name": "stdout",
     "output_type": "stream",
     "text": [
      "12345 = 1234567890\n",
      "spam  =   123.3457\n"
     ]
    }
   ],
   "source": [
    "print('12345 = 1234567890')\n",
    "print('{0:5} = {1:10}'.format('spam', 123.3457))"
   ]
  },
  {
   "cell_type": "code",
   "execution_count": 5,
   "metadata": {
    "collapsed": false
   },
   "outputs": [
    {
     "name": "stdout",
     "output_type": "stream",
     "text": [
      "12345 = 1234567890\n",
      " spam = 123.3457  \n"
     ]
    }
   ],
   "source": [
    "print('12345 = 1234567890')\n",
    "print('{0:>5} = {1:<10}'.format('spam', 123.3457))"
   ]
  },
  {
   "cell_type": "code",
   "execution_count": null,
   "metadata": {
    "collapsed": true
   },
   "outputs": [],
   "source": []
  }
 ],
 "metadata": {
  "kernelspec": {
   "display_name": "Python 3",
   "language": "python",
   "name": "python3"
  },
  "language_info": {
   "codemirror_mode": {
    "name": "ipython",
    "version": 3
   },
   "file_extension": ".py",
   "mimetype": "text/x-python",
   "name": "python",
   "nbconvert_exporter": "python",
   "pygments_lexer": "ipython3",
   "version": "3.6.1"
  }
 },
 "nbformat": 4,
 "nbformat_minor": 2
}
