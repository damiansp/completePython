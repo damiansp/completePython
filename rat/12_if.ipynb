{
 "cells": [
  {
   "cell_type": "markdown",
   "metadata": {},
   "source": [
    "# Switch altenative in Python"
   ]
  },
  {
   "cell_type": "code",
   "execution_count": 12,
   "metadata": {},
   "outputs": [
    {
     "name": "stdout",
     "output_type": "stream",
     "text": [
      "0.57\n",
      "Not available\n"
     ]
    },
    {
     "data": {
      "text/plain": [
       "1.34"
      ]
     },
     "execution_count": 12,
     "metadata": {},
     "output_type": "execute_result"
    }
   ],
   "source": [
    "def price_milk(month):\n",
    "    return 0.01 * month + 1.27\n",
    "\n",
    "branch = {'spam': 0.57, \n",
    "          'ham': 2.44, \n",
    "          'eggs': 1.89, \n",
    "          'milk': price_milk}\n",
    "\n",
    "\n",
    "def get_price(item, month=None):\n",
    "    print(branch.get(item, 'Not available'))\n",
    "    \n",
    "\n",
    "get_price('spam')\n",
    "get_price('pineapple')\n",
    "branch['milk'](7)"
   ]
  },
  {
   "cell_type": "code",
   "execution_count": null,
   "metadata": {
    "collapsed": true
   },
   "outputs": [],
   "source": []
  }
 ],
 "metadata": {
  "kernelspec": {
   "display_name": "Python 3",
   "language": "python",
   "name": "python3"
  },
  "language_info": {
   "codemirror_mode": {
    "name": "ipython",
    "version": 3
   },
   "file_extension": ".py",
   "mimetype": "text/x-python",
   "name": "python",
   "nbconvert_exporter": "python",
   "pygments_lexer": "ipython3",
   "version": "3.6.2"
  }
 },
 "nbformat": 4,
 "nbformat_minor": 2
}
