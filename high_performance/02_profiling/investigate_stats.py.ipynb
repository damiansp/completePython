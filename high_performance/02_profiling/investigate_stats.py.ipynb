{
 "cells": [
  {
   "cell_type": "code",
   "execution_count": 1,
   "id": "20673b79",
   "metadata": {},
   "outputs": [],
   "source": [
    "import pstats"
   ]
  },
  {
   "cell_type": "code",
   "execution_count": 2,
   "id": "326338f8",
   "metadata": {},
   "outputs": [
    {
     "data": {
      "text/plain": [
       "<pstats.Stats at 0x107127a90>"
      ]
     },
     "execution_count": 2,
     "metadata": {},
     "output_type": "execute_result"
    }
   ],
   "source": [
    "p = pstats.Stats('profile.stats')\n",
    "p.sort_stats('cumulative')"
   ]
  },
  {
   "cell_type": "code",
   "execution_count": 3,
   "id": "da6eb33f",
   "metadata": {},
   "outputs": [
    {
     "name": "stdout",
     "output_type": "stream",
     "text": [
      "Wed May  8 11:30:01 2024    profile.stats\n",
      "\n",
      "         3487036 function calls in 0.658 seconds\n",
      "\n",
      "   Ordered by: cumulative time\n",
      "\n",
      "   ncalls  tottime  percall  cumtime  percall filename:lineno(function)\n",
      "        1    0.000    0.000    0.658    0.658 {built-in method builtins.exec}\n",
      "        1    0.013    0.013    0.658    0.658 julia_set.py:1(<module>)\n",
      "        1    0.323    0.323    0.645    0.645 julia_set.py:23(calc_pure_python)\n",
      "        1    0.000    0.000    0.261    0.261 julia_set.py:13(measure_time)\n",
      "        1    0.218    0.218    0.261    0.261 julia_set.py:57(calculate_z_serial_purepython)\n",
      "  2002000    0.056    0.000    0.056    0.000 {method 'append' of 'list' objects}\n",
      "  1485000    0.043    0.000    0.043    0.000 {built-in method builtins.abs}\n",
      "        1    0.004    0.004    0.004    0.004 {built-in method builtins.sum}\n",
      "        5    0.000    0.000    0.000    0.000 {built-in method builtins.print}\n",
      "        4    0.000    0.000    0.000    0.000 {built-in method time.time}\n",
      "        1    0.000    0.000    0.000    0.000 julia_set.py:12(time_fn)\n",
      "        1    0.000    0.000    0.000    0.000 /Library/Frameworks/Python.framework/Versions/3.11/lib/python3.11/functools.py:35(update_wrapper)\n",
      "        4    0.000    0.000    0.000    0.000 {built-in method builtins.len}\n",
      "        7    0.000    0.000    0.000    0.000 {built-in method builtins.getattr}\n",
      "        1    0.000    0.000    0.000    0.000 /Library/Frameworks/Python.framework/Versions/3.11/lib/python3.11/functools.py:65(wraps)\n",
      "        5    0.000    0.000    0.000    0.000 {built-in method builtins.setattr}\n",
      "        1    0.000    0.000    0.000    0.000 {method 'disable' of '_lsprof.Profiler' objects}\n",
      "        1    0.000    0.000    0.000    0.000 {method 'update' of 'dict' objects}\n",
      "\n",
      "\n"
     ]
    },
    {
     "data": {
      "text/plain": [
       "<pstats.Stats at 0x107127a90>"
      ]
     },
     "execution_count": 3,
     "metadata": {},
     "output_type": "execute_result"
    }
   ],
   "source": [
    "p.print_stats()"
   ]
  },
  {
   "cell_type": "code",
   "execution_count": null,
   "id": "3333eff8",
   "metadata": {},
   "outputs": [],
   "source": []
  }
 ],
 "metadata": {
  "kernelspec": {
   "display_name": "Python 3 (ipykernel)",
   "language": "python",
   "name": "python3"
  },
  "language_info": {
   "codemirror_mode": {
    "name": "ipython",
    "version": 3
   },
   "file_extension": ".py",
   "mimetype": "text/x-python",
   "name": "python",
   "nbconvert_exporter": "python",
   "pygments_lexer": "ipython3",
   "version": "3.11.3"
  }
 },
 "nbformat": 4,
 "nbformat_minor": 5
}
