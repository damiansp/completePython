{
 "cells": [
  {
   "cell_type": "code",
   "execution_count": 82,
   "metadata": {},
   "outputs": [],
   "source": [
    "import copy\n",
    "\n",
    "import matplotlib.pyplot as plt\n",
    "import numpy as np\n",
    "import pyaudio\n",
    "from scipy.io.wavfile import read, write\n",
    "import wave"
   ]
  },
  {
   "cell_type": "code",
   "execution_count": 67,
   "metadata": {},
   "outputs": [],
   "source": [
    "INT16_FAC = 2**15 - 1\n",
    "INT32_FAC = 2**31 - 1\n",
    "INT64_FAC = 2**63 - 1\n",
    "norm_fact = {'int16': INT16_FAC,\n",
    "             'int32': INT32_FAC,\n",
    "             'int64': INT64_FAC,\n",
    "             'float32': 1.0,\n",
    "             'float64': 1.0}"
   ]
  },
  {
   "cell_type": "code",
   "execution_count": 46,
   "metadata": {},
   "outputs": [],
   "source": [
    "CHUNK = 1024 # n samples per chunk\n",
    "FORMAT = pyaudio.paInt16 # 16 bits per sample\n",
    "CHANNELS = 1\n",
    "FS = 44100 # samples per sec\n",
    "AUDIO = './audio'"
   ]
  },
  {
   "cell_type": "code",
   "execution_count": 59,
   "metadata": {},
   "outputs": [],
   "source": [
    "def record(seconds=3):\n",
    "    p = pyaudio.PyAudio()\n",
    "    print('Recording...')\n",
    "    stream = p.open(format=FORMAT, \n",
    "                    channels=CHANNELS,\n",
    "                    rate=FS, \n",
    "                    frames_per_buffer=CHUNK, \n",
    "                    input=True)\n",
    "    frames = []\n",
    "    for i in range(int(FS / CHUNK * seconds)):\n",
    "        data = stream.read(CHUNK)\n",
    "        frames.append(data)\n",
    "\n",
    "    stream.stop_stream()\n",
    "    stream.close()\n",
    "    p.terminate()\n",
    "    print('Done.')\n",
    "    return p, frames"
   ]
  },
  {
   "cell_type": "code",
   "execution_count": 60,
   "metadata": {},
   "outputs": [],
   "source": [
    "def save_recording(p, frames, filename):\n",
    "    wf = wave.open(f'{AUDIO}/{filename}', 'wb')\n",
    "    wf.setnchannels(CHANNELS)\n",
    "    wf.setsampwidth(p.get_sample_size(sample_format))\n",
    "    wf.setframerate(fs)\n",
    "    wf.writeframes(b''.join(frames))\n",
    "    wf.close()\n",
    "    print('Saved', filename)"
   ]
  },
  {
   "cell_type": "code",
   "execution_count": 63,
   "metadata": {},
   "outputs": [],
   "source": [
    "def record_file(filename='out.wav', seconds=3):\n",
    "    p, frames, = record(seconds)\n",
    "    save_recording(p, frames, filename)"
   ]
  },
  {
   "cell_type": "code",
   "execution_count": 88,
   "metadata": {},
   "outputs": [],
   "source": [
    "def wavread(filename):\n",
    "    \"\"\"\n",
    "    Read a sound file and convert it to a normalized floating point array\n",
    "    filename: name of file to read\n",
    "    returns fs: sampling rate of file, x: floating point array\n",
    "    \"\"\"\n",
    "    fs, x = read(filename)\n",
    "    if (len(x.shape) != 1):  # raise error if more than one channel\n",
    "        raise ValueError(\"Audio file should be mono\")\n",
    "    if (fs != 44100):\n",
    "        raise ValueError(\"Sampling rate of input sound should be 44100\")\n",
    "    # scale down and convert audio into floating point number in range \n",
    "    # [-1, 1]\n",
    "    x = np.float32(x) / norm_fact[x.dtype.name]\n",
    "    return fs, x"
   ]
  },
  {
   "cell_type": "code",
   "execution_count": 89,
   "metadata": {},
   "outputs": [],
   "source": [
    "def wavwrite(x, fs=FS, filename='out_rev.wav'):\n",
    "    \"\"\"\n",
    "    Write a sound file from an array with the sound and the sampling rate\n",
    "    y: floating point array of one dimension, fs: sampling rate\n",
    "    filename: name of file to create\n",
    "    \"\"\"\n",
    "    x = copy.deepcopy(x) # copy array\n",
    "    # scaling floating point -1 to 1 range signal to int16 range\n",
    "    x *= INT16_FAC \n",
    "    x = np.int16(x) # converting to int16 type\n",
    "    write(f'{AUDIO}/{filename}', fs, x)"
   ]
  },
  {
   "cell_type": "code",
   "execution_count": 162,
   "metadata": {},
   "outputs": [
    {
     "name": "stdout",
     "output_type": "stream",
     "text": [
      "Recording...\n",
      "Done.\n",
      "Saved out.wav\n"
     ]
    }
   ],
   "source": [
    "record_file()"
   ]
  },
  {
   "cell_type": "code",
   "execution_count": 163,
   "metadata": {},
   "outputs": [],
   "source": [
    "#!play audio/out.wav"
   ]
  },
  {
   "cell_type": "code",
   "execution_count": 164,
   "metadata": {},
   "outputs": [
    {
     "data": {
      "image/png": "[encoded data removed]",
      "text/plain": [
       "<Figure size 432x288 with 1 Axes>"
      ]
     },
     "metadata": {
      "needs_background": "light"
     },
     "output_type": "display_data"
    }
   ],
   "source": [
    "fs, x = wavread(f'{AUDIO}/out.wav')\n",
    "plt.plot(x);"
   ]
  },
  {
   "cell_type": "code",
   "execution_count": 165,
   "metadata": {},
   "outputs": [],
   "source": [
    "x_rev = x[::-1]"
   ]
  },
  {
   "cell_type": "code",
   "execution_count": 166,
   "metadata": {},
   "outputs": [],
   "source": [
    "wavwrite(x_rev)"
   ]
  },
  {
   "cell_type": "code",
   "execution_count": 167,
   "metadata": {},
   "outputs": [
    {
     "name": "stdout",
     "output_type": "stream",
     "text": [
      "\n",
      "audio/out_rev.wav:\n",
      "\n",
      " File Size: 264k      Bit Rate: 706k\n",
      "  Encoding: Signed PCM    \n",
      "  Channels: 1 @ 16-bit   \n",
      "Samplerate: 44100Hz      \n",
      "Replaygain: off         \n",
      "  Duration: 00:00:03.00  \n",
      "\n",
      "In:100%  00:00:03.00 [00:00:00.00] Out:132k  [      |      ] Hd:1.1 Clip:0    \n",
      "Done.\n"
     ]
    }
   ],
   "source": [
    "!play 'audio/out_rev.wav'"
   ]
  },
  {
   "cell_type": "code",
   "execution_count": null,
   "metadata": {},
   "outputs": [],
   "source": []
  },
  {
   "cell_type": "code",
   "execution_count": null,
   "metadata": {},
   "outputs": [],
   "source": []
  }
 ],
 "metadata": {
  "kernelspec": {
   "display_name": "Python 3",
   "language": "python",
   "name": "python3"
  },
  "language_info": {
   "codemirror_mode": {
    "name": "ipython",
    "version": 3
   },
   "file_extension": ".py",
   "mimetype": "text/x-python",
   "name": "python",
   "nbconvert_exporter": "python",
   "pygments_lexer": "ipython3",
   "version": "3.8.7"
  }
 },
 "nbformat": 4,
 "nbformat_minor": 2
}
