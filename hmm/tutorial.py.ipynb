{
 "cells": [
  {
   "cell_type": "code",
   "execution_count": 1,
   "id": "b06d418e",
   "metadata": {},
   "outputs": [],
   "source": [
    "from   hmmlearn import hmm\n",
    "import numpy as np"
   ]
  },
  {
   "cell_type": "code",
   "execution_count": 3,
   "id": "5ffd8c5f",
   "metadata": {},
   "outputs": [],
   "source": [
    "mod = hmm.GaussianHMM(n_components=3, covariance_type='full')\n",
    "mod.startprob_ = np.array([0.6, 0.3, 0.1])\n",
    "mod.transmat_ = np.array(\n",
    "    [[0.7, 0.2, 0.1],\n",
    "     [0.3, 0.5, 0.2],\n",
    "     [0.3, 0.3, 0.4]])\n",
    "mod.means_ = np.array([[0., 0.], [3., -3.], [5., 10.]])\n",
    "mod.covars_ = np.tile(np.identity(2), (3, 1, 1))\n",
    "X, Z = mod.sample(100)"
   ]
  },
  {
   "cell_type": "code",
   "execution_count": 4,
   "id": "e348eae7",
   "metadata": {},
   "outputs": [],
   "source": [
    "lr = hmm.GaussianHMM(\n",
    "    n_components=3,\n",
    "    covariance_type='diag',\n",
    "    init_params='cm',\n",
    "    params='cmt')\n",
    "lr.startprob_ = np.array([1., 0., 0.])\n",
    "lr.transmat_ = np.array(\n",
    "    [[0.5, 0.5, 0.],\n",
    "     [0.,  0.5, 0.5],\n",
    "     [0.,  0.,  1.]])"
   ]
  },
  {
   "cell_type": "code",
   "execution_count": 5,
   "id": "38c63b18",
   "metadata": {},
   "outputs": [],
   "source": [
    "# Fix params\n",
    "mod = hmm.GaussianHMM(n_components=3, n_iter=100, init_params='mcs')\n",
    "mod.transmat_ = np.array(\n",
    "    [[0.7, 0.2, 0.1],\n",
    "     [0.3, 0.5, 0.2], \n",
    "     [0.3, 0.3, 0.4]])"
   ]
  },
  {
   "cell_type": "code",
   "execution_count": null,
   "id": "2a67e45a",
   "metadata": {},
   "outputs": [],
   "source": []
  }
 ],
 "metadata": {
  "kernelspec": {
   "display_name": "Python 3 (ipykernel)",
   "language": "python",
   "name": "python3"
  },
  "language_info": {
   "codemirror_mode": {
    "name": "ipython",
    "version": 3
   },
   "file_extension": ".py",
   "mimetype": "text/x-python",
   "name": "python",
   "nbconvert_exporter": "python",
   "pygments_lexer": "ipython3",
   "version": "3.8.5"
  }
 },
 "nbformat": 4,
 "nbformat_minor": 5
}
