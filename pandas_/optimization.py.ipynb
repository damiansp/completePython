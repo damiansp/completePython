{
 "cells": [
  {
   "cell_type": "markdown",
   "id": "ca67f709",
   "metadata": {},
   "source": [
    "Adapteed from tutorial <a href=\"https://medium.com/bigdatarepublic/advanced-pandas-optimize-speed-and-memory-a654b53be6c2\">here</a>."
   ]
  },
  {
   "cell_type": "code",
   "execution_count": 1,
   "id": "9e791c6e",
   "metadata": {},
   "outputs": [],
   "source": [
    "import numpy as np\n",
    "import pandas as pd"
   ]
  },
  {
   "cell_type": "code",
   "execution_count": 2,
   "id": "53fe3f25",
   "metadata": {},
   "outputs": [
    {
     "name": "stdout",
     "output_type": "stream",
     "text": [
      "(22552, 16)\n"
     ]
    },
    {
     "data": {
      "text/html": [
       "<div>\n",
       "<style scoped>\n",
       "    .dataframe tbody tr th:only-of-type {\n",
       "        vertical-align: middle;\n",
       "    }\n",
       "\n",
       "    .dataframe tbody tr th {\n",
       "        vertical-align: top;\n",
       "    }\n",
       "\n",
       "    .dataframe thead th {\n",
       "        text-align: right;\n",
       "    }\n",
       "</style>\n",
       "<table border=\"1\" class=\"dataframe\">\n",
       "  <thead>\n",
       "    <tr style=\"text-align: right;\">\n",
       "      <th></th>\n",
       "      <th>id</th>\n",
       "      <th>name</th>\n",
       "      <th>host_id</th>\n",
       "      <th>host_name</th>\n",
       "      <th>neighbourhood_group</th>\n",
       "      <th>neighbourhood</th>\n",
       "      <th>latitude</th>\n",
       "      <th>longitude</th>\n",
       "      <th>room_type</th>\n",
       "      <th>price</th>\n",
       "      <th>minimum_nights</th>\n",
       "      <th>number_of_reviews</th>\n",
       "      <th>last_review</th>\n",
       "      <th>reviews_per_month</th>\n",
       "      <th>calculated_host_listings_count</th>\n",
       "      <th>availability_365</th>\n",
       "    </tr>\n",
       "  </thead>\n",
       "  <tbody>\n",
       "    <tr>\n",
       "      <th>0</th>\n",
       "      <td>2015</td>\n",
       "      <td>Berlin-Mitte Value! Quiet courtyard/very central</td>\n",
       "      <td>2217</td>\n",
       "      <td>Ian</td>\n",
       "      <td>Mitte</td>\n",
       "      <td>Brunnenstr. Süd</td>\n",
       "      <td>52.534537</td>\n",
       "      <td>13.402557</td>\n",
       "      <td>Entire home/apt</td>\n",
       "      <td>60</td>\n",
       "      <td>4</td>\n",
       "      <td>118</td>\n",
       "      <td>2018-10-28</td>\n",
       "      <td>3.76</td>\n",
       "      <td>4</td>\n",
       "      <td>141</td>\n",
       "    </tr>\n",
       "    <tr>\n",
       "      <th>1</th>\n",
       "      <td>2695</td>\n",
       "      <td>Prenzlauer Berg close to Mauerpark</td>\n",
       "      <td>2986</td>\n",
       "      <td>Michael</td>\n",
       "      <td>Pankow</td>\n",
       "      <td>Prenzlauer Berg Nordwest</td>\n",
       "      <td>52.548513</td>\n",
       "      <td>13.404553</td>\n",
       "      <td>Private room</td>\n",
       "      <td>17</td>\n",
       "      <td>2</td>\n",
       "      <td>6</td>\n",
       "      <td>2018-10-01</td>\n",
       "      <td>1.42</td>\n",
       "      <td>1</td>\n",
       "      <td>0</td>\n",
       "    </tr>\n",
       "    <tr>\n",
       "      <th>2</th>\n",
       "      <td>3176</td>\n",
       "      <td>Fabulous Flat in great Location</td>\n",
       "      <td>3718</td>\n",
       "      <td>Britta</td>\n",
       "      <td>Pankow</td>\n",
       "      <td>Prenzlauer Berg Südwest</td>\n",
       "      <td>52.534996</td>\n",
       "      <td>13.417579</td>\n",
       "      <td>Entire home/apt</td>\n",
       "      <td>90</td>\n",
       "      <td>62</td>\n",
       "      <td>143</td>\n",
       "      <td>2017-03-20</td>\n",
       "      <td>1.25</td>\n",
       "      <td>1</td>\n",
       "      <td>220</td>\n",
       "    </tr>\n",
       "    <tr>\n",
       "      <th>3</th>\n",
       "      <td>3309</td>\n",
       "      <td>BerlinSpot Schöneberg near KaDeWe</td>\n",
       "      <td>4108</td>\n",
       "      <td>Jana</td>\n",
       "      <td>Tempelhof - Schöneberg</td>\n",
       "      <td>Schöneberg-Nord</td>\n",
       "      <td>52.498855</td>\n",
       "      <td>13.349065</td>\n",
       "      <td>Private room</td>\n",
       "      <td>26</td>\n",
       "      <td>5</td>\n",
       "      <td>25</td>\n",
       "      <td>2018-08-16</td>\n",
       "      <td>0.39</td>\n",
       "      <td>1</td>\n",
       "      <td>297</td>\n",
       "    </tr>\n",
       "    <tr>\n",
       "      <th>4</th>\n",
       "      <td>7071</td>\n",
       "      <td>BrightRoom with sunny greenview!</td>\n",
       "      <td>17391</td>\n",
       "      <td>Bright</td>\n",
       "      <td>Pankow</td>\n",
       "      <td>Helmholtzplatz</td>\n",
       "      <td>52.543157</td>\n",
       "      <td>13.415091</td>\n",
       "      <td>Private room</td>\n",
       "      <td>42</td>\n",
       "      <td>2</td>\n",
       "      <td>197</td>\n",
       "      <td>2018-11-04</td>\n",
       "      <td>1.75</td>\n",
       "      <td>1</td>\n",
       "      <td>26</td>\n",
       "    </tr>\n",
       "  </tbody>\n",
       "</table>\n",
       "</div>"
      ],
      "text/plain": [
       "     id                                              name  host_id host_name  \\\n",
       "0  2015  Berlin-Mitte Value! Quiet courtyard/very central     2217       Ian   \n",
       "1  2695                Prenzlauer Berg close to Mauerpark     2986   Michael   \n",
       "2  3176                   Fabulous Flat in great Location     3718    Britta   \n",
       "3  3309                 BerlinSpot Schöneberg near KaDeWe     4108      Jana   \n",
       "4  7071                  BrightRoom with sunny greenview!    17391    Bright   \n",
       "\n",
       "      neighbourhood_group             neighbourhood   latitude  longitude  \\\n",
       "0                   Mitte           Brunnenstr. Süd  52.534537  13.402557   \n",
       "1                  Pankow  Prenzlauer Berg Nordwest  52.548513  13.404553   \n",
       "2                  Pankow   Prenzlauer Berg Südwest  52.534996  13.417579   \n",
       "3  Tempelhof - Schöneberg           Schöneberg-Nord  52.498855  13.349065   \n",
       "4                  Pankow            Helmholtzplatz  52.543157  13.415091   \n",
       "\n",
       "         room_type  price  minimum_nights  number_of_reviews last_review  \\\n",
       "0  Entire home/apt     60               4                118  2018-10-28   \n",
       "1     Private room     17               2                  6  2018-10-01   \n",
       "2  Entire home/apt     90              62                143  2017-03-20   \n",
       "3     Private room     26               5                 25  2018-08-16   \n",
       "4     Private room     42               2                197  2018-11-04   \n",
       "\n",
       "   reviews_per_month  calculated_host_listings_count  availability_365  \n",
       "0               3.76                               4               141  \n",
       "1               1.42                               1                 0  \n",
       "2               1.25                               1               220  \n",
       "3               0.39                               1               297  \n",
       "4               1.75                               1                26  "
      ]
     },
     "execution_count": 2,
     "metadata": {},
     "output_type": "execute_result"
    }
   ],
   "source": [
    "listings = pd.read_csv('../data/listings.csv')\n",
    "print(listings.shape)\n",
    "listings.head()"
   ]
  },
  {
   "cell_type": "code",
   "execution_count": 3,
   "id": "d1583d61",
   "metadata": {},
   "outputs": [
    {
     "name": "stdout",
     "output_type": "stream",
     "text": [
      "(401963, 2)\n"
     ]
    },
    {
     "data": {
      "text/html": [
       "<div>\n",
       "<style scoped>\n",
       "    .dataframe tbody tr th:only-of-type {\n",
       "        vertical-align: middle;\n",
       "    }\n",
       "\n",
       "    .dataframe tbody tr th {\n",
       "        vertical-align: top;\n",
       "    }\n",
       "\n",
       "    .dataframe thead th {\n",
       "        text-align: right;\n",
       "    }\n",
       "</style>\n",
       "<table border=\"1\" class=\"dataframe\">\n",
       "  <thead>\n",
       "    <tr style=\"text-align: right;\">\n",
       "      <th></th>\n",
       "      <th>listing_id</th>\n",
       "      <th>date</th>\n",
       "    </tr>\n",
       "  </thead>\n",
       "  <tbody>\n",
       "    <tr>\n",
       "      <th>0</th>\n",
       "      <td>2015</td>\n",
       "      <td>2016-04-11</td>\n",
       "    </tr>\n",
       "    <tr>\n",
       "      <th>1</th>\n",
       "      <td>2015</td>\n",
       "      <td>2016-04-15</td>\n",
       "    </tr>\n",
       "    <tr>\n",
       "      <th>2</th>\n",
       "      <td>2015</td>\n",
       "      <td>2016-04-26</td>\n",
       "    </tr>\n",
       "    <tr>\n",
       "      <th>3</th>\n",
       "      <td>2015</td>\n",
       "      <td>2016-05-10</td>\n",
       "    </tr>\n",
       "    <tr>\n",
       "      <th>4</th>\n",
       "      <td>2015</td>\n",
       "      <td>2016-05-14</td>\n",
       "    </tr>\n",
       "  </tbody>\n",
       "</table>\n",
       "</div>"
      ],
      "text/plain": [
       "   listing_id        date\n",
       "0        2015  2016-04-11\n",
       "1        2015  2016-04-15\n",
       "2        2015  2016-04-26\n",
       "3        2015  2016-05-10\n",
       "4        2015  2016-05-14"
      ]
     },
     "execution_count": 3,
     "metadata": {},
     "output_type": "execute_result"
    }
   ],
   "source": [
    "reviews = pd.read_csv('../data/reviews.csv')\n",
    "print(reviews.shape)\n",
    "reviews.head()"
   ]
  },
  {
   "cell_type": "markdown",
   "id": "d8a47776",
   "metadata": {},
   "source": [
    "### 1. Index Optimization"
   ]
  },
  {
   "cell_type": "code",
   "execution_count": 4,
   "id": "fb9e63eb",
   "metadata": {},
   "outputs": [
    {
     "name": "stdout",
     "output_type": "stream",
     "text": [
      "133 ms ± 1.36 ms per loop (mean ± std. dev. of 7 runs, 10 loops each)\n"
     ]
    }
   ],
   "source": [
    "%%timeit\n",
    "listings.merge(reviews, left_on='id', right_on='listing_id')"
   ]
  },
  {
   "cell_type": "code",
   "execution_count": 5,
   "id": "b55a2b7f",
   "metadata": {},
   "outputs": [
    {
     "name": "stdout",
     "output_type": "stream",
     "text": [
      "46.1 ms ± 978 µs per loop (mean ± std. dev. of 7 runs, 10 loops each)\n"
     ]
    }
   ],
   "source": [
    "%%timeit\n",
    "lists = listings.set_index('id')\n",
    "revs = reviews.set_index('listing_id')\n",
    "lists.merge(revs, left_index=True, right_index=True)"
   ]
  },
  {
   "cell_type": "code",
   "execution_count": 6,
   "id": "79182ca2",
   "metadata": {},
   "outputs": [
    {
     "data": {
      "text/html": [
       "<div>\n",
       "<style scoped>\n",
       "    .dataframe tbody tr th:only-of-type {\n",
       "        vertical-align: middle;\n",
       "    }\n",
       "\n",
       "    .dataframe tbody tr th {\n",
       "        vertical-align: top;\n",
       "    }\n",
       "\n",
       "    .dataframe thead th {\n",
       "        text-align: right;\n",
       "    }\n",
       "</style>\n",
       "<table border=\"1\" class=\"dataframe\">\n",
       "  <thead>\n",
       "    <tr style=\"text-align: right;\">\n",
       "      <th></th>\n",
       "      <th>id</th>\n",
       "      <th>name</th>\n",
       "      <th>host_id</th>\n",
       "      <th>host_name</th>\n",
       "      <th>neighbourhood_group</th>\n",
       "      <th>neighbourhood</th>\n",
       "      <th>latitude</th>\n",
       "      <th>longitude</th>\n",
       "      <th>room_type</th>\n",
       "      <th>price</th>\n",
       "      <th>minimum_nights</th>\n",
       "      <th>number_of_reviews</th>\n",
       "      <th>last_review</th>\n",
       "      <th>reviews_per_month</th>\n",
       "      <th>calculated_host_listings_count</th>\n",
       "      <th>availability_365</th>\n",
       "    </tr>\n",
       "    <tr>\n",
       "      <th>id</th>\n",
       "      <th></th>\n",
       "      <th></th>\n",
       "      <th></th>\n",
       "      <th></th>\n",
       "      <th></th>\n",
       "      <th></th>\n",
       "      <th></th>\n",
       "      <th></th>\n",
       "      <th></th>\n",
       "      <th></th>\n",
       "      <th></th>\n",
       "      <th></th>\n",
       "      <th></th>\n",
       "      <th></th>\n",
       "      <th></th>\n",
       "      <th></th>\n",
       "    </tr>\n",
       "  </thead>\n",
       "  <tbody>\n",
       "    <tr>\n",
       "      <th>2015</th>\n",
       "      <td>2015</td>\n",
       "      <td>Berlin-Mitte Value! Quiet courtyard/very central</td>\n",
       "      <td>2217</td>\n",
       "      <td>Ian</td>\n",
       "      <td>Mitte</td>\n",
       "      <td>Brunnenstr. Süd</td>\n",
       "      <td>52.534537</td>\n",
       "      <td>13.402557</td>\n",
       "      <td>Entire home/apt</td>\n",
       "      <td>60</td>\n",
       "      <td>4</td>\n",
       "      <td>118</td>\n",
       "      <td>2018-10-28</td>\n",
       "      <td>3.76</td>\n",
       "      <td>4</td>\n",
       "      <td>141</td>\n",
       "    </tr>\n",
       "    <tr>\n",
       "      <th>2695</th>\n",
       "      <td>2695</td>\n",
       "      <td>Prenzlauer Berg close to Mauerpark</td>\n",
       "      <td>2986</td>\n",
       "      <td>Michael</td>\n",
       "      <td>Pankow</td>\n",
       "      <td>Prenzlauer Berg Nordwest</td>\n",
       "      <td>52.548513</td>\n",
       "      <td>13.404553</td>\n",
       "      <td>Private room</td>\n",
       "      <td>17</td>\n",
       "      <td>2</td>\n",
       "      <td>6</td>\n",
       "      <td>2018-10-01</td>\n",
       "      <td>1.42</td>\n",
       "      <td>1</td>\n",
       "      <td>0</td>\n",
       "    </tr>\n",
       "    <tr>\n",
       "      <th>3176</th>\n",
       "      <td>3176</td>\n",
       "      <td>Fabulous Flat in great Location</td>\n",
       "      <td>3718</td>\n",
       "      <td>Britta</td>\n",
       "      <td>Pankow</td>\n",
       "      <td>Prenzlauer Berg Südwest</td>\n",
       "      <td>52.534996</td>\n",
       "      <td>13.417579</td>\n",
       "      <td>Entire home/apt</td>\n",
       "      <td>90</td>\n",
       "      <td>62</td>\n",
       "      <td>143</td>\n",
       "      <td>2017-03-20</td>\n",
       "      <td>1.25</td>\n",
       "      <td>1</td>\n",
       "      <td>220</td>\n",
       "    </tr>\n",
       "    <tr>\n",
       "      <th>3309</th>\n",
       "      <td>3309</td>\n",
       "      <td>BerlinSpot Schöneberg near KaDeWe</td>\n",
       "      <td>4108</td>\n",
       "      <td>Jana</td>\n",
       "      <td>Tempelhof - Schöneberg</td>\n",
       "      <td>Schöneberg-Nord</td>\n",
       "      <td>52.498855</td>\n",
       "      <td>13.349065</td>\n",
       "      <td>Private room</td>\n",
       "      <td>26</td>\n",
       "      <td>5</td>\n",
       "      <td>25</td>\n",
       "      <td>2018-08-16</td>\n",
       "      <td>0.39</td>\n",
       "      <td>1</td>\n",
       "      <td>297</td>\n",
       "    </tr>\n",
       "    <tr>\n",
       "      <th>7071</th>\n",
       "      <td>7071</td>\n",
       "      <td>BrightRoom with sunny greenview!</td>\n",
       "      <td>17391</td>\n",
       "      <td>Bright</td>\n",
       "      <td>Pankow</td>\n",
       "      <td>Helmholtzplatz</td>\n",
       "      <td>52.543157</td>\n",
       "      <td>13.415091</td>\n",
       "      <td>Private room</td>\n",
       "      <td>42</td>\n",
       "      <td>2</td>\n",
       "      <td>197</td>\n",
       "      <td>2018-11-04</td>\n",
       "      <td>1.75</td>\n",
       "      <td>1</td>\n",
       "      <td>26</td>\n",
       "    </tr>\n",
       "  </tbody>\n",
       "</table>\n",
       "</div>"
      ],
      "text/plain": [
       "        id                                              name  host_id  \\\n",
       "id                                                                      \n",
       "2015  2015  Berlin-Mitte Value! Quiet courtyard/very central     2217   \n",
       "2695  2695                Prenzlauer Berg close to Mauerpark     2986   \n",
       "3176  3176                   Fabulous Flat in great Location     3718   \n",
       "3309  3309                 BerlinSpot Schöneberg near KaDeWe     4108   \n",
       "7071  7071                  BrightRoom with sunny greenview!    17391   \n",
       "\n",
       "     host_name     neighbourhood_group             neighbourhood   latitude  \\\n",
       "id                                                                            \n",
       "2015       Ian                   Mitte           Brunnenstr. Süd  52.534537   \n",
       "2695   Michael                  Pankow  Prenzlauer Berg Nordwest  52.548513   \n",
       "3176    Britta                  Pankow   Prenzlauer Berg Südwest  52.534996   \n",
       "3309      Jana  Tempelhof - Schöneberg           Schöneberg-Nord  52.498855   \n",
       "7071    Bright                  Pankow            Helmholtzplatz  52.543157   \n",
       "\n",
       "      longitude        room_type  price  minimum_nights  number_of_reviews  \\\n",
       "id                                                                           \n",
       "2015  13.402557  Entire home/apt     60               4                118   \n",
       "2695  13.404553     Private room     17               2                  6   \n",
       "3176  13.417579  Entire home/apt     90              62                143   \n",
       "3309  13.349065     Private room     26               5                 25   \n",
       "7071  13.415091     Private room     42               2                197   \n",
       "\n",
       "     last_review  reviews_per_month  calculated_host_listings_count  \\\n",
       "id                                                                    \n",
       "2015  2018-10-28               3.76                               4   \n",
       "2695  2018-10-01               1.42                               1   \n",
       "3176  2017-03-20               1.25                               1   \n",
       "3309  2018-08-16               0.39                               1   \n",
       "7071  2018-11-04               1.75                               1   \n",
       "\n",
       "      availability_365  \n",
       "id                      \n",
       "2015               141  \n",
       "2695                 0  \n",
       "3176               220  \n",
       "3309               297  \n",
       "7071                26  "
      ]
     },
     "execution_count": 6,
     "metadata": {},
     "output_type": "execute_result"
    }
   ],
   "source": [
    "listings = listings.set_index('id', drop=False)\n",
    "listings.head()"
   ]
  },
  {
   "cell_type": "code",
   "execution_count": 7,
   "id": "d0c3a8a1",
   "metadata": {},
   "outputs": [
    {
     "name": "stdout",
     "output_type": "stream",
     "text": [
      "5.03 µs ± 55.7 ns per loop (mean ± std. dev. of 7 runs, 100000 loops each)\n"
     ]
    }
   ],
   "source": [
    "%%timeit\n",
    "listings.loc[29844866, 'name']"
   ]
  },
  {
   "cell_type": "code",
   "execution_count": 8,
   "id": "916f1f60",
   "metadata": {},
   "outputs": [
    {
     "name": "stdout",
     "output_type": "stream",
     "text": [
      "2.44 µs ± 22.6 ns per loop (mean ± std. dev. of 7 runs, 100000 loops each)\n"
     ]
    }
   ],
   "source": [
    "%%timeit\n",
    "listings.at[29844866, 'name']"
   ]
  },
  {
   "cell_type": "code",
   "execution_count": 9,
   "id": "82181010",
   "metadata": {},
   "outputs": [
    {
     "data": {
      "text/html": [
       "<div>\n",
       "<style scoped>\n",
       "    .dataframe tbody tr th:only-of-type {\n",
       "        vertical-align: middle;\n",
       "    }\n",
       "\n",
       "    .dataframe tbody tr th {\n",
       "        vertical-align: top;\n",
       "    }\n",
       "\n",
       "    .dataframe thead th {\n",
       "        text-align: right;\n",
       "    }\n",
       "</style>\n",
       "<table border=\"1\" class=\"dataframe\">\n",
       "  <thead>\n",
       "    <tr style=\"text-align: right;\">\n",
       "      <th></th>\n",
       "      <th>id</th>\n",
       "      <th>name</th>\n",
       "      <th>host_id</th>\n",
       "      <th>host_name</th>\n",
       "      <th>neighbourhood_group</th>\n",
       "      <th>neighbourhood</th>\n",
       "      <th>latitude</th>\n",
       "      <th>longitude</th>\n",
       "      <th>room_type</th>\n",
       "      <th>price</th>\n",
       "      <th>minimum_nights</th>\n",
       "      <th>number_of_reviews</th>\n",
       "      <th>last_review</th>\n",
       "      <th>reviews_per_month</th>\n",
       "      <th>calculated_host_listings_count</th>\n",
       "      <th>availability_365</th>\n",
       "    </tr>\n",
       "  </thead>\n",
       "  <tbody>\n",
       "    <tr>\n",
       "      <th>0</th>\n",
       "      <td>2015</td>\n",
       "      <td>Berlin-Mitte Value! Quiet courtyard/very central</td>\n",
       "      <td>2217</td>\n",
       "      <td>Ian</td>\n",
       "      <td>Mitte</td>\n",
       "      <td>Brunnenstr. Süd</td>\n",
       "      <td>52.534537</td>\n",
       "      <td>13.402557</td>\n",
       "      <td>Entire home/apt</td>\n",
       "      <td>60</td>\n",
       "      <td>4</td>\n",
       "      <td>118</td>\n",
       "      <td>2018-10-28</td>\n",
       "      <td>3.76</td>\n",
       "      <td>4</td>\n",
       "      <td>141</td>\n",
       "    </tr>\n",
       "    <tr>\n",
       "      <th>1</th>\n",
       "      <td>2695</td>\n",
       "      <td>Prenzlauer Berg close to Mauerpark</td>\n",
       "      <td>2986</td>\n",
       "      <td>Michael</td>\n",
       "      <td>Pankow</td>\n",
       "      <td>Prenzlauer Berg Nordwest</td>\n",
       "      <td>52.548513</td>\n",
       "      <td>13.404553</td>\n",
       "      <td>Private room</td>\n",
       "      <td>17</td>\n",
       "      <td>2</td>\n",
       "      <td>6</td>\n",
       "      <td>2018-10-01</td>\n",
       "      <td>1.42</td>\n",
       "      <td>1</td>\n",
       "      <td>0</td>\n",
       "    </tr>\n",
       "    <tr>\n",
       "      <th>2</th>\n",
       "      <td>3176</td>\n",
       "      <td>Fabulous Flat in great Location</td>\n",
       "      <td>3718</td>\n",
       "      <td>Britta</td>\n",
       "      <td>Pankow</td>\n",
       "      <td>Prenzlauer Berg Südwest</td>\n",
       "      <td>52.534996</td>\n",
       "      <td>13.417579</td>\n",
       "      <td>Entire home/apt</td>\n",
       "      <td>90</td>\n",
       "      <td>62</td>\n",
       "      <td>143</td>\n",
       "      <td>2017-03-20</td>\n",
       "      <td>1.25</td>\n",
       "      <td>1</td>\n",
       "      <td>220</td>\n",
       "    </tr>\n",
       "    <tr>\n",
       "      <th>3</th>\n",
       "      <td>3309</td>\n",
       "      <td>BerlinSpot Schöneberg near KaDeWe</td>\n",
       "      <td>4108</td>\n",
       "      <td>Jana</td>\n",
       "      <td>Tempelhof - Schöneberg</td>\n",
       "      <td>Schöneberg-Nord</td>\n",
       "      <td>52.498855</td>\n",
       "      <td>13.349065</td>\n",
       "      <td>Private room</td>\n",
       "      <td>26</td>\n",
       "      <td>5</td>\n",
       "      <td>25</td>\n",
       "      <td>2018-08-16</td>\n",
       "      <td>0.39</td>\n",
       "      <td>1</td>\n",
       "      <td>297</td>\n",
       "    </tr>\n",
       "    <tr>\n",
       "      <th>4</th>\n",
       "      <td>7071</td>\n",
       "      <td>BrightRoom with sunny greenview!</td>\n",
       "      <td>17391</td>\n",
       "      <td>Bright</td>\n",
       "      <td>Pankow</td>\n",
       "      <td>Helmholtzplatz</td>\n",
       "      <td>52.543157</td>\n",
       "      <td>13.415091</td>\n",
       "      <td>Private room</td>\n",
       "      <td>42</td>\n",
       "      <td>2</td>\n",
       "      <td>197</td>\n",
       "      <td>2018-11-04</td>\n",
       "      <td>1.75</td>\n",
       "      <td>1</td>\n",
       "      <td>26</td>\n",
       "    </tr>\n",
       "  </tbody>\n",
       "</table>\n",
       "</div>"
      ],
      "text/plain": [
       "     id                                              name  host_id host_name  \\\n",
       "0  2015  Berlin-Mitte Value! Quiet courtyard/very central     2217       Ian   \n",
       "1  2695                Prenzlauer Berg close to Mauerpark     2986   Michael   \n",
       "2  3176                   Fabulous Flat in great Location     3718    Britta   \n",
       "3  3309                 BerlinSpot Schöneberg near KaDeWe     4108      Jana   \n",
       "4  7071                  BrightRoom with sunny greenview!    17391    Bright   \n",
       "\n",
       "      neighbourhood_group             neighbourhood   latitude  longitude  \\\n",
       "0                   Mitte           Brunnenstr. Süd  52.534537  13.402557   \n",
       "1                  Pankow  Prenzlauer Berg Nordwest  52.548513  13.404553   \n",
       "2                  Pankow   Prenzlauer Berg Südwest  52.534996  13.417579   \n",
       "3  Tempelhof - Schöneberg           Schöneberg-Nord  52.498855  13.349065   \n",
       "4                  Pankow            Helmholtzplatz  52.543157  13.415091   \n",
       "\n",
       "         room_type  price  minimum_nights  number_of_reviews last_review  \\\n",
       "0  Entire home/apt     60               4                118  2018-10-28   \n",
       "1     Private room     17               2                  6  2018-10-01   \n",
       "2  Entire home/apt     90              62                143  2017-03-20   \n",
       "3     Private room     26               5                 25  2018-08-16   \n",
       "4     Private room     42               2                197  2018-11-04   \n",
       "\n",
       "   reviews_per_month  calculated_host_listings_count  availability_365  \n",
       "0               3.76                               4               141  \n",
       "1               1.42                               1                 0  \n",
       "2               1.25                               1               220  \n",
       "3               0.39                               1               297  \n",
       "4               1.75                               1                26  "
      ]
     },
     "execution_count": 9,
     "metadata": {},
     "output_type": "execute_result"
    }
   ],
   "source": [
    "listings = listings.reset_index(drop=True)\n",
    "listings.head()"
   ]
  },
  {
   "cell_type": "code",
   "execution_count": 10,
   "id": "224c67bf",
   "metadata": {},
   "outputs": [
    {
     "name": "stdout",
     "output_type": "stream",
     "text": [
      "118 µs ± 308 ns per loop (mean ± std. dev. of 7 runs, 10000 loops each)\n"
     ]
    }
   ],
   "source": [
    "%%timeit\n",
    "listings.loc[listings.id == 29844866, 'name']"
   ]
  },
  {
   "cell_type": "code",
   "execution_count": 11,
   "id": "8f1668b0",
   "metadata": {},
   "outputs": [
    {
     "name": "stdout",
     "output_type": "stream",
     "text": [
      "58.9 µs ± 778 ns per loop (mean ± std. dev. of 7 runs, 10000 loops each)\n"
     ]
    }
   ],
   "source": [
    "%%timeit\n",
    "listings.iloc[22529]['name']"
   ]
  },
  {
   "cell_type": "markdown",
   "id": "adf05507",
   "metadata": {},
   "source": [
    "### 2. Vectorize Ops"
   ]
  },
  {
   "cell_type": "code",
   "execution_count": 25,
   "id": "66cef262",
   "metadata": {},
   "outputs": [
    {
     "data": {
      "text/plain": [
       "9000"
      ]
     },
     "execution_count": 25,
     "metadata": {},
     "output_type": "execute_result"
    }
   ],
   "source": [
    "min_price = listings.price.min()\n",
    "max_price = listings.price.max()\n",
    "price_range = max_price - min_price\n",
    "price_range"
   ]
  },
  {
   "cell_type": "code",
   "execution_count": 26,
   "id": "7958f091",
   "metadata": {},
   "outputs": [
    {
     "name": "stdout",
     "output_type": "stream",
     "text": [
      "1.4 s ± 5.88 ms per loop (mean ± std. dev. of 7 runs, 1 loop each)\n"
     ]
    }
   ],
   "source": [
    "%%timeit\n",
    "norm_prices = np.zeros(len(listings))\n",
    "for i in range(len(listings)):\n",
    "    norm_prices[i] = (\n",
    "        (listings.iloc[i]['price'] - min_price) / price_range)\n",
    "listings['norm_prices'] = norm_prices"
   ]
  },
  {
   "cell_type": "code",
   "execution_count": 27,
   "id": "af5ff08c",
   "metadata": {},
   "outputs": [
    {
     "name": "stdout",
     "output_type": "stream",
     "text": [
      "7.3 ms ± 249 µs per loop (mean ± std. dev. of 7 runs, 100 loops each)\n"
     ]
    }
   ],
   "source": [
    "%%timeit\n",
    "norm_prices = np.zeros(len(listings))\n",
    "for i, price in enumerate(listings.price):\n",
    "    norm_prices[i] = (price - min_price) / price_range\n",
    "listings['nrom_price'] = norm_prices"
   ]
  },
  {
   "cell_type": "code",
   "execution_count": 29,
   "id": "06ef5e6f",
   "metadata": {},
   "outputs": [
    {
     "name": "stdout",
     "output_type": "stream",
     "text": [
      "570 ms ± 4.78 ms per loop (mean ± std. dev. of 7 runs, 1 loop each)\n"
     ]
    }
   ],
   "source": [
    "%%timeit\n",
    "norm_prices = np.zeros(len(listings))\n",
    "for i, row in listings.iterrows():\n",
    "    norm_prices[i] = (row.price - min_price) / price_range\n",
    "listings['norm_price'] = norm_prices"
   ]
  },
  {
   "cell_type": "code",
   "execution_count": 30,
   "id": "c64faca7",
   "metadata": {},
   "outputs": [
    {
     "name": "stdout",
     "output_type": "stream",
     "text": [
      "122 ms ± 1.51 ms per loop (mean ± std. dev. of 7 runs, 10 loops each)\n"
     ]
    }
   ],
   "source": [
    "%%timeit\n",
    "norm_prices = np.zeros(len(listings))\n",
    "for i in range(len(norm_prices)):\n",
    "    norm_prices[i] = (\n",
    "        (listings.loc[i, 'price'] - min_price) / price_range)\n",
    "listings['norm_price'] = norm_prices"
   ]
  },
  {
   "cell_type": "code",
   "execution_count": 31,
   "id": "6adda6e2",
   "metadata": {},
   "outputs": [
    {
     "name": "stdout",
     "output_type": "stream",
     "text": [
      "63.9 ms ± 402 µs per loop (mean ± std. dev. of 7 runs, 10 loops each)\n"
     ]
    }
   ],
   "source": [
    "%%timeit\n",
    "norm_prices = np.zeros(len(listings))\n",
    "for i in range(len(norm_prices)):\n",
    "    norm_prices[i] = (\n",
    "        (listings.at[i, 'price'] - min_price) / price_range)\n",
    "listings['norm_price'] = norm_prices"
   ]
  },
  {
   "cell_type": "code",
   "execution_count": 32,
   "id": "e77f3908",
   "metadata": {},
   "outputs": [
    {
     "name": "stdout",
     "output_type": "stream",
     "text": [
      "7.52 ms ± 24.6 µs per loop (mean ± std. dev. of 7 runs, 100 loops each)\n"
     ]
    }
   ],
   "source": [
    "%%timeit\n",
    "listings['norm_price'] = listings.price.map(\n",
    "    lambda x: (x - min_price) / price_range)"
   ]
  },
  {
   "cell_type": "code",
   "execution_count": 33,
   "id": "78a89430",
   "metadata": {},
   "outputs": [
    {
     "name": "stdout",
     "output_type": "stream",
     "text": [
      "7.49 ms ± 36 µs per loop (mean ± std. dev. of 7 runs, 100 loops each)\n"
     ]
    }
   ],
   "source": [
    "%%timeit\n",
    "listings['norm_price'] = listings.price.apply(\n",
    "    lambda x: (x - min_price) / price_range)"
   ]
  },
  {
   "cell_type": "code",
   "execution_count": 34,
   "id": "0de98c6d",
   "metadata": {},
   "outputs": [
    {
     "name": "stdout",
     "output_type": "stream",
     "text": [
      "163 µs ± 747 ns per loop (mean ± std. dev. of 7 runs, 10000 loops each)\n"
     ]
    }
   ],
   "source": [
    "%%timeit\n",
    "listings['norm_price'] = (listings.price - min_price) / price_range"
   ]
  },
  {
   "cell_type": "code",
   "execution_count": 12,
   "id": "cf6996dc",
   "metadata": {},
   "outputs": [],
   "source": [
    "room_type_scores = {\n",
    "    'Entire home/apt': 1,\n",
    "    'Private room': 0.5,\n",
    "    'Shared room': 0.2}"
   ]
  },
  {
   "cell_type": "code",
   "execution_count": 14,
   "id": "7a864a08",
   "metadata": {},
   "outputs": [
    {
     "name": "stdout",
     "output_type": "stream",
     "text": [
      "1.68 s ± 11.7 ms per loop (mean ± std. dev. of 7 runs, 1 loop each)\n"
     ]
    }
   ],
   "source": [
    "%%timeit\n",
    "scores = np.zeros(len(listings))\n",
    "for i in range(len(listings)):\n",
    "    row = listings.loc[i]\n",
    "    if row.availability_365 == 0:\n",
    "        scores[i] = 0\n",
    "    elif row.price > 100:\n",
    "        scores[i] = 0\n",
    "    else:\n",
    "        room_type_score = room_type_scores[row.room_type]\n",
    "        price_score = (100 - row.price) / 100\n",
    "        review_score = 1 if row.number_of_reviews > 50 else 0.5\n",
    "        scores[i] = room_type_score * price_score * review_score\n",
    "listings['score'] = scores"
   ]
  },
  {
   "cell_type": "code",
   "execution_count": 17,
   "id": "83b42651",
   "metadata": {},
   "outputs": [
    {
     "name": "stdout",
     "output_type": "stream",
     "text": [
      "16.7 ms ± 140 µs per loop (mean ± std. dev. of 7 runs, 100 loops each)\n"
     ]
    }
   ],
   "source": [
    "%%timeit\n",
    "prices = listings.price.values\n",
    "n_reviews = listings.number_of_reviews.values\n",
    "availability = listings.availability_365.values\n",
    "room_types = listings.room_type.values\n",
    "scores = np.zeros(len(listings))\n",
    "for i in range(len(listings)):\n",
    "    if availability[i] == 0:\n",
    "        scores[i] = 0\n",
    "    elif prices[i] > 100:\n",
    "        scores[i] = 0\n",
    "    else:\n",
    "        rm_type_score = room_type_scores[room_types[i]]\n",
    "        price_score = (100 - prices[i]) / 100\n",
    "        rev_score = 1 if n_reviews[i] > 50 else 0.5\n",
    "        scores[i] = rm_type_score * price_score * rev_score\n",
    "listings['score'] = scores"
   ]
  },
  {
   "cell_type": "code",
   "execution_count": 19,
   "id": "5b0eec84",
   "metadata": {},
   "outputs": [
    {
     "name": "stdout",
     "output_type": "stream",
     "text": [
      "4.24 ms ± 16.2 µs per loop (mean ± std. dev. of 7 runs, 100 loops each)\n"
     ]
    }
   ],
   "source": [
    "%%timeit\n",
    "listings.loc[\n",
    "    listings.room_type == 'Entire home/apt', 'room_type_score'] = 1\n",
    "listings.loc[\n",
    "    listings.room_type == 'Private room', 'room_type_score'] = 0.5\n",
    "listings['room_type_score'].fillna(0.2, inplace=True)\n",
    "listings.loc[listings.number_of_reviews > 50, 'review_score'] = 1\n",
    "listings['review_score'].fillna(0.5, inplace=True)\n",
    "listings['price_score'] = (100 - listings.price) / 100\n",
    "listings['score'] = (\n",
    "    listings.room_type_score\n",
    "    * listings.price_score\n",
    "    * listings.review_score)\n",
    "listings.loc[\n",
    "    (listings.availability_365 == 0) | (listings.price > 100), 'score'\n",
    "] = 0"
   ]
  },
  {
   "cell_type": "code",
   "execution_count": null,
   "id": "54accbee",
   "metadata": {},
   "outputs": [],
   "source": []
  }
 ],
 "metadata": {
  "kernelspec": {
   "display_name": "Python 3 (ipykernel)",
   "language": "python",
   "name": "python3"
  },
  "language_info": {
   "codemirror_mode": {
    "name": "ipython",
    "version": 3
   },
   "file_extension": ".py",
   "mimetype": "text/x-python",
   "name": "python",
   "nbconvert_exporter": "python",
   "pygments_lexer": "ipython3",
   "version": "3.8.5"
  }
 },
 "nbformat": 4,
 "nbformat_minor": 5
}
