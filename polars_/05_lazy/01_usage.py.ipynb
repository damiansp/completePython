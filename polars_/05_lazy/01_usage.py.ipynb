{
 "cells": [
  {
   "cell_type": "code",
   "execution_count": 1,
   "id": "a94153a0",
   "metadata": {},
   "outputs": [],
   "source": [
    "import polars as pl"
   ]
  },
  {
   "cell_type": "code",
   "execution_count": null,
   "id": "771d7b51",
   "metadata": {},
   "outputs": [],
   "source": [
    "q1 = (\n",
    "    pl\n",
    "    .scan_csv('docs/src/data/reddit.csv')  # scan_* funcs are lazy\n",
    "    .with_columns(pl.col('name').str.to_uppercase())\n",
    "    .filter(pl.col('comment_karma') > 0))"
   ]
  },
  {
   "cell_type": "code",
   "execution_count": null,
   "id": "a120923f",
   "metadata": {},
   "outputs": [],
   "source": [
    "q3 = pl.DataFram({'foo': list('abc'), 'bar': [0, 1, 2]}).lazy()"
   ]
  }
 ],
 "metadata": {
  "kernelspec": {
   "display_name": "Python 3 (ipykernel)",
   "language": "python",
   "name": "python3"
  },
  "language_info": {
   "codemirror_mode": {
    "name": "ipython",
    "version": 3
   },
   "file_extension": ".py",
   "mimetype": "text/x-python",
   "name": "python",
   "nbconvert_exporter": "python",
   "pygments_lexer": "ipython3",
   "version": "3.11.3"
  }
 },
 "nbformat": 4,
 "nbformat_minor": 5
}
