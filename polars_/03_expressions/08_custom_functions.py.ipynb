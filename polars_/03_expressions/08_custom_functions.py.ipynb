{
 "cells": [
  {
   "cell_type": "code",
   "execution_count": 1,
   "id": "dc482add",
   "metadata": {},
   "outputs": [],
   "source": [
    "import polars as pl"
   ]
  },
  {
   "cell_type": "code",
   "execution_count": 2,
   "id": "bba38049",
   "metadata": {},
   "outputs": [
    {
     "data": {
      "text/html": [
       "<div>\n",
       "<style>\n",
       ".pl-dataframe > thead > tr > th {\n",
       "  text-align: right;\n",
       "}\n",
       "</style>\n",
       "\n",
       "<table border=\"1\" class=\"dataframe pl-dataframe\">\n",
       "<small>shape: (3, 2)</small>\n",
       "<thead>\n",
       "<tr>\n",
       "<th>\n",
       "keys\n",
       "</th>\n",
       "<th>\n",
       "vals\n",
       "</th>\n",
       "</tr>\n",
       "<tr>\n",
       "<td>\n",
       "str\n",
       "</td>\n",
       "<td>\n",
       "i64\n",
       "</td>\n",
       "</tr>\n",
       "</thead>\n",
       "<tbody>\n",
       "<tr>\n",
       "<td>\n",
       "&quot;a&quot;\n",
       "</td>\n",
       "<td>\n",
       "10\n",
       "</td>\n",
       "</tr>\n",
       "<tr>\n",
       "<td>\n",
       "&quot;a&quot;\n",
       "</td>\n",
       "<td>\n",
       "7\n",
       "</td>\n",
       "</tr>\n",
       "<tr>\n",
       "<td>\n",
       "&quot;b&quot;\n",
       "</td>\n",
       "<td>\n",
       "1\n",
       "</td>\n",
       "</tr>\n",
       "</tbody>\n",
       "</table>\n",
       "</div>"
      ],
      "text/plain": [
       "shape: (3, 2)\n",
       "┌──────┬──────┐\n",
       "│ keys ┆ vals │\n",
       "│ ---  ┆ ---  │\n",
       "│ str  ┆ i64  │\n",
       "╞══════╪══════╡\n",
       "│ a    ┆ 10   │\n",
       "│ a    ┆ 7    │\n",
       "│ b    ┆ 1    │\n",
       "└──────┴──────┘"
      ]
     },
     "execution_count": 2,
     "metadata": {},
     "output_type": "execute_result"
    }
   ],
   "source": [
    "df = pl.DataFrame({'keys': list('aab'), 'vals': [10, 7, 1]})\n",
    "df"
   ]
  },
  {
   "cell_type": "code",
   "execution_count": 5,
   "id": "f3206021",
   "metadata": {},
   "outputs": [
    {
     "data": {
      "text/html": [
       "<div>\n",
       "<style>\n",
       ".pl-dataframe > thead > tr > th {\n",
       "  text-align: right;\n",
       "}\n",
       "</style>\n",
       "\n",
       "<table border=\"1\" class=\"dataframe pl-dataframe\">\n",
       "<small>shape: (2, 3)</small>\n",
       "<thead>\n",
       "<tr>\n",
       "<th>\n",
       "keys\n",
       "</th>\n",
       "<th>\n",
       "shiftmap\n",
       "</th>\n",
       "<th>\n",
       "shiftexpr\n",
       "</th>\n",
       "</tr>\n",
       "<tr>\n",
       "<td>\n",
       "str\n",
       "</td>\n",
       "<td>\n",
       "list[i64]\n",
       "</td>\n",
       "<td>\n",
       "list[i64]\n",
       "</td>\n",
       "</tr>\n",
       "</thead>\n",
       "<tbody>\n",
       "<tr>\n",
       "<td>\n",
       "&quot;a&quot;\n",
       "</td>\n",
       "<td>\n",
       "[null, 10]\n",
       "</td>\n",
       "<td>\n",
       "[null, 10]\n",
       "</td>\n",
       "</tr>\n",
       "<tr>\n",
       "<td>\n",
       "&quot;b&quot;\n",
       "</td>\n",
       "<td>\n",
       "[7]\n",
       "</td>\n",
       "<td>\n",
       "[null]\n",
       "</td>\n",
       "</tr>\n",
       "</tbody>\n",
       "</table>\n",
       "</div>"
      ],
      "text/plain": [
       "shape: (2, 3)\n",
       "┌──────┬────────────┬────────────┐\n",
       "│ keys ┆ shiftmap   ┆ shiftexpr  │\n",
       "│ ---  ┆ ---        ┆ ---        │\n",
       "│ str  ┆ list[i64]  ┆ list[i64]  │\n",
       "╞══════╪════════════╪════════════╡\n",
       "│ a    ┆ [null, 10] ┆ [null, 10] │\n",
       "│ b    ┆ [7]        ┆ [null]     │\n",
       "└──────┴────────────┴────────────┘"
      ]
     },
     "execution_count": 5,
     "metadata": {},
     "output_type": "execute_result"
    }
   ],
   "source": [
    "df.groupby('keys', maintain_order=True).agg([\n",
    "    pl.col('vals').map(lambda s: s.shift()).alias('shiftmap'),\n",
    "    pl.col('vals').shift().alias('shiftexpr')])"
   ]
  },
  {
   "cell_type": "code",
   "execution_count": null,
   "id": "b077f5ca",
   "metadata": {},
   "outputs": [],
   "source": []
  }
 ],
 "metadata": {
  "kernelspec": {
   "display_name": "Python 3 (ipykernel)",
   "language": "python",
   "name": "python3"
  },
  "language_info": {
   "codemirror_mode": {
    "name": "ipython",
    "version": 3
   },
   "file_extension": ".py",
   "mimetype": "text/x-python",
   "name": "python",
   "nbconvert_exporter": "python",
   "pygments_lexer": "ipython3",
   "version": "3.10.6"
  }
 },
 "nbformat": 4,
 "nbformat_minor": 5
}
