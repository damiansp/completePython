{
 "cells": [
  {
   "cell_type": "code",
   "execution_count": 2,
   "id": "7eb2d3bf",
   "metadata": {},
   "outputs": [],
   "source": [
    "from datetime import datetime\n",
    "\n",
    "import polars as pl"
   ]
  },
  {
   "cell_type": "code",
   "execution_count": null,
   "id": "ba22a77a",
   "metadata": {},
   "outputs": [],
   "source": [
    "df = pl.read_csv('docs/src/data/apleStock.csv', try_parse_dates=True)\n",
    "df = df.sort('Date')\n",
    "df"
   ]
  },
  {
   "cell_type": "code",
   "execution_count": null,
   "id": "a13f842a",
   "metadata": {},
   "outputs": [],
   "source": [
    "annual_mean = (\n",
    "    df.groupby_dynamic('Date', every='1yr').agg(pl.col('Close').mean()))\n",
    "annual_mean = (\n",
    "    annual_mean.with_columns(pl.col('Date').dt.year().alias('year')))"
   ]
  },
  {
   "cell_type": "code",
   "execution_count": 5,
   "id": "b525aef3",
   "metadata": {},
   "outputs": [
    {
     "data": {
      "text/html": [
       "<div><style>\n",
       ".dataframe > thead > tr > th,\n",
       ".dataframe > tbody > tr > td {\n",
       "  text-align: right;\n",
       "}\n",
       "</style>\n",
       "<small>shape: (5, 1)</small><table border=\"1\" class=\"dataframe\"><thead><tr><th>time</th></tr><tr><td>datetime[μs]</td></tr></thead><tbody><tr><td>2021-01-01 00:00:00</td></tr><tr><td>2021-01-02 00:00:00</td></tr><tr><td>2021-01-03 00:00:00</td></tr><tr><td>2021-01-04 00:00:00</td></tr><tr><td>2021-01-05 00:00:00</td></tr></tbody></table></div>"
      ],
      "text/plain": [
       "shape: (5, 1)\n",
       "┌─────────────────────┐\n",
       "│ time                │\n",
       "│ ---                 │\n",
       "│ datetime[μs]        │\n",
       "╞═════════════════════╡\n",
       "│ 2021-01-01 00:00:00 │\n",
       "│ 2021-01-02 00:00:00 │\n",
       "│ 2021-01-03 00:00:00 │\n",
       "│ 2021-01-04 00:00:00 │\n",
       "│ 2021-01-05 00:00:00 │\n",
       "└─────────────────────┘"
      ]
     },
     "execution_count": 5,
     "metadata": {},
     "output_type": "execute_result"
    }
   ],
   "source": [
    "df = (\n",
    "    pl\n",
    "    .date_range(\n",
    "        start=datetime(2021, 1, 1),\n",
    "        end=datetime(2021, 12, 31),\n",
    "        interval='1d',\n",
    "        eager=True)\n",
    "    .alias('time')\n",
    "    .to_frame())\n",
    "df.head()"
   ]
  },
  {
   "cell_type": "code",
   "execution_count": 6,
   "id": "4b7e7c76",
   "metadata": {},
   "outputs": [
    {
     "data": {
      "text/html": [
       "<div><style>\n",
       ".dataframe > thead > tr > th,\n",
       ".dataframe > tbody > tr > td {\n",
       "  text-align: right;\n",
       "}\n",
       "</style>\n",
       "<small>shape: (36, 3)</small><table border=\"1\" class=\"dataframe\"><thead><tr><th>time</th><th>days_left_in_mo</th><th>days_in_mo</th></tr><tr><td>datetime[μs]</td><td>u32</td><td>i64</td></tr></thead><tbody><tr><td>2021-01-01 00:00:00</td><td>30</td><td>31</td></tr><tr><td>2021-01-01 00:00:00</td><td>29</td><td>31</td></tr><tr><td>2021-01-01 00:00:00</td><td>28</td><td>31</td></tr><tr><td>2021-02-01 00:00:00</td><td>27</td><td>28</td></tr><tr><td>2021-02-01 00:00:00</td><td>26</td><td>28</td></tr><tr><td>2021-02-01 00:00:00</td><td>25</td><td>28</td></tr><tr><td>2021-03-01 00:00:00</td><td>30</td><td>31</td></tr><tr><td>2021-03-01 00:00:00</td><td>29</td><td>31</td></tr><tr><td>2021-03-01 00:00:00</td><td>28</td><td>31</td></tr><tr><td>2021-04-01 00:00:00</td><td>29</td><td>30</td></tr><tr><td>2021-04-01 00:00:00</td><td>28</td><td>30</td></tr><tr><td>2021-04-01 00:00:00</td><td>27</td><td>30</td></tr><tr><td>&hellip;</td><td>&hellip;</td><td>&hellip;</td></tr><tr><td>2021-09-01 00:00:00</td><td>29</td><td>30</td></tr><tr><td>2021-09-01 00:00:00</td><td>28</td><td>30</td></tr><tr><td>2021-09-01 00:00:00</td><td>27</td><td>30</td></tr><tr><td>2021-10-01 00:00:00</td><td>30</td><td>31</td></tr><tr><td>2021-10-01 00:00:00</td><td>29</td><td>31</td></tr><tr><td>2021-10-01 00:00:00</td><td>28</td><td>31</td></tr><tr><td>2021-11-01 00:00:00</td><td>29</td><td>30</td></tr><tr><td>2021-11-01 00:00:00</td><td>28</td><td>30</td></tr><tr><td>2021-11-01 00:00:00</td><td>27</td><td>30</td></tr><tr><td>2021-12-01 00:00:00</td><td>30</td><td>31</td></tr><tr><td>2021-12-01 00:00:00</td><td>29</td><td>31</td></tr><tr><td>2021-12-01 00:00:00</td><td>28</td><td>31</td></tr></tbody></table></div>"
      ],
      "text/plain": [
       "shape: (36, 3)\n",
       "┌─────────────────────┬─────────────────┬────────────┐\n",
       "│ time                ┆ days_left_in_mo ┆ days_in_mo │\n",
       "│ ---                 ┆ ---             ┆ ---        │\n",
       "│ datetime[μs]        ┆ u32             ┆ i64        │\n",
       "╞═════════════════════╪═════════════════╪════════════╡\n",
       "│ 2021-01-01 00:00:00 ┆ 30              ┆ 31         │\n",
       "│ 2021-01-01 00:00:00 ┆ 29              ┆ 31         │\n",
       "│ 2021-01-01 00:00:00 ┆ 28              ┆ 31         │\n",
       "│ 2021-02-01 00:00:00 ┆ 27              ┆ 28         │\n",
       "│ …                   ┆ …               ┆ …          │\n",
       "│ 2021-11-01 00:00:00 ┆ 27              ┆ 30         │\n",
       "│ 2021-12-01 00:00:00 ┆ 30              ┆ 31         │\n",
       "│ 2021-12-01 00:00:00 ┆ 29              ┆ 31         │\n",
       "│ 2021-12-01 00:00:00 ┆ 28              ┆ 31         │\n",
       "└─────────────────────┴─────────────────┴────────────┘"
      ]
     },
     "execution_count": 6,
     "metadata": {},
     "output_type": "execute_result"
    }
   ],
   "source": [
    "(df\n",
    " .groupby_dynamic('time', every='1mo', period='1mo', closed='left')\n",
    " .agg([\n",
    "     pl\n",
    "     .col('time')\n",
    "     .cumcount()\n",
    "     .reverse()\n",
    "     .head(3)\n",
    "     .alias('days_left_in_mo'),\n",
    "     ((pl.col('time') - pl.col('time').first()).last().dt.days() + 1)\n",
    "     .alias('days_in_mo')])\n",
    " .explode('days_left_in_mo'))"
   ]
  },
  {
   "cell_type": "code",
   "execution_count": null,
   "id": "76b8fd41",
   "metadata": {},
   "outputs": [],
   "source": []
  }
 ],
 "metadata": {
  "kernelspec": {
   "display_name": "Python 3 (ipykernel)",
   "language": "python",
   "name": "python3"
  },
  "language_info": {
   "codemirror_mode": {
    "name": "ipython",
    "version": 3
   },
   "file_extension": ".py",
   "mimetype": "text/x-python",
   "name": "python",
   "nbconvert_exporter": "python",
   "pygments_lexer": "ipython3",
   "version": "3.11.3"
  }
 },
 "nbformat": 4,
 "nbformat_minor": 5
}
