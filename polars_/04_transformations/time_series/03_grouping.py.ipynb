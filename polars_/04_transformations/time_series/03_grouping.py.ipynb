{
 "cells": [
  {
   "cell_type": "code",
   "execution_count": 1,
   "id": "7eb2d3bf",
   "metadata": {},
   "outputs": [],
   "source": [
    "import polars as pl"
   ]
  },
  {
   "cell_type": "code",
   "execution_count": null,
   "id": "ba22a77a",
   "metadata": {},
   "outputs": [],
   "source": [
    "df = pl.read_csv('docs/src/data/apleStock.csv', try_parse_dates=True)\n",
    "df = df.sort('Date')\n",
    "df"
   ]
  },
  {
   "cell_type": "code",
   "execution_count": null,
   "id": "a13f842a",
   "metadata": {},
   "outputs": [],
   "source": [
    "annual_mean = (\n",
    "    df.groupby_dynamic('Date', every='1yr').agg(pl.col('Close').mean()))\n",
    "annual_mean = (\n",
    "    annual_mean.with_columns(pl.col('Date').dt.year().alias('year')))"
   ]
  },
  {
   "cell_type": "code",
   "execution_count": null,
   "id": "b525aef3",
   "metadata": {},
   "outputs": [],
   "source": []
  }
 ],
 "metadata": {
  "kernelspec": {
   "display_name": "Python 3 (ipykernel)",
   "language": "python",
   "name": "python3"
  },
  "language_info": {
   "codemirror_mode": {
    "name": "ipython",
    "version": 3
   },
   "file_extension": ".py",
   "mimetype": "text/x-python",
   "name": "python",
   "nbconvert_exporter": "python",
   "pygments_lexer": "ipython3",
   "version": "3.11.3"
  }
 },
 "nbformat": 4,
 "nbformat_minor": 5
}
