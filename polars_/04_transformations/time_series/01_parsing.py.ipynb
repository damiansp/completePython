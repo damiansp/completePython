{
 "cells": [
  {
   "cell_type": "code",
   "execution_count": 2,
   "id": "d053f234",
   "metadata": {},
   "outputs": [],
   "source": [
    "import polars as pl"
   ]
  },
  {
   "cell_type": "code",
   "execution_count": null,
   "id": "a9996b5e",
   "metadata": {},
   "outputs": [],
   "source": [
    "df = pl.read_csv('docs/src/data/appleStock.csv', try_parse_dates=True)"
   ]
  },
  {
   "cell_type": "code",
   "execution_count": null,
   "id": "412bb36f",
   "metadata": {},
   "outputs": [],
   "source": [
    "df = pl.read_csv('docs/src/data/appleStock.csv', try_parse_dates=False)\n",
    "df = df.with_columns(\n",
    "    pl.col('Date').str.strptime(pl.Date, format='%Y-%m-%d'))"
   ]
  },
  {
   "cell_type": "code",
   "execution_count": null,
   "id": "a16f72ee",
   "metadata": {},
   "outputs": [],
   "source": [
    "df = df.with_columns(pl.col('Date').dt.year().alias('year'))"
   ]
  },
  {
   "cell_type": "code",
   "execution_count": 4,
   "id": "256c0ec8",
   "metadata": {},
   "outputs": [
    {
     "name": "stderr",
     "output_type": "stream",
     "text": [
      "/var/folders/41/jhvt_zmd3nz3x5jsqblr221r0000gn/T/ipykernel_86366/2002090001.py:9: DeprecationWarning: The `utc` argument is now a no-op and has no effect. You can safely remove it. Offset-naive strings are parsed as ``pl.Datetime(time_unit)``, and offset-aware strings are converted to ``pl.Datetime(time_unit, \"UTC\")``.\n",
      "  .strptime(pl.Datetime, format='%Y-%m-%dT%H:%M:%S%z', utc=True)\n"
     ]
    },
    {
     "data": {
      "text/html": [
       "<div><style>\n",
       ".dataframe > thead > tr > th,\n",
       ".dataframe > tbody > tr > td {\n",
       "  text-align: right;\n",
       "}\n",
       "</style>\n",
       "<small>shape: (4,)</small><table border=\"1\" class=\"dataframe\"><thead><tr><th></th></tr><tr><td>datetime[μs, Europe/Brussels]</td></tr></thead><tbody><tr><td>2021-03-27 00:00:00 CET</td></tr><tr><td>2021-03-28 00:00:00 CET</td></tr><tr><td>2021-03-29 00:00:00 CEST</td></tr><tr><td>2021-03-30 00:00:00 CEST</td></tr></tbody></table></div>"
      ],
      "text/plain": [
       "shape: (4,)\n",
       "Series: '' [datetime[μs, Europe/Brussels]]\n",
       "[\n",
       "\t2021-03-27 00:00:00 CET\n",
       "\t2021-03-28 00:00:00 CET\n",
       "\t2021-03-29 00:00:00 CEST\n",
       "\t2021-03-30 00:00:00 CEST\n",
       "]"
      ]
     },
     "execution_count": 4,
     "metadata": {},
     "output_type": "execute_result"
    }
   ],
   "source": [
    "data = [\n",
    "    '2021-03-27T00:00:00+0100',\n",
    "    '2021-03-28T00:00:00+0100',\n",
    "    '2021-03-29T00:00:00+0200',\n",
    "    '2021-03-30T00:00:00+0200']\n",
    "mixed_parsed = (\n",
    "    pl.Series(data)\n",
    "    .str\n",
    "    .strptime(pl.Datetime, format='%Y-%m-%dT%H:%M:%S%z', utc=True)\n",
    "    .dt\n",
    "    .convert_time_zone('Europe/Brussels'))\n",
    "mixed_parsed"
   ]
  },
  {
   "cell_type": "code",
   "execution_count": null,
   "id": "24f18541",
   "metadata": {},
   "outputs": [],
   "source": []
  }
 ],
 "metadata": {
  "kernelspec": {
   "display_name": "Python 3 (ipykernel)",
   "language": "python",
   "name": "python3"
  },
  "language_info": {
   "codemirror_mode": {
    "name": "ipython",
    "version": 3
   },
   "file_extension": ".py",
   "mimetype": "text/x-python",
   "name": "python",
   "nbconvert_exporter": "python",
   "pygments_lexer": "ipython3",
   "version": "3.11.3"
  }
 },
 "nbformat": 4,
 "nbformat_minor": 5
}
