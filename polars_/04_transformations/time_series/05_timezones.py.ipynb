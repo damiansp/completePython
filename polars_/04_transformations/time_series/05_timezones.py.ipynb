{
 "cells": [
  {
   "cell_type": "code",
   "execution_count": 1,
   "id": "fabfd0d0",
   "metadata": {},
   "outputs": [],
   "source": [
    "import polars as pl"
   ]
  },
  {
   "cell_type": "code",
   "execution_count": 2,
   "id": "fc5dc6cd",
   "metadata": {},
   "outputs": [
    {
     "data": {
      "text/html": [
       "<div><style>\n",
       ".dataframe > thead > tr > th,\n",
       ".dataframe > tbody > tr > td {\n",
       "  text-align: right;\n",
       "}\n",
       "</style>\n",
       "<small>shape: (2, 2)</small><table border=\"1\" class=\"dataframe\"><thead><tr><th>tz_naive</th><th>tz_aware</th></tr><tr><td>datetime[μs]</td><td>datetime[μs, UTC]</td></tr></thead><tbody><tr><td>2021-03-27 03:00:00</td><td>2021-03-27 03:00:00 UTC</td></tr><tr><td>2021-03-28 03:00:00</td><td>2021-03-28 03:00:00 UTC</td></tr></tbody></table></div>"
      ],
      "text/plain": [
       "shape: (2, 2)\n",
       "┌─────────────────────┬─────────────────────────┐\n",
       "│ tz_naive            ┆ tz_aware                │\n",
       "│ ---                 ┆ ---                     │\n",
       "│ datetime[μs]        ┆ datetime[μs, UTC]       │\n",
       "╞═════════════════════╪═════════════════════════╡\n",
       "│ 2021-03-27 03:00:00 ┆ 2021-03-27 03:00:00 UTC │\n",
       "│ 2021-03-28 03:00:00 ┆ 2021-03-28 03:00:00 UTC │\n",
       "└─────────────────────┴─────────────────────────┘"
      ]
     },
     "execution_count": 2,
     "metadata": {},
     "output_type": "execute_result"
    }
   ],
   "source": [
    "ts = ['2021-03-27 03:00', '2021-03-28 03:00']\n",
    "tz_naive = pl.Series('tz_naive', ts).str.strptime(pl.Datetime)\n",
    "tz_aware = tz_naive.dt.replace_time_zone('UTC').rename('tz_aware')\n",
    "tz_df = pl.DataFrame([tz_naive, tz_aware])\n",
    "tz_df"
   ]
  },
  {
   "cell_type": "code",
   "execution_count": 4,
   "id": "5246dcb5",
   "metadata": {},
   "outputs": [
    {
     "data": {
      "text/html": [
       "<div><style>\n",
       ".dataframe > thead > tr > th,\n",
       ".dataframe > tbody > tr > td {\n",
       "  text-align: right;\n",
       "}\n",
       "</style>\n",
       "<small>shape: (2, 3)</small><table border=\"1\" class=\"dataframe\"><thead><tr><th>Brussels</th><th>Kathmandu</th><th>naive_again</th></tr><tr><td>datetime[μs, Europe/Brussels]</td><td>datetime[μs, Asia/Kathmandu]</td><td>datetime[μs]</td></tr></thead><tbody><tr><td>2021-03-27 03:00:00 CET</td><td>2021-03-27 08:45:00 +0545</td><td>2021-03-27 03:00:00</td></tr><tr><td>2021-03-28 03:00:00 CEST</td><td>2021-03-28 08:45:00 +0545</td><td>2021-03-28 03:00:00</td></tr></tbody></table></div>"
      ],
      "text/plain": [
       "shape: (2, 3)\n",
       "┌───────────────────────────────┬──────────────────────────────┬─────────────────────┐\n",
       "│ Brussels                      ┆ Kathmandu                    ┆ naive_again         │\n",
       "│ ---                           ┆ ---                          ┆ ---                 │\n",
       "│ datetime[μs, Europe/Brussels] ┆ datetime[μs, Asia/Kathmandu] ┆ datetime[μs]        │\n",
       "╞═══════════════════════════════╪══════════════════════════════╪═════════════════════╡\n",
       "│ 2021-03-27 03:00:00 CET       ┆ 2021-03-27 08:45:00 +0545    ┆ 2021-03-27 03:00:00 │\n",
       "│ 2021-03-28 03:00:00 CEST      ┆ 2021-03-28 08:45:00 +0545    ┆ 2021-03-28 03:00:00 │\n",
       "└───────────────────────────────┴──────────────────────────────┴─────────────────────┘"
      ]
     },
     "execution_count": 4,
     "metadata": {},
     "output_type": "execute_result"
    }
   ],
   "source": [
    "tz_ops = tz_df.select([\n",
    "    (pl\n",
    "     .col('tz_aware')\n",
    "     .dt.replace_time_zone('Europe/Brussels')\n",
    "     .alias('Brussels')),\n",
    "    (pl\n",
    "     .col('tz_aware')\n",
    "     .dt.convert_time_zone('Asia/Kathmandu')\n",
    "     .alias('Kathmandu')),\n",
    "    pl.col('tz_aware').dt.replace_time_zone(None).alias('naive_again')])\n",
    "tz_ops"
   ]
  },
  {
   "cell_type": "code",
   "execution_count": null,
   "id": "5980a3df",
   "metadata": {},
   "outputs": [],
   "source": []
  }
 ],
 "metadata": {
  "kernelspec": {
   "display_name": "Python 3 (ipykernel)",
   "language": "python",
   "name": "python3"
  },
  "language_info": {
   "codemirror_mode": {
    "name": "ipython",
    "version": 3
   },
   "file_extension": ".py",
   "mimetype": "text/x-python",
   "name": "python",
   "nbconvert_exporter": "python",
   "pygments_lexer": "ipython3",
   "version": "3.11.3"
  }
 },
 "nbformat": 4,
 "nbformat_minor": 5
}
