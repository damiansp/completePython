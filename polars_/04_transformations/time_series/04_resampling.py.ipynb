{
 "cells": [
  {
   "cell_type": "code",
   "execution_count": 1,
   "id": "d375005d",
   "metadata": {},
   "outputs": [],
   "source": [
    "from datetime import datetime\n",
    "\n",
    "import polars as pl"
   ]
  },
  {
   "cell_type": "code",
   "execution_count": 5,
   "id": "98349522",
   "metadata": {},
   "outputs": [
    {
     "data": {
      "text/html": [
       "<div><style>\n",
       ".dataframe > thead > tr > th,\n",
       ".dataframe > tbody > tr > td {\n",
       "  text-align: right;\n",
       "}\n",
       "</style>\n",
       "<small>shape: (7, 3)</small><table border=\"1\" class=\"dataframe\"><thead><tr><th>time</th><th>groups</th><th>values</th></tr><tr><td>datetime[μs]</td><td>str</td><td>f64</td></tr></thead><tbody><tr><td>2021-12-16 00:00:00</td><td>&quot;a&quot;</td><td>1.0</td></tr><tr><td>2021-12-16 00:30:00</td><td>&quot;a&quot;</td><td>2.0</td></tr><tr><td>2021-12-16 01:00:00</td><td>&quot;a&quot;</td><td>3.0</td></tr><tr><td>2021-12-16 01:30:00</td><td>&quot;b&quot;</td><td>4.0</td></tr><tr><td>2021-12-16 02:00:00</td><td>&quot;b&quot;</td><td>5.0</td></tr><tr><td>2021-12-16 02:30:00</td><td>&quot;a&quot;</td><td>6.0</td></tr><tr><td>2021-12-16 03:00:00</td><td>&quot;a&quot;</td><td>7.0</td></tr></tbody></table></div>"
      ],
      "text/plain": [
       "shape: (7, 3)\n",
       "┌─────────────────────┬────────┬────────┐\n",
       "│ time                ┆ groups ┆ values │\n",
       "│ ---                 ┆ ---    ┆ ---    │\n",
       "│ datetime[μs]        ┆ str    ┆ f64    │\n",
       "╞═════════════════════╪════════╪════════╡\n",
       "│ 2021-12-16 00:00:00 ┆ a      ┆ 1.0    │\n",
       "│ 2021-12-16 00:30:00 ┆ a      ┆ 2.0    │\n",
       "│ 2021-12-16 01:00:00 ┆ a      ┆ 3.0    │\n",
       "│ 2021-12-16 01:30:00 ┆ b      ┆ 4.0    │\n",
       "│ 2021-12-16 02:00:00 ┆ b      ┆ 5.0    │\n",
       "│ 2021-12-16 02:30:00 ┆ a      ┆ 6.0    │\n",
       "│ 2021-12-16 03:00:00 ┆ a      ┆ 7.0    │\n",
       "└─────────────────────┴────────┴────────┘"
      ]
     },
     "execution_count": 5,
     "metadata": {},
     "output_type": "execute_result"
    }
   ],
   "source": [
    "df = pl.DataFrame({\n",
    "    'time': pl.date_range(\n",
    "        start=datetime(2021, 12, 16),\n",
    "        end=datetime(2021, 12, 16, 3),\n",
    "        interval='30m',\n",
    "        eager=True),\n",
    "    'groups': list('aaabbaa'),\n",
    "    'values': [float(x) for x in list(range(1, 8))]})\n",
    "\n",
    "df"
   ]
  },
  {
   "cell_type": "code",
   "execution_count": 6,
   "id": "186bde23",
   "metadata": {},
   "outputs": [
    {
     "data": {
      "text/html": [
       "<div><style>\n",
       ".dataframe > thead > tr > th,\n",
       ".dataframe > tbody > tr > td {\n",
       "  text-align: right;\n",
       "}\n",
       "</style>\n",
       "<small>shape: (13, 3)</small><table border=\"1\" class=\"dataframe\"><thead><tr><th>time</th><th>groups</th><th>values</th></tr><tr><td>datetime[μs]</td><td>str</td><td>f64</td></tr></thead><tbody><tr><td>2021-12-16 00:00:00</td><td>&quot;a&quot;</td><td>1.0</td></tr><tr><td>2021-12-16 00:15:00</td><td>&quot;a&quot;</td><td>1.0</td></tr><tr><td>2021-12-16 00:30:00</td><td>&quot;a&quot;</td><td>2.0</td></tr><tr><td>2021-12-16 00:45:00</td><td>&quot;a&quot;</td><td>2.0</td></tr><tr><td>2021-12-16 01:00:00</td><td>&quot;a&quot;</td><td>3.0</td></tr><tr><td>2021-12-16 01:15:00</td><td>&quot;a&quot;</td><td>3.0</td></tr><tr><td>2021-12-16 01:30:00</td><td>&quot;b&quot;</td><td>4.0</td></tr><tr><td>2021-12-16 01:45:00</td><td>&quot;b&quot;</td><td>4.0</td></tr><tr><td>2021-12-16 02:00:00</td><td>&quot;b&quot;</td><td>5.0</td></tr><tr><td>2021-12-16 02:15:00</td><td>&quot;b&quot;</td><td>5.0</td></tr><tr><td>2021-12-16 02:30:00</td><td>&quot;a&quot;</td><td>6.0</td></tr><tr><td>2021-12-16 02:45:00</td><td>&quot;a&quot;</td><td>6.0</td></tr><tr><td>2021-12-16 03:00:00</td><td>&quot;a&quot;</td><td>7.0</td></tr></tbody></table></div>"
      ],
      "text/plain": [
       "shape: (13, 3)\n",
       "┌─────────────────────┬────────┬────────┐\n",
       "│ time                ┆ groups ┆ values │\n",
       "│ ---                 ┆ ---    ┆ ---    │\n",
       "│ datetime[μs]        ┆ str    ┆ f64    │\n",
       "╞═════════════════════╪════════╪════════╡\n",
       "│ 2021-12-16 00:00:00 ┆ a      ┆ 1.0    │\n",
       "│ 2021-12-16 00:15:00 ┆ a      ┆ 1.0    │\n",
       "│ 2021-12-16 00:30:00 ┆ a      ┆ 2.0    │\n",
       "│ 2021-12-16 00:45:00 ┆ a      ┆ 2.0    │\n",
       "│ …                   ┆ …      ┆ …      │\n",
       "│ 2021-12-16 02:15:00 ┆ b      ┆ 5.0    │\n",
       "│ 2021-12-16 02:30:00 ┆ a      ┆ 6.0    │\n",
       "│ 2021-12-16 02:45:00 ┆ a      ┆ 6.0    │\n",
       "│ 2021-12-16 03:00:00 ┆ a      ┆ 7.0    │\n",
       "└─────────────────────┴────────┴────────┘"
      ]
     },
     "execution_count": 6,
     "metadata": {},
     "output_type": "execute_result"
    }
   ],
   "source": [
    "(df\n",
    " .upsample(time_column='time', every='15m')\n",
    " .fill_null(strategy='forward'))"
   ]
  },
  {
   "cell_type": "code",
   "execution_count": 7,
   "id": "1d6d2851",
   "metadata": {},
   "outputs": [
    {
     "data": {
      "text/html": [
       "<div><style>\n",
       ".dataframe > thead > tr > th,\n",
       ".dataframe > tbody > tr > td {\n",
       "  text-align: right;\n",
       "}\n",
       "</style>\n",
       "<small>shape: (13, 3)</small><table border=\"1\" class=\"dataframe\"><thead><tr><th>time</th><th>groups</th><th>values</th></tr><tr><td>datetime[μs]</td><td>str</td><td>f64</td></tr></thead><tbody><tr><td>2021-12-16 00:00:00</td><td>&quot;a&quot;</td><td>1.0</td></tr><tr><td>2021-12-16 00:15:00</td><td>&quot;a&quot;</td><td>1.5</td></tr><tr><td>2021-12-16 00:30:00</td><td>&quot;a&quot;</td><td>2.0</td></tr><tr><td>2021-12-16 00:45:00</td><td>&quot;a&quot;</td><td>2.5</td></tr><tr><td>2021-12-16 01:00:00</td><td>&quot;a&quot;</td><td>3.0</td></tr><tr><td>2021-12-16 01:15:00</td><td>&quot;a&quot;</td><td>3.5</td></tr><tr><td>2021-12-16 01:30:00</td><td>&quot;b&quot;</td><td>4.0</td></tr><tr><td>2021-12-16 01:45:00</td><td>&quot;b&quot;</td><td>4.5</td></tr><tr><td>2021-12-16 02:00:00</td><td>&quot;b&quot;</td><td>5.0</td></tr><tr><td>2021-12-16 02:15:00</td><td>&quot;b&quot;</td><td>5.5</td></tr><tr><td>2021-12-16 02:30:00</td><td>&quot;a&quot;</td><td>6.0</td></tr><tr><td>2021-12-16 02:45:00</td><td>&quot;a&quot;</td><td>6.5</td></tr><tr><td>2021-12-16 03:00:00</td><td>&quot;a&quot;</td><td>7.0</td></tr></tbody></table></div>"
      ],
      "text/plain": [
       "shape: (13, 3)\n",
       "┌─────────────────────┬────────┬────────┐\n",
       "│ time                ┆ groups ┆ values │\n",
       "│ ---                 ┆ ---    ┆ ---    │\n",
       "│ datetime[μs]        ┆ str    ┆ f64    │\n",
       "╞═════════════════════╪════════╪════════╡\n",
       "│ 2021-12-16 00:00:00 ┆ a      ┆ 1.0    │\n",
       "│ 2021-12-16 00:15:00 ┆ a      ┆ 1.5    │\n",
       "│ 2021-12-16 00:30:00 ┆ a      ┆ 2.0    │\n",
       "│ 2021-12-16 00:45:00 ┆ a      ┆ 2.5    │\n",
       "│ …                   ┆ …      ┆ …      │\n",
       "│ 2021-12-16 02:15:00 ┆ b      ┆ 5.5    │\n",
       "│ 2021-12-16 02:30:00 ┆ a      ┆ 6.0    │\n",
       "│ 2021-12-16 02:45:00 ┆ a      ┆ 6.5    │\n",
       "│ 2021-12-16 03:00:00 ┆ a      ┆ 7.0    │\n",
       "└─────────────────────┴────────┴────────┘"
      ]
     },
     "execution_count": 7,
     "metadata": {},
     "output_type": "execute_result"
    }
   ],
   "source": [
    "(df\n",
    " .upsample(time_column='time', every='15m')\n",
    " .interpolate()\n",
    " .fill_null(strategy='forward'))"
   ]
  },
  {
   "cell_type": "code",
   "execution_count": null,
   "id": "a0b7a6aa",
   "metadata": {},
   "outputs": [],
   "source": []
  }
 ],
 "metadata": {
  "kernelspec": {
   "display_name": "Python 3 (ipykernel)",
   "language": "python",
   "name": "python3"
  },
  "language_info": {
   "codemirror_mode": {
    "name": "ipython",
    "version": 3
   },
   "file_extension": ".py",
   "mimetype": "text/x-python",
   "name": "python",
   "nbconvert_exporter": "python",
   "pygments_lexer": "ipython3",
   "version": "3.11.3"
  }
 },
 "nbformat": 4,
 "nbformat_minor": 5
}
