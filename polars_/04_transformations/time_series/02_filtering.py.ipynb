{
 "cells": [
  {
   "cell_type": "code",
   "execution_count": 1,
   "id": "2fbee9c0",
   "metadata": {},
   "outputs": [],
   "source": [
    "from datetime import datetime\n",
    "\n",
    "import polars as pl"
   ]
  },
  {
   "cell_type": "code",
   "execution_count": null,
   "id": "e5ab592a",
   "metadata": {},
   "outputs": [],
   "source": [
    "df = pl.read_csv('docs/src/data/appleStock.csv', try_parse_dates=True)\n",
    "df.filter(pl.col('Date') == datetime.fromisoformat('1995-10-16'))"
   ]
  },
  {
   "cell_type": "code",
   "execution_count": null,
   "id": "5fa02894",
   "metadata": {},
   "outputs": [],
   "source": [
    "df.filter(\n",
    "    pl.col('Date')\n",
    "    .is_between(datetime.fromisoformat('1995-07-01'), datetime.fromisoformat('1995-11-01')))"
   ]
  },
  {
   "cell_type": "code",
   "execution_count": 2,
   "id": "655e18dc",
   "metadata": {},
   "outputs": [
    {
     "name": "stdout",
     "output_type": "stream",
     "text": [
      "shape: (1, 2)\n",
      "┌─────────────┬────────┐\n",
      "│ ts          ┆ values │\n",
      "│ ---         ┆ ---    │\n",
      "│ date        ┆ i64    │\n",
      "╞═════════════╪════════╡\n",
      "│ -1400-03-02 ┆ 4      │\n",
      "└─────────────┴────────┘\n"
     ]
    }
   ],
   "source": [
    "ts = pl.Series(['-1300-05-23', '-1400-03-02']).str.strptime(pl.Date)\n",
    "negative_dates_df = pl.DataFrame({'ts': ts, 'values': [3, 4]})\n",
    "\n",
    "negative_dates_filtered_df = negative_dates_df.filter(pl.col('ts').dt.year() < -1300)\n",
    "print(negative_dates_filtered_df)"
   ]
  },
  {
   "cell_type": "code",
   "execution_count": null,
   "id": "314cb6ea",
   "metadata": {},
   "outputs": [],
   "source": []
  }
 ],
 "metadata": {
  "kernelspec": {
   "display_name": "Python 3 (ipykernel)",
   "language": "python",
   "name": "python3"
  },
  "language_info": {
   "codemirror_mode": {
    "name": "ipython",
    "version": 3
   },
   "file_extension": ".py",
   "mimetype": "text/x-python",
   "name": "python",
   "nbconvert_exporter": "python",
   "pygments_lexer": "ipython3",
   "version": "3.11.3"
  }
 },
 "nbformat": 4,
 "nbformat_minor": 5
}
