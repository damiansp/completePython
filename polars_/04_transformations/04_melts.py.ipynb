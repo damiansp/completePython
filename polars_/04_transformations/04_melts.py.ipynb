{
 "cells": [
  {
   "cell_type": "code",
   "execution_count": 1,
   "id": "b08754fd",
   "metadata": {},
   "outputs": [],
   "source": [
    "import polars as pl"
   ]
  },
  {
   "cell_type": "code",
   "execution_count": 2,
   "id": "91da55f3",
   "metadata": {},
   "outputs": [
    {
     "data": {
      "text/html": [
       "<div><style>\n",
       ".dataframe > thead > tr > th,\n",
       ".dataframe > tbody > tr > td {\n",
       "  text-align: right;\n",
       "}\n",
       "</style>\n",
       "<small>shape: (3, 4)</small><table border=\"1\" class=\"dataframe\"><thead><tr><th>A</th><th>B</th><th>C</th><th>D</th></tr><tr><td>str</td><td>i64</td><td>i64</td><td>i64</td></tr></thead><tbody><tr><td>&quot;a&quot;</td><td>1</td><td>10</td><td>2</td></tr><tr><td>&quot;b&quot;</td><td>3</td><td>11</td><td>4</td></tr><tr><td>&quot;a&quot;</td><td>5</td><td>12</td><td>6</td></tr></tbody></table></div>"
      ],
      "text/plain": [
       "shape: (3, 4)\n",
       "┌─────┬─────┬─────┬─────┐\n",
       "│ A   ┆ B   ┆ C   ┆ D   │\n",
       "│ --- ┆ --- ┆ --- ┆ --- │\n",
       "│ str ┆ i64 ┆ i64 ┆ i64 │\n",
       "╞═════╪═════╪═════╪═════╡\n",
       "│ a   ┆ 1   ┆ 10  ┆ 2   │\n",
       "│ b   ┆ 3   ┆ 11  ┆ 4   │\n",
       "│ a   ┆ 5   ┆ 12  ┆ 6   │\n",
       "└─────┴─────┴─────┴─────┘"
      ]
     },
     "execution_count": 2,
     "metadata": {},
     "output_type": "execute_result"
    }
   ],
   "source": [
    "df = pl.DataFrame({\n",
    "    'A': list('aba'),\n",
    "    'B': [1, 3, 5],\n",
    "    'C': [10, 11, 12],\n",
    "    'D': [2, 4, 6]})\n",
    "df"
   ]
  },
  {
   "cell_type": "code",
   "execution_count": 3,
   "id": "789783df",
   "metadata": {},
   "outputs": [
    {
     "data": {
      "text/html": [
       "<div><style>\n",
       ".dataframe > thead > tr > th,\n",
       ".dataframe > tbody > tr > td {\n",
       "  text-align: right;\n",
       "}\n",
       "</style>\n",
       "<small>shape: (6, 4)</small><table border=\"1\" class=\"dataframe\"><thead><tr><th>A</th><th>B</th><th>variable</th><th>value</th></tr><tr><td>str</td><td>i64</td><td>str</td><td>i64</td></tr></thead><tbody><tr><td>&quot;a&quot;</td><td>1</td><td>&quot;C&quot;</td><td>10</td></tr><tr><td>&quot;b&quot;</td><td>3</td><td>&quot;C&quot;</td><td>11</td></tr><tr><td>&quot;a&quot;</td><td>5</td><td>&quot;C&quot;</td><td>12</td></tr><tr><td>&quot;a&quot;</td><td>1</td><td>&quot;D&quot;</td><td>2</td></tr><tr><td>&quot;b&quot;</td><td>3</td><td>&quot;D&quot;</td><td>4</td></tr><tr><td>&quot;a&quot;</td><td>5</td><td>&quot;D&quot;</td><td>6</td></tr></tbody></table></div>"
      ],
      "text/plain": [
       "shape: (6, 4)\n",
       "┌─────┬─────┬──────────┬───────┐\n",
       "│ A   ┆ B   ┆ variable ┆ value │\n",
       "│ --- ┆ --- ┆ ---      ┆ ---   │\n",
       "│ str ┆ i64 ┆ str      ┆ i64   │\n",
       "╞═════╪═════╪══════════╪═══════╡\n",
       "│ a   ┆ 1   ┆ C        ┆ 10    │\n",
       "│ b   ┆ 3   ┆ C        ┆ 11    │\n",
       "│ a   ┆ 5   ┆ C        ┆ 12    │\n",
       "│ a   ┆ 1   ┆ D        ┆ 2     │\n",
       "│ b   ┆ 3   ┆ D        ┆ 4     │\n",
       "│ a   ┆ 5   ┆ D        ┆ 6     │\n",
       "└─────┴─────┴──────────┴───────┘"
      ]
     },
     "execution_count": 3,
     "metadata": {},
     "output_type": "execute_result"
    }
   ],
   "source": [
    "df.melt(id_vars=['A', 'B'], value_vars=['C', 'D'])"
   ]
  },
  {
   "cell_type": "code",
   "execution_count": null,
   "id": "4dcee21c",
   "metadata": {},
   "outputs": [],
   "source": []
  }
 ],
 "metadata": {
  "kernelspec": {
   "display_name": "Python 3 (ipykernel)",
   "language": "python",
   "name": "python3"
  },
  "language_info": {
   "codemirror_mode": {
    "name": "ipython",
    "version": 3
   },
   "file_extension": ".py",
   "mimetype": "text/x-python",
   "name": "python",
   "nbconvert_exporter": "python",
   "pygments_lexer": "ipython3",
   "version": "3.11.3"
  }
 },
 "nbformat": 4,
 "nbformat_minor": 5
}
