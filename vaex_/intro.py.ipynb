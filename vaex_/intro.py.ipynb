{
 "cells": [
  {
   "cell_type": "code",
   "execution_count": 10,
   "id": "85872c08",
   "metadata": {},
   "outputs": [],
   "source": [
    "import ssl\n",
    "\n",
    "import numpy as np\n",
    "import vaex\n",
    "\n",
    "ssl_context = ssl._create_unverified_context()"
   ]
  },
  {
   "cell_type": "code",
   "execution_count": 7,
   "id": "595f2505",
   "metadata": {},
   "outputs": [
    {
     "data": {
      "text/html": [
       "<table>\n",
       "<thead>\n",
       "<tr><th>#                                  </th><th>id  </th><th>x           </th><th>y          </th><th>z          </th><th>vx        </th><th>vy         </th><th>vz        </th><th>E         </th><th>L        </th><th>Lz        </th><th>FeH       </th></tr>\n",
       "</thead>\n",
       "<tbody>\n",
       "<tr><td><i style='opacity: 0.6'>0</i>      </td><td>0   </td><td>1.2318684   </td><td>-0.39692867</td><td>-0.59805775</td><td>301.15527 </td><td>174.05948  </td><td>27.427546 </td><td>-149431.4 </td><td>407.38898</td><td>333.95554 </td><td>-1.0053853</td></tr>\n",
       "<tr><td><i style='opacity: 0.6'>1</i>      </td><td>23  </td><td>-0.16370061 </td><td>3.6542213  </td><td>-0.25490645</td><td>-195.00023</td><td>170.47217  </td><td>142.53023 </td><td>-124247.95</td><td>890.24115</td><td>684.6676  </td><td>-1.708667 </td></tr>\n",
       "<tr><td><i style='opacity: 0.6'>2</i>      </td><td>32  </td><td>-2.120256   </td><td>3.3260527  </td><td>1.7078403  </td><td>-48.63423 </td><td>171.6473   </td><td>-2.0794373</td><td>-138500.55</td><td>372.2411 </td><td>-202.17618</td><td>-1.8336141</td></tr>\n",
       "<tr><td><i style='opacity: 0.6'>3</i>      </td><td>8   </td><td>4.715589    </td><td>4.585251   </td><td>2.2515438  </td><td>-232.42084</td><td>-294.85083 </td><td>62.85865  </td><td>-60037.04 </td><td>1297.6304</td><td>-324.6875 </td><td>-1.4786882</td></tr>\n",
       "<tr><td><i style='opacity: 0.6'>4</i>      </td><td>16  </td><td>7.217187    </td><td>11.994717  </td><td>-1.0645622 </td><td>-1.6891745</td><td>181.32935  </td><td>-11.333611</td><td>-83206.84 </td><td>1332.799 </td><td>1328.949  </td><td>-1.8570484</td></tr>\n",
       "<tr><td>...                                </td><td>... </td><td>...         </td><td>...        </td><td>...        </td><td>...       </td><td>...        </td><td>...       </td><td>...       </td><td>...      </td><td>...       </td><td>...       </td></tr>\n",
       "<tr><td><i style='opacity: 0.6'>329,995</i></td><td>21  </td><td>1.9938701   </td><td>0.7892761  </td><td>0.2220599  </td><td>-216.9299 </td><td>16.12442   </td><td>-211.24438</td><td>-146457.44</td><td>457.72247</td><td>203.36758 </td><td>-1.7451677</td></tr>\n",
       "<tr><td><i style='opacity: 0.6'>329,996</i></td><td>25  </td><td>3.7180912   </td><td>0.7213376  </td><td>1.6415337  </td><td>-185.9216 </td><td>-117.250824</td><td>-105.49866</td><td>-126627.11</td><td>335.00256</td><td>-301.837  </td><td>-0.9822322</td></tr>\n",
       "<tr><td><i style='opacity: 0.6'>329,997</i></td><td>14  </td><td>0.36885077  </td><td>13.029609  </td><td>-3.6339347 </td><td>-53.677147</td><td>-145.15771 </td><td>76.7091   </td><td>-84912.26 </td><td>817.1376 </td><td>645.8507  </td><td>-1.7645613</td></tr>\n",
       "<tr><td><i style='opacity: 0.6'>329,998</i></td><td>18  </td><td>-0.112592645</td><td>1.4529126  </td><td>2.1689527  </td><td>179.30865 </td><td>205.7971   </td><td>-68.75873 </td><td>-133498.47</td><td>724.00024</td><td>-283.69104</td><td>-1.8808953</td></tr>\n",
       "<tr><td><i style='opacity: 0.6'>329,999</i></td><td>4   </td><td>20.79622    </td><td>-3.3313878 </td><td>12.188416  </td><td>42.690002 </td><td>69.204796  </td><td>29.542751 </td><td>-65519.33 </td><td>1843.0747</td><td>1581.4152 </td><td>-1.1231084</td></tr>\n",
       "</tbody>\n",
       "</table>"
      ],
      "text/plain": [
       "#        id    x             y            z            vx          vy           vz          E           L          Lz          FeH\n",
       "0        0     1.2318684     -0.39692867  -0.59805775  301.15527   174.05948    27.427546   -149431.4   407.38898  333.95554   -1.0053853\n",
       "1        23    -0.16370061   3.6542213    -0.25490645  -195.00023  170.47217    142.53023   -124247.95  890.24115  684.6676    -1.708667\n",
       "2        32    -2.120256     3.3260527    1.7078403    -48.63423   171.6473     -2.0794373  -138500.55  372.2411   -202.17618  -1.8336141\n",
       "3        8     4.715589      4.585251     2.2515438    -232.42084  -294.85083   62.85865    -60037.04   1297.6304  -324.6875   -1.4786882\n",
       "4        16    7.217187      11.994717    -1.0645622   -1.6891745  181.32935    -11.333611  -83206.84   1332.799   1328.949    -1.8570484\n",
       "...      ...   ...           ...          ...          ...         ...          ...         ...         ...        ...         ...\n",
       "329,995  21    1.9938701     0.7892761    0.2220599    -216.9299   16.12442     -211.24438  -146457.44  457.72247  203.36758   -1.7451677\n",
       "329,996  25    3.7180912     0.7213376    1.6415337    -185.9216   -117.250824  -105.49866  -126627.11  335.00256  -301.837    -0.9822322\n",
       "329,997  14    0.36885077    13.029609    -3.6339347   -53.677147  -145.15771   76.7091     -84912.26   817.1376   645.8507    -1.7645613\n",
       "329,998  18    -0.112592645  1.4529126    2.1689527    179.30865   205.7971     -68.75873   -133498.47  724.00024  -283.69104  -1.8808953\n",
       "329,999  4     20.79622      -3.3313878   12.188416    42.690002   69.204796    29.542751   -65519.33   1843.0747  1581.4152   -1.1231084"
      ]
     },
     "execution_count": 7,
     "metadata": {},
     "output_type": "execute_result"
    }
   ],
   "source": [
    "df = vaex.example()\n",
    "df"
   ]
  },
  {
   "cell_type": "code",
   "execution_count": 8,
   "id": "8b06df10",
   "metadata": {},
   "outputs": [
    {
     "data": {
      "text/plain": [
       "Expression = x\n",
       "Length: 330,000 dtype: float32 (column)\n",
       "---------------------------------------\n",
       "     0    1.23187\n",
       "     1  -0.163701\n",
       "     2   -2.12026\n",
       "     3    4.71559\n",
       "     4    7.21719\n",
       "       ...       \n",
       "329995    1.99387\n",
       "329996    3.71809\n",
       "329997   0.368851\n",
       "329998  -0.112593\n",
       "329999    20.7962"
      ]
     },
     "execution_count": 8,
     "metadata": {},
     "output_type": "execute_result"
    }
   ],
   "source": [
    "df.x"
   ]
  },
  {
   "cell_type": "code",
   "execution_count": 9,
   "id": "8fdd12d7",
   "metadata": {},
   "outputs": [
    {
     "data": {
      "text/plain": [
       "array([ 1.2318684 , -0.16370061, -2.120256  , ...,  0.36885077,\n",
       "       -0.11259264, 20.79622   ], dtype=float32)"
      ]
     },
     "execution_count": 9,
     "metadata": {},
     "output_type": "execute_result"
    }
   ],
   "source": [
    "df.x.values"
   ]
  },
  {
   "cell_type": "code",
   "execution_count": 11,
   "id": "425ea153",
   "metadata": {},
   "outputs": [
    {
     "data": {
      "text/plain": [
       "Expression = sqrt((((x ** 2) + (y ** 2)) + (z ** 2)))\n",
       "Length: 330,000 dtype: float32 (expression)\n",
       "-------------------------------------------\n",
       "     0  1.42574\n",
       "     1  3.66676\n",
       "     2  4.29824\n",
       "     3  6.95203\n",
       "     4   14.039\n",
       "      ...      \n",
       "329995  2.15587\n",
       "329996  4.12785\n",
       "329997  13.5319\n",
       "329998  2.61304\n",
       "329999  24.3339"
      ]
     },
     "execution_count": 11,
     "metadata": {},
     "output_type": "execute_result"
    }
   ],
   "source": [
    "np.sqrt(df.x ** 2 + df.y ** 2 + df.z ** 2)"
   ]
  },
  {
   "cell_type": "code",
   "execution_count": 12,
   "id": "c3061e35",
   "metadata": {},
   "outputs": [
    {
     "data": {
      "text/html": [
       "<table>\n",
       "<thead>\n",
       "<tr><th>#                                  </th><th>x           </th><th>y          </th><th>z          </th><th>r        </th></tr>\n",
       "</thead>\n",
       "<tbody>\n",
       "<tr><td><i style='opacity: 0.6'>0</i>      </td><td>1.2318684   </td><td>-0.39692867</td><td>-0.59805775</td><td>1.4257367</td></tr>\n",
       "<tr><td><i style='opacity: 0.6'>1</i>      </td><td>-0.16370061 </td><td>3.6542213  </td><td>-0.25490645</td><td>3.6667573</td></tr>\n",
       "<tr><td><i style='opacity: 0.6'>2</i>      </td><td>-2.120256   </td><td>3.3260527  </td><td>1.7078403  </td><td>4.298236 </td></tr>\n",
       "<tr><td><i style='opacity: 0.6'>3</i>      </td><td>4.715589    </td><td>4.585251   </td><td>2.2515438  </td><td>6.9520326</td></tr>\n",
       "<tr><td><i style='opacity: 0.6'>4</i>      </td><td>7.217187    </td><td>11.994717  </td><td>-1.0645622 </td><td>14.039028</td></tr>\n",
       "<tr><td>...                                </td><td>...         </td><td>...        </td><td>...        </td><td>...      </td></tr>\n",
       "<tr><td><i style='opacity: 0.6'>329,995</i></td><td>1.9938701   </td><td>0.7892761  </td><td>0.2220599  </td><td>2.1558723</td></tr>\n",
       "<tr><td><i style='opacity: 0.6'>329,996</i></td><td>3.7180912   </td><td>0.7213376  </td><td>1.6415337  </td><td>4.127852 </td></tr>\n",
       "<tr><td><i style='opacity: 0.6'>329,997</i></td><td>0.36885077  </td><td>13.029609  </td><td>-3.6339347 </td><td>13.531897</td></tr>\n",
       "<tr><td><i style='opacity: 0.6'>329,998</i></td><td>-0.112592645</td><td>1.4529126  </td><td>2.1689527  </td><td>2.6130419</td></tr>\n",
       "<tr><td><i style='opacity: 0.6'>329,999</i></td><td>20.79622    </td><td>-3.3313878 </td><td>12.188416  </td><td>24.333895</td></tr>\n",
       "</tbody>\n",
       "</table>"
      ],
      "text/plain": [
       "#        x             y            z            r\n",
       "0        1.2318684     -0.39692867  -0.59805775  1.4257367\n",
       "1        -0.16370061   3.6542213    -0.25490645  3.6667573\n",
       "2        -2.120256     3.3260527    1.7078403    4.298236\n",
       "3        4.715589      4.585251     2.2515438    6.9520326\n",
       "4        7.217187      11.994717    -1.0645622   14.039028\n",
       "...      ...           ...          ...          ...\n",
       "329,995  1.9938701     0.7892761    0.2220599    2.1558723\n",
       "329,996  3.7180912     0.7213376    1.6415337    4.127852\n",
       "329,997  0.36885077    13.029609    -3.6339347   13.531897\n",
       "329,998  -0.112592645  1.4529126    2.1689527    2.6130419\n",
       "329,999  20.79622      -3.3313878   12.188416    24.333895"
      ]
     },
     "execution_count": 12,
     "metadata": {},
     "output_type": "execute_result"
    }
   ],
   "source": [
    "df['r'] = np.sqrt(df.x ** 2 + df.y ** 2 + df.z ** 2)\n",
    "df[['x', 'y', 'z', 'r']]"
   ]
  },
  {
   "cell_type": "code",
   "execution_count": 13,
   "id": "415b0356",
   "metadata": {},
   "outputs": [],
   "source": [
    "df.select(df.x < 0)"
   ]
  },
  {
   "cell_type": "code",
   "execution_count": 14,
   "id": "7ab3576a",
   "metadata": {},
   "outputs": [
    {
     "data": {
      "text/plain": [
       "array([-0.16370061, -2.120256  , -7.7843747 , ..., -8.126636  ,\n",
       "       -3.9477386 , -0.11259264], dtype=float32)"
      ]
     },
     "execution_count": 14,
     "metadata": {},
     "output_type": "execute_result"
    }
   ],
   "source": [
    "df.evaluate(df.x, selection=True)"
   ]
  },
  {
   "cell_type": "code",
   "execution_count": 15,
   "id": "f411efdf",
   "metadata": {},
   "outputs": [
    {
     "data": {
      "text/html": [
       "<table>\n",
       "<thead>\n",
       "<tr><th>#                                  </th><th>x           </th><th>y         </th><th>z          </th><th>r        </th></tr>\n",
       "</thead>\n",
       "<tbody>\n",
       "<tr><td><i style='opacity: 0.6'>0</i>      </td><td>-0.16370061 </td><td>3.6542213 </td><td>-0.25490645</td><td>3.6667573</td></tr>\n",
       "<tr><td><i style='opacity: 0.6'>1</i>      </td><td>-2.120256   </td><td>3.3260527 </td><td>1.7078403  </td><td>4.298236 </td></tr>\n",
       "<tr><td><i style='opacity: 0.6'>2</i>      </td><td>-7.7843747  </td><td>5.9897747 </td><td>-0.6826952 </td><td>9.84581  </td></tr>\n",
       "<tr><td><i style='opacity: 0.6'>3</i>      </td><td>-3.5571861  </td><td>5.413629  </td><td>0.09171557 </td><td>6.478377 </td></tr>\n",
       "<tr><td><i style='opacity: 0.6'>4</i>      </td><td>-20.81394   </td><td>-3.2946775</td><td>13.486608  </td><td>25.019264</td></tr>\n",
       "<tr><td>...                                </td><td>...         </td><td>...       </td><td>...        </td><td>...      </td></tr>\n",
       "<tr><td><i style='opacity: 0.6'>166,274</i></td><td>-2.5926425  </td><td>-2.8716717</td><td>-0.18048334</td><td>3.8730955</td></tr>\n",
       "<tr><td><i style='opacity: 0.6'>166,275</i></td><td>-0.7566012  </td><td>2.9830434 </td><td>-6.940553  </td><td>7.592251 </td></tr>\n",
       "<tr><td><i style='opacity: 0.6'>166,276</i></td><td>-8.126636   </td><td>1.1619766 </td><td>-1.6459038 </td><td>8.372658 </td></tr>\n",
       "<tr><td><i style='opacity: 0.6'>166,277</i></td><td>-3.9477386  </td><td>-3.0684903</td><td>-1.5822703 </td><td>5.2444115</td></tr>\n",
       "<tr><td><i style='opacity: 0.6'>166,278</i></td><td>-0.112592645</td><td>1.4529126 </td><td>2.1689527  </td><td>2.6130419</td></tr>\n",
       "</tbody>\n",
       "</table>"
      ],
      "text/plain": [
       "#        x             y           z            r\n",
       "0        -0.16370061   3.6542213   -0.25490645  3.6667573\n",
       "1        -2.120256     3.3260527   1.7078403    4.298236\n",
       "2        -7.7843747    5.9897747   -0.6826952   9.84581\n",
       "3        -3.5571861    5.413629    0.09171557   6.478377\n",
       "4        -20.81394     -3.2946775  13.486608    25.019264\n",
       "...      ...           ...         ...          ...\n",
       "166,274  -2.5926425    -2.8716717  -0.18048334  3.8730955\n",
       "166,275  -0.7566012    2.9830434   -6.940553    7.592251\n",
       "166,276  -8.126636     1.1619766   -1.6459038   8.372658\n",
       "166,277  -3.9477386    -3.0684903  -1.5822703   5.2444115\n",
       "166,278  -0.112592645  1.4529126   2.1689527    2.6130419"
      ]
     },
     "execution_count": 15,
     "metadata": {},
     "output_type": "execute_result"
    }
   ],
   "source": [
    "df_neg = df[df.x < 0]\n",
    "df_neg[['x', 'y', 'z', 'r']]"
   ]
  },
  {
   "cell_type": "code",
   "execution_count": null,
   "id": "db7923f2",
   "metadata": {},
   "outputs": [],
   "source": []
  }
 ],
 "metadata": {
  "kernelspec": {
   "display_name": "Python 3 (ipykernel)",
   "language": "python",
   "name": "python3"
  },
  "language_info": {
   "codemirror_mode": {
    "name": "ipython",
    "version": 3
   },
   "file_extension": ".py",
   "mimetype": "text/x-python",
   "name": "python",
   "nbconvert_exporter": "python",
   "pygments_lexer": "ipython3",
   "version": "3.8.5"
  }
 },
 "nbformat": 4,
 "nbformat_minor": 5
}
