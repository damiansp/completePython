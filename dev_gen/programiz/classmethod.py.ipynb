{
 "cells": [
  {
   "cell_type": "code",
   "execution_count": 10,
   "id": "legendary-relevance",
   "metadata": {},
   "outputs": [],
   "source": [
    "from datetime import date"
   ]
  },
  {
   "cell_type": "code",
   "execution_count": 3,
   "id": "marine-journalist",
   "metadata": {},
   "outputs": [],
   "source": [
    "class Student:\n",
    "    grades = 0\n",
    "    \n",
    "    def compute_grades(self, obtained_grades):\n",
    "        grades = obtained_grades\n",
    "        print('Obtained grades:', grades)"
   ]
  },
  {
   "cell_type": "code",
   "execution_count": 4,
   "id": "selective-determination",
   "metadata": {},
   "outputs": [
    {
     "name": "stdout",
     "output_type": "stream",
     "text": [
      "Obtained grades: 88\n"
     ]
    }
   ],
   "source": [
    "# Convert compute_grades to class method\n",
    "Student.print_grades = classmethod(Student.compute_grades)\n",
    "Student.print_grades(88)"
   ]
  },
  {
   "cell_type": "code",
   "execution_count": 6,
   "id": "nonprofit-temperature",
   "metadata": {},
   "outputs": [],
   "source": [
    "class Student:\n",
    "    grades = 0\n",
    "    \n",
    "    @classmethod\n",
    "    def print_grades(cls, obtained_grades):\n",
    "        grades = obtained_grades\n",
    "        print('Obtained grades:', grades)"
   ]
  },
  {
   "cell_type": "code",
   "execution_count": 7,
   "id": "excited-turkey",
   "metadata": {},
   "outputs": [],
   "source": [
    "class Person:\n",
    "    age = 25\n",
    "    \n",
    "    @classmethod\n",
    "    def print_age(cls):\n",
    "        print('Age:', cls.age)"
   ]
  },
  {
   "cell_type": "code",
   "execution_count": 8,
   "id": "rational-ethiopia",
   "metadata": {},
   "outputs": [
    {
     "name": "stdout",
     "output_type": "stream",
     "text": [
      "Age: 25\n"
     ]
    }
   ],
   "source": [
    "Person.print_age()"
   ]
  },
  {
   "cell_type": "code",
   "execution_count": 9,
   "id": "incoming-measurement",
   "metadata": {},
   "outputs": [
    {
     "name": "stdout",
     "output_type": "stream",
     "text": [
      "Age: 25\n"
     ]
    }
   ],
   "source": [
    "p = Person\n",
    "p.print_age()"
   ]
  },
  {
   "cell_type": "code",
   "execution_count": 11,
   "id": "finite-toolbox",
   "metadata": {},
   "outputs": [],
   "source": [
    "class Person:\n",
    "    def __init__(self, name, age):\n",
    "        self.name = name\n",
    "        self.age = age\n",
    "        \n",
    "    @classmethod\n",
    "    def from_birth_year(cls, name, birth_year):\n",
    "        return cls(name, date.today().year - birth_year)\n",
    "    \n",
    "    def display(self):\n",
    "        print(f'{self.name}\\'s age: {self.age}')"
   ]
  },
  {
   "cell_type": "code",
   "execution_count": 13,
   "id": "south-ability",
   "metadata": {},
   "outputs": [
    {
     "name": "stdout",
     "output_type": "stream",
     "text": [
      "Adam's age: 19\n"
     ]
    }
   ],
   "source": [
    "p = Person('Adam', 19)\n",
    "p.display()"
   ]
  },
  {
   "cell_type": "code",
   "execution_count": 14,
   "id": "little-theta",
   "metadata": {},
   "outputs": [
    {
     "name": "stdout",
     "output_type": "stream",
     "text": [
      "John's age: 45\n"
     ]
    }
   ],
   "source": [
    "j = Person.from_birth_year('John', 1976)\n",
    "j.display()"
   ]
  },
  {
   "cell_type": "code",
   "execution_count": 20,
   "id": "hairy-jesus",
   "metadata": {},
   "outputs": [],
   "source": [
    "class Person:\n",
    "    def __init__(self, name, age):\n",
    "        self.name = name\n",
    "        self.age = age\n",
    "        \n",
    "    @staticmethod\n",
    "    def from_fathers_age(name, father_age, diff):\n",
    "        return Person(name, father_age - diff)\n",
    "    \n",
    "    @classmethod\n",
    "    def from_birth_year(cls, name, birth_year):\n",
    "        return cls(name, date.today().year - birth_year)\n",
    "    \n",
    "    def display(self):\n",
    "        print(f'{self.name}\\'s age: {self.age}')"
   ]
  },
  {
   "cell_type": "code",
   "execution_count": 21,
   "id": "least-coach",
   "metadata": {},
   "outputs": [],
   "source": [
    "class Man(Person):\n",
    "    sex = 'Male'"
   ]
  },
  {
   "cell_type": "code",
   "execution_count": 22,
   "id": "asian-college",
   "metadata": {},
   "outputs": [
    {
     "name": "stdout",
     "output_type": "stream",
     "text": [
      "True\n"
     ]
    }
   ],
   "source": [
    "man = Man.from_birth_year('Bob', 1985)\n",
    "print(isinstance(man, Man))"
   ]
  },
  {
   "cell_type": "code",
   "execution_count": 23,
   "id": "imposed-former",
   "metadata": {},
   "outputs": [
    {
     "name": "stdout",
     "output_type": "stream",
     "text": [
      "Jimmy's age: 51\n"
     ]
    },
    {
     "data": {
      "text/plain": [
       "False"
      ]
     },
     "execution_count": 23,
     "metadata": {},
     "output_type": "execute_result"
    }
   ],
   "source": [
    "unman = Man.from_fathers_age('Jimmy', 75, 24)\n",
    "unman.display()\n",
    "isinstance(unman, Man)"
   ]
  },
  {
   "cell_type": "code",
   "execution_count": null,
   "id": "historic-script",
   "metadata": {},
   "outputs": [],
   "source": []
  }
 ],
 "metadata": {
  "kernelspec": {
   "display_name": "Python 3",
   "language": "python",
   "name": "python3"
  },
  "language_info": {
   "codemirror_mode": {
    "name": "ipython",
    "version": 3
   },
   "file_extension": ".py",
   "mimetype": "text/x-python",
   "name": "python",
   "nbconvert_exporter": "python",
   "pygments_lexer": "ipython3",
   "version": "3.8.8"
  }
 },
 "nbformat": 4,
 "nbformat_minor": 5
}
