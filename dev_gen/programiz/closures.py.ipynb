{
 "cells": [
  {
   "cell_type": "code",
   "execution_count": 1,
   "id": "quantitative-donna",
   "metadata": {},
   "outputs": [],
   "source": [
    "def print_msg(msg):\n",
    "    \n",
    "    def printer():\n",
    "        print(msg)\n",
    "        \n",
    "    printer()"
   ]
  },
  {
   "cell_type": "code",
   "execution_count": 2,
   "id": "decent-journalism",
   "metadata": {},
   "outputs": [
    {
     "name": "stdout",
     "output_type": "stream",
     "text": [
      "Howdy!\n"
     ]
    }
   ],
   "source": [
    "print_msg('Howdy!')"
   ]
  },
  {
   "cell_type": "code",
   "execution_count": 6,
   "id": "emerging-evaluation",
   "metadata": {},
   "outputs": [],
   "source": [
    "def print_msg(msg):\n",
    "    \n",
    "    def printer():\n",
    "        print(msg)\n",
    "        \n",
    "    return printer"
   ]
  },
  {
   "cell_type": "code",
   "execution_count": 7,
   "id": "operating-committee",
   "metadata": {},
   "outputs": [
    {
     "name": "stdout",
     "output_type": "stream",
     "text": [
      "Hi there!\n"
     ]
    }
   ],
   "source": [
    "anudder = print_msg('Hi there!')\n",
    "anudder()"
   ]
  },
  {
   "cell_type": "code",
   "execution_count": 8,
   "id": "first-greeting",
   "metadata": {},
   "outputs": [
    {
     "name": "stdout",
     "output_type": "stream",
     "text": [
      "Hi there!\n"
     ]
    }
   ],
   "source": [
    "anudder()"
   ]
  },
  {
   "cell_type": "code",
   "execution_count": 9,
   "id": "forward-tenant",
   "metadata": {},
   "outputs": [
    {
     "name": "stdout",
     "output_type": "stream",
     "text": [
      "Hi there!\n"
     ]
    }
   ],
   "source": [
    "del print_msg\n",
    "anudder()"
   ]
  },
  {
   "cell_type": "code",
   "execution_count": 10,
   "id": "right-cameroon",
   "metadata": {},
   "outputs": [
    {
     "ename": "NameError",
     "evalue": "name 'print_msg' is not defined",
     "output_type": "error",
     "traceback": [
      "\u001b[0;31m---------------------------------------------------------------------------\u001b[0m",
      "\u001b[0;31mNameError\u001b[0m                                 Traceback (most recent call last)",
      "\u001b[0;32m<ipython-input-10-085f242946b0>\u001b[0m in \u001b[0;36m<module>\u001b[0;34m\u001b[0m\n\u001b[0;32m----> 1\u001b[0;31m \u001b[0mprint_msg\u001b[0m\u001b[0;34m(\u001b[0m\u001b[0;34m)\u001b[0m\u001b[0;34m\u001b[0m\u001b[0;34m\u001b[0m\u001b[0m\n\u001b[0m",
      "\u001b[0;31mNameError\u001b[0m: name 'print_msg' is not defined"
     ]
    }
   ],
   "source": [
    "print_msg()"
   ]
  },
  {
   "cell_type": "code",
   "execution_count": 11,
   "id": "specialized-circulation",
   "metadata": {},
   "outputs": [],
   "source": [
    "def make_multiplier_of(n):\n",
    "    \n",
    "    def multiply(x):\n",
    "        return x * n\n",
    "    \n",
    "    return multiply"
   ]
  },
  {
   "cell_type": "code",
   "execution_count": 12,
   "id": "committed-perfume",
   "metadata": {},
   "outputs": [],
   "source": [
    "tripler = make_multiplier_of(3)\n",
    "quintupler = make_multiplier_of(5)"
   ]
  },
  {
   "cell_type": "code",
   "execution_count": 13,
   "id": "chronic-lightweight",
   "metadata": {},
   "outputs": [
    {
     "data": {
      "text/plain": [
       "(9, 21)"
      ]
     },
     "execution_count": 13,
     "metadata": {},
     "output_type": "execute_result"
    }
   ],
   "source": [
    "tripler(3), tripler(7)"
   ]
  },
  {
   "cell_type": "code",
   "execution_count": 14,
   "id": "filled-script",
   "metadata": {},
   "outputs": [
    {
     "data": {
      "text/plain": [
       "(15, 35)"
      ]
     },
     "execution_count": 14,
     "metadata": {},
     "output_type": "execute_result"
    }
   ],
   "source": [
    "quintupler(3), quintupler(7)"
   ]
  },
  {
   "cell_type": "code",
   "execution_count": 15,
   "id": "resident-credits",
   "metadata": {},
   "outputs": [],
   "source": [
    "make_multiplier_of.__closure__"
   ]
  },
  {
   "cell_type": "code",
   "execution_count": 16,
   "id": "outside-regulation",
   "metadata": {},
   "outputs": [
    {
     "data": {
      "text/plain": [
       "(<cell at 0x7f9dfa3d2c10: int object at 0x105d7fb00>,)"
      ]
     },
     "execution_count": 16,
     "metadata": {},
     "output_type": "execute_result"
    }
   ],
   "source": [
    "tripler.__closure__"
   ]
  },
  {
   "cell_type": "code",
   "execution_count": 17,
   "id": "foreign-shelter",
   "metadata": {},
   "outputs": [
    {
     "data": {
      "text/plain": [
       "3"
      ]
     },
     "execution_count": 17,
     "metadata": {},
     "output_type": "execute_result"
    }
   ],
   "source": [
    "tripler.__closure__[0].cell_contents"
   ]
  },
  {
   "cell_type": "code",
   "execution_count": 18,
   "id": "opening-german",
   "metadata": {},
   "outputs": [
    {
     "data": {
      "text/plain": [
       "5"
      ]
     },
     "execution_count": 18,
     "metadata": {},
     "output_type": "execute_result"
    }
   ],
   "source": [
    "quintupler.__closure__[0].cell_contents"
   ]
  },
  {
   "cell_type": "code",
   "execution_count": null,
   "id": "august-carrier",
   "metadata": {},
   "outputs": [],
   "source": []
  }
 ],
 "metadata": {
  "kernelspec": {
   "display_name": "Python 3",
   "language": "python",
   "name": "python3"
  },
  "language_info": {
   "codemirror_mode": {
    "name": "ipython",
    "version": 3
   },
   "file_extension": ".py",
   "mimetype": "text/x-python",
   "name": "python",
   "nbconvert_exporter": "python",
   "pygments_lexer": "ipython3",
   "version": "3.8.8"
  }
 },
 "nbformat": 4,
 "nbformat_minor": 5
}
