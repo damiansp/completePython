{
 "cells": [
  {
   "cell_type": "code",
   "execution_count": 18,
   "id": "f0936406",
   "metadata": {},
   "outputs": [],
   "source": [
    "import datetime\n",
    "import os\n",
    "import time\n",
    "\n",
    "import ibis"
   ]
  },
  {
   "cell_type": "code",
   "execution_count": 5,
   "id": "f648fdba",
   "metadata": {},
   "outputs": [],
   "source": [
    "!curl -LsS -o /tmp/geography.db \\\n",
    "    'https://storage.googleapis.com/ibis-tutorial-data/geography.db'"
   ]
  },
  {
   "cell_type": "code",
   "execution_count": 6,
   "id": "64bfd680",
   "metadata": {},
   "outputs": [
    {
     "data": {
      "text/plain": [
       "['countries', 'gdp', 'independence']"
      ]
     },
     "execution_count": 6,
     "metadata": {},
     "output_type": "execute_result"
    }
   ],
   "source": [
    "conn = ibis.sqlite.connect('/tmp/geography.db')\n",
    "conn.list_tables()"
   ]
  },
  {
   "cell_type": "code",
   "execution_count": 7,
   "id": "4b7c78a6",
   "metadata": {},
   "outputs": [],
   "source": [
    "countries = conn.table('countries')"
   ]
  },
  {
   "cell_type": "code",
   "execution_count": 8,
   "id": "5276c56a",
   "metadata": {},
   "outputs": [
    {
     "data": {
      "text/html": [
       "<div>\n",
       "<style scoped>\n",
       "    .dataframe tbody tr th:only-of-type {\n",
       "        vertical-align: middle;\n",
       "    }\n",
       "\n",
       "    .dataframe tbody tr th {\n",
       "        vertical-align: top;\n",
       "    }\n",
       "\n",
       "    .dataframe thead th {\n",
       "        text-align: right;\n",
       "    }\n",
       "</style>\n",
       "<table border=\"1\" class=\"dataframe\">\n",
       "  <thead>\n",
       "    <tr style=\"text-align: right;\">\n",
       "      <th></th>\n",
       "      <th>name</th>\n",
       "      <th>continent</th>\n",
       "      <th>population</th>\n",
       "    </tr>\n",
       "  </thead>\n",
       "  <tbody>\n",
       "    <tr>\n",
       "      <th>0</th>\n",
       "      <td>Andorra</td>\n",
       "      <td>EU</td>\n",
       "      <td>84000</td>\n",
       "    </tr>\n",
       "    <tr>\n",
       "      <th>1</th>\n",
       "      <td>United Arab Emirates</td>\n",
       "      <td>AS</td>\n",
       "      <td>4975593</td>\n",
       "    </tr>\n",
       "    <tr>\n",
       "      <th>2</th>\n",
       "      <td>Afghanistan</td>\n",
       "      <td>AS</td>\n",
       "      <td>29121286</td>\n",
       "    </tr>\n",
       "  </tbody>\n",
       "</table>\n",
       "</div>"
      ],
      "text/plain": [
       "                   name continent  population\n",
       "0               Andorra        EU       84000\n",
       "1  United Arab Emirates        AS     4975593\n",
       "2           Afghanistan        AS    29121286"
      ]
     },
     "execution_count": 8,
     "metadata": {},
     "output_type": "execute_result"
    }
   ],
   "source": [
    "ibis.options.interactive = True\n",
    "\n",
    "countries['name', 'continent', 'population'].limit(3)"
   ]
  },
  {
   "cell_type": "code",
   "execution_count": 9,
   "id": "86a9b64f",
   "metadata": {},
   "outputs": [
    {
     "data": {
      "text/plain": [
       "r0 := AlchemyTable: countries\n",
       "  iso_alpha2  string\n",
       "  iso_alpha3  string\n",
       "  iso_numeric int32\n",
       "  fips        string\n",
       "  name        string\n",
       "  capital     string\n",
       "  area_km2    float64\n",
       "  population  int32\n",
       "  continent   string\n",
       "\n",
       "r1 := Selection[r0]\n",
       "  selections:\n",
       "    name:       r0.name\n",
       "    continent:  r0.continent\n",
       "    population: r0.population\n",
       "\n",
       "Limit[r1, n=3]"
      ]
     },
     "execution_count": 9,
     "metadata": {},
     "output_type": "execute_result"
    }
   ],
   "source": [
    "ibis.options.interactive = False\n",
    "\n",
    "countries['name', 'continent', 'population'].limit(3)"
   ]
  },
  {
   "cell_type": "code",
   "execution_count": 10,
   "id": "00be4c36",
   "metadata": {},
   "outputs": [
    {
     "data": {
      "text/plain": [
       "ibis.expr.types.relations.Table"
      ]
     },
     "execution_count": 10,
     "metadata": {},
     "output_type": "execute_result"
    }
   ],
   "source": [
    "countries_expr = countries['name', 'continent', 'population'].limit(3)\n",
    "type(countries_expr)"
   ]
  },
  {
   "cell_type": "code",
   "execution_count": 11,
   "id": "c408a38d",
   "metadata": {},
   "outputs": [
    {
     "data": {
      "text/html": [
       "<div>\n",
       "<style scoped>\n",
       "    .dataframe tbody tr th:only-of-type {\n",
       "        vertical-align: middle;\n",
       "    }\n",
       "\n",
       "    .dataframe tbody tr th {\n",
       "        vertical-align: top;\n",
       "    }\n",
       "\n",
       "    .dataframe thead th {\n",
       "        text-align: right;\n",
       "    }\n",
       "</style>\n",
       "<table border=\"1\" class=\"dataframe\">\n",
       "  <thead>\n",
       "    <tr style=\"text-align: right;\">\n",
       "      <th></th>\n",
       "      <th>name</th>\n",
       "      <th>continent</th>\n",
       "      <th>population</th>\n",
       "    </tr>\n",
       "  </thead>\n",
       "  <tbody>\n",
       "    <tr>\n",
       "      <th>0</th>\n",
       "      <td>Andorra</td>\n",
       "      <td>EU</td>\n",
       "      <td>84000</td>\n",
       "    </tr>\n",
       "    <tr>\n",
       "      <th>1</th>\n",
       "      <td>United Arab Emirates</td>\n",
       "      <td>AS</td>\n",
       "      <td>4975593</td>\n",
       "    </tr>\n",
       "    <tr>\n",
       "      <th>2</th>\n",
       "      <td>Afghanistan</td>\n",
       "      <td>AS</td>\n",
       "      <td>29121286</td>\n",
       "    </tr>\n",
       "  </tbody>\n",
       "</table>\n",
       "</div>"
      ],
      "text/plain": [
       "                   name continent  population\n",
       "0               Andorra        EU       84000\n",
       "1  United Arab Emirates        AS     4975593\n",
       "2           Afghanistan        AS    29121286"
      ]
     },
     "execution_count": 11,
     "metadata": {},
     "output_type": "execute_result"
    }
   ],
   "source": [
    "countries_expr.execute()"
   ]
  },
  {
   "cell_type": "code",
   "execution_count": 12,
   "id": "b20b02f3",
   "metadata": {},
   "outputs": [
    {
     "data": {
      "text/plain": [
       "r0 := AlchemyTable: countries\n",
       "  iso_alpha2  string\n",
       "  iso_alpha3  string\n",
       "  iso_numeric int32\n",
       "  fips        string\n",
       "  name        string\n",
       "  capital     string\n",
       "  area_km2    float64\n",
       "  population  int32\n",
       "  continent   string\n",
       "\n",
       "population_in_millions: r0.population / 1000000"
      ]
     },
     "execution_count": 12,
     "metadata": {},
     "output_type": "execute_result"
    }
   ],
   "source": [
    "population_in_millions = (\n",
    "    countries['population'] / 1_000_000\n",
    ").name('population_in_millions')\n",
    "population_in_millions"
   ]
  },
  {
   "cell_type": "code",
   "execution_count": 13,
   "id": "9ae14418",
   "metadata": {},
   "outputs": [
    {
     "data": {
      "text/plain": [
       "ibis.expr.types.numeric.FloatingColumn"
      ]
     },
     "execution_count": 13,
     "metadata": {},
     "output_type": "execute_result"
    }
   ],
   "source": [
    "type(population_in_millions)"
   ]
  },
  {
   "cell_type": "code",
   "execution_count": 14,
   "id": "35451c52",
   "metadata": {},
   "outputs": [
    {
     "data": {
      "text/plain": [
       "r0 := AlchemyTable: countries\n",
       "  iso_alpha2  string\n",
       "  iso_alpha3  string\n",
       "  iso_numeric int32\n",
       "  fips        string\n",
       "  name        string\n",
       "  capital     string\n",
       "  area_km2    float64\n",
       "  population  int32\n",
       "  continent   string\n",
       "\n",
       "r1 := Selection[r0]\n",
       "  selections:\n",
       "    name:                   r0.name\n",
       "    continent:              r0.continent\n",
       "    population_in_millions: r0.population / 1000000\n",
       "\n",
       "Limit[r1, n=3]"
      ]
     },
     "execution_count": 14,
     "metadata": {},
     "output_type": "execute_result"
    }
   ],
   "source": [
    "countries['name', 'continent', population_in_millions].limit(3)"
   ]
  },
  {
   "cell_type": "code",
   "execution_count": 15,
   "id": "7028db5a",
   "metadata": {},
   "outputs": [
    {
     "name": "stdout",
     "output_type": "stream",
     "text": [
      "SELECT t0.name, t0.continent, t0.population / CAST(? AS REAL) AS population_in_millions \n",
      "FROM main.countries AS t0\n",
      " LIMIT ? OFFSET ?\n"
     ]
    },
    {
     "data": {
      "text/html": [
       "<div>\n",
       "<style scoped>\n",
       "    .dataframe tbody tr th:only-of-type {\n",
       "        vertical-align: middle;\n",
       "    }\n",
       "\n",
       "    .dataframe tbody tr th {\n",
       "        vertical-align: top;\n",
       "    }\n",
       "\n",
       "    .dataframe thead th {\n",
       "        text-align: right;\n",
       "    }\n",
       "</style>\n",
       "<table border=\"1\" class=\"dataframe\">\n",
       "  <thead>\n",
       "    <tr style=\"text-align: right;\">\n",
       "      <th></th>\n",
       "      <th>name</th>\n",
       "      <th>continent</th>\n",
       "      <th>population_in_millions</th>\n",
       "    </tr>\n",
       "  </thead>\n",
       "  <tbody>\n",
       "    <tr>\n",
       "      <th>0</th>\n",
       "      <td>Andorra</td>\n",
       "      <td>EU</td>\n",
       "      <td>0.084000</td>\n",
       "    </tr>\n",
       "    <tr>\n",
       "      <th>1</th>\n",
       "      <td>United Arab Emirates</td>\n",
       "      <td>AS</td>\n",
       "      <td>4.975593</td>\n",
       "    </tr>\n",
       "    <tr>\n",
       "      <th>2</th>\n",
       "      <td>Afghanistan</td>\n",
       "      <td>AS</td>\n",
       "      <td>29.121286</td>\n",
       "    </tr>\n",
       "  </tbody>\n",
       "</table>\n",
       "</div>"
      ],
      "text/plain": [
       "                   name continent  population_in_millions\n",
       "0               Andorra        EU                0.084000\n",
       "1  United Arab Emirates        AS                4.975593\n",
       "2           Afghanistan        AS               29.121286"
      ]
     },
     "execution_count": 15,
     "metadata": {},
     "output_type": "execute_result"
    }
   ],
   "source": [
    "ibis.options.verbose = True\n",
    "\n",
    "(countries['name', 'continent', population_in_millions]\n",
    " .limit(3)\n",
    " .execute())"
   ]
  },
  {
   "cell_type": "code",
   "execution_count": 21,
   "id": "3c0d6440",
   "metadata": {},
   "outputs": [],
   "source": [
    "def log_query(query: str) -> None:\n",
    "    path = '/tmp/test.log'\n",
    "    single_line_query = query.replace('\\n', r'\\n')\n",
    "    with open(path, 'a') as f:\n",
    "        f.write(f'{single_line_query}\\n')"
   ]
  },
  {
   "cell_type": "code",
   "execution_count": 22,
   "id": "6173a3ed",
   "metadata": {},
   "outputs": [],
   "source": [
    "ibis.options.verbose_log = log_query"
   ]
  },
  {
   "cell_type": "code",
   "execution_count": 23,
   "id": "fe895848",
   "metadata": {},
   "outputs": [
    {
     "data": {
      "text/html": [
       "<div>\n",
       "<style scoped>\n",
       "    .dataframe tbody tr th:only-of-type {\n",
       "        vertical-align: middle;\n",
       "    }\n",
       "\n",
       "    .dataframe tbody tr th {\n",
       "        vertical-align: top;\n",
       "    }\n",
       "\n",
       "    .dataframe thead th {\n",
       "        text-align: right;\n",
       "    }\n",
       "</style>\n",
       "<table border=\"1\" class=\"dataframe\">\n",
       "  <thead>\n",
       "    <tr style=\"text-align: right;\">\n",
       "      <th></th>\n",
       "      <th>name</th>\n",
       "      <th>continent</th>\n",
       "      <th>population_in_millions</th>\n",
       "    </tr>\n",
       "  </thead>\n",
       "  <tbody>\n",
       "    <tr>\n",
       "      <th>0</th>\n",
       "      <td>Andorra</td>\n",
       "      <td>EU</td>\n",
       "      <td>0.084000</td>\n",
       "    </tr>\n",
       "    <tr>\n",
       "      <th>1</th>\n",
       "      <td>United Arab Emirates</td>\n",
       "      <td>AS</td>\n",
       "      <td>4.975593</td>\n",
       "    </tr>\n",
       "    <tr>\n",
       "      <th>2</th>\n",
       "      <td>Afghanistan</td>\n",
       "      <td>AS</td>\n",
       "      <td>29.121286</td>\n",
       "    </tr>\n",
       "  </tbody>\n",
       "</table>\n",
       "</div>"
      ],
      "text/plain": [
       "                   name continent  population_in_millions\n",
       "0               Andorra        EU                0.084000\n",
       "1  United Arab Emirates        AS                4.975593\n",
       "2           Afghanistan        AS               29.121286"
      ]
     },
     "execution_count": 23,
     "metadata": {},
     "output_type": "execute_result"
    }
   ],
   "source": [
    "countries.execute()\n",
    "time.sleep(1.)\n",
    "(countries['name', 'continent', population_in_millions]\n",
    " .limit(3)\n",
    " .execute())"
   ]
  },
  {
   "cell_type": "code",
   "execution_count": 24,
   "id": "fb786861",
   "metadata": {},
   "outputs": [
    {
     "name": "stdout",
     "output_type": "stream",
     "text": [
      "SELECT t0.iso_alpha2, t0.iso_alpha3, t0.iso_numeric, t0.fips, t0.name, t0.capital, t0.area_km2, t0.population, t0.continent \\nFROM main.countries AS t0\\n LIMIT ? OFFSET ?\r\n",
      "SELECT t0.name, t0.continent, t0.population / CAST(? AS REAL) AS population_in_millions \\nFROM main.countries AS t0\\n LIMIT ? OFFSET ?\r\n"
     ]
    }
   ],
   "source": [
    "!cat /tmp/test.log"
   ]
  },
  {
   "cell_type": "code",
   "execution_count": null,
   "id": "25024a33",
   "metadata": {},
   "outputs": [],
   "source": []
  }
 ],
 "metadata": {
  "kernelspec": {
   "display_name": "Python 3 (ipykernel)",
   "language": "python",
   "name": "python3"
  },
  "language_info": {
   "codemirror_mode": {
    "name": "ipython",
    "version": 3
   },
   "file_extension": ".py",
   "mimetype": "text/x-python",
   "name": "python",
   "nbconvert_exporter": "python",
   "pygments_lexer": "ipython3",
   "version": "3.9.12"
  }
 },
 "nbformat": 4,
 "nbformat_minor": 5
}
