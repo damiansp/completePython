{
 "cells": [
  {
   "cell_type": "code",
   "execution_count": 41,
   "id": "71232265",
   "metadata": {},
   "outputs": [],
   "source": [
    "from   faraway.datasets import teengamb as tg, uswages\n",
    "import numpy as np\n",
    "import seaborn as sns"
   ]
  },
  {
   "cell_type": "code",
   "execution_count": 4,
   "id": "97dcc30e",
   "metadata": {},
   "outputs": [
    {
     "name": "stdout",
     "output_type": "stream",
     "text": [
      "\n",
      "Study of teenage gambling in Britain\n",
      "\n",
      "Description:\n",
      "\n",
      "     The ‘teengamb’ data frame has 47 rows and 5 columns. A survey was\n",
      "     conducted to study teenage gambling in Britain.\n",
      "\n",
      "Variables:\n",
      "\n",
      "     This data frame contains the following columns:\n",
      "\n",
      "     ‘sex’ 0=male, 1=female\n",
      "\n",
      "     ‘status’ Socioeconomic status score based on parents' occupation\n",
      "\n",
      "     ‘income’ in pounds per week\n",
      "\n",
      "     ‘verbal’ verbal score in words out of 12 correctly defined\n",
      "\n",
      "     ‘gamble’ expenditure on gambling in pounds per year\n",
      "\n",
      "Source:\n",
      "\n",
      "     Ide-Smith & Lea, 1988, Journal of Gambling Behavior, 4, 110-118\n",
      "\n"
     ]
    }
   ],
   "source": [
    "print(tg.DESCR)"
   ]
  },
  {
   "cell_type": "code",
   "execution_count": 2,
   "id": "7e7cae5d",
   "metadata": {},
   "outputs": [
    {
     "data": {
      "text/html": [
       "<div>\n",
       "<style scoped>\n",
       "    .dataframe tbody tr th:only-of-type {\n",
       "        vertical-align: middle;\n",
       "    }\n",
       "\n",
       "    .dataframe tbody tr th {\n",
       "        vertical-align: top;\n",
       "    }\n",
       "\n",
       "    .dataframe thead th {\n",
       "        text-align: right;\n",
       "    }\n",
       "</style>\n",
       "<table border=\"1\" class=\"dataframe\">\n",
       "  <thead>\n",
       "    <tr style=\"text-align: right;\">\n",
       "      <th></th>\n",
       "      <th>sex</th>\n",
       "      <th>status</th>\n",
       "      <th>income</th>\n",
       "      <th>verbal</th>\n",
       "      <th>gamble</th>\n",
       "    </tr>\n",
       "  </thead>\n",
       "  <tbody>\n",
       "    <tr>\n",
       "      <th>0</th>\n",
       "      <td>1</td>\n",
       "      <td>51</td>\n",
       "      <td>2.0</td>\n",
       "      <td>8</td>\n",
       "      <td>0.0</td>\n",
       "    </tr>\n",
       "    <tr>\n",
       "      <th>1</th>\n",
       "      <td>1</td>\n",
       "      <td>28</td>\n",
       "      <td>2.5</td>\n",
       "      <td>8</td>\n",
       "      <td>0.0</td>\n",
       "    </tr>\n",
       "    <tr>\n",
       "      <th>2</th>\n",
       "      <td>1</td>\n",
       "      <td>37</td>\n",
       "      <td>2.0</td>\n",
       "      <td>6</td>\n",
       "      <td>0.0</td>\n",
       "    </tr>\n",
       "    <tr>\n",
       "      <th>3</th>\n",
       "      <td>1</td>\n",
       "      <td>28</td>\n",
       "      <td>7.0</td>\n",
       "      <td>4</td>\n",
       "      <td>7.3</td>\n",
       "    </tr>\n",
       "    <tr>\n",
       "      <th>4</th>\n",
       "      <td>1</td>\n",
       "      <td>65</td>\n",
       "      <td>2.0</td>\n",
       "      <td>8</td>\n",
       "      <td>19.6</td>\n",
       "    </tr>\n",
       "  </tbody>\n",
       "</table>\n",
       "</div>"
      ],
      "text/plain": [
       "   sex  status  income  verbal  gamble\n",
       "0    1      51     2.0       8     0.0\n",
       "1    1      28     2.5       8     0.0\n",
       "2    1      37     2.0       6     0.0\n",
       "3    1      28     7.0       4     7.3\n",
       "4    1      65     2.0       8    19.6"
      ]
     },
     "execution_count": 2,
     "metadata": {},
     "output_type": "execute_result"
    }
   ],
   "source": [
    "teen = tg.load()\n",
    "teen.head()"
   ]
  },
  {
   "cell_type": "code",
   "execution_count": 5,
   "id": "9454bc0b",
   "metadata": {},
   "outputs": [
    {
     "data": {
      "text/plain": [
       "male      28\n",
       "female    19\n",
       "Name: sex, dtype: int64"
      ]
     },
     "execution_count": 5,
     "metadata": {},
     "output_type": "execute_result"
    }
   ],
   "source": [
    "teen.sex = teen.sex.apply(lambda x: 'female' if x else 'male')\n",
    "teen.sex.value_counts()"
   ]
  },
  {
   "cell_type": "code",
   "execution_count": 8,
   "id": "9aac7368",
   "metadata": {},
   "outputs": [
    {
     "data": {
      "image/png": "[encoded data removed]",
      "text/plain": [
       "<Figure size 432x288 with 1 Axes>"
      ]
     },
     "metadata": {
      "needs_background": "light"
     },
     "output_type": "display_data"
    }
   ],
   "source": [
    "sns.boxplot(x='sex', y='status', data=teen);"
   ]
  },
  {
   "cell_type": "code",
   "execution_count": 9,
   "id": "1831eab0",
   "metadata": {},
   "outputs": [
    {
     "data": {
      "image/png": "[encoded data removed]",
      "text/plain": [
       "<Figure size 432x288 with 1 Axes>"
      ]
     },
     "metadata": {
      "needs_background": "light"
     },
     "output_type": "display_data"
    }
   ],
   "source": [
    "sns.swarmplot(x='sex', y='status', data=teen);"
   ]
  },
  {
   "cell_type": "code",
   "execution_count": 10,
   "id": "dfed0f01",
   "metadata": {},
   "outputs": [
    {
     "data": {
      "image/png": "[encoded data removed]",
      "text/plain": [
       "<Figure size 360x360 with 1 Axes>"
      ]
     },
     "metadata": {
      "needs_background": "light"
     },
     "output_type": "display_data"
    },
    {
     "data": {
      "image/png": "[encoded data removed]",
      "text/plain": [
       "<Figure size 360x360 with 1 Axes>"
      ]
     },
     "metadata": {
      "needs_background": "light"
     },
     "output_type": "display_data"
    }
   ],
   "source": [
    "sns.displot(teen.verbal)\n",
    "sns.displot(teen.verbal, kind='kde', rug=True);"
   ]
  },
  {
   "cell_type": "code",
   "execution_count": 13,
   "id": "771f4768",
   "metadata": {},
   "outputs": [
    {
     "data": {
      "image/png": "[encoded data removed]",
      "text/plain": [
       "<Figure size 432x288 with 1 Axes>"
      ]
     },
     "metadata": {
      "needs_background": "light"
     },
     "output_type": "display_data"
    }
   ],
   "source": [
    "sns.countplot(x=teen.verbal);"
   ]
  },
  {
   "cell_type": "code",
   "execution_count": 20,
   "id": "ce130b5a",
   "metadata": {},
   "outputs": [
    {
     "data": {
      "image/png": "[encoded data removed]",
      "text/plain": [
       "<Figure size 432x288 with 1 Axes>"
      ]
     },
     "metadata": {
      "needs_background": "light"
     },
     "output_type": "display_data"
    }
   ],
   "source": [
    "sns.scatterplot(x='income', y='gamble', data=teen, hue='sex');"
   ]
  },
  {
   "cell_type": "code",
   "execution_count": 21,
   "id": "d4af20b6",
   "metadata": {},
   "outputs": [
    {
     "data": {
      "image/png": "[encoded data removed]",
      "text/plain": [
       "<Figure size 720x360 with 2 Axes>"
      ]
     },
     "metadata": {
      "needs_background": "light"
     },
     "output_type": "display_data"
    }
   ],
   "source": [
    "sns.relplot(x='income', y='gamble', data=teen, col='sex');"
   ]
  },
  {
   "cell_type": "code",
   "execution_count": 22,
   "id": "9f257731",
   "metadata": {},
   "outputs": [
    {
     "data": {
      "text/html": [
       "<div>\n",
       "<style scoped>\n",
       "    .dataframe tbody tr th:only-of-type {\n",
       "        vertical-align: middle;\n",
       "    }\n",
       "\n",
       "    .dataframe tbody tr th {\n",
       "        vertical-align: top;\n",
       "    }\n",
       "\n",
       "    .dataframe thead th {\n",
       "        text-align: right;\n",
       "    }\n",
       "</style>\n",
       "<table border=\"1\" class=\"dataframe\">\n",
       "  <thead>\n",
       "    <tr style=\"text-align: right;\">\n",
       "      <th></th>\n",
       "      <th>status</th>\n",
       "      <th>income</th>\n",
       "      <th>verbal</th>\n",
       "      <th>gamble</th>\n",
       "    </tr>\n",
       "  </thead>\n",
       "  <tbody>\n",
       "    <tr>\n",
       "      <th>count</th>\n",
       "      <td>47.000000</td>\n",
       "      <td>47.000000</td>\n",
       "      <td>47.000000</td>\n",
       "      <td>47.000000</td>\n",
       "    </tr>\n",
       "    <tr>\n",
       "      <th>mean</th>\n",
       "      <td>45.234043</td>\n",
       "      <td>4.641915</td>\n",
       "      <td>6.659574</td>\n",
       "      <td>19.301064</td>\n",
       "    </tr>\n",
       "    <tr>\n",
       "      <th>std</th>\n",
       "      <td>17.262944</td>\n",
       "      <td>3.551371</td>\n",
       "      <td>1.856558</td>\n",
       "      <td>31.515866</td>\n",
       "    </tr>\n",
       "    <tr>\n",
       "      <th>min</th>\n",
       "      <td>18.000000</td>\n",
       "      <td>0.600000</td>\n",
       "      <td>1.000000</td>\n",
       "      <td>0.000000</td>\n",
       "    </tr>\n",
       "    <tr>\n",
       "      <th>25%</th>\n",
       "      <td>28.000000</td>\n",
       "      <td>2.000000</td>\n",
       "      <td>6.000000</td>\n",
       "      <td>1.100000</td>\n",
       "    </tr>\n",
       "    <tr>\n",
       "      <th>50%</th>\n",
       "      <td>43.000000</td>\n",
       "      <td>3.250000</td>\n",
       "      <td>7.000000</td>\n",
       "      <td>6.000000</td>\n",
       "    </tr>\n",
       "    <tr>\n",
       "      <th>75%</th>\n",
       "      <td>61.500000</td>\n",
       "      <td>6.210000</td>\n",
       "      <td>8.000000</td>\n",
       "      <td>19.400000</td>\n",
       "    </tr>\n",
       "    <tr>\n",
       "      <th>max</th>\n",
       "      <td>75.000000</td>\n",
       "      <td>15.000000</td>\n",
       "      <td>10.000000</td>\n",
       "      <td>156.000000</td>\n",
       "    </tr>\n",
       "  </tbody>\n",
       "</table>\n",
       "</div>"
      ],
      "text/plain": [
       "          status     income     verbal      gamble\n",
       "count  47.000000  47.000000  47.000000   47.000000\n",
       "mean   45.234043   4.641915   6.659574   19.301064\n",
       "std    17.262944   3.551371   1.856558   31.515866\n",
       "min    18.000000   0.600000   1.000000    0.000000\n",
       "25%    28.000000   2.000000   6.000000    1.100000\n",
       "50%    43.000000   3.250000   7.000000    6.000000\n",
       "75%    61.500000   6.210000   8.000000   19.400000\n",
       "max    75.000000  15.000000  10.000000  156.000000"
      ]
     },
     "execution_count": 22,
     "metadata": {},
     "output_type": "execute_result"
    }
   ],
   "source": [
    "teen.describe()"
   ]
  },
  {
   "cell_type": "code",
   "execution_count": 25,
   "id": "f3b93933",
   "metadata": {},
   "outputs": [
    {
     "name": "stdout",
     "output_type": "stream",
     "text": [
      "\n",
      "Weekly wages of US male workers in 1988\n",
      "\n",
      "Description:\n",
      "\n",
      "     The ‘uswages’ data frame has 2000 rows and 10 columns. Weekly\n",
      "     Wages for US male workers sampled from the Current Population\n",
      "     Survey in 1988.\n",
      "\n",
      "Variables:\n",
      "\n",
      "     This data frame contains the following columns:\n",
      "\n",
      "     ‘wage’ Real weekly wages in dollars (deflated by personal\n",
      "          consumption expenditures - 1992 base year)\n",
      "\n",
      "     ‘educ’ Years of education\n",
      "\n",
      "     ‘exper’ Years of experience\n",
      "\n",
      "     ‘race’ 1 if Black, 0 if White (other races not in sample)\n",
      "\n",
      "     ‘smsa’ 1 if living in Standard Metropolitan Statistical Area, 0 if\n",
      "          not\n",
      "\n",
      "     ‘ne’ 1 if living in the North East\n",
      "\n",
      "     ‘mw’ 1 if living in the Midwest\n",
      "\n",
      "     ‘we’ 1 if living in the West\n",
      "\n",
      "     ‘so’ 1 if living in the South\n",
      "\n",
      "     ‘pt’ 1 if working part time, 0 if not\n",
      "\n",
      "Source:\n",
      "\n",
      "     Bierens, H.J., and D. Ginther (2001): \"Integrated Conditional\n",
      "     Moment Testing of Quantile Regression Models\", Empirical Economics\n",
      "     26, 307-324\n",
      "\n"
     ]
    }
   ],
   "source": [
    "print(uswages.DESCR)"
   ]
  },
  {
   "cell_type": "code",
   "execution_count": 26,
   "id": "20859eae",
   "metadata": {},
   "outputs": [
    {
     "data": {
      "text/html": [
       "<div>\n",
       "<style scoped>\n",
       "    .dataframe tbody tr th:only-of-type {\n",
       "        vertical-align: middle;\n",
       "    }\n",
       "\n",
       "    .dataframe tbody tr th {\n",
       "        vertical-align: top;\n",
       "    }\n",
       "\n",
       "    .dataframe thead th {\n",
       "        text-align: right;\n",
       "    }\n",
       "</style>\n",
       "<table border=\"1\" class=\"dataframe\">\n",
       "  <thead>\n",
       "    <tr style=\"text-align: right;\">\n",
       "      <th></th>\n",
       "      <th>wage</th>\n",
       "      <th>educ</th>\n",
       "      <th>exper</th>\n",
       "      <th>race</th>\n",
       "      <th>smsa</th>\n",
       "      <th>ne</th>\n",
       "      <th>mw</th>\n",
       "      <th>so</th>\n",
       "      <th>we</th>\n",
       "      <th>pt</th>\n",
       "    </tr>\n",
       "  </thead>\n",
       "  <tbody>\n",
       "    <tr>\n",
       "      <th>0</th>\n",
       "      <td>771.60</td>\n",
       "      <td>18</td>\n",
       "      <td>18</td>\n",
       "      <td>0</td>\n",
       "      <td>1</td>\n",
       "      <td>1</td>\n",
       "      <td>0</td>\n",
       "      <td>0</td>\n",
       "      <td>0</td>\n",
       "      <td>0</td>\n",
       "    </tr>\n",
       "    <tr>\n",
       "      <th>1</th>\n",
       "      <td>617.28</td>\n",
       "      <td>15</td>\n",
       "      <td>20</td>\n",
       "      <td>0</td>\n",
       "      <td>1</td>\n",
       "      <td>0</td>\n",
       "      <td>0</td>\n",
       "      <td>0</td>\n",
       "      <td>1</td>\n",
       "      <td>0</td>\n",
       "    </tr>\n",
       "    <tr>\n",
       "      <th>2</th>\n",
       "      <td>957.83</td>\n",
       "      <td>16</td>\n",
       "      <td>9</td>\n",
       "      <td>0</td>\n",
       "      <td>1</td>\n",
       "      <td>0</td>\n",
       "      <td>0</td>\n",
       "      <td>1</td>\n",
       "      <td>0</td>\n",
       "      <td>0</td>\n",
       "    </tr>\n",
       "    <tr>\n",
       "      <th>3</th>\n",
       "      <td>617.28</td>\n",
       "      <td>12</td>\n",
       "      <td>24</td>\n",
       "      <td>0</td>\n",
       "      <td>1</td>\n",
       "      <td>1</td>\n",
       "      <td>0</td>\n",
       "      <td>0</td>\n",
       "      <td>0</td>\n",
       "      <td>0</td>\n",
       "    </tr>\n",
       "    <tr>\n",
       "      <th>4</th>\n",
       "      <td>902.18</td>\n",
       "      <td>14</td>\n",
       "      <td>12</td>\n",
       "      <td>0</td>\n",
       "      <td>1</td>\n",
       "      <td>0</td>\n",
       "      <td>1</td>\n",
       "      <td>0</td>\n",
       "      <td>0</td>\n",
       "      <td>0</td>\n",
       "    </tr>\n",
       "  </tbody>\n",
       "</table>\n",
       "</div>"
      ],
      "text/plain": [
       "     wage  educ  exper  race  smsa  ne  mw  so  we  pt\n",
       "0  771.60    18     18     0     1   1   0   0   0   0\n",
       "1  617.28    15     20     0     1   0   0   0   1   0\n",
       "2  957.83    16      9     0     1   0   0   1   0   0\n",
       "3  617.28    12     24     0     1   1   0   0   0   0\n",
       "4  902.18    14     12     0     1   0   1   0   0   0"
      ]
     },
     "execution_count": 26,
     "metadata": {},
     "output_type": "execute_result"
    }
   ],
   "source": [
    "usw = uswages.load()\n",
    "usw.head()"
   ]
  },
  {
   "cell_type": "code",
   "execution_count": 27,
   "id": "3f491d97",
   "metadata": {},
   "outputs": [
    {
     "data": {
      "text/html": [
       "<div>\n",
       "<style scoped>\n",
       "    .dataframe tbody tr th:only-of-type {\n",
       "        vertical-align: middle;\n",
       "    }\n",
       "\n",
       "    .dataframe tbody tr th {\n",
       "        vertical-align: top;\n",
       "    }\n",
       "\n",
       "    .dataframe thead th {\n",
       "        text-align: right;\n",
       "    }\n",
       "</style>\n",
       "<table border=\"1\" class=\"dataframe\">\n",
       "  <thead>\n",
       "    <tr style=\"text-align: right;\">\n",
       "      <th></th>\n",
       "      <th>wage</th>\n",
       "      <th>ne</th>\n",
       "      <th>mw</th>\n",
       "      <th>so</th>\n",
       "      <th>we</th>\n",
       "    </tr>\n",
       "  </thead>\n",
       "  <tbody>\n",
       "    <tr>\n",
       "      <th>0</th>\n",
       "      <td>771.60</td>\n",
       "      <td>1</td>\n",
       "      <td>0</td>\n",
       "      <td>0</td>\n",
       "      <td>0</td>\n",
       "    </tr>\n",
       "    <tr>\n",
       "      <th>1</th>\n",
       "      <td>617.28</td>\n",
       "      <td>0</td>\n",
       "      <td>0</td>\n",
       "      <td>0</td>\n",
       "      <td>1</td>\n",
       "    </tr>\n",
       "    <tr>\n",
       "      <th>2</th>\n",
       "      <td>957.83</td>\n",
       "      <td>0</td>\n",
       "      <td>0</td>\n",
       "      <td>1</td>\n",
       "      <td>0</td>\n",
       "    </tr>\n",
       "    <tr>\n",
       "      <th>3</th>\n",
       "      <td>617.28</td>\n",
       "      <td>1</td>\n",
       "      <td>0</td>\n",
       "      <td>0</td>\n",
       "      <td>0</td>\n",
       "    </tr>\n",
       "    <tr>\n",
       "      <th>4</th>\n",
       "      <td>902.18</td>\n",
       "      <td>0</td>\n",
       "      <td>1</td>\n",
       "      <td>0</td>\n",
       "      <td>0</td>\n",
       "    </tr>\n",
       "  </tbody>\n",
       "</table>\n",
       "</div>"
      ],
      "text/plain": [
       "     wage  ne  mw  so  we\n",
       "0  771.60   1   0   0   0\n",
       "1  617.28   0   0   0   1\n",
       "2  957.83   0   0   1   0\n",
       "3  617.28   1   0   0   0\n",
       "4  902.18   0   1   0   0"
      ]
     },
     "execution_count": 27,
     "metadata": {},
     "output_type": "execute_result"
    }
   ],
   "source": [
    "sub = usw[['wage', 'ne', 'mw', 'so', 'we']]\n",
    "sub.head()"
   ]
  },
  {
   "cell_type": "code",
   "execution_count": 31,
   "id": "a7b63885",
   "metadata": {},
   "outputs": [
    {
     "data": {
      "text/plain": [
       "631.6590829694322"
      ]
     },
     "execution_count": 31,
     "metadata": {},
     "output_type": "execute_result"
    }
   ],
   "source": [
    "ne_mean_wage = sub[sub['ne'] == 1].wage.mean()\n",
    "ne_mean_wage"
   ]
  },
  {
   "cell_type": "code",
   "execution_count": 32,
   "id": "52333331",
   "metadata": {},
   "outputs": [
    {
     "data": {
      "text/plain": [
       "ne\n",
       "0    601.125726\n",
       "1    631.659083\n",
       "Name: wage, dtype: float64"
      ]
     },
     "execution_count": 32,
     "metadata": {},
     "output_type": "execute_result"
    }
   ],
   "source": [
    "sub.groupby('ne').agg('mean')['wage']"
   ]
  },
  {
   "cell_type": "code",
   "execution_count": 34,
   "id": "9d014cc5",
   "metadata": {},
   "outputs": [
    {
     "data": {
      "text/plain": [
       "0       1\n",
       "1       1\n",
       "2       1\n",
       "3       1\n",
       "4       1\n",
       "       ..\n",
       "1995    1\n",
       "1996    1\n",
       "1997    1\n",
       "1998    1\n",
       "1999    1\n",
       "Length: 2000, dtype: int64"
      ]
     },
     "execution_count": 34,
     "metadata": {},
     "output_type": "execute_result"
    }
   ],
   "source": [
    "sub.drop('wage', axis=1).sum(axis=1)"
   ]
  },
  {
   "cell_type": "code",
   "execution_count": 35,
   "id": "169e4931",
   "metadata": {},
   "outputs": [],
   "source": [
    "def region_from_dummies(row):\n",
    "    regions = ['ne', 'mw', 'so', 'we']\n",
    "    return regions[row[-4:].argmax()]"
   ]
  },
  {
   "cell_type": "code",
   "execution_count": 38,
   "id": "05834a3d",
   "metadata": {},
   "outputs": [
    {
     "data": {
      "text/plain": [
       "0       ne\n",
       "1       we\n",
       "2       so\n",
       "3       ne\n",
       "4       mw\n",
       "        ..\n",
       "1995    mw\n",
       "1996    we\n",
       "1997    ne\n",
       "1998    ne\n",
       "1999    so\n",
       "Length: 2000, dtype: object"
      ]
     },
     "execution_count": 38,
     "metadata": {},
     "output_type": "execute_result"
    }
   ],
   "source": [
    "region = sub.apply(region_from_dummies, axis=1)\n",
    "region"
   ]
  },
  {
   "cell_type": "code",
   "execution_count": 39,
   "id": "2296110b",
   "metadata": {},
   "outputs": [
    {
     "data": {
      "image/png": "[encoded data removed]",
      "text/plain": [
       "<Figure size 432x288 with 1 Axes>"
      ]
     },
     "metadata": {
      "needs_background": "light"
     },
     "output_type": "display_data"
    }
   ],
   "source": [
    "sns.boxplot(x=region, y=sub.wage);"
   ]
  },
  {
   "cell_type": "code",
   "execution_count": 42,
   "id": "ec160577",
   "metadata": {},
   "outputs": [
    {
     "data": {
      "image/png": "[encoded data removed]",
      "text/plain": [
       "<Figure size 432x288 with 1 Axes>"
      ]
     },
     "metadata": {
      "needs_background": "light"
     },
     "output_type": "display_data"
    }
   ],
   "source": [
    "sns.boxplot(x=region, y=np.log(sub.wage));"
   ]
  },
  {
   "cell_type": "code",
   "execution_count": null,
   "id": "cf7ed7cc",
   "metadata": {},
   "outputs": [],
   "source": []
  }
 ],
 "metadata": {
  "kernelspec": {
   "display_name": "Python 3 (ipykernel)",
   "language": "python",
   "name": "python3"
  },
  "language_info": {
   "codemirror_mode": {
    "name": "ipython",
    "version": 3
   },
   "file_extension": ".py",
   "mimetype": "text/x-python",
   "name": "python",
   "nbconvert_exporter": "python",
   "pygments_lexer": "ipython3",
   "version": "3.8.5"
  }
 },
 "nbformat": 4,
 "nbformat_minor": 5
}
