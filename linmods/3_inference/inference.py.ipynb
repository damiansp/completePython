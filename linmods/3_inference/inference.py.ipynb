{
 "cells": [
  {
   "cell_type": "code",
   "execution_count": 1,
   "id": "16e91da8",
   "metadata": {},
   "outputs": [],
   "source": [
    "import faraway.datasets.galapagos\n",
    "import faraway.utils\n",
    "import matplotlib.pyplot as plt\n",
    "import numpy as np\n",
    "import pandas as pd\n",
    "import scipy as sp\n",
    "import statsmodels.api as sm\n",
    "import statsmodels.formula.api as smf"
   ]
  },
  {
   "cell_type": "markdown",
   "id": "cf1aed9e",
   "metadata": {},
   "source": [
    "## 2. Testing Examples"
   ]
  },
  {
   "cell_type": "code",
   "execution_count": 2,
   "id": "1a989420",
   "metadata": {},
   "outputs": [
    {
     "data": {
      "text/html": [
       "<div>\n",
       "<style scoped>\n",
       "    .dataframe tbody tr th:only-of-type {\n",
       "        vertical-align: middle;\n",
       "    }\n",
       "\n",
       "    .dataframe tbody tr th {\n",
       "        vertical-align: top;\n",
       "    }\n",
       "\n",
       "    .dataframe thead th {\n",
       "        text-align: right;\n",
       "    }\n",
       "</style>\n",
       "<table border=\"1\" class=\"dataframe\">\n",
       "  <thead>\n",
       "    <tr style=\"text-align: right;\">\n",
       "      <th></th>\n",
       "      <th>Species</th>\n",
       "      <th>Area</th>\n",
       "      <th>Elevation</th>\n",
       "      <th>Nearest</th>\n",
       "      <th>Scruz</th>\n",
       "      <th>Adjacent</th>\n",
       "    </tr>\n",
       "  </thead>\n",
       "  <tbody>\n",
       "    <tr>\n",
       "      <th>Baltra</th>\n",
       "      <td>58</td>\n",
       "      <td>25.09</td>\n",
       "      <td>346</td>\n",
       "      <td>0.6</td>\n",
       "      <td>0.6</td>\n",
       "      <td>1.84</td>\n",
       "    </tr>\n",
       "    <tr>\n",
       "      <th>Bartolome</th>\n",
       "      <td>31</td>\n",
       "      <td>1.24</td>\n",
       "      <td>109</td>\n",
       "      <td>0.6</td>\n",
       "      <td>26.3</td>\n",
       "      <td>572.33</td>\n",
       "    </tr>\n",
       "    <tr>\n",
       "      <th>Caldwell</th>\n",
       "      <td>3</td>\n",
       "      <td>0.21</td>\n",
       "      <td>114</td>\n",
       "      <td>2.8</td>\n",
       "      <td>58.7</td>\n",
       "      <td>0.78</td>\n",
       "    </tr>\n",
       "    <tr>\n",
       "      <th>Champion</th>\n",
       "      <td>25</td>\n",
       "      <td>0.10</td>\n",
       "      <td>46</td>\n",
       "      <td>1.9</td>\n",
       "      <td>47.4</td>\n",
       "      <td>0.18</td>\n",
       "    </tr>\n",
       "    <tr>\n",
       "      <th>Coamano</th>\n",
       "      <td>2</td>\n",
       "      <td>0.05</td>\n",
       "      <td>77</td>\n",
       "      <td>1.9</td>\n",
       "      <td>1.9</td>\n",
       "      <td>903.82</td>\n",
       "    </tr>\n",
       "  </tbody>\n",
       "</table>\n",
       "</div>"
      ],
      "text/plain": [
       "           Species   Area  Elevation  Nearest  Scruz  Adjacent\n",
       "Baltra          58  25.09        346      0.6    0.6      1.84\n",
       "Bartolome       31   1.24        109      0.6   26.3    572.33\n",
       "Caldwell         3   0.21        114      2.8   58.7      0.78\n",
       "Champion        25   0.10         46      1.9   47.4      0.18\n",
       "Coamano          2   0.05         77      1.9    1.9    903.82"
      ]
     },
     "execution_count": 2,
     "metadata": {},
     "output_type": "execute_result"
    }
   ],
   "source": [
    "galapagos = faraway.datasets.galapagos.load()\n",
    "galapagos.head()"
   ]
  },
  {
   "cell_type": "code",
   "execution_count": 3,
   "id": "57a34d3a",
   "metadata": {},
   "outputs": [
    {
     "data": {
      "text/plain": [
       "(15.699412204831022, 6.837892995112339e-07)"
      ]
     },
     "execution_count": 3,
     "metadata": {},
     "output_type": "execute_result"
    }
   ],
   "source": [
    "lmod = smf.ols(\n",
    "    'Species ~ Area + Elevation + Nearest + Scruz + Adjacent',\n",
    "    galapagos\n",
    ").fit()\n",
    "lmod.fvalue, lmod.f_pvalue"
   ]
  },
  {
   "cell_type": "code",
   "execution_count": 4,
   "id": "5b7e43fe",
   "metadata": {},
   "outputs": [
    {
     "data": {
      "text/plain": [
       "(15.699412204831022, 6.837892995112339e-07, 5.0)"
      ]
     },
     "execution_count": 4,
     "metadata": {},
     "output_type": "execute_result"
    }
   ],
   "source": [
    "lmodr = smf.ols('Species ~ 1', galapagos).fit()\n",
    "lmod.compare_f_test(lmodr)"
   ]
  },
  {
   "cell_type": "code",
   "execution_count": 5,
   "id": "431c3403",
   "metadata": {},
   "outputs": [
    {
     "data": {
      "text/plain": [
       "(381081.36666666664, 89231.36633005121)"
      ]
     },
     "execution_count": 5,
     "metadata": {},
     "output_type": "execute_result"
    }
   ],
   "source": [
    "lmod.centered_tss, lmod.ssr"
   ]
  },
  {
   "cell_type": "code",
   "execution_count": 6,
   "id": "9cf1837f",
   "metadata": {},
   "outputs": [
    {
     "data": {
      "text/plain": [
       "(5.0, 24.0)"
      ]
     },
     "execution_count": 6,
     "metadata": {},
     "output_type": "execute_result"
    }
   ],
   "source": [
    "lmod.df_model, lmod.df_resid"
   ]
  },
  {
   "cell_type": "code",
   "execution_count": 7,
   "id": "837f725c",
   "metadata": {},
   "outputs": [
    {
     "data": {
      "text/plain": [
       "(58370.00006732308, 3717.973597085467)"
      ]
     },
     "execution_count": 7,
     "metadata": {},
     "output_type": "execute_result"
    }
   ],
   "source": [
    "lmod.mse_model, lmod.mse_resid"
   ]
  },
  {
   "cell_type": "code",
   "execution_count": 8,
   "id": "a0b9ff34",
   "metadata": {},
   "outputs": [
    {
     "data": {
      "text/plain": [
       "15.699412204831022"
      ]
     },
     "execution_count": 8,
     "metadata": {},
     "output_type": "execute_result"
    }
   ],
   "source": [
    "F = lmod.mse_model / lmod.mse_resid\n",
    "F"
   ]
  },
  {
   "cell_type": "code",
   "execution_count": 9,
   "id": "31fb1b08",
   "metadata": {},
   "outputs": [
    {
     "data": {
      "text/plain": [
       "6.837892995159578e-07"
      ]
     },
     "execution_count": 9,
     "metadata": {},
     "output_type": "execute_result"
    }
   ],
   "source": [
    "p = 1 - sp.stats.f.cdf(lmod.fvalue, lmod.df_model, lmod.df_resid)\n",
    "p"
   ]
  },
  {
   "cell_type": "markdown",
   "id": "3d9fb15c",
   "metadata": {},
   "source": [
    "### Testing One Predictor"
   ]
  },
  {
   "cell_type": "code",
   "execution_count": 10,
   "id": "ff66922c",
   "metadata": {},
   "outputs": [
    {
     "data": {
      "text/html": [
       "<div>\n",
       "<style scoped>\n",
       "    .dataframe tbody tr th:only-of-type {\n",
       "        vertical-align: middle;\n",
       "    }\n",
       "\n",
       "    .dataframe tbody tr th {\n",
       "        vertical-align: top;\n",
       "    }\n",
       "\n",
       "    .dataframe thead th {\n",
       "        text-align: right;\n",
       "    }\n",
       "</style>\n",
       "<table border=\"1\" class=\"dataframe\">\n",
       "  <thead>\n",
       "    <tr style=\"text-align: right;\">\n",
       "      <th></th>\n",
       "      <th>df_resid</th>\n",
       "      <th>ssr</th>\n",
       "      <th>df_diff</th>\n",
       "      <th>ss_diff</th>\n",
       "      <th>F</th>\n",
       "      <th>Pr(&gt;F)</th>\n",
       "    </tr>\n",
       "  </thead>\n",
       "  <tbody>\n",
       "    <tr>\n",
       "      <th>0</th>\n",
       "      <td>25.0</td>\n",
       "      <td>93469.08399</td>\n",
       "      <td>0.0</td>\n",
       "      <td>NaN</td>\n",
       "      <td>NaN</td>\n",
       "      <td>NaN</td>\n",
       "    </tr>\n",
       "    <tr>\n",
       "      <th>1</th>\n",
       "      <td>24.0</td>\n",
       "      <td>89231.36633</td>\n",
       "      <td>1.0</td>\n",
       "      <td>4237.71766</td>\n",
       "      <td>1.139792</td>\n",
       "      <td>0.296318</td>\n",
       "    </tr>\n",
       "  </tbody>\n",
       "</table>\n",
       "</div>"
      ],
      "text/plain": [
       "   df_resid          ssr  df_diff     ss_diff         F    Pr(>F)\n",
       "0      25.0  93469.08399      0.0         NaN       NaN       NaN\n",
       "1      24.0  89231.36633      1.0  4237.71766  1.139792  0.296318"
      ]
     },
     "execution_count": 10,
     "metadata": {},
     "output_type": "execute_result"
    }
   ],
   "source": [
    "lmods = smf.ols(\n",
    "    'Species ~ Elevation + Nearest + Scruz + Adjacent', galapagos\n",
    ").fit()\n",
    "sm.stats.anova_lm(lmods, lmod)"
   ]
  },
  {
   "cell_type": "code",
   "execution_count": 11,
   "id": "5ed03b42",
   "metadata": {},
   "outputs": [
    {
     "data": {
      "text/html": [
       "<table class=\"simpletable\">\n",
       "<caption>OLS Regression Results</caption>\n",
       "<tr>\n",
       "  <th>Dep. Variable:</th>         <td>Species</td>     <th>  R-squared:         </th> <td>   0.766</td>\n",
       "</tr>\n",
       "<tr>\n",
       "  <th>Model:</th>                   <td>OLS</td>       <th>  Adj. R-squared:    </th> <td>   0.717</td>\n",
       "</tr>\n",
       "<tr>\n",
       "  <th>Method:</th>             <td>Least Squares</td>  <th>  F-statistic:       </th> <td>   15.70</td>\n",
       "</tr>\n",
       "<tr>\n",
       "  <th>Date:</th>             <td>Sun, 15 May 2022</td> <th>  Prob (F-statistic):</th> <td>6.84e-07</td>\n",
       "</tr>\n",
       "<tr>\n",
       "  <th>Time:</th>                 <td>11:33:22</td>     <th>  Log-Likelihood:    </th> <td> -162.54</td>\n",
       "</tr>\n",
       "<tr>\n",
       "  <th>No. Observations:</th>      <td>    30</td>      <th>  AIC:               </th> <td>   337.1</td>\n",
       "</tr>\n",
       "<tr>\n",
       "  <th>Df Residuals:</th>          <td>    24</td>      <th>  BIC:               </th> <td>   345.5</td>\n",
       "</tr>\n",
       "<tr>\n",
       "  <th>Df Model:</th>              <td>     5</td>      <th>                     </th>     <td> </td>   \n",
       "</tr>\n",
       "<tr>\n",
       "  <th>Covariance Type:</th>      <td>nonrobust</td>    <th>                     </th>     <td> </td>   \n",
       "</tr>\n",
       "</table>\n",
       "<table class=\"simpletable\">\n",
       "<tr>\n",
       "      <td></td>         <th>coef</th>     <th>std err</th>      <th>t</th>      <th>P>|t|</th>  <th>[0.025</th>    <th>0.975]</th>  \n",
       "</tr>\n",
       "<tr>\n",
       "  <th>Intercept</th> <td>    7.0682</td> <td>   19.154</td> <td>    0.369</td> <td> 0.715</td> <td>  -32.464</td> <td>   46.601</td>\n",
       "</tr>\n",
       "<tr>\n",
       "  <th>Area</th>      <td>   -0.0239</td> <td>    0.022</td> <td>   -1.068</td> <td> 0.296</td> <td>   -0.070</td> <td>    0.022</td>\n",
       "</tr>\n",
       "<tr>\n",
       "  <th>Elevation</th> <td>    0.3195</td> <td>    0.054</td> <td>    5.953</td> <td> 0.000</td> <td>    0.209</td> <td>    0.430</td>\n",
       "</tr>\n",
       "<tr>\n",
       "  <th>Nearest</th>   <td>    0.0091</td> <td>    1.054</td> <td>    0.009</td> <td> 0.993</td> <td>   -2.166</td> <td>    2.185</td>\n",
       "</tr>\n",
       "<tr>\n",
       "  <th>Scruz</th>     <td>   -0.2405</td> <td>    0.215</td> <td>   -1.117</td> <td> 0.275</td> <td>   -0.685</td> <td>    0.204</td>\n",
       "</tr>\n",
       "<tr>\n",
       "  <th>Adjacent</th>  <td>   -0.0748</td> <td>    0.018</td> <td>   -4.226</td> <td> 0.000</td> <td>   -0.111</td> <td>   -0.038</td>\n",
       "</tr>\n",
       "</table>\n",
       "<table class=\"simpletable\">\n",
       "<tr>\n",
       "  <th>Omnibus:</th>       <td>12.683</td> <th>  Durbin-Watson:     </th> <td>   2.476</td>\n",
       "</tr>\n",
       "<tr>\n",
       "  <th>Prob(Omnibus):</th> <td> 0.002</td> <th>  Jarque-Bera (JB):  </th> <td>  13.498</td>\n",
       "</tr>\n",
       "<tr>\n",
       "  <th>Skew:</th>          <td> 1.136</td> <th>  Prob(JB):          </th> <td> 0.00117</td>\n",
       "</tr>\n",
       "<tr>\n",
       "  <th>Kurtosis:</th>      <td> 5.374</td> <th>  Cond. No.          </th> <td>1.90e+03</td>\n",
       "</tr>\n",
       "</table><br/><br/>Notes:<br/>[1] Standard Errors assume that the covariance matrix of the errors is correctly specified.<br/>[2] The condition number is large, 1.9e+03. This might indicate that there are<br/>strong multicollinearity or other numerical problems."
      ],
      "text/plain": [
       "<class 'statsmodels.iolib.summary.Summary'>\n",
       "\"\"\"\n",
       "                            OLS Regression Results                            \n",
       "==============================================================================\n",
       "Dep. Variable:                Species   R-squared:                       0.766\n",
       "Model:                            OLS   Adj. R-squared:                  0.717\n",
       "Method:                 Least Squares   F-statistic:                     15.70\n",
       "Date:                Sun, 15 May 2022   Prob (F-statistic):           6.84e-07\n",
       "Time:                        11:33:22   Log-Likelihood:                -162.54\n",
       "No. Observations:                  30   AIC:                             337.1\n",
       "Df Residuals:                      24   BIC:                             345.5\n",
       "Df Model:                           5                                         \n",
       "Covariance Type:            nonrobust                                         \n",
       "==============================================================================\n",
       "                 coef    std err          t      P>|t|      [0.025      0.975]\n",
       "------------------------------------------------------------------------------\n",
       "Intercept      7.0682     19.154      0.369      0.715     -32.464      46.601\n",
       "Area          -0.0239      0.022     -1.068      0.296      -0.070       0.022\n",
       "Elevation      0.3195      0.054      5.953      0.000       0.209       0.430\n",
       "Nearest        0.0091      1.054      0.009      0.993      -2.166       2.185\n",
       "Scruz         -0.2405      0.215     -1.117      0.275      -0.685       0.204\n",
       "Adjacent      -0.0748      0.018     -4.226      0.000      -0.111      -0.038\n",
       "==============================================================================\n",
       "Omnibus:                       12.683   Durbin-Watson:                   2.476\n",
       "Prob(Omnibus):                  0.002   Jarque-Bera (JB):               13.498\n",
       "Skew:                           1.136   Prob(JB):                      0.00117\n",
       "Kurtosis:                       5.374   Cond. No.                     1.90e+03\n",
       "==============================================================================\n",
       "\n",
       "Notes:\n",
       "[1] Standard Errors assume that the covariance matrix of the errors is correctly specified.\n",
       "[2] The condition number is large, 1.9e+03. This might indicate that there are\n",
       "strong multicollinearity or other numerical problems.\n",
       "\"\"\""
      ]
     },
     "execution_count": 11,
     "metadata": {},
     "output_type": "execute_result"
    }
   ],
   "source": [
    "lmod.summary()"
   ]
  },
  {
   "cell_type": "markdown",
   "id": "1dca2130",
   "metadata": {},
   "source": [
    "### Testing a Pair of Predictors"
   ]
  },
  {
   "cell_type": "code",
   "execution_count": 12,
   "id": "51627585",
   "metadata": {},
   "outputs": [
    {
     "data": {
      "text/html": [
       "<div>\n",
       "<style scoped>\n",
       "    .dataframe tbody tr th:only-of-type {\n",
       "        vertical-align: middle;\n",
       "    }\n",
       "\n",
       "    .dataframe tbody tr th {\n",
       "        vertical-align: top;\n",
       "    }\n",
       "\n",
       "    .dataframe thead th {\n",
       "        text-align: right;\n",
       "    }\n",
       "</style>\n",
       "<table border=\"1\" class=\"dataframe\">\n",
       "  <thead>\n",
       "    <tr style=\"text-align: right;\">\n",
       "      <th></th>\n",
       "      <th>df_resid</th>\n",
       "      <th>ssr</th>\n",
       "      <th>df_diff</th>\n",
       "      <th>ss_diff</th>\n",
       "      <th>F</th>\n",
       "      <th>Pr(&gt;F)</th>\n",
       "    </tr>\n",
       "  </thead>\n",
       "  <tbody>\n",
       "    <tr>\n",
       "      <th>0</th>\n",
       "      <td>26.0</td>\n",
       "      <td>158291.628568</td>\n",
       "      <td>0.0</td>\n",
       "      <td>NaN</td>\n",
       "      <td>NaN</td>\n",
       "      <td>NaN</td>\n",
       "    </tr>\n",
       "    <tr>\n",
       "      <th>1</th>\n",
       "      <td>24.0</td>\n",
       "      <td>89231.366330</td>\n",
       "      <td>2.0</td>\n",
       "      <td>69060.262238</td>\n",
       "      <td>9.287352</td>\n",
       "      <td>0.00103</td>\n",
       "    </tr>\n",
       "  </tbody>\n",
       "</table>\n",
       "</div>"
      ],
      "text/plain": [
       "   df_resid            ssr  df_diff       ss_diff         F   Pr(>F)\n",
       "0      26.0  158291.628568      0.0           NaN       NaN      NaN\n",
       "1      24.0   89231.366330      2.0  69060.262238  9.287352  0.00103"
      ]
     },
     "execution_count": 12,
     "metadata": {},
     "output_type": "execute_result"
    }
   ],
   "source": [
    "lmods = smf.ols(\n",
    "    'Species ~ Elevation + Nearest + Scruz', galapagos\n",
    ").fit()\n",
    "sm.stats.anova_lm(lmods, lmod)"
   ]
  },
  {
   "cell_type": "markdown",
   "id": "cd9a5885",
   "metadata": {},
   "source": [
    "### Testing a Subspace"
   ]
  },
  {
   "cell_type": "code",
   "execution_count": 13,
   "id": "a171495c",
   "metadata": {},
   "outputs": [
    {
     "data": {
      "text/html": [
       "<div>\n",
       "<style scoped>\n",
       "    .dataframe tbody tr th:only-of-type {\n",
       "        vertical-align: middle;\n",
       "    }\n",
       "\n",
       "    .dataframe tbody tr th {\n",
       "        vertical-align: top;\n",
       "    }\n",
       "\n",
       "    .dataframe thead th {\n",
       "        text-align: right;\n",
       "    }\n",
       "</style>\n",
       "<table border=\"1\" class=\"dataframe\">\n",
       "  <thead>\n",
       "    <tr style=\"text-align: right;\">\n",
       "      <th></th>\n",
       "      <th>df_resid</th>\n",
       "      <th>ssr</th>\n",
       "      <th>df_diff</th>\n",
       "      <th>ss_diff</th>\n",
       "      <th>F</th>\n",
       "      <th>Pr(&gt;F)</th>\n",
       "    </tr>\n",
       "  </thead>\n",
       "  <tbody>\n",
       "    <tr>\n",
       "      <th>0</th>\n",
       "      <td>25.0</td>\n",
       "      <td>109591.120801</td>\n",
       "      <td>0.0</td>\n",
       "      <td>NaN</td>\n",
       "      <td>NaN</td>\n",
       "      <td>NaN</td>\n",
       "    </tr>\n",
       "    <tr>\n",
       "      <th>1</th>\n",
       "      <td>24.0</td>\n",
       "      <td>89231.366330</td>\n",
       "      <td>1.0</td>\n",
       "      <td>20359.754471</td>\n",
       "      <td>5.476035</td>\n",
       "      <td>0.027926</td>\n",
       "    </tr>\n",
       "  </tbody>\n",
       "</table>\n",
       "</div>"
      ],
      "text/plain": [
       "   df_resid            ssr  df_diff       ss_diff         F    Pr(>F)\n",
       "0      25.0  109591.120801      0.0           NaN       NaN       NaN\n",
       "1      24.0   89231.366330      1.0  20359.754471  5.476035  0.027926"
      ]
     },
     "execution_count": 13,
     "metadata": {},
     "output_type": "execute_result"
    }
   ],
   "source": [
    "lmods = smf.ols(\n",
    "    'Species ~ I(Area + Adjacent) + Elevation + Nearest + Scruz',\n",
    "    galapagos\n",
    ").fit()\n",
    "sm.stats.anova_lm(lmods, lmod)"
   ]
  },
  {
   "cell_type": "markdown",
   "id": "abc9b001",
   "metadata": {},
   "source": [
    "(i.e., the simplification of combining Area & Adjacent not justified)"
   ]
  },
  {
   "cell_type": "code",
   "execution_count": 14,
   "id": "701b21ab",
   "metadata": {},
   "outputs": [
    {
     "data": {
      "text/plain": [
       "(11.318196837955558, 0.002573836486092773)"
      ]
     },
     "execution_count": 14,
     "metadata": {},
     "output_type": "execute_result"
    }
   ],
   "source": [
    "# Test if  coef of Elevation is a specific value (0.5)\n",
    "lmod = smf.glm(\n",
    "    'Species ~ Area + Elevation + Nearest + Scruz + Adjacent',\n",
    "    galapagos\n",
    ").fit()\n",
    "lmods = smf.glm(\n",
    "    'Species ~ Area + Nearest + Scruz + Adjacent',\n",
    "    offset=(0.5 * galapagos.Elevation),\n",
    "    data=galapagos\n",
    ").fit()\n",
    "fstat = (\n",
    "    (lmods.deviance - lmod.deviance) / (lmod.deviance / lmod.df_resid))\n",
    "p = 1 - sp.stats.f.cdf(fstat, 1, lmod.df_resid)\n",
    "fstat, p"
   ]
  },
  {
   "cell_type": "markdown",
   "id": "872a90d1",
   "metadata": {},
   "source": [
    "(reject hypothesis: Beta[elev] = 0.5)"
   ]
  },
  {
   "cell_type": "code",
   "execution_count": 15,
   "id": "1adf4115",
   "metadata": {},
   "outputs": [
    {
     "data": {
      "text/plain": [
       "(-3.364252790435871, 0.002573836486092733)"
      ]
     },
     "execution_count": 15,
     "metadata": {},
     "output_type": "execute_result"
    }
   ],
   "source": [
    "# More simply\n",
    "HYPOTH = 0.5\n",
    "lmod = smf.glm(\n",
    "    'Species ~ Area + Elevation + Nearest + Scruz + Adjacent',\n",
    "    galapagos\n",
    ").fit()\n",
    "tstat = (lmod.params['Elevation'] - HYPOTH) / lmod.bse['Elevation']\n",
    "p = 2 * sp.stats.t.cdf(tstat, lmod.df_resid)\n",
    "tstat, p"
   ]
  },
  {
   "cell_type": "markdown",
   "id": "c5a6edd2",
   "metadata": {},
   "source": [
    "## 3. Permutation Tests"
   ]
  },
  {
   "cell_type": "code",
   "execution_count": 16,
   "id": "9dfda013",
   "metadata": {},
   "outputs": [],
   "source": [
    "lmod = smf.ols('Species ~ Nearest + Scruz', galapagos).fit()\n",
    "N_PERM = 4000\n",
    "f_stats = np.zeros(N_PERM)\n",
    "for i in range(N_PERM):\n",
    "    galapagos['ysamp'] = np.random.permutation(galapagos.Species.copy())\n",
    "    lmodi = smf.ols('ysamp ~ Nearest + Scruz', galapagos).fit()\n",
    "    f_stats[i] = lmodi.fvalue"
   ]
  },
  {
   "cell_type": "code",
   "execution_count": 17,
   "id": "fadab5e5",
   "metadata": {},
   "outputs": [
    {
     "data": {
      "image/png": "[encoded data removed]",
      "text/plain": [
       "<Figure size 432x288 with 1 Axes>"
      ]
     },
     "metadata": {
      "needs_background": "light"
     },
     "output_type": "display_data"
    }
   ],
   "source": [
    "plt.hist(f_stats);"
   ]
  },
  {
   "cell_type": "code",
   "execution_count": 18,
   "id": "79f5f99b",
   "metadata": {},
   "outputs": [
    {
     "data": {
      "text/plain": [
       "0.57325"
      ]
     },
     "execution_count": 18,
     "metadata": {},
     "output_type": "execute_result"
    }
   ],
   "source": [
    "p_est = np.mean(f_stats > lmod.fvalue)\n",
    "p_est  # est p val of mod as a whole"
   ]
  },
  {
   "cell_type": "code",
   "execution_count": 19,
   "id": "7142dd63",
   "metadata": {},
   "outputs": [
    {
     "data": {
      "text/plain": [
       "(-1.0946730850617026, 0.2833295186486556)"
      ]
     },
     "execution_count": 19,
     "metadata": {},
     "output_type": "execute_result"
    }
   ],
   "source": [
    "# Scruz:\n",
    "lmod.tvalues[2], lmod.pvalues[2]"
   ]
  },
  {
   "cell_type": "code",
   "execution_count": 20,
   "id": "cd86ca25",
   "metadata": {},
   "outputs": [],
   "source": [
    "t_stats = []\n",
    "for i in range(N_PERM):\n",
    "    galapagos['ssamp'] = np.random.permutation(galapagos.Scruz)\n",
    "    lmodi = smf.ols('Species ~ Nearest + ssamp', galapagos).fit()\n",
    "    t_stats.append(lmodi.tvalues[2])"
   ]
  },
  {
   "cell_type": "code",
   "execution_count": 21,
   "id": "6db8ab14",
   "metadata": {},
   "outputs": [
    {
     "data": {
      "image/png": "[encoded data removed]",
      "text/plain": [
       "<Figure size 432x288 with 1 Axes>"
      ]
     },
     "metadata": {
      "needs_background": "light"
     },
     "output_type": "display_data"
    }
   ],
   "source": [
    "plt.hist(t_stats);"
   ]
  },
  {
   "cell_type": "code",
   "execution_count": 22,
   "id": "7d6f94a3",
   "metadata": {},
   "outputs": [
    {
     "data": {
      "text/plain": [
       "0.27125"
      ]
     },
     "execution_count": 22,
     "metadata": {},
     "output_type": "execute_result"
    }
   ],
   "source": [
    "p_scruz = np.mean(np.fabs(t_stats) > np.fabs(lmod.tvalues[2]))\n",
    "p_scruz"
   ]
  },
  {
   "cell_type": "markdown",
   "id": "2d4b7a1b",
   "metadata": {},
   "source": [
    "## 5. Confidence Intervals for β"
   ]
  },
  {
   "cell_type": "code",
   "execution_count": 23,
   "id": "91e0be7d",
   "metadata": {},
   "outputs": [
    {
     "data": {
      "text/plain": [
       "array([-0.0702158 ,  0.02233912])"
      ]
     },
     "execution_count": 23,
     "metadata": {},
     "output_type": "execute_result"
    }
   ],
   "source": [
    "lmod = smf.ols(\n",
    "    'Species ~ Area + Elevation + Nearest + Scruz + Adjacent',\n",
    "    galapagos\n",
    ").fit()\n",
    "qt = np.array(sp.stats.t.interval(0.95, 24))  # 24 = df\n",
    "ci_area = lmod.params[1] + lmod.bse[1] * qt\n",
    "ci_area"
   ]
  },
  {
   "cell_type": "code",
   "execution_count": 25,
   "id": "8cc3652e",
   "metadata": {},
   "outputs": [
    {
     "data": {
      "text/plain": [
       "array([-0.11133622, -0.03827344])"
      ]
     },
     "execution_count": 25,
     "metadata": {},
     "output_type": "execute_result"
    }
   ],
   "source": [
    "ci_adjacent = lmod.params[5] + lmod.bse[5] * qt\n",
    "ci_adjacent"
   ]
  },
  {
   "cell_type": "code",
   "execution_count": 26,
   "id": "a9e47d53",
   "metadata": {},
   "outputs": [
    {
     "data": {
      "text/html": [
       "<div>\n",
       "<style scoped>\n",
       "    .dataframe tbody tr th:only-of-type {\n",
       "        vertical-align: middle;\n",
       "    }\n",
       "\n",
       "    .dataframe tbody tr th {\n",
       "        vertical-align: top;\n",
       "    }\n",
       "\n",
       "    .dataframe thead th {\n",
       "        text-align: right;\n",
       "    }\n",
       "</style>\n",
       "<table border=\"1\" class=\"dataframe\">\n",
       "  <thead>\n",
       "    <tr style=\"text-align: right;\">\n",
       "      <th></th>\n",
       "      <th>0</th>\n",
       "      <th>1</th>\n",
       "    </tr>\n",
       "  </thead>\n",
       "  <tbody>\n",
       "    <tr>\n",
       "      <th>Intercept</th>\n",
       "      <td>-32.464101</td>\n",
       "      <td>46.600542</td>\n",
       "    </tr>\n",
       "    <tr>\n",
       "      <th>Area</th>\n",
       "      <td>-0.070216</td>\n",
       "      <td>0.022339</td>\n",
       "    </tr>\n",
       "    <tr>\n",
       "      <th>Elevation</th>\n",
       "      <td>0.208710</td>\n",
       "      <td>0.430219</td>\n",
       "    </tr>\n",
       "    <tr>\n",
       "      <th>Nearest</th>\n",
       "      <td>-2.166486</td>\n",
       "      <td>2.184774</td>\n",
       "    </tr>\n",
       "    <tr>\n",
       "      <th>Scruz</th>\n",
       "      <td>-0.685093</td>\n",
       "      <td>0.204044</td>\n",
       "    </tr>\n",
       "    <tr>\n",
       "      <th>Adjacent</th>\n",
       "      <td>-0.111336</td>\n",
       "      <td>-0.038273</td>\n",
       "    </tr>\n",
       "  </tbody>\n",
       "</table>\n",
       "</div>"
      ],
      "text/plain": [
       "                   0          1\n",
       "Intercept -32.464101  46.600542\n",
       "Area       -0.070216   0.022339\n",
       "Elevation   0.208710   0.430219\n",
       "Nearest    -2.166486   2.184774\n",
       "Scruz      -0.685093   0.204044\n",
       "Adjacent   -0.111336  -0.038273"
      ]
     },
     "execution_count": 26,
     "metadata": {},
     "output_type": "execute_result"
    }
   ],
   "source": [
    "lmod.conf_int()"
   ]
  },
  {
   "cell_type": "code",
   "execution_count": null,
   "id": "bdcff563",
   "metadata": {},
   "outputs": [],
   "source": []
  }
 ],
 "metadata": {
  "kernelspec": {
   "display_name": "Python 3 (ipykernel)",
   "language": "python",
   "name": "python3"
  },
  "language_info": {
   "codemirror_mode": {
    "name": "ipython",
    "version": 3
   },
   "file_extension": ".py",
   "mimetype": "text/x-python",
   "name": "python",
   "nbconvert_exporter": "python",
   "pygments_lexer": "ipython3",
   "version": "3.8.5"
  }
 },
 "nbformat": 4,
 "nbformat_minor": 5
}
