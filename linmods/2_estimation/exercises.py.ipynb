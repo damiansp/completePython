{
 "cells": [
  {
   "cell_type": "code",
   "execution_count": 16,
   "id": "20d0c766",
   "metadata": {},
   "outputs": [],
   "source": [
    "from   faraway.datasets import teengamb\n",
    "import matplotlib.pyplot as plt\n",
    "import statsmodels.formula.api as smf"
   ]
  },
  {
   "cell_type": "markdown",
   "id": "feb47ffc",
   "metadata": {},
   "source": [
    "### 1"
   ]
  },
  {
   "cell_type": "code",
   "execution_count": 2,
   "id": "76114e3d",
   "metadata": {},
   "outputs": [
    {
     "data": {
      "text/html": [
       "<div>\n",
       "<style scoped>\n",
       "    .dataframe tbody tr th:only-of-type {\n",
       "        vertical-align: middle;\n",
       "    }\n",
       "\n",
       "    .dataframe tbody tr th {\n",
       "        vertical-align: top;\n",
       "    }\n",
       "\n",
       "    .dataframe thead th {\n",
       "        text-align: right;\n",
       "    }\n",
       "</style>\n",
       "<table border=\"1\" class=\"dataframe\">\n",
       "  <thead>\n",
       "    <tr style=\"text-align: right;\">\n",
       "      <th></th>\n",
       "      <th>sex</th>\n",
       "      <th>status</th>\n",
       "      <th>income</th>\n",
       "      <th>verbal</th>\n",
       "      <th>gamble</th>\n",
       "    </tr>\n",
       "  </thead>\n",
       "  <tbody>\n",
       "    <tr>\n",
       "      <th>0</th>\n",
       "      <td>1</td>\n",
       "      <td>51</td>\n",
       "      <td>2.0</td>\n",
       "      <td>8</td>\n",
       "      <td>0.0</td>\n",
       "    </tr>\n",
       "    <tr>\n",
       "      <th>1</th>\n",
       "      <td>1</td>\n",
       "      <td>28</td>\n",
       "      <td>2.5</td>\n",
       "      <td>8</td>\n",
       "      <td>0.0</td>\n",
       "    </tr>\n",
       "    <tr>\n",
       "      <th>2</th>\n",
       "      <td>1</td>\n",
       "      <td>37</td>\n",
       "      <td>2.0</td>\n",
       "      <td>6</td>\n",
       "      <td>0.0</td>\n",
       "    </tr>\n",
       "    <tr>\n",
       "      <th>3</th>\n",
       "      <td>1</td>\n",
       "      <td>28</td>\n",
       "      <td>7.0</td>\n",
       "      <td>4</td>\n",
       "      <td>7.3</td>\n",
       "    </tr>\n",
       "    <tr>\n",
       "      <th>4</th>\n",
       "      <td>1</td>\n",
       "      <td>65</td>\n",
       "      <td>2.0</td>\n",
       "      <td>8</td>\n",
       "      <td>19.6</td>\n",
       "    </tr>\n",
       "  </tbody>\n",
       "</table>\n",
       "</div>"
      ],
      "text/plain": [
       "   sex  status  income  verbal  gamble\n",
       "0    1      51     2.0       8     0.0\n",
       "1    1      28     2.5       8     0.0\n",
       "2    1      37     2.0       6     0.0\n",
       "3    1      28     7.0       4     7.3\n",
       "4    1      65     2.0       8    19.6"
      ]
     },
     "execution_count": 2,
     "metadata": {},
     "output_type": "execute_result"
    }
   ],
   "source": [
    "tg = teengamb.load()\n",
    "tg.head()"
   ]
  },
  {
   "cell_type": "code",
   "execution_count": 5,
   "id": "28249f48",
   "metadata": {},
   "outputs": [
    {
     "data": {
      "text/html": [
       "<table class=\"simpletable\">\n",
       "<caption>OLS Regression Results</caption>\n",
       "<tr>\n",
       "  <th>Dep. Variable:</th>         <td>gamble</td>      <th>  R-squared:         </th> <td>   0.527</td>\n",
       "</tr>\n",
       "<tr>\n",
       "  <th>Model:</th>                   <td>OLS</td>       <th>  Adj. R-squared:    </th> <td>   0.482</td>\n",
       "</tr>\n",
       "<tr>\n",
       "  <th>Method:</th>             <td>Least Squares</td>  <th>  F-statistic:       </th> <td>   11.69</td>\n",
       "</tr>\n",
       "<tr>\n",
       "  <th>Date:</th>             <td>Sat, 26 Feb 2022</td> <th>  Prob (F-statistic):</th> <td>1.81e-06</td>\n",
       "</tr>\n",
       "<tr>\n",
       "  <th>Time:</th>                 <td>17:24:25</td>     <th>  Log-Likelihood:    </th> <td> -210.78</td>\n",
       "</tr>\n",
       "<tr>\n",
       "  <th>No. Observations:</th>      <td>    47</td>      <th>  AIC:               </th> <td>   431.6</td>\n",
       "</tr>\n",
       "<tr>\n",
       "  <th>Df Residuals:</th>          <td>    42</td>      <th>  BIC:               </th> <td>   440.8</td>\n",
       "</tr>\n",
       "<tr>\n",
       "  <th>Df Model:</th>              <td>     4</td>      <th>                     </th>     <td> </td>   \n",
       "</tr>\n",
       "<tr>\n",
       "  <th>Covariance Type:</th>      <td>nonrobust</td>    <th>                     </th>     <td> </td>   \n",
       "</tr>\n",
       "</table>\n",
       "<table class=\"simpletable\">\n",
       "<tr>\n",
       "      <td></td>         <th>coef</th>     <th>std err</th>      <th>t</th>      <th>P>|t|</th>  <th>[0.025</th>    <th>0.975]</th>  \n",
       "</tr>\n",
       "<tr>\n",
       "  <th>Intercept</th> <td>   22.5557</td> <td>   17.197</td> <td>    1.312</td> <td> 0.197</td> <td>  -12.149</td> <td>   57.260</td>\n",
       "</tr>\n",
       "<tr>\n",
       "  <th>sex</th>       <td>  -22.1183</td> <td>    8.211</td> <td>   -2.694</td> <td> 0.010</td> <td>  -38.689</td> <td>   -5.548</td>\n",
       "</tr>\n",
       "<tr>\n",
       "  <th>status</th>    <td>    0.0522</td> <td>    0.281</td> <td>    0.186</td> <td> 0.853</td> <td>   -0.515</td> <td>    0.620</td>\n",
       "</tr>\n",
       "<tr>\n",
       "  <th>income</th>    <td>    4.9620</td> <td>    1.025</td> <td>    4.839</td> <td> 0.000</td> <td>    2.893</td> <td>    7.031</td>\n",
       "</tr>\n",
       "<tr>\n",
       "  <th>verbal</th>    <td>   -2.9595</td> <td>    2.172</td> <td>   -1.362</td> <td> 0.180</td> <td>   -7.343</td> <td>    1.424</td>\n",
       "</tr>\n",
       "</table>\n",
       "<table class=\"simpletable\">\n",
       "<tr>\n",
       "  <th>Omnibus:</th>       <td>31.143</td> <th>  Durbin-Watson:     </th> <td>   2.214</td>\n",
       "</tr>\n",
       "<tr>\n",
       "  <th>Prob(Omnibus):</th> <td> 0.000</td> <th>  Jarque-Bera (JB):  </th> <td> 101.046</td>\n",
       "</tr>\n",
       "<tr>\n",
       "  <th>Skew:</th>          <td> 1.604</td> <th>  Prob(JB):          </th> <td>1.14e-22</td>\n",
       "</tr>\n",
       "<tr>\n",
       "  <th>Kurtosis:</th>      <td> 9.427</td> <th>  Cond. No.          </th> <td>    264.</td>\n",
       "</tr>\n",
       "</table><br/><br/>Notes:<br/>[1] Standard Errors assume that the covariance matrix of the errors is correctly specified."
      ],
      "text/plain": [
       "<class 'statsmodels.iolib.summary.Summary'>\n",
       "\"\"\"\n",
       "                            OLS Regression Results                            \n",
       "==============================================================================\n",
       "Dep. Variable:                 gamble   R-squared:                       0.527\n",
       "Model:                            OLS   Adj. R-squared:                  0.482\n",
       "Method:                 Least Squares   F-statistic:                     11.69\n",
       "Date:                Sat, 26 Feb 2022   Prob (F-statistic):           1.81e-06\n",
       "Time:                        17:24:25   Log-Likelihood:                -210.78\n",
       "No. Observations:                  47   AIC:                             431.6\n",
       "Df Residuals:                      42   BIC:                             440.8\n",
       "Df Model:                           4                                         \n",
       "Covariance Type:            nonrobust                                         \n",
       "==============================================================================\n",
       "                 coef    std err          t      P>|t|      [0.025      0.975]\n",
       "------------------------------------------------------------------------------\n",
       "Intercept     22.5557     17.197      1.312      0.197     -12.149      57.260\n",
       "sex          -22.1183      8.211     -2.694      0.010     -38.689      -5.548\n",
       "status         0.0522      0.281      0.186      0.853      -0.515       0.620\n",
       "income         4.9620      1.025      4.839      0.000       2.893       7.031\n",
       "verbal        -2.9595      2.172     -1.362      0.180      -7.343       1.424\n",
       "==============================================================================\n",
       "Omnibus:                       31.143   Durbin-Watson:                   2.214\n",
       "Prob(Omnibus):                  0.000   Jarque-Bera (JB):              101.046\n",
       "Skew:                           1.604   Prob(JB):                     1.14e-22\n",
       "Kurtosis:                       9.427   Cond. No.                         264.\n",
       "==============================================================================\n",
       "\n",
       "Notes:\n",
       "[1] Standard Errors assume that the covariance matrix of the errors is correctly specified.\n",
       "\"\"\""
      ]
     },
     "execution_count": 5,
     "metadata": {},
     "output_type": "execute_result"
    }
   ],
   "source": [
    "lmod = smf.ols('gamble ~ sex + status + income + verbal', data=tg).fit()\n",
    "lmod.summary()"
   ]
  },
  {
   "cell_type": "code",
   "execution_count": 8,
   "id": "5c3343a8",
   "metadata": {},
   "outputs": [
    {
     "data": {
      "text/plain": [
       "23"
      ]
     },
     "execution_count": 8,
     "metadata": {},
     "output_type": "execute_result"
    }
   ],
   "source": [
    "lmod.resid.idxmax()"
   ]
  },
  {
   "cell_type": "code",
   "execution_count": 9,
   "id": "7db3df55",
   "metadata": {},
   "outputs": [
    {
     "data": {
      "text/plain": [
       "(6.743352920974312e-13, -1.4513920689688593)"
      ]
     },
     "execution_count": 9,
     "metadata": {},
     "output_type": "execute_result"
    }
   ],
   "source": [
    "lmod.resid.mean(), lmod.resid.median()"
   ]
  },
  {
   "cell_type": "code",
   "execution_count": 15,
   "id": "d4de0df9",
   "metadata": {},
   "outputs": [
    {
     "data": {
      "text/plain": [
       "1.1390689371420674e-15"
      ]
     },
     "execution_count": 15,
     "metadata": {},
     "output_type": "execute_result"
    }
   ],
   "source": [
    "lmod.fittedvalues.corr(lmod.resid)"
   ]
  },
  {
   "cell_type": "code",
   "execution_count": 27,
   "id": "5d436b1c",
   "metadata": {},
   "outputs": [
    {
     "data": {
      "image/png": "[encoded data removed]",
      "text/plain": [
       "<Figure size 432x288 with 1 Axes>"
      ]
     },
     "metadata": {
      "needs_background": "light"
     },
     "output_type": "display_data"
    }
   ],
   "source": [
    "plt.scatter(lmod.fittedvalues, lmod.resid, alpha=0.6)\n",
    "plt.xlabel('Fitted Value')\n",
    "plt.ylabel('Resid')\n",
    "plt.axhline(y=0, color='k', linestyle='-.');"
   ]
  },
  {
   "cell_type": "code",
   "execution_count": null,
   "id": "e10222be",
   "metadata": {},
   "outputs": [],
   "source": []
  }
 ],
 "metadata": {
  "kernelspec": {
   "display_name": "Python 3 (ipykernel)",
   "language": "python",
   "name": "python3"
  },
  "language_info": {
   "codemirror_mode": {
    "name": "ipython",
    "version": 3
   },
   "file_extension": ".py",
   "mimetype": "text/x-python",
   "name": "python",
   "nbconvert_exporter": "python",
   "pygments_lexer": "ipython3",
   "version": "3.8.5"
  }
 },
 "nbformat": 4,
 "nbformat_minor": 5
}
