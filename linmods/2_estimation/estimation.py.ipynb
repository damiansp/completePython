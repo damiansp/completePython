{
 "cells": [
  {
   "cell_type": "code",
   "execution_count": 29,
   "id": "143712f7",
   "metadata": {},
   "outputs": [],
   "source": [
    "from   faraway.datasets import galapagos, odor\n",
    "import faraway.utils\n",
    "import matplotlib.pyplot as plt\n",
    "import numpy as np\n",
    "import pandas as pd\n",
    "import scipy as sp\n",
    "import seaborn as sns\n",
    "import statsmodels.api as sm\n",
    "import statsmodels.formula.api as smf"
   ]
  },
  {
   "cell_type": "markdown",
   "id": "f4afaaa1",
   "metadata": {},
   "source": [
    "## 6. Example"
   ]
  },
  {
   "cell_type": "code",
   "execution_count": 2,
   "id": "5de03554",
   "metadata": {},
   "outputs": [
    {
     "data": {
      "text/html": [
       "<div>\n",
       "<style scoped>\n",
       "    .dataframe tbody tr th:only-of-type {\n",
       "        vertical-align: middle;\n",
       "    }\n",
       "\n",
       "    .dataframe tbody tr th {\n",
       "        vertical-align: top;\n",
       "    }\n",
       "\n",
       "    .dataframe thead th {\n",
       "        text-align: right;\n",
       "    }\n",
       "</style>\n",
       "<table border=\"1\" class=\"dataframe\">\n",
       "  <thead>\n",
       "    <tr style=\"text-align: right;\">\n",
       "      <th></th>\n",
       "      <th>Species</th>\n",
       "      <th>Area</th>\n",
       "      <th>Elevation</th>\n",
       "      <th>Nearest</th>\n",
       "      <th>Scruz</th>\n",
       "      <th>Adjacent</th>\n",
       "    </tr>\n",
       "  </thead>\n",
       "  <tbody>\n",
       "    <tr>\n",
       "      <th>Baltra</th>\n",
       "      <td>58</td>\n",
       "      <td>25.09</td>\n",
       "      <td>346</td>\n",
       "      <td>0.6</td>\n",
       "      <td>0.6</td>\n",
       "      <td>1.84</td>\n",
       "    </tr>\n",
       "    <tr>\n",
       "      <th>Bartolome</th>\n",
       "      <td>31</td>\n",
       "      <td>1.24</td>\n",
       "      <td>109</td>\n",
       "      <td>0.6</td>\n",
       "      <td>26.3</td>\n",
       "      <td>572.33</td>\n",
       "    </tr>\n",
       "    <tr>\n",
       "      <th>Caldwell</th>\n",
       "      <td>3</td>\n",
       "      <td>0.21</td>\n",
       "      <td>114</td>\n",
       "      <td>2.8</td>\n",
       "      <td>58.7</td>\n",
       "      <td>0.78</td>\n",
       "    </tr>\n",
       "    <tr>\n",
       "      <th>Champion</th>\n",
       "      <td>25</td>\n",
       "      <td>0.10</td>\n",
       "      <td>46</td>\n",
       "      <td>1.9</td>\n",
       "      <td>47.4</td>\n",
       "      <td>0.18</td>\n",
       "    </tr>\n",
       "    <tr>\n",
       "      <th>Coamano</th>\n",
       "      <td>2</td>\n",
       "      <td>0.05</td>\n",
       "      <td>77</td>\n",
       "      <td>1.9</td>\n",
       "      <td>1.9</td>\n",
       "      <td>903.82</td>\n",
       "    </tr>\n",
       "  </tbody>\n",
       "</table>\n",
       "</div>"
      ],
      "text/plain": [
       "           Species   Area  Elevation  Nearest  Scruz  Adjacent\n",
       "Baltra          58  25.09        346      0.6    0.6      1.84\n",
       "Bartolome       31   1.24        109      0.6   26.3    572.33\n",
       "Caldwell         3   0.21        114      2.8   58.7      0.78\n",
       "Champion        25   0.10         46      1.9   47.4      0.18\n",
       "Coamano          2   0.05         77      1.9    1.9    903.82"
      ]
     },
     "execution_count": 2,
     "metadata": {},
     "output_type": "execute_result"
    }
   ],
   "source": [
    "data = galapagos.load()\n",
    "data.head()"
   ]
  },
  {
   "cell_type": "code",
   "execution_count": 3,
   "id": "b7b3799f",
   "metadata": {},
   "outputs": [
    {
     "data": {
      "text/html": [
       "<table class=\"simpletable\">\n",
       "<caption>OLS Regression Results</caption>\n",
       "<tr>\n",
       "  <th>Dep. Variable:</th>         <td>Species</td>     <th>  R-squared:         </th> <td>   0.766</td>\n",
       "</tr>\n",
       "<tr>\n",
       "  <th>Model:</th>                   <td>OLS</td>       <th>  Adj. R-squared:    </th> <td>   0.717</td>\n",
       "</tr>\n",
       "<tr>\n",
       "  <th>Method:</th>             <td>Least Squares</td>  <th>  F-statistic:       </th> <td>   15.70</td>\n",
       "</tr>\n",
       "<tr>\n",
       "  <th>Date:</th>             <td>Mon, 21 Feb 2022</td> <th>  Prob (F-statistic):</th> <td>6.84e-07</td>\n",
       "</tr>\n",
       "<tr>\n",
       "  <th>Time:</th>                 <td>16:44:42</td>     <th>  Log-Likelihood:    </th> <td> -162.54</td>\n",
       "</tr>\n",
       "<tr>\n",
       "  <th>No. Observations:</th>      <td>    30</td>      <th>  AIC:               </th> <td>   337.1</td>\n",
       "</tr>\n",
       "<tr>\n",
       "  <th>Df Residuals:</th>          <td>    24</td>      <th>  BIC:               </th> <td>   345.5</td>\n",
       "</tr>\n",
       "<tr>\n",
       "  <th>Df Model:</th>              <td>     5</td>      <th>                     </th>     <td> </td>   \n",
       "</tr>\n",
       "<tr>\n",
       "  <th>Covariance Type:</th>      <td>nonrobust</td>    <th>                     </th>     <td> </td>   \n",
       "</tr>\n",
       "</table>\n",
       "<table class=\"simpletable\">\n",
       "<tr>\n",
       "      <td></td>         <th>coef</th>     <th>std err</th>      <th>t</th>      <th>P>|t|</th>  <th>[0.025</th>    <th>0.975]</th>  \n",
       "</tr>\n",
       "<tr>\n",
       "  <th>Intercept</th> <td>    7.0682</td> <td>   19.154</td> <td>    0.369</td> <td> 0.715</td> <td>  -32.464</td> <td>   46.601</td>\n",
       "</tr>\n",
       "<tr>\n",
       "  <th>Area</th>      <td>   -0.0239</td> <td>    0.022</td> <td>   -1.068</td> <td> 0.296</td> <td>   -0.070</td> <td>    0.022</td>\n",
       "</tr>\n",
       "<tr>\n",
       "  <th>Elevation</th> <td>    0.3195</td> <td>    0.054</td> <td>    5.953</td> <td> 0.000</td> <td>    0.209</td> <td>    0.430</td>\n",
       "</tr>\n",
       "<tr>\n",
       "  <th>Nearest</th>   <td>    0.0091</td> <td>    1.054</td> <td>    0.009</td> <td> 0.993</td> <td>   -2.166</td> <td>    2.185</td>\n",
       "</tr>\n",
       "<tr>\n",
       "  <th>Scruz</th>     <td>   -0.2405</td> <td>    0.215</td> <td>   -1.117</td> <td> 0.275</td> <td>   -0.685</td> <td>    0.204</td>\n",
       "</tr>\n",
       "<tr>\n",
       "  <th>Adjacent</th>  <td>   -0.0748</td> <td>    0.018</td> <td>   -4.226</td> <td> 0.000</td> <td>   -0.111</td> <td>   -0.038</td>\n",
       "</tr>\n",
       "</table>\n",
       "<table class=\"simpletable\">\n",
       "<tr>\n",
       "  <th>Omnibus:</th>       <td>12.683</td> <th>  Durbin-Watson:     </th> <td>   2.476</td>\n",
       "</tr>\n",
       "<tr>\n",
       "  <th>Prob(Omnibus):</th> <td> 0.002</td> <th>  Jarque-Bera (JB):  </th> <td>  13.498</td>\n",
       "</tr>\n",
       "<tr>\n",
       "  <th>Skew:</th>          <td> 1.136</td> <th>  Prob(JB):          </th> <td> 0.00117</td>\n",
       "</tr>\n",
       "<tr>\n",
       "  <th>Kurtosis:</th>      <td> 5.374</td> <th>  Cond. No.          </th> <td>1.90e+03</td>\n",
       "</tr>\n",
       "</table><br/><br/>Notes:<br/>[1] Standard Errors assume that the covariance matrix of the errors is correctly specified.<br/>[2] The condition number is large, 1.9e+03. This might indicate that there are<br/>strong multicollinearity or other numerical problems."
      ],
      "text/plain": [
       "<class 'statsmodels.iolib.summary.Summary'>\n",
       "\"\"\"\n",
       "                            OLS Regression Results                            \n",
       "==============================================================================\n",
       "Dep. Variable:                Species   R-squared:                       0.766\n",
       "Model:                            OLS   Adj. R-squared:                  0.717\n",
       "Method:                 Least Squares   F-statistic:                     15.70\n",
       "Date:                Mon, 21 Feb 2022   Prob (F-statistic):           6.84e-07\n",
       "Time:                        16:44:42   Log-Likelihood:                -162.54\n",
       "No. Observations:                  30   AIC:                             337.1\n",
       "Df Residuals:                      24   BIC:                             345.5\n",
       "Df Model:                           5                                         \n",
       "Covariance Type:            nonrobust                                         \n",
       "==============================================================================\n",
       "                 coef    std err          t      P>|t|      [0.025      0.975]\n",
       "------------------------------------------------------------------------------\n",
       "Intercept      7.0682     19.154      0.369      0.715     -32.464      46.601\n",
       "Area          -0.0239      0.022     -1.068      0.296      -0.070       0.022\n",
       "Elevation      0.3195      0.054      5.953      0.000       0.209       0.430\n",
       "Nearest        0.0091      1.054      0.009      0.993      -2.166       2.185\n",
       "Scruz         -0.2405      0.215     -1.117      0.275      -0.685       0.204\n",
       "Adjacent      -0.0748      0.018     -4.226      0.000      -0.111      -0.038\n",
       "==============================================================================\n",
       "Omnibus:                       12.683   Durbin-Watson:                   2.476\n",
       "Prob(Omnibus):                  0.002   Jarque-Bera (JB):               13.498\n",
       "Skew:                           1.136   Prob(JB):                      0.00117\n",
       "Kurtosis:                       5.374   Cond. No.                     1.90e+03\n",
       "==============================================================================\n",
       "\n",
       "Notes:\n",
       "[1] Standard Errors assume that the covariance matrix of the errors is correctly specified.\n",
       "[2] The condition number is large, 1.9e+03. This might indicate that there are\n",
       "strong multicollinearity or other numerical problems.\n",
       "\"\"\""
      ]
     },
     "execution_count": 3,
     "metadata": {},
     "output_type": "execute_result"
    }
   ],
   "source": [
    "lmod = smf.ols(\n",
    "    'Species ~ Area + Elevation + Nearest + Scruz + Adjacent',\n",
    "    data=data\n",
    ").fit()\n",
    "lmod.summary()"
   ]
  },
  {
   "cell_type": "code",
   "execution_count": 4,
   "id": "e27af4bb",
   "metadata": {},
   "outputs": [
    {
     "name": "stdout",
     "output_type": "stream",
     "text": [
      "           coefs stderr tvalues pvalues\n",
      "Intercept  7.068 19.154    0.37  0.7154\n",
      "Area      -0.024  0.022   -1.07  0.2963\n",
      "Elevation  0.319  0.054    5.95  0.0000\n",
      "Nearest    0.009  1.054    0.01  0.9932\n",
      "Scruz     -0.241  0.215   -1.12  0.2752\n",
      "Adjacent  -0.075  0.018   -4.23  0.0003\n",
      "\n",
      "n=30 p=6 Residual SD=60.975 R-squared=0.77\n"
     ]
    }
   ],
   "source": [
    "lmod.sumary()"
   ]
  },
  {
   "cell_type": "code",
   "execution_count": 5,
   "id": "d6dec50d",
   "metadata": {},
   "outputs": [],
   "source": [
    "X = data.iloc[:, 1:]\n",
    "X.insert(0, 'intercept', 1)\n",
    "XTXi = np.linalg.inv(X.T @ X) # expensive!\n",
    "hat = XTXi @ X.T"
   ]
  },
  {
   "cell_type": "code",
   "execution_count": 6,
   "id": "902bb9f1",
   "metadata": {},
   "outputs": [
    {
     "data": {
      "text/plain": [
       "0    7.068221\n",
       "1   -0.023938\n",
       "2    0.319465\n",
       "3    0.009144\n",
       "4   -0.240524\n",
       "5   -0.074805\n",
       "dtype: float64"
      ]
     },
     "execution_count": 6,
     "metadata": {},
     "output_type": "execute_result"
    }
   ],
   "source": [
    "coefs = hat @ data.Species\n",
    "coefs"
   ]
  },
  {
   "cell_type": "code",
   "execution_count": 7,
   "id": "4eb753db",
   "metadata": {},
   "outputs": [
    {
     "data": {
      "text/plain": [
       "array([ 7.06822071, -0.02393834,  0.31946476,  0.00914396, -0.24052423,\n",
       "       -0.07480483])"
      ]
     },
     "execution_count": 7,
     "metadata": {},
     "output_type": "execute_result"
    }
   ],
   "source": [
    "# Somewhat better\n",
    "# Ax = b; solve(A, b) returns x\n",
    "np.linalg.solve(X.T @ X, X.T @ data.Species)"
   ]
  },
  {
   "cell_type": "code",
   "execution_count": 8,
   "id": "4d0d108f",
   "metadata": {},
   "outputs": [
    {
     "data": {
      "text/plain": [
       "Baltra          -58.725946\n",
       "Bartolome        38.273154\n",
       "Caldwell        -26.330659\n",
       "Champion         14.635734\n",
       "Coamano          38.383916\n",
       "Daphne.Major    -25.087705\n",
       "Daphne.Minor     -9.919668\n",
       "Darwin           19.018992\n",
       "Eden            -20.314202\n",
       "Enderby         -28.785943\n",
       "Espanola         49.343513\n",
       "Fernandina       -3.989598\n",
       "Gardner1         62.033276\n",
       "Gardner2        -59.633796\n",
       "Genovesa         40.497176\n",
       "Isabela         -39.403558\n",
       "Marchena        -37.694540\n",
       "Onslow           -2.037233\n",
       "Pinta          -111.679486\n",
       "Pinzon          -42.475375\n",
       "Las.Plazas      -23.075807\n",
       "Rabida           -5.553122\n",
       "SanCristobal     73.048122\n",
       "SanSalvador     -40.676318\n",
       "SantaCruz       182.583587\n",
       "SantaFe         -23.376486\n",
       "SantaMaria       89.383371\n",
       "Seymour          -5.805095\n",
       "Tortuga         -36.935732\n",
       "Wolf             -5.700573\n",
       "dtype: float64"
      ]
     },
     "execution_count": 8,
     "metadata": {},
     "output_type": "execute_result"
    }
   ],
   "source": [
    "lmod.resid"
   ]
  },
  {
   "cell_type": "code",
   "execution_count": 9,
   "id": "7bd2c464",
   "metadata": {},
   "outputs": [
    {
     "data": {
      "text/plain": [
       "Baltra          116.725946\n",
       "Bartolome        -7.273154\n",
       "Caldwell         29.330659\n",
       "Champion         10.364266\n",
       "Coamano         -36.383916\n",
       "Daphne.Major     43.087705\n",
       "Daphne.Minor     33.919668\n",
       "Darwin           -9.018992\n",
       "Eden             28.314202\n",
       "Enderby          30.785943\n",
       "Espanola         47.656487\n",
       "Fernandina       96.989598\n",
       "Gardner1         -4.033276\n",
       "Gardner2         64.633796\n",
       "Genovesa         -0.497176\n",
       "Isabela         386.403558\n",
       "Marchena         88.694540\n",
       "Onslow            4.037233\n",
       "Pinta           215.679486\n",
       "Pinzon          150.475375\n",
       "Las.Plazas       35.075807\n",
       "Rabida           75.553122\n",
       "SanCristobal    206.951878\n",
       "SanSalvador     277.676318\n",
       "SantaCruz       261.416413\n",
       "SantaFe          85.376486\n",
       "SantaMaria      195.616629\n",
       "Seymour          49.805095\n",
       "Tortuga          52.935732\n",
       "Wolf             26.700573\n",
       "dtype: float64"
      ]
     },
     "execution_count": 9,
     "metadata": {},
     "output_type": "execute_result"
    }
   ],
   "source": [
    "lmod.fittedvalues"
   ]
  },
  {
   "cell_type": "code",
   "execution_count": 10,
   "id": "7d54aac4",
   "metadata": {},
   "outputs": [
    {
     "data": {
      "text/plain": [
       "24.0"
      ]
     },
     "execution_count": 10,
     "metadata": {},
     "output_type": "execute_result"
    }
   ],
   "source": [
    "lmod.df_resid"
   ]
  },
  {
   "cell_type": "code",
   "execution_count": 11,
   "id": "28955df4",
   "metadata": {},
   "outputs": [
    {
     "data": {
      "text/plain": [
       "89231.36633005121"
      ]
     },
     "execution_count": 11,
     "metadata": {},
     "output_type": "execute_result"
    }
   ],
   "source": [
    "lmod.ssr # RSS"
   ]
  },
  {
   "cell_type": "code",
   "execution_count": 12,
   "id": "15cdacf6",
   "metadata": {},
   "outputs": [
    {
     "data": {
      "text/plain": [
       "60.97518837269359"
      ]
     },
     "execution_count": 12,
     "metadata": {},
     "output_type": "execute_result"
    }
   ],
   "source": [
    "np.sqrt(lmod.mse_resid) # RMSE"
   ]
  },
  {
   "cell_type": "markdown",
   "id": "93959499",
   "metadata": {},
   "source": [
    "## 7. Computing Least Squares Estimates"
   ]
  },
  {
   "cell_type": "code",
   "execution_count": 13,
   "id": "8427c95b",
   "metadata": {},
   "outputs": [
    {
     "data": {
      "text/plain": [
       "(6, 30)"
      ]
     },
     "execution_count": 13,
     "metadata": {},
     "output_type": "execute_result"
    }
   ],
   "source": [
    "# moore-penrose inverse\n",
    "Xmp = np.linalg.pinv(X)\n",
    "Xmp.shape"
   ]
  },
  {
   "cell_type": "code",
   "execution_count": 14,
   "id": "c43fda41",
   "metadata": {},
   "outputs": [
    {
     "data": {
      "text/plain": [
       "array([ 7.06822071, -0.02393834,  0.31946476,  0.00914396, -0.24052423,\n",
       "       -0.07480483])"
      ]
     },
     "execution_count": 14,
     "metadata": {},
     "output_type": "execute_result"
    }
   ],
   "source": [
    "# method used by statsmodels\n",
    "Xmp @ data.Species"
   ]
  },
  {
   "cell_type": "code",
   "execution_count": 15,
   "id": "cccaea86",
   "metadata": {},
   "outputs": [
    {
     "data": {
      "text/plain": [
       "array([-466.84219318,  381.40557435,  256.25047255,    5.40764552,\n",
       "       -119.49834019,  257.69436853])"
      ]
     },
     "execution_count": 15,
     "metadata": {},
     "output_type": "execute_result"
    }
   ],
   "source": [
    "# method used by R (QR decomp)\n",
    "q, r = np.linalg.qr(X)\n",
    "f = q.T @ data.Species\n",
    "f"
   ]
  },
  {
   "cell_type": "code",
   "execution_count": 16,
   "id": "26b01f51",
   "metadata": {},
   "outputs": [
    {
     "data": {
      "text/plain": [
       "array([ 7.06822071, -0.02393834,  0.31946476,  0.00914396, -0.24052423,\n",
       "       -0.07480483])"
      ]
     },
     "execution_count": 16,
     "metadata": {},
     "output_type": "execute_result"
    }
   ],
   "source": [
    "sp.linalg.solve_triangular(r, f)"
   ]
  },
  {
   "cell_type": "code",
   "execution_count": 17,
   "id": "1d545f9a",
   "metadata": {},
   "outputs": [
    {
     "data": {
      "text/plain": [
       "Intercept    7.068221\n",
       "Area        -0.023938\n",
       "Elevation    0.319465\n",
       "Nearest      0.009144\n",
       "Scruz       -0.240524\n",
       "Adjacent    -0.074805\n",
       "dtype: float64"
      ]
     },
     "execution_count": 17,
     "metadata": {},
     "output_type": "execute_result"
    }
   ],
   "source": [
    "# force QR in statmodels\n",
    "lm_form = smf.ols(\n",
    "    'Species ~ Area + Elevation + Nearest + Scruz + Adjacent',\n",
    "    data=data)\n",
    "lm = lm_form.fit(method='qr')\n",
    "lm.params"
   ]
  },
  {
   "cell_type": "code",
   "execution_count": 18,
   "id": "90a73163",
   "metadata": {},
   "outputs": [
    {
     "data": {
      "text/plain": [
       "array([ 7.06822071, -0.02393834,  0.31946476,  0.00914396, -0.24052423,\n",
       "       -0.07480483])"
      ]
     },
     "execution_count": 18,
     "metadata": {},
     "output_type": "execute_result"
    }
   ],
   "source": [
    "# Alternately (uses SVD decomp)\n",
    "params, res, rnk, s = sp.linalg.lstsq(X, data.Species)\n",
    "params"
   ]
  },
  {
   "cell_type": "markdown",
   "id": "2ed78320",
   "metadata": {},
   "source": [
    "## 9. Goodness of Fit"
   ]
  },
  {
   "cell_type": "code",
   "execution_count": 19,
   "id": "33fead81",
   "metadata": {},
   "outputs": [],
   "source": [
    "x = np.linspace(0, 1, 201)\n",
    "np.random.seed(111)\n",
    "y = x + np.random.normal(0, 0.1, 201)"
   ]
  },
  {
   "cell_type": "code",
   "execution_count": 20,
   "id": "1155f98f",
   "metadata": {},
   "outputs": [],
   "source": [
    "beta1, beta0 = np.polyfit(x, y, 1)"
   ]
  },
  {
   "cell_type": "code",
   "execution_count": 21,
   "id": "ec5b1650",
   "metadata": {},
   "outputs": [
    {
     "data": {
      "image/png": "[encoded data removed]",
      "text/plain": [
       "<Figure size 432x288 with 1 Axes>"
      ]
     },
     "metadata": {
      "needs_background": "light"
     },
     "output_type": "display_data"
    }
   ],
   "source": [
    "plt.scatter(x, y, alpha=0.6)\n",
    "plt.xlabel('x')\n",
    "plt.ylabel('y')\n",
    "plt.plot([0, 1], [beta0, beta0 + beta1], 'k-')\n",
    "plt.annotate(\n",
    "    '',\n",
    "    xy=(0.2, min(y)),\n",
    "    xytext=(0.2, max(y)),\n",
    "    arrowprops={'arrowstyle': '<->', 'lw': 2})\n",
    "plt.annotate(\n",
    "    '',\n",
    "    xy=(0.5, 0.3), \n",
    "    xytext=(0.5, 0.7),\n",
    "    arrowprops={'arrowstyle': '<->', 'linestyle': '--', 'lw': 2});"
   ]
  },
  {
   "cell_type": "markdown",
   "id": "0239adc8",
   "metadata": {},
   "source": [
    "## 10. Identifiability"
   ]
  },
  {
   "cell_type": "code",
   "execution_count": 22,
   "id": "5c64441f",
   "metadata": {},
   "outputs": [],
   "source": [
    "data['Adiff'] = data.Area - data.Adjacent"
   ]
  },
  {
   "cell_type": "code",
   "execution_count": 23,
   "id": "8ee73c6b",
   "metadata": {},
   "outputs": [],
   "source": [
    "lmodform = smf.ols(\n",
    "    'Species ~ Area + Elevation + Nearest + Scruz + Adjacent + Adiff',\n",
    "    data=data)"
   ]
  },
  {
   "cell_type": "code",
   "execution_count": 24,
   "id": "eb1aa396",
   "metadata": {},
   "outputs": [
    {
     "name": "stdout",
     "output_type": "stream",
     "text": [
      "           coefs stderr tvalues pvalues\n",
      "Intercept  7.068 19.154    0.37  0.7154\n",
      "Area      -0.041  0.018   -2.24  0.0349\n",
      "Elevation  0.319  0.054    5.95  0.0000\n",
      "Nearest    0.009  1.054    0.01  0.9932\n",
      "Scruz     -0.241  0.215   -1.12  0.2752\n",
      "Adjacent  -0.058  0.016   -3.51  0.0018\n",
      "Adiff      0.017  0.007    2.34  0.0279\n",
      "\n",
      "n=30 p=6 Residual SD=60.975 R-squared=0.77\n",
      "Warning: Strong collinearity - design may be singular\n"
     ]
    }
   ],
   "source": [
    "lmod = lmodform.fit()\n",
    "lmod.sumary()"
   ]
  },
  {
   "cell_type": "code",
   "execution_count": 25,
   "id": "13357bc6",
   "metadata": {},
   "outputs": [
    {
     "data": {
      "text/plain": [
       "3.5797035338573106e-25"
      ]
     },
     "execution_count": 25,
     "metadata": {},
     "output_type": "execute_result"
    }
   ],
   "source": [
    "lmod.eigenvals[-1]"
   ]
  },
  {
   "cell_type": "code",
   "execution_count": 26,
   "id": "0e4ecfc1",
   "metadata": {},
   "outputs": [
    {
     "name": "stdout",
     "output_type": "stream",
     "text": [
      "                           coefs stderr tvalues pvalues\n",
      "Intercept                  8.033 19.137    0.42  0.6784\n",
      "Area      -5,713,787,912,940.384    NaN     NaN     NaN\n",
      "Elevation                  0.318  0.054    5.93  0.0000\n",
      "Nearest                   -0.029  1.053   -0.03  0.9784\n",
      "Scruz                     -0.231  0.215   -1.07  0.2946\n",
      "Adjacent   5,713,787,912,940.284    NaN     NaN     NaN\n",
      "Adiff      5,713,787,912,940.359    NaN     NaN     NaN\n",
      "\n",
      "n=30 p=6 Residual SD=60.921 R-squared=0.77\n",
      "Warning: Strong collinearity - design may be singular\n"
     ]
    },
    {
     "name": "stderr",
     "output_type": "stream",
     "text": [
      "/Library/Frameworks/Python.framework/Versions/3.8/lib/python3.8/site-packages/statsmodels/regression/linear_model.py:1840: RuntimeWarning: invalid value encountered in sqrt\n",
      "  return np.sqrt(np.diag(self.cov_params()))\n"
     ]
    }
   ],
   "source": [
    "lmod = lmodform.fit(method='qr')\n",
    "lmod.sumary()"
   ]
  },
  {
   "cell_type": "code",
   "execution_count": 27,
   "id": "9e12cacd",
   "metadata": {},
   "outputs": [],
   "source": [
    "# Add small amt of random noise to make unidentifiable model \"nearly\" so.\n",
    "data.Adiff = data.Adiff + np.random.uniform(-0.005, 0.005, size=30)"
   ]
  },
  {
   "cell_type": "code",
   "execution_count": 28,
   "id": "631fc6eb",
   "metadata": {},
   "outputs": [
    {
     "name": "stdout",
     "output_type": "stream",
     "text": [
      "               coefs    stderr tvalues pvalues\n",
      "Intercept      8.175    19.435    0.42  0.6779\n",
      "Area      -3,069.981 4,468.889   -0.69  0.4990\n",
      "Elevation      0.325     0.055    5.92  0.0000\n",
      "Nearest       -0.041     1.068   -0.04  0.9695\n",
      "Scruz         -0.268     0.221   -1.21  0.2390\n",
      "Adjacent   3,069.878 4,468.883    0.69  0.4990\n",
      "Adiff      3,069.952 4,468.882    0.69  0.4990\n",
      "\n",
      "n=30 p=7 Residual SD=61.657 R-squared=0.77\n"
     ]
    }
   ],
   "source": [
    "lmod = smf.ols(\n",
    "    'Species ~ Area + Elevation + Nearest + Scruz + Adjacent + Adiff',\n",
    "    data=data\n",
    ").fit()\n",
    "lmod.sumary()"
   ]
  },
  {
   "cell_type": "markdown",
   "id": "cf7e5f26",
   "metadata": {},
   "source": [
    "## 11. Orthogonality"
   ]
  },
  {
   "cell_type": "code",
   "execution_count": 30,
   "id": "c70b4a2f",
   "metadata": {},
   "outputs": [
    {
     "data": {
      "text/html": [
       "<div>\n",
       "<style scoped>\n",
       "    .dataframe tbody tr th:only-of-type {\n",
       "        vertical-align: middle;\n",
       "    }\n",
       "\n",
       "    .dataframe tbody tr th {\n",
       "        vertical-align: top;\n",
       "    }\n",
       "\n",
       "    .dataframe thead th {\n",
       "        text-align: right;\n",
       "    }\n",
       "</style>\n",
       "<table border=\"1\" class=\"dataframe\">\n",
       "  <thead>\n",
       "    <tr style=\"text-align: right;\">\n",
       "      <th></th>\n",
       "      <th>odor</th>\n",
       "      <th>temp</th>\n",
       "      <th>gas</th>\n",
       "      <th>pack</th>\n",
       "    </tr>\n",
       "  </thead>\n",
       "  <tbody>\n",
       "    <tr>\n",
       "      <th>0</th>\n",
       "      <td>66</td>\n",
       "      <td>-1</td>\n",
       "      <td>-1</td>\n",
       "      <td>0</td>\n",
       "    </tr>\n",
       "    <tr>\n",
       "      <th>1</th>\n",
       "      <td>39</td>\n",
       "      <td>1</td>\n",
       "      <td>-1</td>\n",
       "      <td>0</td>\n",
       "    </tr>\n",
       "    <tr>\n",
       "      <th>2</th>\n",
       "      <td>43</td>\n",
       "      <td>-1</td>\n",
       "      <td>1</td>\n",
       "      <td>0</td>\n",
       "    </tr>\n",
       "    <tr>\n",
       "      <th>3</th>\n",
       "      <td>49</td>\n",
       "      <td>1</td>\n",
       "      <td>1</td>\n",
       "      <td>0</td>\n",
       "    </tr>\n",
       "    <tr>\n",
       "      <th>4</th>\n",
       "      <td>58</td>\n",
       "      <td>-1</td>\n",
       "      <td>0</td>\n",
       "      <td>-1</td>\n",
       "    </tr>\n",
       "  </tbody>\n",
       "</table>\n",
       "</div>"
      ],
      "text/plain": [
       "   odor  temp  gas  pack\n",
       "0    66    -1   -1     0\n",
       "1    39     1   -1     0\n",
       "2    43    -1    1     0\n",
       "3    49     1    1     0\n",
       "4    58    -1    0    -1"
      ]
     },
     "execution_count": 30,
     "metadata": {},
     "output_type": "execute_result"
    }
   ],
   "source": [
    "odor_df = odor.load()\n",
    "odor_df.head()"
   ]
  },
  {
   "cell_type": "code",
   "execution_count": 32,
   "id": "b3b2d9c6",
   "metadata": {},
   "outputs": [
    {
     "data": {
      "text/html": [
       "<div>\n",
       "<style scoped>\n",
       "    .dataframe tbody tr th:only-of-type {\n",
       "        vertical-align: middle;\n",
       "    }\n",
       "\n",
       "    .dataframe tbody tr th {\n",
       "        vertical-align: top;\n",
       "    }\n",
       "\n",
       "    .dataframe thead th {\n",
       "        text-align: right;\n",
       "    }\n",
       "</style>\n",
       "<table border=\"1\" class=\"dataframe\">\n",
       "  <thead>\n",
       "    <tr style=\"text-align: right;\">\n",
       "      <th></th>\n",
       "      <th>temp</th>\n",
       "      <th>gas</th>\n",
       "      <th>pack</th>\n",
       "    </tr>\n",
       "  </thead>\n",
       "  <tbody>\n",
       "    <tr>\n",
       "      <th>temp</th>\n",
       "      <td>0.571429</td>\n",
       "      <td>0.000000</td>\n",
       "      <td>0.000000</td>\n",
       "    </tr>\n",
       "    <tr>\n",
       "      <th>gas</th>\n",
       "      <td>0.000000</td>\n",
       "      <td>0.571429</td>\n",
       "      <td>0.000000</td>\n",
       "    </tr>\n",
       "    <tr>\n",
       "      <th>pack</th>\n",
       "      <td>0.000000</td>\n",
       "      <td>0.000000</td>\n",
       "      <td>0.571429</td>\n",
       "    </tr>\n",
       "  </tbody>\n",
       "</table>\n",
       "</div>"
      ],
      "text/plain": [
       "          temp       gas      pack\n",
       "temp  0.571429  0.000000  0.000000\n",
       "gas   0.000000  0.571429  0.000000\n",
       "pack  0.000000  0.000000  0.571429"
      ]
     },
     "execution_count": 32,
     "metadata": {},
     "output_type": "execute_result"
    }
   ],
   "source": [
    "odor_df.iloc[:, 1:].cov() # orthogonal!"
   ]
  },
  {
   "cell_type": "code",
   "execution_count": 34,
   "id": "0667c7c5",
   "metadata": {},
   "outputs": [
    {
     "data": {
      "text/plain": [
       "Intercept    15.200\n",
       "temp        -12.125\n",
       "gas         -17.000\n",
       "pack        -21.375\n",
       "dtype: float64"
      ]
     },
     "execution_count": 34,
     "metadata": {},
     "output_type": "execute_result"
    }
   ],
   "source": [
    "lmod = smf.ols('odor ~ temp + gas + pack', odor_df).fit()\n",
    "lmod.params"
   ]
  },
  {
   "cell_type": "code",
   "execution_count": 36,
   "id": "13034282",
   "metadata": {},
   "outputs": [
    {
     "data": {
      "text/plain": [
       "Intercept    15.200\n",
       "gas         -17.000\n",
       "pack        -21.375\n",
       "dtype: float64"
      ]
     },
     "execution_count": 36,
     "metadata": {},
     "output_type": "execute_result"
    }
   ],
   "source": [
    "lmod = smf.ols('odor ~ gas + pack', odor_df).fit()\n",
    "lmod.params # independent of predictors chosen"
   ]
  },
  {
   "cell_type": "code",
   "execution_count": null,
   "id": "c18eca38",
   "metadata": {},
   "outputs": [],
   "source": []
  }
 ],
 "metadata": {
  "kernelspec": {
   "display_name": "Python 3 (ipykernel)",
   "language": "python",
   "name": "python3"
  },
  "language_info": {
   "codemirror_mode": {
    "name": "ipython",
    "version": 3
   },
   "file_extension": ".py",
   "mimetype": "text/x-python",
   "name": "python",
   "nbconvert_exporter": "python",
   "pygments_lexer": "ipython3",
   "version": "3.8.5"
  }
 },
 "nbformat": 4,
 "nbformat_minor": 5
}
