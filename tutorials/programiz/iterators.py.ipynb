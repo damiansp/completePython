{
 "cells": [
  {
   "cell_type": "code",
   "execution_count": 1,
   "id": "understanding-falls",
   "metadata": {},
   "outputs": [
    {
     "data": {
      "text/plain": [
       "4"
      ]
     },
     "execution_count": 1,
     "metadata": {},
     "output_type": "execute_result"
    }
   ],
   "source": [
    "my_list = [4, 7, 0, 3]\n",
    "my_iter = iter(my_list)\n",
    "next(my_iter)"
   ]
  },
  {
   "cell_type": "code",
   "execution_count": 2,
   "id": "demographic-variety",
   "metadata": {},
   "outputs": [
    {
     "data": {
      "text/plain": [
       "7"
      ]
     },
     "execution_count": 2,
     "metadata": {},
     "output_type": "execute_result"
    }
   ],
   "source": [
    "next(my_iter)"
   ]
  },
  {
   "cell_type": "code",
   "execution_count": 3,
   "id": "endless-audience",
   "metadata": {},
   "outputs": [
    {
     "data": {
      "text/plain": [
       "0"
      ]
     },
     "execution_count": 3,
     "metadata": {},
     "output_type": "execute_result"
    }
   ],
   "source": [
    "my_iter.__next__()"
   ]
  },
  {
   "cell_type": "code",
   "execution_count": 5,
   "id": "still-symbol",
   "metadata": {},
   "outputs": [
    {
     "data": {
      "text/plain": [
       "3"
      ]
     },
     "execution_count": 5,
     "metadata": {},
     "output_type": "execute_result"
    }
   ],
   "source": [
    "my_iter.__next__()"
   ]
  },
  {
   "cell_type": "code",
   "execution_count": 6,
   "id": "interesting-dutch",
   "metadata": {},
   "outputs": [
    {
     "ename": "StopIteration",
     "evalue": "",
     "output_type": "error",
     "traceback": [
      "\u001b[0;31m---------------------------------------------------------------------------\u001b[0m",
      "\u001b[0;31mStopIteration\u001b[0m                             Traceback (most recent call last)",
      "\u001b[0;32m<ipython-input-6-94a4229f6542>\u001b[0m in \u001b[0;36m<module>\u001b[0;34m\u001b[0m\n\u001b[0;32m----> 1\u001b[0;31m \u001b[0mnext\u001b[0m\u001b[0;34m(\u001b[0m\u001b[0mmy_iter\u001b[0m\u001b[0;34m)\u001b[0m\u001b[0;34m\u001b[0m\u001b[0;34m\u001b[0m\u001b[0m\n\u001b[0m",
      "\u001b[0;31mStopIteration\u001b[0m: "
     ]
    }
   ],
   "source": [
    "next(my_iter)"
   ]
  },
  {
   "cell_type": "code",
   "execution_count": 7,
   "id": "short-victim",
   "metadata": {},
   "outputs": [
    {
     "name": "stdout",
     "output_type": "stream",
     "text": [
      "4\n",
      "7\n",
      "0\n",
      "3\n"
     ]
    }
   ],
   "source": [
    "for i in my_list:\n",
    "    print(i)"
   ]
  },
  {
   "cell_type": "code",
   "execution_count": 8,
   "id": "dress-investor",
   "metadata": {},
   "outputs": [
    {
     "name": "stdout",
     "output_type": "stream",
     "text": [
      "4\n",
      "7\n",
      "0\n",
      "3\n"
     ]
    }
   ],
   "source": [
    "# under the hood:\n",
    "iter_obj = iter(my_list)\n",
    "\n",
    "while True:\n",
    "    try:\n",
    "        elem = next(iter_obj)\n",
    "        print(elem) # or whatever\n",
    "    except StopIteration:\n",
    "        break"
   ]
  },
  {
   "cell_type": "markdown",
   "id": "still-elimination",
   "metadata": {},
   "source": [
    "### Custom iterators"
   ]
  },
  {
   "cell_type": "code",
   "execution_count": 11,
   "id": "lasting-appliance",
   "metadata": {},
   "outputs": [],
   "source": [
    "class PowTwo:\n",
    "    '''iterate over powers of two'''\n",
    "    def __init__(self, max=0):\n",
    "        self.max = max\n",
    "        \n",
    "    def __iter__(self):\n",
    "        self.n = 0\n",
    "        return self\n",
    "    \n",
    "    def __next__(self):\n",
    "        if self.n <= self.max:\n",
    "            res = 2 ** self.n\n",
    "            self.n += 1\n",
    "            return res\n",
    "        raise StopIteration"
   ]
  },
  {
   "cell_type": "code",
   "execution_count": 13,
   "id": "activated-burke",
   "metadata": {},
   "outputs": [
    {
     "name": "stdout",
     "output_type": "stream",
     "text": [
      "1\n",
      "2\n",
      "4\n",
      "8\n"
     ]
    },
    {
     "ename": "StopIteration",
     "evalue": "",
     "output_type": "error",
     "traceback": [
      "\u001b[0;31m---------------------------------------------------------------------------\u001b[0m",
      "\u001b[0;31mStopIteration\u001b[0m                             Traceback (most recent call last)",
      "\u001b[0;32m<ipython-input-13-b5967b04f7fe>\u001b[0m in \u001b[0;36m<module>\u001b[0;34m\u001b[0m\n\u001b[1;32m      3\u001b[0m \u001b[0;34m\u001b[0m\u001b[0m\n\u001b[1;32m      4\u001b[0m \u001b[0;32mfor\u001b[0m \u001b[0m_\u001b[0m \u001b[0;32min\u001b[0m \u001b[0mrange\u001b[0m\u001b[0;34m(\u001b[0m\u001b[0;36m5\u001b[0m\u001b[0;34m)\u001b[0m\u001b[0;34m:\u001b[0m\u001b[0;34m\u001b[0m\u001b[0;34m\u001b[0m\u001b[0m\n\u001b[0;32m----> 5\u001b[0;31m     \u001b[0mprint\u001b[0m\u001b[0;34m(\u001b[0m\u001b[0mnext\u001b[0m\u001b[0;34m(\u001b[0m\u001b[0mi\u001b[0m\u001b[0;34m)\u001b[0m\u001b[0;34m)\u001b[0m\u001b[0;34m\u001b[0m\u001b[0;34m\u001b[0m\u001b[0m\n\u001b[0m",
      "\u001b[0;32m<ipython-input-11-fa7d6df362f1>\u001b[0m in \u001b[0;36m__next__\u001b[0;34m(self)\u001b[0m\n\u001b[1;32m     13\u001b[0m             \u001b[0mself\u001b[0m\u001b[0;34m.\u001b[0m\u001b[0mn\u001b[0m \u001b[0;34m+=\u001b[0m \u001b[0;36m1\u001b[0m\u001b[0;34m\u001b[0m\u001b[0;34m\u001b[0m\u001b[0m\n\u001b[1;32m     14\u001b[0m             \u001b[0;32mreturn\u001b[0m \u001b[0mres\u001b[0m\u001b[0;34m\u001b[0m\u001b[0;34m\u001b[0m\u001b[0m\n\u001b[0;32m---> 15\u001b[0;31m         \u001b[0;32mraise\u001b[0m \u001b[0mStopIteration\u001b[0m\u001b[0;34m\u001b[0m\u001b[0;34m\u001b[0m\u001b[0m\n\u001b[0m",
      "\u001b[0;31mStopIteration\u001b[0m: "
     ]
    }
   ],
   "source": [
    "ns = PowTwo(3)\n",
    "i = iter(ns)\n",
    "\n",
    "for _ in range(5):\n",
    "    print(next(i))"
   ]
  },
  {
   "cell_type": "code",
   "execution_count": 14,
   "id": "solid-hudson",
   "metadata": {},
   "outputs": [
    {
     "name": "stdout",
     "output_type": "stream",
     "text": [
      "1\n",
      "2\n",
      "4\n",
      "8\n",
      "16\n",
      "32\n"
     ]
    }
   ],
   "source": [
    "for i in PowTwo(5):\n",
    "    print(i)"
   ]
  },
  {
   "cell_type": "markdown",
   "id": "facial-authority",
   "metadata": {},
   "source": [
    "### Infinite iterators"
   ]
  },
  {
   "cell_type": "code",
   "execution_count": 15,
   "id": "complimentary-inquiry",
   "metadata": {},
   "outputs": [
    {
     "data": {
      "text/plain": [
       "0"
      ]
     },
     "execution_count": 15,
     "metadata": {},
     "output_type": "execute_result"
    }
   ],
   "source": [
    "int()"
   ]
  },
  {
   "cell_type": "code",
   "execution_count": 16,
   "id": "realistic-blake",
   "metadata": {},
   "outputs": [
    {
     "data": {
      "text/plain": [
       "0"
      ]
     },
     "execution_count": 16,
     "metadata": {},
     "output_type": "execute_result"
    }
   ],
   "source": [
    "inf = iter(int, 1) # iter(callable, sentinel)\n",
    "next(inf)"
   ]
  },
  {
   "cell_type": "code",
   "execution_count": 17,
   "id": "headed-stereo",
   "metadata": {},
   "outputs": [
    {
     "data": {
      "text/plain": [
       "0"
      ]
     },
     "execution_count": 17,
     "metadata": {},
     "output_type": "execute_result"
    }
   ],
   "source": [
    "next(inf)"
   ]
  },
  {
   "cell_type": "code",
   "execution_count": 19,
   "id": "hired-doubt",
   "metadata": {},
   "outputs": [],
   "source": [
    "class InfIter:\n",
    "    '''infinite iterator over odds'''\n",
    "    def __iter__(self):\n",
    "        self.n = 1\n",
    "        return self\n",
    "    \n",
    "    def __next__(self):\n",
    "        n = self.n\n",
    "        self.n += 2\n",
    "        return n"
   ]
  },
  {
   "cell_type": "code",
   "execution_count": 20,
   "id": "primary-language",
   "metadata": {},
   "outputs": [
    {
     "name": "stdout",
     "output_type": "stream",
     "text": [
      "1\n",
      "3\n",
      "5\n",
      "7\n",
      "9\n",
      "11\n",
      "13\n",
      "15\n"
     ]
    }
   ],
   "source": [
    "a = iter(InfIter())\n",
    "for _ in range(8):\n",
    "    print(next(a))"
   ]
  },
  {
   "cell_type": "code",
   "execution_count": null,
   "id": "configured-alberta",
   "metadata": {},
   "outputs": [],
   "source": []
  }
 ],
 "metadata": {
  "kernelspec": {
   "display_name": "Python 3",
   "language": "python",
   "name": "python3"
  },
  "language_info": {
   "codemirror_mode": {
    "name": "ipython",
    "version": 3
   },
   "file_extension": ".py",
   "mimetype": "text/x-python",
   "name": "python",
   "nbconvert_exporter": "python",
   "pygments_lexer": "ipython3",
   "version": "3.8.8"
  }
 },
 "nbformat": 4,
 "nbformat_minor": 5
}
