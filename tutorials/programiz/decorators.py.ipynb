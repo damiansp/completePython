{
 "cells": [
  {
   "cell_type": "code",
   "execution_count": 1,
   "id": "f3c86d22",
   "metadata": {},
   "outputs": [],
   "source": [
    "def decorate(f):\n",
    "    \n",
    "    def inner():\n",
    "        f()\n",
    "        print('I got decorated')\n",
    "\n",
    "    return inner"
   ]
  },
  {
   "cell_type": "code",
   "execution_count": 6,
   "id": "ad9ecfad",
   "metadata": {},
   "outputs": [],
   "source": [
    "def ordinary():\n",
    "    print('I am ordinary')"
   ]
  },
  {
   "cell_type": "code",
   "execution_count": 7,
   "id": "44aea000",
   "metadata": {},
   "outputs": [
    {
     "name": "stdout",
     "output_type": "stream",
     "text": [
      "I am ordinary\n"
     ]
    }
   ],
   "source": [
    "ordinary()"
   ]
  },
  {
   "cell_type": "code",
   "execution_count": 8,
   "id": "ed6115be",
   "metadata": {},
   "outputs": [
    {
     "name": "stdout",
     "output_type": "stream",
     "text": [
      "I am ordinary\n",
      "I got decorated\n"
     ]
    }
   ],
   "source": [
    "pretty = decorate(ordinary)\n",
    "pretty()"
   ]
  },
  {
   "cell_type": "code",
   "execution_count": 9,
   "id": "2131fe75",
   "metadata": {},
   "outputs": [],
   "source": [
    "@decorate\n",
    "def plain():\n",
    "    print('I\\'m a Plain Jane')"
   ]
  },
  {
   "cell_type": "code",
   "execution_count": 10,
   "id": "fb30f0da",
   "metadata": {},
   "outputs": [
    {
     "name": "stdout",
     "output_type": "stream",
     "text": [
      "I'm a Plain Jane\n",
      "I got decorated\n"
     ]
    }
   ],
   "source": [
    "plain()"
   ]
  },
  {
   "cell_type": "code",
   "execution_count": 11,
   "id": "b1fc07c0",
   "metadata": {},
   "outputs": [],
   "source": [
    "def divide(a, b):\n",
    "    return a / b"
   ]
  },
  {
   "cell_type": "code",
   "execution_count": 12,
   "id": "21817baa",
   "metadata": {},
   "outputs": [],
   "source": [
    "def safe_divide(f):\n",
    "    \n",
    "    def inner(a, b):\n",
    "        print(f'Attempting {a}/{b}...')\n",
    "        if not b:\n",
    "            print(\"I can't do it.\")\n",
    "            return\n",
    "        return f(a, b)\n",
    "\n",
    "    return inner"
   ]
  },
  {
   "cell_type": "code",
   "execution_count": 13,
   "id": "29ebb709",
   "metadata": {},
   "outputs": [],
   "source": [
    "@safe_divide\n",
    "def divide(a, b):\n",
    "    return a / b"
   ]
  },
  {
   "cell_type": "code",
   "execution_count": 14,
   "id": "0886e706",
   "metadata": {},
   "outputs": [
    {
     "name": "stdout",
     "output_type": "stream",
     "text": [
      "Attempting 2/5...\n"
     ]
    },
    {
     "data": {
      "text/plain": [
       "0.4"
      ]
     },
     "execution_count": 14,
     "metadata": {},
     "output_type": "execute_result"
    }
   ],
   "source": [
    "divide(2, 5)"
   ]
  },
  {
   "cell_type": "code",
   "execution_count": 15,
   "id": "5a39f9d8",
   "metadata": {},
   "outputs": [
    {
     "name": "stdout",
     "output_type": "stream",
     "text": [
      "Attempting 2/0...\n",
      "I can't do it.\n"
     ]
    }
   ],
   "source": [
    "divide(2, 0)"
   ]
  },
  {
   "cell_type": "code",
   "execution_count": 16,
   "id": "006b1f37",
   "metadata": {},
   "outputs": [],
   "source": [
    "def decorate_any(f):\n",
    "    \n",
    "    def inner(*args, **kwargs):\n",
    "        print('Decorate everything!')\n",
    "        return f(*args, **kwargs)\n",
    "    \n",
    "    return inner"
   ]
  },
  {
   "cell_type": "code",
   "execution_count": 17,
   "id": "f9dc37a1",
   "metadata": {},
   "outputs": [],
   "source": [
    "def add_stars(f):\n",
    "    \n",
    "    def inner(*args, **kwargs):\n",
    "        print('*' * 30)\n",
    "        f(*args, **kwargs)\n",
    "        print('*' * 30)\n",
    "\n",
    "    return inner"
   ]
  },
  {
   "cell_type": "code",
   "execution_count": 18,
   "id": "ec7ec464",
   "metadata": {},
   "outputs": [],
   "source": [
    "def add_bangs(f):\n",
    "    \n",
    "    def inner(*args, **kwargs):\n",
    "        print('!' * 30)\n",
    "        f(*args, **kwargs)\n",
    "        print('!' * 30)\n",
    "\n",
    "    return inner"
   ]
  },
  {
   "cell_type": "code",
   "execution_count": 19,
   "id": "0d022684",
   "metadata": {},
   "outputs": [],
   "source": [
    "@add_stars\n",
    "@add_bangs\n",
    "def printit(msg):\n",
    "    print(msg)"
   ]
  },
  {
   "cell_type": "code",
   "execution_count": 20,
   "id": "4000b535",
   "metadata": {},
   "outputs": [
    {
     "name": "stdout",
     "output_type": "stream",
     "text": [
      "******************************\n",
      "!!!!!!!!!!!!!!!!!!!!!!!!!!!!!!\n",
      "My man!\n",
      "!!!!!!!!!!!!!!!!!!!!!!!!!!!!!!\n",
      "******************************\n"
     ]
    }
   ],
   "source": [
    "printit('My man!')"
   ]
  },
  {
   "cell_type": "code",
   "execution_count": null,
   "id": "c72e51ba",
   "metadata": {},
   "outputs": [],
   "source": []
  }
 ],
 "metadata": {
  "kernelspec": {
   "display_name": "Python 3 (ipykernel)",
   "language": "python",
   "name": "python3"
  },
  "language_info": {
   "codemirror_mode": {
    "name": "ipython",
    "version": 3
   },
   "file_extension": ".py",
   "mimetype": "text/x-python",
   "name": "python",
   "nbconvert_exporter": "python",
   "pygments_lexer": "ipython3",
   "version": "3.10.0"
  }
 },
 "nbformat": 4,
 "nbformat_minor": 5
}
