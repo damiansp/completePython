{
 "cells": [
  {
   "cell_type": "code",
   "execution_count": 1,
   "id": "confident-terrain",
   "metadata": {},
   "outputs": [],
   "source": [
    "from edit_dist import EditDistance, match_fuzzy"
   ]
  },
  {
   "cell_type": "code",
   "execution_count": 2,
   "id": "developed-place",
   "metadata": {},
   "outputs": [],
   "source": [
    "edit = EditDistance('slap', 'happy')"
   ]
  },
  {
   "cell_type": "code",
   "execution_count": 3,
   "id": "unlikely-photographer",
   "metadata": {},
   "outputs": [
    {
     "name": "stdout",
     "output_type": "stream",
     "text": [
      "slap--\n",
      "-happy\n"
     ]
    }
   ],
   "source": [
    "edit.align()"
   ]
  },
  {
   "cell_type": "code",
   "execution_count": 4,
   "id": "republican-soccer",
   "metadata": {},
   "outputs": [
    {
     "name": "stdout",
     "output_type": "stream",
     "text": [
      "['del', 'sub', 'non', 'non', 'add', 'add']\n"
     ]
    }
   ],
   "source": [
    "edit.print_seq()"
   ]
  },
  {
   "cell_type": "markdown",
   "id": "generic-pasta",
   "metadata": {},
   "source": [
    "In other words, the minimally required edits to change `slap` to `happy` are:\n",
    "- delete (s)\n",
    "- substitute (h for l)\n",
    "- none (a in slap matches a in happy)\n",
    "- none (p in slap matches p in happy)\n",
    "- add (p)\n",
    "- add (y)"
   ]
  },
  {
   "cell_type": "code",
   "execution_count": 5,
   "id": "arabic-syndrome",
   "metadata": {},
   "outputs": [
    {
     "data": {
      "text/plain": [
       "5.0"
      ]
     },
     "execution_count": 5,
     "metadata": {},
     "output_type": "execute_result"
    }
   ],
   "source": [
    "cost = edit.get_cost()\n",
    "cost"
   ]
  },
  {
   "cell_type": "markdown",
   "id": "heard-plasma",
   "metadata": {},
   "source": [
    "E.g., given the default costs (1 point each per insertion/deletion, 2 for substitutions), the total cost is 5 (del, sub, add, add -> 1 + 2 + 1 + 1 = 5)"
   ]
  },
  {
   "cell_type": "code",
   "execution_count": 6,
   "id": "synthetic-stand",
   "metadata": {},
   "outputs": [
    {
     "name": "stdout",
     "output_type": "stream",
     "text": [
      "-mystery --utopia\n",
      "blustery dsytopia\n"
     ]
    }
   ],
   "source": [
    "edit.set_words('mystery utopia', 'blustery dsytopia')\n",
    "edit.align()"
   ]
  },
  {
   "cell_type": "code",
   "execution_count": 7,
   "id": "turkish-shape",
   "metadata": {},
   "outputs": [
    {
     "name": "stdout",
     "output_type": "stream",
     "text": [
      "['add', 'sub', 'sub', 'non', 'non', 'non', 'non', 'non', 'non', 'add', 'add', 'sub', 'non', 'non', 'non', 'non', 'non']\n"
     ]
    },
    {
     "data": {
      "text/plain": [
       "5.0"
      ]
     },
     "execution_count": 7,
     "metadata": {},
     "output_type": "execute_result"
    }
   ],
   "source": [
    "edit.print_seq()\n",
    "edit.get_cost()"
   ]
  },
  {
   "cell_type": "code",
   "execution_count": 8,
   "id": "sharp-luxury",
   "metadata": {},
   "outputs": [
    {
     "name": "stdout",
     "output_type": "stream",
     "text": [
      "greet jorb\n",
      "  -> great herb: 6.0\n",
      "  -> great job: 3.0\n",
      "  -> greet bob: 3.0\n",
      "  -> grate tarp: 10.0\n",
      "\n",
      "Best match: ['great job', 'greet bob']\n"
     ]
    }
   ],
   "source": [
    "found = 'greet jorb'\n",
    "candidates = ['great herb', 'great job', 'greet bob', 'grate tarp']\n",
    "best = match_fuzzy(found, candidates, verbose=True)\n",
    "print('\\nBest match:', best)"
   ]
  },
  {
   "cell_type": "code",
   "execution_count": 9,
   "id": "julian-exercise",
   "metadata": {},
   "outputs": [
    {
     "name": "stdout",
     "output_type": "stream",
     "text": [
      "greet jorb\n",
      "  -> great herb: 6.0\n",
      "  -> great job: 6.0\n",
      "  -> greet bob: 6.0\n",
      "  -> grate tarp: 12.0\n",
      "\n",
      "Best match: ['great herb', 'great job', 'greet bob']\n"
     ]
    }
   ],
   "source": [
    "best = match_fuzzy(found, candidates, verbose=True, del_cost=4, add_cost=4)\n",
    "print('\\nBest match:', best)"
   ]
  },
  {
   "cell_type": "code",
   "execution_count": 10,
   "id": "compressed-danger",
   "metadata": {},
   "outputs": [
    {
     "name": "stdout",
     "output_type": "stream",
     "text": [
      "ATTCGCC-GAGGCTCTTCAGGG-CTTATCA\n",
      "ATTCGCCCG-G-CTCTTCAGGGGCTTATTA\n"
     ]
    }
   ],
   "source": [
    "# DNA Alignment:\n",
    "gorilla = 'ATTGCCGGGTCTCTCAGGAGCTTATAA'\n",
    "pan = 'ATTCGCCGAGGCTCTTCAGGGCTTATCA' \n",
    "homo = 'ATTCGCCCGGCTCTTCAGGGGCTTATTA'\n",
    "eddie = EditDistance(pan, homo)\n",
    "eddie.align()"
   ]
  },
  {
   "cell_type": "code",
   "execution_count": 11,
   "id": "graphic-macedonia",
   "metadata": {},
   "outputs": [
    {
     "name": "stdout",
     "output_type": "stream",
     "text": [
      "ATT-GCC-GGGTCTCT-CAGGAG-CTTAT-AA\n",
      "ATTCGCCCGG--CTCTTCAGG-GGCTTATTA-\n"
     ]
    }
   ],
   "source": [
    "edit.set_words(gorilla, homo)\n",
    "edit.align()"
   ]
  },
  {
   "cell_type": "code",
   "execution_count": null,
   "id": "normal-reaction",
   "metadata": {},
   "outputs": [],
   "source": []
  }
 ],
 "metadata": {
  "kernelspec": {
   "display_name": "Python 3",
   "language": "python",
   "name": "python3"
  },
  "language_info": {
   "codemirror_mode": {
    "name": "ipython",
    "version": 3
   },
   "file_extension": ".py",
   "mimetype": "text/x-python",
   "name": "python",
   "nbconvert_exporter": "python",
   "pygments_lexer": "ipython3",
   "version": "3.8.8"
  }
 },
 "nbformat": 4,
 "nbformat_minor": 5
}
