{
 "cells": [
  {
   "cell_type": "code",
   "execution_count": 1,
   "id": "moderate-former",
   "metadata": {},
   "outputs": [],
   "source": [
    "import os\n",
    "\n",
    "import matplotlib.pyplot as plt\n",
    "import pandas as pd\n",
    "from   sklearn.datasets import load_diabetes\n",
    "from   sklearn.preprocessing import StandardScaler\n",
    "\n",
    "from   causal_inference import CausalInference"
   ]
  },
  {
   "cell_type": "code",
   "execution_count": 2,
   "id": "indie-stuff",
   "metadata": {},
   "outputs": [
    {
     "data": {
      "text/plain": [
       "(2588, 162)"
      ]
     },
     "execution_count": 2,
     "metadata": {},
     "output_type": "execute_result"
    }
   ],
   "source": [
    "HOME = os.environ['HOME']\n",
    "DATA = (f'{HOME}/repos/research/marketing/marketing_eda/'\n",
    "        'marketing_model_program/2021/data')\n",
    "data = pd.read_csv(f'{DATA}/marketing_dataset_ran_2021-03-18.csv')\n",
    "#data = pd.read_csv(\n",
    "#    f'{HOME}/Downloads/marketing_dataset_ran_2021-03-05.csv')\n",
    "data.day = pd.to_datetime(data.day)\n",
    "data.index = data.day\n",
    "data['day_of_month'] = data.index.day.astype(int)\n",
    "data['day_of_year'] = data.index.dayofyear.astype(int)\n",
    "data.drop('day', axis=1, inplace=True)\n",
    "data.shape"
   ]
  },
  {
   "cell_type": "code",
   "execution_count": 3,
   "id": "civic-jones",
   "metadata": {},
   "outputs": [
    {
     "data": {
      "text/html": [
       "<div>\n",
       "<style scoped>\n",
       "    .dataframe tbody tr th:only-of-type {\n",
       "        vertical-align: middle;\n",
       "    }\n",
       "\n",
       "    .dataframe tbody tr th {\n",
       "        vertical-align: top;\n",
       "    }\n",
       "\n",
       "    .dataframe thead th {\n",
       "        text-align: right;\n",
       "    }\n",
       "</style>\n",
       "<table border=\"1\" class=\"dataframe\">\n",
       "  <thead>\n",
       "    <tr style=\"text-align: right;\">\n",
       "      <th></th>\n",
       "      <th>spiceworks_imp</th>\n",
       "      <th>neudesic_imp</th>\n",
       "      <th>neudesic_clicks</th>\n",
       "      <th>magnetic_imp</th>\n",
       "      <th>magnetic_clicks</th>\n",
       "      <th>triple_imp</th>\n",
       "      <th>triple_clicks</th>\n",
       "      <th>triple_cost</th>\n",
       "      <th>tubemogul_imp</th>\n",
       "      <th>tubemogul_clicks</th>\n",
       "      <th>...</th>\n",
       "      <th>MAdcm_td_cost</th>\n",
       "      <th>MAdcm_td_clicks</th>\n",
       "      <th>MAdcm_iq_imp</th>\n",
       "      <th>MAdcm_iq_clicks</th>\n",
       "      <th>MAdcm_iq_cost</th>\n",
       "      <th>MAquantcast_cost</th>\n",
       "      <th>MAquantcast_imp</th>\n",
       "      <th>MAquantcast_clicks</th>\n",
       "      <th>day_of_month</th>\n",
       "      <th>day_of_year</th>\n",
       "    </tr>\n",
       "    <tr>\n",
       "      <th>day</th>\n",
       "      <th></th>\n",
       "      <th></th>\n",
       "      <th></th>\n",
       "      <th></th>\n",
       "      <th></th>\n",
       "      <th></th>\n",
       "      <th></th>\n",
       "      <th></th>\n",
       "      <th></th>\n",
       "      <th></th>\n",
       "      <th></th>\n",
       "      <th></th>\n",
       "      <th></th>\n",
       "      <th></th>\n",
       "      <th></th>\n",
       "      <th></th>\n",
       "      <th></th>\n",
       "      <th></th>\n",
       "      <th></th>\n",
       "      <th></th>\n",
       "      <th></th>\n",
       "    </tr>\n",
       "  </thead>\n",
       "  <tbody>\n",
       "    <tr>\n",
       "      <th>2014-01-01</th>\n",
       "      <td>0</td>\n",
       "      <td>0</td>\n",
       "      <td>0</td>\n",
       "      <td>0</td>\n",
       "      <td>0</td>\n",
       "      <td>0</td>\n",
       "      <td>0</td>\n",
       "      <td>0.0</td>\n",
       "      <td>0.0</td>\n",
       "      <td>0.0</td>\n",
       "      <td>...</td>\n",
       "      <td>0.0</td>\n",
       "      <td>0.0</td>\n",
       "      <td>0.0</td>\n",
       "      <td>0.0</td>\n",
       "      <td>0.0</td>\n",
       "      <td>0.0</td>\n",
       "      <td>0.0</td>\n",
       "      <td>0.0</td>\n",
       "      <td>1</td>\n",
       "      <td>1</td>\n",
       "    </tr>\n",
       "    <tr>\n",
       "      <th>2014-01-02</th>\n",
       "      <td>0</td>\n",
       "      <td>0</td>\n",
       "      <td>0</td>\n",
       "      <td>0</td>\n",
       "      <td>0</td>\n",
       "      <td>0</td>\n",
       "      <td>0</td>\n",
       "      <td>0.0</td>\n",
       "      <td>0.0</td>\n",
       "      <td>0.0</td>\n",
       "      <td>...</td>\n",
       "      <td>0.0</td>\n",
       "      <td>0.0</td>\n",
       "      <td>0.0</td>\n",
       "      <td>0.0</td>\n",
       "      <td>0.0</td>\n",
       "      <td>0.0</td>\n",
       "      <td>0.0</td>\n",
       "      <td>0.0</td>\n",
       "      <td>2</td>\n",
       "      <td>2</td>\n",
       "    </tr>\n",
       "    <tr>\n",
       "      <th>2014-01-03</th>\n",
       "      <td>0</td>\n",
       "      <td>0</td>\n",
       "      <td>0</td>\n",
       "      <td>0</td>\n",
       "      <td>0</td>\n",
       "      <td>0</td>\n",
       "      <td>0</td>\n",
       "      <td>0.0</td>\n",
       "      <td>0.0</td>\n",
       "      <td>0.0</td>\n",
       "      <td>...</td>\n",
       "      <td>0.0</td>\n",
       "      <td>0.0</td>\n",
       "      <td>0.0</td>\n",
       "      <td>0.0</td>\n",
       "      <td>0.0</td>\n",
       "      <td>0.0</td>\n",
       "      <td>0.0</td>\n",
       "      <td>0.0</td>\n",
       "      <td>3</td>\n",
       "      <td>3</td>\n",
       "    </tr>\n",
       "    <tr>\n",
       "      <th>2014-01-04</th>\n",
       "      <td>0</td>\n",
       "      <td>0</td>\n",
       "      <td>0</td>\n",
       "      <td>0</td>\n",
       "      <td>0</td>\n",
       "      <td>0</td>\n",
       "      <td>0</td>\n",
       "      <td>0.0</td>\n",
       "      <td>0.0</td>\n",
       "      <td>0.0</td>\n",
       "      <td>...</td>\n",
       "      <td>0.0</td>\n",
       "      <td>0.0</td>\n",
       "      <td>0.0</td>\n",
       "      <td>0.0</td>\n",
       "      <td>0.0</td>\n",
       "      <td>0.0</td>\n",
       "      <td>0.0</td>\n",
       "      <td>0.0</td>\n",
       "      <td>4</td>\n",
       "      <td>4</td>\n",
       "    </tr>\n",
       "    <tr>\n",
       "      <th>2014-01-05</th>\n",
       "      <td>0</td>\n",
       "      <td>0</td>\n",
       "      <td>0</td>\n",
       "      <td>0</td>\n",
       "      <td>0</td>\n",
       "      <td>0</td>\n",
       "      <td>0</td>\n",
       "      <td>0.0</td>\n",
       "      <td>0.0</td>\n",
       "      <td>0.0</td>\n",
       "      <td>...</td>\n",
       "      <td>0.0</td>\n",
       "      <td>0.0</td>\n",
       "      <td>0.0</td>\n",
       "      <td>0.0</td>\n",
       "      <td>0.0</td>\n",
       "      <td>0.0</td>\n",
       "      <td>0.0</td>\n",
       "      <td>0.0</td>\n",
       "      <td>5</td>\n",
       "      <td>5</td>\n",
       "    </tr>\n",
       "  </tbody>\n",
       "</table>\n",
       "<p>5 rows × 162 columns</p>\n",
       "</div>"
      ],
      "text/plain": [
       "            spiceworks_imp  neudesic_imp  neudesic_clicks  magnetic_imp  \\\n",
       "day                                                                       \n",
       "2014-01-01               0             0                0             0   \n",
       "2014-01-02               0             0                0             0   \n",
       "2014-01-03               0             0                0             0   \n",
       "2014-01-04               0             0                0             0   \n",
       "2014-01-05               0             0                0             0   \n",
       "\n",
       "            magnetic_clicks  triple_imp  triple_clicks  triple_cost  \\\n",
       "day                                                                   \n",
       "2014-01-01                0           0              0          0.0   \n",
       "2014-01-02                0           0              0          0.0   \n",
       "2014-01-03                0           0              0          0.0   \n",
       "2014-01-04                0           0              0          0.0   \n",
       "2014-01-05                0           0              0          0.0   \n",
       "\n",
       "            tubemogul_imp  tubemogul_clicks  ...  MAdcm_td_cost  \\\n",
       "day                                          ...                  \n",
       "2014-01-01            0.0               0.0  ...            0.0   \n",
       "2014-01-02            0.0               0.0  ...            0.0   \n",
       "2014-01-03            0.0               0.0  ...            0.0   \n",
       "2014-01-04            0.0               0.0  ...            0.0   \n",
       "2014-01-05            0.0               0.0  ...            0.0   \n",
       "\n",
       "            MAdcm_td_clicks  MAdcm_iq_imp  MAdcm_iq_clicks  MAdcm_iq_cost  \\\n",
       "day                                                                         \n",
       "2014-01-01              0.0           0.0              0.0            0.0   \n",
       "2014-01-02              0.0           0.0              0.0            0.0   \n",
       "2014-01-03              0.0           0.0              0.0            0.0   \n",
       "2014-01-04              0.0           0.0              0.0            0.0   \n",
       "2014-01-05              0.0           0.0              0.0            0.0   \n",
       "\n",
       "            MAquantcast_cost  MAquantcast_imp  MAquantcast_clicks  \\\n",
       "day                                                                 \n",
       "2014-01-01               0.0              0.0                 0.0   \n",
       "2014-01-02               0.0              0.0                 0.0   \n",
       "2014-01-03               0.0              0.0                 0.0   \n",
       "2014-01-04               0.0              0.0                 0.0   \n",
       "2014-01-05               0.0              0.0                 0.0   \n",
       "\n",
       "            day_of_month  day_of_year  \n",
       "day                                    \n",
       "2014-01-01             1            1  \n",
       "2014-01-02             2            2  \n",
       "2014-01-03             3            3  \n",
       "2014-01-04             4            4  \n",
       "2014-01-05             5            5  \n",
       "\n",
       "[5 rows x 162 columns]"
      ]
     },
     "execution_count": 3,
     "metadata": {},
     "output_type": "execute_result"
    }
   ],
   "source": [
    "data.head()"
   ]
  },
  {
   "cell_type": "code",
   "execution_count": 4,
   "id": "portable-treat",
   "metadata": {},
   "outputs": [],
   "source": [
    "costs = [col for col in list(data) \n",
    "         if col.endswith('_cost') and col != 'ann_cost']\n",
    "ma = [col for col in list(data) if col.startswith('MA')]\n",
    "OMISSIBLE = [\n",
    "    'fed_rate', 'money_velocity', 'retail_sales', 'saving_rate', \n",
    "    'fb_posts', 'youtube_net_subscribers', 'youtube_min_watched', \n",
    "    'featured_vids', 'new_licenses'\n",
    "] + costs + ma\n",
    "for om in OMISSIBLE:\n",
    "    assert om in list(data), f'{om} not a valid column name'\n",
    "data.drop(OMISSIBLE, axis=1, inplace=True)"
   ]
  },
  {
   "cell_type": "code",
   "execution_count": 5,
   "id": "incorporated-condition",
   "metadata": {},
   "outputs": [
    {
     "data": {
      "image/png": "[encoded data removed]",
      "text/plain": [
       "<Figure size 432x288 with 1 Axes>"
      ]
     },
     "metadata": {
      "needs_background": "light"
     },
     "output_type": "display_data"
    },
    {
     "data": {
      "image/png": "[encoded data removed]",
      "text/plain": [
       "<Figure size 432x288 with 1 Axes>"
      ]
     },
     "metadata": {
      "needs_background": "light"
     },
     "output_type": "display_data"
    }
   ],
   "source": [
    "plt.hist(data.new_accounts)\n",
    "plt.figure()\n",
    "plt.hist(data.new_accounts ** 0.6);"
   ]
  },
  {
   "cell_type": "code",
   "execution_count": 6,
   "id": "secondary-shopping",
   "metadata": {},
   "outputs": [],
   "source": [
    "#list(data)"
   ]
  },
  {
   "cell_type": "code",
   "execution_count": 7,
   "id": "nutritional-loading",
   "metadata": {},
   "outputs": [],
   "source": [
    "scaler = StandardScaler()\n",
    "\n",
    "# NOTE: scaling in the CausalInference class will NOT be applied to your \n",
    "# response, so if you wish to transform it, do it first:\n",
    "transform_response = lambda x: x ** 0.6\n",
    "revert_response = lambda x: x ** (1 / 0.6)\n",
    "data.new_accounts = data.new_accounts.apply(transform_response)\n",
    "\n",
    "# Determine which columns are to be treated as `response`, `treatment`, \n",
    "# and `covariates`\n",
    "response_var = 'new_accounts'\n",
    "# e.g., we want to know if bing_brand_clicks has a causal effect on \n",
    "# purchases\n",
    "treatment_var = 'bing_brand_clicks' \n",
    "# All other fields will be used as covariates by default, but you can\n",
    "# specify a smaller subset, e.g.,\n",
    "covariates = ['tw_paid_engagements', 'organic_brand_clicks', 'ann_cost']"
   ]
  },
  {
   "cell_type": "markdown",
   "id": "terminal-bubble",
   "metadata": {},
   "source": [
    "### Example 1: Binary Treatment Variable"
   ]
  },
  {
   "cell_type": "code",
   "execution_count": 8,
   "id": "theoretical-switch",
   "metadata": {},
   "outputs": [],
   "source": [
    "causal_inf = CausalInference(data, \n",
    "                             response_var, \n",
    "                             treatment_var, \n",
    "                             covariates=covariates,\n",
    "                             force_binary=True,\n",
    "                             scaler=scaler)"
   ]
  },
  {
   "cell_type": "code",
   "execution_count": 9,
   "id": "linear-mustang",
   "metadata": {},
   "outputs": [
    {
     "data": {
      "text/plain": [
       "'binary'"
      ]
     },
     "execution_count": 9,
     "metadata": {},
     "output_type": "execute_result"
    }
   ],
   "source": [
    "causal_inf.treatment_type"
   ]
  },
  {
   "cell_type": "code",
   "execution_count": 10,
   "id": "cutting-timeline",
   "metadata": {},
   "outputs": [
    {
     "name": "stdout",
     "output_type": "stream",
     "text": [
      "Searching for optimal L2 penalty with:\n",
      "C = 0.00010\n",
      "New best-- loss: 18.6204841144791\n",
      "C = 0.00016\n",
      "New best-- loss: 18.597751227418136\n",
      "C = 0.00026\n",
      "C = 0.00043\n",
      "New best-- loss: 18.575018340357175\n",
      "C = 0.00070\n",
      "C = 0.00113\n",
      "C = 0.00183\n",
      "C = 0.00298\n",
      "New best-- loss: 18.552285453296207\n",
      "C = 0.00483\n",
      "C = 0.00785\n",
      "C = 0.01274\n",
      "C = 0.02069\n",
      "New best-- loss: 18.544133953288842\n",
      "C = 0.03360\n",
      "New best-- loss: 18.529551891080494\n",
      "C = 0.05456\n",
      "New best-- loss: 18.47765487960283\n",
      "C = 0.08859\n",
      "New best-- loss: 18.16328041079753\n",
      "C = 0.14384\n",
      "New best-- loss: 17.973713602089003\n",
      "C = 0.23357\n",
      "New best-- loss: 17.798728855588827\n",
      "C = 0.37927\n",
      "New best-- loss: 17.725818544547085\n",
      "C = 0.61585\n",
      "New best-- loss: 17.594579984671952\n",
      "C = 1.00000\n",
      "New best-- loss: 17.55083379804691\n",
      "Refitting best model on all data...\n"
     ]
    }
   ],
   "source": [
    "causal_inf.get_propensity_scores(forward_folds=True)"
   ]
  },
  {
   "cell_type": "code",
   "execution_count": 12,
   "id": "unexpected-rochester",
   "metadata": {},
   "outputs": [
    {
     "data": {
      "image/png": "[encoded data removed]",
      "text/plain": [
       "<Figure size 432x288 with 1 Axes>"
      ]
     },
     "metadata": {
      "needs_background": "light"
     },
     "output_type": "display_data"
    }
   ],
   "source": [
    "causal_inf.plot_propensity_scores()"
   ]
  },
  {
   "cell_type": "code",
   "execution_count": 13,
   "id": "consecutive-complement",
   "metadata": {},
   "outputs": [
    {
     "data": {
      "image/png": "[encoded data removed]",
      "text/plain": [
       "<Figure size 432x288 with 1 Axes>"
      ]
     },
     "metadata": {
      "needs_background": "light"
     },
     "output_type": "display_data"
    }
   ],
   "source": [
    "# Get IPTW (inverse probability of treatment weighting) to attempt to \n",
    "# balance the distribution. Plot to see that no indivduals are getting \n",
    "# unreasonably large weights (as a rule of thumb <= 20 ok).  If getting\n",
    "# large weights, consider using the `trunc_q` or `trunc_val` args.\n",
    "causal_inf.get_iptw(plot=True)"
   ]
  },
  {
   "cell_type": "code",
   "execution_count": 14,
   "id": "forced-appearance",
   "metadata": {},
   "outputs": [
    {
     "data": {
      "text/html": [
       "<div>\n",
       "<style scoped>\n",
       "    .dataframe tbody tr th:only-of-type {\n",
       "        vertical-align: middle;\n",
       "    }\n",
       "\n",
       "    .dataframe tbody tr th {\n",
       "        vertical-align: top;\n",
       "    }\n",
       "\n",
       "    .dataframe thead th {\n",
       "        text-align: right;\n",
       "    }\n",
       "</style>\n",
       "<table border=\"1\" class=\"dataframe\">\n",
       "  <thead>\n",
       "    <tr style=\"text-align: right;\">\n",
       "      <th></th>\n",
       "      <th>mean_treat</th>\n",
       "      <th>mean_contr</th>\n",
       "      <th>smd</th>\n",
       "      <th>mean_treat_weighted</th>\n",
       "      <th>mean_contr_weighted</th>\n",
       "      <th>smd_weighted</th>\n",
       "    </tr>\n",
       "  </thead>\n",
       "  <tbody>\n",
       "    <tr>\n",
       "      <th>organic_brand_clicks</th>\n",
       "      <td>0.074445</td>\n",
       "      <td>-0.078220</td>\n",
       "      <td>0.153448</td>\n",
       "      <td>-0.021328</td>\n",
       "      <td>-0.031923</td>\n",
       "      <td>0.010670</td>\n",
       "    </tr>\n",
       "    <tr>\n",
       "      <th>ann_cost</th>\n",
       "      <td>0.029870</td>\n",
       "      <td>-0.031385</td>\n",
       "      <td>0.061216</td>\n",
       "      <td>0.015412</td>\n",
       "      <td>-0.000626</td>\n",
       "      <td>0.016112</td>\n",
       "    </tr>\n",
       "    <tr>\n",
       "      <th>tw_paid_engagements</th>\n",
       "      <td>0.059575</td>\n",
       "      <td>-0.062596</td>\n",
       "      <td>0.123818</td>\n",
       "      <td>-0.000193</td>\n",
       "      <td>-0.048173</td>\n",
       "      <td>0.064587</td>\n",
       "    </tr>\n",
       "  </tbody>\n",
       "</table>\n",
       "</div>"
      ],
      "text/plain": [
       "                      mean_treat  mean_contr       smd  mean_treat_weighted  \\\n",
       "organic_brand_clicks    0.074445   -0.078220  0.153448            -0.021328   \n",
       "ann_cost                0.029870   -0.031385  0.061216             0.015412   \n",
       "tw_paid_engagements     0.059575   -0.062596  0.123818            -0.000193   \n",
       "\n",
       "                      mean_contr_weighted  smd_weighted  \n",
       "organic_brand_clicks            -0.031923      0.010670  \n",
       "ann_cost                        -0.000626      0.016112  \n",
       "tw_paid_engagements             -0.048173      0.064587  "
      ]
     },
     "execution_count": 14,
     "metadata": {},
     "output_type": "execute_result"
    }
   ],
   "source": [
    "smd_table = causal_inf.assess_balance()\n",
    "smd_table\n",
    "# smds <= 0.1 are ideal; < 0.2 are \"acceptable\" (there is no guarantee \n",
    "# that) you will be able to balance if there is little to no overlap in\n",
    "# control/treated distributions... but here, all is well :)"
   ]
  },
  {
   "cell_type": "code",
   "execution_count": 15,
   "id": "palestinian-pointer",
   "metadata": {},
   "outputs": [
    {
     "name": "stdout",
     "output_type": "stream",
     "text": [
      "                            WLS Regression Results                            \n",
      "==============================================================================\n",
      "Dep. Variable:           new_accounts   R-squared:                       0.107\n",
      "Model:                            WLS   Adj. R-squared:                  0.107\n",
      "Method:                 Least Squares   F-statistic:                     309.6\n",
      "Date:                Mon, 12 Apr 2021   Prob (F-statistic):           1.53e-65\n",
      "Time:                        11:48:03   Log-Likelihood:                -5880.4\n",
      "No. Observations:                2588   AIC:                         1.176e+04\n",
      "Df Residuals:                    2586   BIC:                         1.178e+04\n",
      "Df Model:                           1                                         \n",
      "Covariance Type:            nonrobust                                         \n",
      "=====================================================================================\n",
      "                        coef    std err          t      P>|t|      [0.025      0.975]\n",
      "-------------------------------------------------------------------------------------\n",
      "intercept             7.4325      0.066    113.060      0.000       7.304       7.561\n",
      "bing_brand_clicks     1.6096      0.091     17.595      0.000       1.430       1.789\n",
      "==============================================================================\n",
      "Omnibus:                       47.900   Durbin-Watson:                   0.519\n",
      "Prob(Omnibus):                  0.000   Jarque-Bera (JB):               50.430\n",
      "Skew:                           0.324   Prob(JB):                     1.12e-11\n",
      "Kurtosis:                       3.217   Cond. No.                         2.66\n",
      "==============================================================================\n",
      "\n",
      "Notes:\n",
      "[1] Standard Errors assume that the covariance matrix of the errors is correctly specified.\n",
      "95.0% confidence interval for coefficients after SE correction:\n",
      "                      lower       est     upper\n",
      "intercept          7.280343  7.432475  7.584608\n",
      "bing_brand_clicks  1.421947  1.609553  1.797160\n"
     ]
    }
   ],
   "source": [
    "# Marginal Structural Model: \n",
    "# What you care most about here is if our coefficient for treatment is \n",
    "# significantly different from 0.  The point estimate is given under \n",
    "# `coef` in the table, and the probability, by `P<|t|`, which is \"0.000\"\n",
    "# here or < 0.0005.  But, the standard WLS summary provided by statsmodels\n",
    "# does not correct for SE being error due to weighting.  Hence, the final\n",
    "# output is a table, with the coefficents, and their confidence interval.\n",
    "# If 0 is not included in the interval, then the treatment is significant\n",
    "# at the given alpha (0.05 by default; 95% CI), given the model\n",
    "causal_inf.run_msm(verbose=True)"
   ]
  },
  {
   "cell_type": "code",
   "execution_count": 16,
   "id": "fatty-cooler",
   "metadata": {},
   "outputs": [
    {
     "name": "stdout",
     "output_type": "stream",
     "text": [
      "99.9% confidence interval for coefficients after SE correction:\n",
      "                      lower       est     upper\n",
      "intercept          7.177064  7.432475  7.687886\n",
      "bing_brand_clicks  1.294587  1.609553  1.924520\n"
     ]
    }
   ],
   "source": [
    "# You can adjust alpha (and hence CI = 1 - alpha) to whatever level you \n",
    "# like\n",
    "causal_inf.run_msm(alpha=0.001)"
   ]
  },
  {
   "cell_type": "code",
   "execution_count": 17,
   "id": "proper-accommodation",
   "metadata": {},
   "outputs": [
    {
     "data": {
      "image/png": "[encoded data removed]",
      "text/plain": [
       "<Figure size 432x288 with 1 Axes>"
      ]
     },
     "metadata": {
      "needs_background": "light"
     },
     "output_type": "display_data"
    },
    {
     "name": "stdout",
     "output_type": "stream",
     "text": [
      "\n",
      "Shapiro-Wilk test for normality in \"treatment\"\n",
      "p=0.01297; Deviates significantly from normality at alpha=0.05.\n",
      "\n",
      "Shapiro-Wilk test for normality in \"control\"\n",
      "p=0.00000; Deviates significantly from normality at alpha=0.05.\n",
      "\n",
      "F test for equal variances\n",
      "p=0.00000; Distributions  differ significantly\n",
      "\n",
      "WARNING: Data non-normal; t-test is not appropriate\n",
      "\n",
      "T-test indicates means are significantly different (p=0.00000)\n",
      "Observed difference (treat - contr): 1.6864303250289758\n"
     ]
    },
    {
     "data": {
      "text/plain": [
       "1.6864303250289758"
      ]
     },
     "execution_count": 17,
     "metadata": {},
     "output_type": "execute_result"
    }
   ],
   "source": [
    "# T-test\n",
    "causal_inf.t_test()"
   ]
  },
  {
   "cell_type": "code",
   "execution_count": 18,
   "id": "charged-jones",
   "metadata": {},
   "outputs": [
    {
     "data": {
      "image/png": "[encoded data removed]",
      "text/plain": [
       "<Figure size 432x288 with 1 Axes>"
      ]
     },
     "metadata": {
      "needs_background": "light"
     },
     "output_type": "display_data"
    },
    {
     "name": "stdout",
     "output_type": "stream",
     "text": [
      "\n",
      "Mann-Whitney U-test indicates medians are significantly different (p=0.00000)\n",
      "Observed difference (treat - contr):  2.002306274001066\n"
     ]
    },
    {
     "data": {
      "text/plain": [
       "2.002306274001066"
      ]
     },
     "execution_count": 18,
     "metadata": {},
     "output_type": "execute_result"
    }
   ],
   "source": [
    "# Mann-Whitney U-Test\n",
    "causal_inf.mann_whitney_test()"
   ]
  },
  {
   "cell_type": "code",
   "execution_count": 19,
   "id": "detailed-survey",
   "metadata": {},
   "outputs": [],
   "source": [
    "# Bootstrap an aribitrary statistic.  For example: medians are different, \n",
    "# but what about an arbitrary quantile?  Do the 75th percentiles differ\n",
    "# significantly?\n",
    "def get_quantile_diff(contr, treat, q):\n",
    "    q_treat = treat.quantile(q=q)\n",
    "    q_contr = contr.quantile(q=q)\n",
    "    diff = q_treat - q_contr\n",
    "    return diff"
   ]
  },
  {
   "cell_type": "code",
   "execution_count": 20,
   "id": "organized-entry",
   "metadata": {},
   "outputs": [
    {
     "name": "stdout",
     "output_type": "stream",
     "text": [
      "N observed: 2588\n",
      "Control: 1262; Treated: 1326\n",
      "Observed statistic: 1.5731595538129373\n",
      "Done!                                                   \n"
     ]
    },
    {
     "data": {
      "image/png": "[encoded data removed]",
      "text/plain": [
       "<Figure size 432x288 with 1 Axes>"
      ]
     },
     "metadata": {
      "needs_background": "light"
     },
     "output_type": "display_data"
    },
    {
     "name": "stdout",
     "output_type": "stream",
     "text": [
      "lower bound: -0.2594760467874888\n",
      "expected   : 0.0\n",
      "upper bound: 0.2594760467874888\n"
     ]
    }
   ],
   "source": [
    "stats, obs_stat = causal_inf.bootstrap(\n",
    "    get_quantile_diff, verbose=True, q=0.75)"
   ]
  },
  {
   "cell_type": "code",
   "execution_count": 21,
   "id": "democratic-jesus",
   "metadata": {},
   "outputs": [
    {
     "name": "stdout",
     "output_type": "stream",
     "text": [
      "N observed: 2588\n",
      "Control: 1262; Treated: 1326\n",
      "Observed statistic: 1.876646105608228\n",
      "Done!                                                   \n"
     ]
    },
    {
     "data": {
      "image/png": "[encoded data removed]",
      "text/plain": [
       "<Figure size 432x288 with 1 Axes>"
      ]
     },
     "metadata": {
      "needs_background": "light"
     },
     "output_type": "display_data"
    },
    {
     "name": "stdout",
     "output_type": "stream",
     "text": [
      "lower bound: -0.1727023565318877\n",
      "expected   : 0.0\n",
      "upper bound: 0.17587244162322513\n"
     ]
    }
   ],
   "source": [
    "# How about the 25th percentile?\n",
    "stats, obs_stat = causal_inf.bootstrap(\n",
    "    get_quantile_diff, verbose=True, q=0.25)"
   ]
  },
  {
   "cell_type": "code",
   "execution_count": 22,
   "id": "sharing-happening",
   "metadata": {},
   "outputs": [
    {
     "data": {
      "image/png": "[encoded data removed]",
      "text/plain": [
       "<Figure size 432x288 with 1 Axes>"
      ]
     },
     "metadata": {
      "needs_background": "light"
     },
     "output_type": "display_data"
    },
    {
     "name": "stdout",
     "output_type": "stream",
     "text": [
      "lower bound: -0.3424567874655377\n",
      "expected   : 0.0\n",
      "upper bound: 0.3424567874655377\n"
     ]
    }
   ],
   "source": [
    "# You can check a different interval for the last bootstrapping by \n",
    "# plotting the outputs with your new CI; e.g., what about the 99% CI?\n",
    "causal_inf.plot_bootstrapped(stats, obs_stat, ci=0.99)"
   ]
  },
  {
   "cell_type": "code",
   "execution_count": 23,
   "id": "finite-taste",
   "metadata": {},
   "outputs": [],
   "source": [
    "# NOTE though that by default the bootstrap only runs 1000 iterations,\n",
    "# so the reliability of the CI becomes unstable as CI -> 1 (i.e., if you \n",
    "# want the 99.9% CI, probably better to do at least 10,000 iterations)"
   ]
  },
  {
   "cell_type": "markdown",
   "id": "prime-motorcycle",
   "metadata": {},
   "source": [
    "### Example 2: Continous Treatment Variable"
   ]
  },
  {
   "cell_type": "code",
   "execution_count": 24,
   "id": "eleven-cannon",
   "metadata": {},
   "outputs": [],
   "source": [
    "causal_inf = CausalInference(data, \n",
    "                             response_var, \n",
    "                             treatment_var, \n",
    "                             covariates=covariates,\n",
    "                             scaler=scaler)"
   ]
  },
  {
   "cell_type": "code",
   "execution_count": 25,
   "id": "protective-suite",
   "metadata": {},
   "outputs": [
    {
     "data": {
      "text/plain": [
       "'continuous'"
      ]
     },
     "execution_count": 25,
     "metadata": {},
     "output_type": "execute_result"
    }
   ],
   "source": [
    "causal_inf.treatment_type"
   ]
  },
  {
   "cell_type": "code",
   "execution_count": 26,
   "id": "excellent-brook",
   "metadata": {},
   "outputs": [
    {
     "name": "stdout",
     "output_type": "stream",
     "text": [
      "Propensity scores not applicable to continous treatment. Go on to `get_iptw()` to get weights.\n"
     ]
    }
   ],
   "source": [
    "causal_inf.get_propensity_scores(forward_folds=True)"
   ]
  },
  {
   "cell_type": "code",
   "execution_count": 27,
   "id": "pharmaceutical-result",
   "metadata": {},
   "outputs": [
    {
     "name": "stdout",
     "output_type": "stream",
     "text": [
      "\n",
      "Shapiro-Wilk test for normality in \"treatment\"\n",
      "p=0.00000; Deviates significantly from normality at alpha=0.05.\n",
      "Warning: You will get more stable results if you can better normalize your treatment variable\n",
      "Model for mean value of treatment given covariates:\n",
      "                                 OLS Regression Results                                \n",
      "=======================================================================================\n",
      "Dep. Variable:      bing_brand_clicks   R-squared (uncentered):                   0.066\n",
      "Model:                            OLS   Adj. R-squared (uncentered):              0.064\n",
      "Method:                 Least Squares   F-statistic:                              60.43\n",
      "Date:                Mon, 12 Apr 2021   Prob (F-statistic):                    9.40e-38\n",
      "Time:                        11:48:34   Log-Likelihood:                         -3584.5\n",
      "No. Observations:                2588   AIC:                                      7175.\n",
      "Df Residuals:                    2585   BIC:                                      7193.\n",
      "Df Model:                           3                                                  \n",
      "Covariance Type:            nonrobust                                                  \n",
      "========================================================================================\n",
      "                           coef    std err          t      P>|t|      [0.025      0.975]\n",
      "----------------------------------------------------------------------------------------\n",
      "tw_paid_engagements      0.1026      0.019      5.382      0.000       0.065       0.140\n",
      "organic_brand_clicks     0.3496      0.037      9.482      0.000       0.277       0.422\n",
      "ann_cost                 0.4437      0.037     12.032      0.000       0.371       0.516\n",
      "==============================================================================\n",
      "Omnibus:                      109.938   Durbin-Watson:                   0.581\n",
      "Prob(Omnibus):                  0.000   Jarque-Bera (JB):              123.753\n",
      "Skew:                           0.512   Prob(JB):                     1.34e-27\n",
      "Kurtosis:                       3.315   Cond. No.                         3.61\n",
      "==============================================================================\n",
      "\n",
      "Notes:\n",
      "[1] R² is computed without centering (uncentered) since the model does not contain a constant.\n",
      "[2] Standard Errors assume that the covariance matrix of the errors is correctly specified.\n"
     ]
    },
    {
     "data": {
      "image/png": "[encoded data removed]",
      "text/plain": [
       "<Figure size 432x288 with 1 Axes>"
      ]
     },
     "metadata": {
      "needs_background": "light"
     },
     "output_type": "display_data"
    }
   ],
   "source": [
    "causal_inf.get_iptw(plot=True)"
   ]
  },
  {
   "cell_type": "code",
   "execution_count": 28,
   "id": "official-intro",
   "metadata": {},
   "outputs": [
    {
     "name": "stdout",
     "output_type": "stream",
     "text": [
      "Assessing balance between `treatment < median` and `treatment >= median`.\n"
     ]
    },
    {
     "data": {
      "text/html": [
       "<div>\n",
       "<style scoped>\n",
       "    .dataframe tbody tr th:only-of-type {\n",
       "        vertical-align: middle;\n",
       "    }\n",
       "\n",
       "    .dataframe tbody tr th {\n",
       "        vertical-align: top;\n",
       "    }\n",
       "\n",
       "    .dataframe thead th {\n",
       "        text-align: right;\n",
       "    }\n",
       "</style>\n",
       "<table border=\"1\" class=\"dataframe\">\n",
       "  <thead>\n",
       "    <tr style=\"text-align: right;\">\n",
       "      <th></th>\n",
       "      <th>mean_treat</th>\n",
       "      <th>mean_contr</th>\n",
       "      <th>smd</th>\n",
       "      <th>mean_treat_weighted</th>\n",
       "      <th>mean_contr_weighted</th>\n",
       "      <th>smd_weighted</th>\n",
       "    </tr>\n",
       "  </thead>\n",
       "  <tbody>\n",
       "    <tr>\n",
       "      <th>tw_paid_engagements</th>\n",
       "      <td>0.059575</td>\n",
       "      <td>-0.062596</td>\n",
       "      <td>0.123818</td>\n",
       "      <td>0.011486</td>\n",
       "      <td>-0.042022</td>\n",
       "      <td>0.062306</td>\n",
       "    </tr>\n",
       "    <tr>\n",
       "      <th>ann_cost</th>\n",
       "      <td>0.029870</td>\n",
       "      <td>-0.031385</td>\n",
       "      <td>0.061216</td>\n",
       "      <td>-0.048280</td>\n",
       "      <td>0.092661</td>\n",
       "      <td>0.142969</td>\n",
       "    </tr>\n",
       "    <tr>\n",
       "      <th>organic_brand_clicks</th>\n",
       "      <td>0.074445</td>\n",
       "      <td>-0.078220</td>\n",
       "      <td>0.153448</td>\n",
       "      <td>0.044123</td>\n",
       "      <td>-0.141449</td>\n",
       "      <td>0.189988</td>\n",
       "    </tr>\n",
       "  </tbody>\n",
       "</table>\n",
       "</div>"
      ],
      "text/plain": [
       "                      mean_treat  mean_contr       smd  mean_treat_weighted  \\\n",
       "tw_paid_engagements     0.059575   -0.062596  0.123818             0.011486   \n",
       "ann_cost                0.029870   -0.031385  0.061216            -0.048280   \n",
       "organic_brand_clicks    0.074445   -0.078220  0.153448             0.044123   \n",
       "\n",
       "                      mean_contr_weighted  smd_weighted  \n",
       "tw_paid_engagements             -0.042022      0.062306  \n",
       "ann_cost                         0.092661      0.142969  \n",
       "organic_brand_clicks            -0.141449      0.189988  "
      ]
     },
     "execution_count": 28,
     "metadata": {},
     "output_type": "execute_result"
    }
   ],
   "source": [
    "smd_table = causal_inf.assess_balance()\n",
    "smd_table"
   ]
  },
  {
   "cell_type": "code",
   "execution_count": 29,
   "id": "rising-course",
   "metadata": {},
   "outputs": [
    {
     "name": "stdout",
     "output_type": "stream",
     "text": [
      "                            WLS Regression Results                            \n",
      "==============================================================================\n",
      "Dep. Variable:           new_accounts   R-squared:                       0.091\n",
      "Model:                            WLS   Adj. R-squared:                  0.091\n",
      "Method:                 Least Squares   F-statistic:                     260.4\n",
      "Date:                Mon, 12 Apr 2021   Prob (F-statistic):           6.97e-56\n",
      "Time:                        11:52:19   Log-Likelihood:                -5925.9\n",
      "No. Observations:                2588   AIC:                         1.186e+04\n",
      "Df Residuals:                    2586   BIC:                         1.187e+04\n",
      "Df Model:                           1                                         \n",
      "Covariance Type:            nonrobust                                         \n",
      "=====================================================================================\n",
      "                        coef    std err          t      P>|t|      [0.025      0.975]\n",
      "-------------------------------------------------------------------------------------\n",
      "intercept             8.2047      0.046    177.279      0.000       8.114       8.295\n",
      "bing_brand_clicks     0.7292      0.045     16.136      0.000       0.641       0.818\n",
      "==============================================================================\n",
      "Omnibus:                       28.981   Durbin-Watson:                   0.473\n",
      "Prob(Omnibus):                  0.000   Jarque-Bera (JB):               29.481\n",
      "Skew:                           0.251   Prob(JB):                     3.96e-07\n",
      "Kurtosis:                       2.855   Cond. No.                         1.03\n",
      "==============================================================================\n",
      "\n",
      "Notes:\n",
      "[1] Standard Errors assume that the covariance matrix of the errors is correctly specified.\n",
      "95.0% confidence interval for coefficients after SE correction:\n",
      "                      lower       est     upper\n",
      "intercept          8.110633  8.204728  8.298824\n",
      "bing_brand_clicks  0.626069  0.729242  0.832416\n"
     ]
    }
   ],
   "source": [
    "causal_inf.run_msm(verbose=True)"
   ]
  },
  {
   "cell_type": "code",
   "execution_count": null,
   "id": "assured-assignment",
   "metadata": {},
   "outputs": [],
   "source": []
  }
 ],
 "metadata": {
  "kernelspec": {
   "display_name": "Python 3",
   "language": "python",
   "name": "python3"
  },
  "language_info": {
   "codemirror_mode": {
    "name": "ipython",
    "version": 3
   },
   "file_extension": ".py",
   "mimetype": "text/x-python",
   "name": "python",
   "nbconvert_exporter": "python",
   "pygments_lexer": "ipython3",
   "version": "3.8.8"
  }
 },
 "nbformat": 4,
 "nbformat_minor": 5
}
