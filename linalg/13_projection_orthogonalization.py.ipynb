{
 "cells": [
  {
   "cell_type": "code",
   "execution_count": 1,
   "id": "5543c1c9",
   "metadata": {},
   "outputs": [],
   "source": [
    "import numpy as np"
   ]
  },
  {
   "cell_type": "code",
   "execution_count": 3,
   "id": "7a275e14",
   "metadata": {},
   "outputs": [
    {
     "data": {
      "text/plain": [
       "array([-2.5,  4. ])"
      ]
     },
     "execution_count": 3,
     "metadata": {},
     "output_type": "execute_result"
    }
   ],
   "source": [
    "A = [[1, 2], [3, 1], [1, 1]]\n",
    "b = [5.5, -3.5, 1.5]\n",
    "np.linalg.lstsq(A, b, rcond=None)[0]"
   ]
  },
  {
   "cell_type": "code",
   "execution_count": 4,
   "id": "82c712e8",
   "metadata": {},
   "outputs": [],
   "source": [
    "A = np.random.randn(4, 3)\n",
    "Q, R = np.linalg.qr(A)"
   ]
  },
  {
   "cell_type": "code",
   "execution_count": 5,
   "id": "0d295d8f",
   "metadata": {},
   "outputs": [
    {
     "data": {
      "text/plain": [
       "array([[ 0.05,  1.69, -0.39],\n",
       "       [-0.55,  1.4 ,  0.66],\n",
       "       [ 0.78,  0.81,  0.84],\n",
       "       [-0.07, -0.6 ,  2.07]])"
      ]
     },
     "execution_count": 5,
     "metadata": {},
     "output_type": "execute_result"
    }
   ],
   "source": [
    "A.round(2)"
   ]
  },
  {
   "cell_type": "code",
   "execution_count": 6,
   "id": "2cef5be4",
   "metadata": {},
   "outputs": [
    {
     "data": {
      "text/plain": [
       "array([[ 0.05,  1.69, -0.39],\n",
       "       [-0.55,  1.4 ,  0.66],\n",
       "       [ 0.78,  0.81,  0.84],\n",
       "       [-0.07, -0.6 ,  2.07]])"
      ]
     },
     "execution_count": 6,
     "metadata": {},
     "output_type": "execute_result"
    }
   ],
   "source": [
    "(Q @ R).round(2)"
   ]
  },
  {
   "cell_type": "code",
   "execution_count": 7,
   "id": "7c385069",
   "metadata": {},
   "outputs": [
    {
     "data": {
      "text/plain": [
       "array([[-0.05, -0.7 ,  0.13],\n",
       "       [ 0.58, -0.58, -0.34],\n",
       "       [-0.81, -0.34, -0.33],\n",
       "       [ 0.07,  0.25, -0.87]])"
      ]
     },
     "execution_count": 7,
     "metadata": {},
     "output_type": "execute_result"
    }
   ],
   "source": [
    "Q.round(2)"
   ]
  },
  {
   "cell_type": "code",
   "execution_count": 11,
   "id": "45a8be9a",
   "metadata": {},
   "outputs": [],
   "source": [
    "m, n = 4, 4\n",
    "A = np.random.randn(m, n)\n",
    "Q = np.zeros((m, n))\n",
    "\n",
    "for i in range(n):\n",
    "    Q[:, i] = A[:, i]\n",
    "    # orthogonalize\n",
    "    a = A[:, i]\n",
    "    for j in range(i):\n",
    "        q = Q[:, j]\n",
    "        Q[:, i] = Q[:, i] - np.dot(a, q) / np.dot(q, q) * q\n",
    "    # normalize\n",
    "    Q[:, i] = Q[:, i] / np.linalg.norm(Q[:, i])"
   ]
  },
  {
   "cell_type": "code",
   "execution_count": 12,
   "id": "0b697afa",
   "metadata": {},
   "outputs": [],
   "source": [
    "Q2, R = np.linalg.qr(A)"
   ]
  },
  {
   "cell_type": "code",
   "execution_count": 13,
   "id": "5f847f5f",
   "metadata": {},
   "outputs": [
    {
     "data": {
      "text/plain": [
       "array([[ 0.,  0.,  0., -0.],\n",
       "       [-0., -0.,  0.,  0.],\n",
       "       [ 0., -0., -0.,  0.],\n",
       "       [ 0.,  0.,  0.,  0.]])"
      ]
     },
     "execution_count": 13,
     "metadata": {},
     "output_type": "execute_result"
    }
   ],
   "source": [
    "(Q - Q2).round(5)"
   ]
  },
  {
   "cell_type": "code",
   "execution_count": null,
   "id": "78817f89",
   "metadata": {},
   "outputs": [],
   "source": []
  }
 ],
 "metadata": {
  "kernelspec": {
   "display_name": "Python 3 (ipykernel)",
   "language": "python",
   "name": "python3"
  },
  "language_info": {
   "codemirror_mode": {
    "name": "ipython",
    "version": 3
   },
   "file_extension": ".py",
   "mimetype": "text/x-python",
   "name": "python",
   "nbconvert_exporter": "python",
   "pygments_lexer": "ipython3",
   "version": "3.8.5"
  }
 },
 "nbformat": 4,
 "nbformat_minor": 5
}
