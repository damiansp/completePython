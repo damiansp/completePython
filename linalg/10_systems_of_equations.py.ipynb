{
 "cells": [
  {
   "cell_type": "code",
   "execution_count": 3,
   "id": "8cafac18",
   "metadata": {},
   "outputs": [],
   "source": [
    "import numpy as np\n",
    "from   scipy.linalg import lu\n",
    "import sympy as sym"
   ]
  },
  {
   "cell_type": "code",
   "execution_count": 7,
   "id": "ec9a51df",
   "metadata": {},
   "outputs": [],
   "source": [
    "A = np.random.randn(4, 3)\n",
    "# LU Decomp:\n",
    "P, L, U = lu(A)"
   ]
  },
  {
   "cell_type": "code",
   "execution_count": 13,
   "id": "0930dc62",
   "metadata": {},
   "outputs": [
    {
     "data": {
      "text/plain": [
       "array([[ True,  True,  True],\n",
       "       [ True,  True,  True],\n",
       "       [ True,  True,  True],\n",
       "       [ True,  True,  True]])"
      ]
     },
     "execution_count": 13,
     "metadata": {},
     "output_type": "execute_result"
    }
   ],
   "source": [
    "np.abs(P @ L @ U - A) < 0.0000001"
   ]
  },
  {
   "cell_type": "code",
   "execution_count": 10,
   "id": "a95260b7",
   "metadata": {},
   "outputs": [
    {
     "data": {
      "text/plain": [
       "array([[ 1.47, -1.09, -0.19],\n",
       "       [-0.14,  1.03,  0.1 ],\n",
       "       [-1.75,  0.43,  0.37],\n",
       "       [ 0.66,  0.95, -0.35]])"
      ]
     },
     "execution_count": 10,
     "metadata": {},
     "output_type": "execute_result"
    }
   ],
   "source": [
    "A.round(2)"
   ]
  },
  {
   "cell_type": "code",
   "execution_count": 11,
   "id": "7908fa8e",
   "metadata": {},
   "outputs": [
    {
     "data": {
      "text/plain": [
       "array([[ 1.47, -1.09, -0.19],\n",
       "       [-0.14,  1.03,  0.1 ],\n",
       "       [-1.75,  0.43,  0.37],\n",
       "       [ 0.66,  0.95, -0.35]])"
      ]
     },
     "execution_count": 11,
     "metadata": {},
     "output_type": "execute_result"
    }
   ],
   "source": [
    "(P @ L @ U).round(2)"
   ]
  },
  {
   "cell_type": "code",
   "execution_count": 14,
   "id": "1e1973fc",
   "metadata": {},
   "outputs": [
    {
     "data": {
      "text/plain": [
       "(Matrix([\n",
       " [1, 0,  -0.1593380956352, -1.10715695126099],\n",
       " [0, 1, 0.134552866210513,    2.404574384768]]),\n",
       " (0, 1))"
      ]
     },
     "execution_count": 14,
     "metadata": {},
     "output_type": "execute_result"
    }
   ],
   "source": [
    "A = np.random.randn(2, 4)\n",
    "sym.Matrix(A).rref()"
   ]
  },
  {
   "cell_type": "code",
   "execution_count": 15,
   "id": "726abe02",
   "metadata": {},
   "outputs": [
    {
     "data": {
      "text/plain": [
       "array([-8, 25, -2])"
      ]
     },
     "execution_count": 15,
     "metadata": {},
     "output_type": "execute_result"
    }
   ],
   "source": [
    "A = np.array([[2, 0, -3], [3, 1, 4], [1, 0, -1]])\n",
    "x = [2, 3, 4]\n",
    "b = A @ x\n",
    "b"
   ]
  },
  {
   "cell_type": "code",
   "execution_count": 16,
   "id": "31bea44d",
   "metadata": {},
   "outputs": [
    {
     "data": {
      "text/latex": [
       "$\\displaystyle \\left[\\begin{matrix}1 & 0 & 0 & 8.94575778762661 & -3.01238579065797 & -14.3725700623229\\\\0 & 1 & 0 & 18.0131440545265 & -5.37585731415378 & -27.817983171727\\\\0 & 0 & 1 & -14.2860875246961 & 6.85761480848546 & 21.3787792854433\\end{matrix}\\right]$"
      ],
      "text/plain": [
       "Matrix([\n",
       "[1, 0, 0,  8.94575778762661, -3.01238579065797, -14.3725700623229],\n",
       "[0, 1, 0,  18.0131440545265, -5.37585731415378,  -27.817983171727],\n",
       "[0, 0, 1, -14.2860875246961,  6.85761480848546,  21.3787792854433]])"
      ]
     },
     "execution_count": 16,
     "metadata": {},
     "output_type": "execute_result"
    }
   ],
   "source": [
    "A = np.random.randn(3, 6)\n",
    "sym.Matrix(A).rref()[0]"
   ]
  },
  {
   "cell_type": "code",
   "execution_count": null,
   "id": "b2c15a02",
   "metadata": {},
   "outputs": [],
   "source": []
  }
 ],
 "metadata": {
  "kernelspec": {
   "display_name": "Python 3 (ipykernel)",
   "language": "python",
   "name": "python3"
  },
  "language_info": {
   "codemirror_mode": {
    "name": "ipython",
    "version": 3
   },
   "file_extension": ".py",
   "mimetype": "text/x-python",
   "name": "python",
   "nbconvert_exporter": "python",
   "pygments_lexer": "ipython3",
   "version": "3.8.5"
  }
 },
 "nbformat": 4,
 "nbformat_minor": 5
}
