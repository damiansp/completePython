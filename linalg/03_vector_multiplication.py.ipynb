{
 "cells": [
  {
   "cell_type": "code",
   "execution_count": 1,
   "id": "13b915c7",
   "metadata": {},
   "outputs": [],
   "source": [
    "import numpy as np"
   ]
  },
  {
   "cell_type": "code",
   "execution_count": 2,
   "id": "73713f01",
   "metadata": {},
   "outputs": [
    {
     "data": {
      "text/plain": [
       "27"
      ]
     },
     "execution_count": 2,
     "metadata": {},
     "output_type": "execute_result"
    }
   ],
   "source": [
    "v = np.array([2, 5, 4, 7])\n",
    "u = np.array([4, 1, 0, 2])\n",
    "np.dot(u, v)"
   ]
  },
  {
   "cell_type": "code",
   "execution_count": 3,
   "id": "100b32ea",
   "metadata": {},
   "outputs": [
    {
     "data": {
      "text/plain": [
       "array([ -7,  -4, -13])"
      ]
     },
     "execution_count": 3,
     "metadata": {},
     "output_type": "execute_result"
    }
   ],
   "source": [
    "a, b, c = 1, 2, -3\n",
    "u = np.array([4, 5, 1])\n",
    "v = np.array([-4, 0, -4])\n",
    "w = np.array([1, 3, 2])\n",
    "a*u + b*v + c*w"
   ]
  },
  {
   "cell_type": "code",
   "execution_count": 5,
   "id": "27016585",
   "metadata": {},
   "outputs": [
    {
     "data": {
      "text/plain": [
       "array([[ 4, 12,  8],\n",
       "       [ 5, 15, 10],\n",
       "       [ 1,  3,  2]])"
      ]
     },
     "execution_count": 5,
     "metadata": {},
     "output_type": "execute_result"
    }
   ],
   "source": [
    "np.outer(u, w)"
   ]
  },
  {
   "cell_type": "code",
   "execution_count": 6,
   "id": "831184b0",
   "metadata": {},
   "outputs": [
    {
     "data": {
      "text/plain": [
       "array([-16,   0,  -4])"
      ]
     },
     "execution_count": 6,
     "metadata": {},
     "output_type": "execute_result"
    }
   ],
   "source": [
    "# Hadamard (pairwise)\n",
    "u * v"
   ]
  },
  {
   "cell_type": "code",
   "execution_count": 7,
   "id": "a5458e49",
   "metadata": {},
   "outputs": [
    {
     "data": {
      "text/plain": [
       "9.695359714832659"
      ]
     },
     "execution_count": 7,
     "metadata": {},
     "output_type": "execute_result"
    }
   ],
   "source": [
    "v = np.array([2, 5, 4, 7])\n",
    "v_norm = np.linalg.norm(v)\n",
    "v_norm"
   ]
  },
  {
   "cell_type": "code",
   "execution_count": 8,
   "id": "94ecae78",
   "metadata": {},
   "outputs": [
    {
     "data": {
      "text/plain": [
       "array([0.20628425, 0.51571062, 0.4125685 , 0.72199487])"
      ]
     },
     "execution_count": 8,
     "metadata": {},
     "output_type": "execute_result"
    }
   ],
   "source": [
    "unit = v / v_norm\n",
    "unit"
   ]
  },
  {
   "cell_type": "code",
   "execution_count": 11,
   "id": "c88e7407",
   "metadata": {},
   "outputs": [
    {
     "data": {
      "text/plain": [
       "4.25"
      ]
     },
     "execution_count": 11,
     "metadata": {},
     "output_type": "execute_result"
    }
   ],
   "source": [
    "v = [7, 4 -5, 8, 3]\n",
    "o = np.ones(len(v))\n",
    "avg = np.dot(v, o) / len(v)\n",
    "avg"
   ]
  },
  {
   "cell_type": "code",
   "execution_count": 12,
   "id": "3ee9d7db",
   "metadata": {},
   "outputs": [
    {
     "data": {
      "text/plain": [
       "4.25"
      ]
     },
     "execution_count": 12,
     "metadata": {},
     "output_type": "execute_result"
    }
   ],
   "source": [
    "sum(v) / len(v)"
   ]
  },
  {
   "cell_type": "code",
   "execution_count": 13,
   "id": "42317c08",
   "metadata": {},
   "outputs": [
    {
     "name": "stdout",
     "output_type": "stream",
     "text": [
      "weights: [0.09768574 0.33745085 0.14844645 0.06958214]\n"
     ]
    },
    {
     "data": {
      "text/plain": [
       "2.668034693140668"
      ]
     },
     "execution_count": 13,
     "metadata": {},
     "output_type": "execute_result"
    }
   ],
   "source": [
    "w = np.random.rand(len(v)) # random weights\n",
    "print('weights:', w)\n",
    "weighted_avg = np.dot(v, w / sum(w))\n",
    "weighted_avg"
   ]
  },
  {
   "cell_type": "code",
   "execution_count": null,
   "id": "40a3e6db",
   "metadata": {},
   "outputs": [],
   "source": []
  }
 ],
 "metadata": {
  "kernelspec": {
   "display_name": "Python 3 (ipykernel)",
   "language": "python",
   "name": "python3"
  },
  "language_info": {
   "codemirror_mode": {
    "name": "ipython",
    "version": 3
   },
   "file_extension": ".py",
   "mimetype": "text/x-python",
   "name": "python",
   "nbconvert_exporter": "python",
   "pygments_lexer": "ipython3",
   "version": "3.8.5"
  }
 },
 "nbformat": 4,
 "nbformat_minor": 5
}
