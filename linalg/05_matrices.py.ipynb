{
 "cells": [
  {
   "cell_type": "code",
   "execution_count": 1,
   "id": "9b7ac8c9",
   "metadata": {},
   "outputs": [],
   "source": [
    "import numpy as np\n",
    "from   scipy.linalg import hankel, toeplitz"
   ]
  },
  {
   "cell_type": "code",
   "execution_count": 2,
   "id": "f23c161d",
   "metadata": {},
   "outputs": [
    {
     "data": {
      "text/plain": [
       "array([[-1.28192804,  1.91690957, -1.31028111,  1.15971899, -0.87188423],\n",
       "       [-2.36282849,  1.66680785,  0.35277349, -1.00244031,  0.00918626]])"
      ]
     },
     "execution_count": 2,
     "metadata": {},
     "output_type": "execute_result"
    }
   ],
   "source": [
    "A = np.random.randn(2, 5)\n",
    "A"
   ]
  },
  {
   "cell_type": "code",
   "execution_count": 4,
   "id": "920cd60f",
   "metadata": {},
   "outputs": [
    {
     "data": {
      "text/plain": [
       "array([[-1.28192804, -2.36282849],\n",
       "       [ 1.91690957,  1.66680785],\n",
       "       [-1.31028111,  0.35277349],\n",
       "       [ 1.15971899, -1.00244031],\n",
       "       [-0.87188423,  0.00918626]])"
      ]
     },
     "execution_count": 4,
     "metadata": {},
     "output_type": "execute_result"
    }
   ],
   "source": [
    "A.T"
   ]
  },
  {
   "cell_type": "code",
   "execution_count": 5,
   "id": "b0f72ffb",
   "metadata": {},
   "outputs": [
    {
     "data": {
      "text/plain": [
       "array([[-1.28192804, -2.36282849],\n",
       "       [ 1.91690957,  1.66680785],\n",
       "       [-1.31028111,  0.35277349],\n",
       "       [ 1.15971899, -1.00244031],\n",
       "       [-0.87188423,  0.00918626]])"
      ]
     },
     "execution_count": 5,
     "metadata": {},
     "output_type": "execute_result"
    }
   ],
   "source": [
    "np.transpose(A)"
   ]
  },
  {
   "cell_type": "code",
   "execution_count": 6,
   "id": "9f632c21",
   "metadata": {},
   "outputs": [
    {
     "data": {
      "text/plain": [
       "array([[1., 0., 0., 0.],\n",
       "       [0., 1., 0., 0.],\n",
       "       [0., 0., 1., 0.],\n",
       "       [0., 0., 0., 1.]])"
      ]
     },
     "execution_count": 6,
     "metadata": {},
     "output_type": "execute_result"
    }
   ],
   "source": [
    "I4 = np.eye(4)\n",
    "I4"
   ]
  },
  {
   "cell_type": "code",
   "execution_count": 7,
   "id": "a455b8a9",
   "metadata": {},
   "outputs": [
    {
     "data": {
      "text/plain": [
       "array([1., 1., 1., 1.])"
      ]
     },
     "execution_count": 7,
     "metadata": {},
     "output_type": "execute_result"
    }
   ],
   "source": [
    "O4 = np.ones(4)\n",
    "O4"
   ]
  },
  {
   "cell_type": "code",
   "execution_count": 8,
   "id": "28e928e0",
   "metadata": {},
   "outputs": [
    {
     "data": {
      "text/plain": [
       "array([[0., 0., 0., 0.],\n",
       "       [0., 0., 0., 0.],\n",
       "       [0., 0., 0., 0.],\n",
       "       [0., 0., 0., 0.]])"
      ]
     },
     "execution_count": 8,
     "metadata": {},
     "output_type": "execute_result"
    }
   ],
   "source": [
    "Z4_4 = np.zeros((4, 4))\n",
    "Z4_4"
   ]
  },
  {
   "cell_type": "code",
   "execution_count": 9,
   "id": "24d276a3",
   "metadata": {},
   "outputs": [
    {
     "data": {
      "text/plain": [
       "array([[1, 0, 0, 0],\n",
       "       [0, 2, 0, 0],\n",
       "       [0, 0, 3, 0],\n",
       "       [0, 0, 0, 4]])"
      ]
     },
     "execution_count": 9,
     "metadata": {},
     "output_type": "execute_result"
    }
   ],
   "source": [
    "D = np.diag([1, 2, 3, 4])\n",
    "D"
   ]
  },
  {
   "cell_type": "code",
   "execution_count": 10,
   "id": "69c56743",
   "metadata": {},
   "outputs": [
    {
     "data": {
      "text/plain": [
       "array([[-0.25225186,  0.804754  ,  1.07987037,  1.61319304],\n",
       "       [ 0.04414215, -0.26656587, -1.15798515, -1.46524048],\n",
       "       [-0.54582317,  0.66990524, -0.50501557,  1.60161906]])"
      ]
     },
     "execution_count": 10,
     "metadata": {},
     "output_type": "execute_result"
    }
   ],
   "source": [
    "R = np.random.randn(3, 4)\n",
    "R"
   ]
  },
  {
   "cell_type": "code",
   "execution_count": 11,
   "id": "8708c169",
   "metadata": {},
   "outputs": [
    {
     "data": {
      "text/plain": [
       "array([-0.25225186, -0.26656587, -0.50501557])"
      ]
     },
     "execution_count": 11,
     "metadata": {},
     "output_type": "execute_result"
    }
   ],
   "source": [
    "np.diag(R)"
   ]
  },
  {
   "cell_type": "code",
   "execution_count": 14,
   "id": "895cb1ab",
   "metadata": {},
   "outputs": [
    {
     "data": {
      "text/plain": [
       "array([[-1.88,  1.13, -0.54,  0.58, -1.54, -0.08],\n",
       "       [ 0.59, -0.75,  0.21, -1.55,  0.36, -0.24],\n",
       "       [ 2.31,  0.09,  0.9 , -1.35,  0.48, -1.63]])"
      ]
     },
     "execution_count": 14,
     "metadata": {},
     "output_type": "execute_result"
    }
   ],
   "source": [
    "A = np.random.randn(3, 2)\n",
    "B = np.random.randn(3, 4)\n",
    "AB = np.concatenate((A, B), axis=1)\n",
    "AB.round(2)"
   ]
  },
  {
   "cell_type": "code",
   "execution_count": 17,
   "id": "c646f33a",
   "metadata": {},
   "outputs": [
    {
     "data": {
      "text/plain": [
       "array([[-0.9 ,  0.  ,  0.  ,  0.  ,  0.  ],\n",
       "       [ 1.9 , -0.04,  0.  ,  0.  ,  0.  ],\n",
       "       [-1.36, -1.17,  0.78,  0.  ,  0.  ],\n",
       "       [ 0.68, -0.18,  0.23,  0.71,  0.  ],\n",
       "       [ 0.34,  0.98,  0.72, -1.32, -0.62]])"
      ]
     },
     "execution_count": 17,
     "metadata": {},
     "output_type": "execute_result"
    }
   ],
   "source": [
    "A = np.random.randn(5, 5)\n",
    "L = np.tril(A)\n",
    "L.round(2)"
   ]
  },
  {
   "cell_type": "code",
   "execution_count": 18,
   "id": "dd4896e1",
   "metadata": {},
   "outputs": [
    {
     "data": {
      "text/plain": [
       "array([[-0.9 , -2.25, -0.92, -0.45, -0.78],\n",
       "       [ 0.  , -0.04,  0.56,  1.71,  0.93],\n",
       "       [ 0.  ,  0.  ,  0.78,  1.18,  0.2 ],\n",
       "       [ 0.  ,  0.  ,  0.  ,  0.71,  1.29],\n",
       "       [ 0.  ,  0.  ,  0.  ,  0.  , -0.62]])"
      ]
     },
     "execution_count": 18,
     "metadata": {},
     "output_type": "execute_result"
    }
   ],
   "source": [
    "U = np.triu(A)\n",
    "U.round(2)"
   ]
  },
  {
   "cell_type": "code",
   "execution_count": 19,
   "id": "f41fb1fc",
   "metadata": {},
   "outputs": [
    {
     "data": {
      "text/plain": [
       "array([[1, 2, 3, 4],\n",
       "       [2, 1, 2, 3],\n",
       "       [3, 2, 1, 2],\n",
       "       [4, 3, 2, 1]])"
      ]
     },
     "execution_count": 19,
     "metadata": {},
     "output_type": "execute_result"
    }
   ],
   "source": [
    "t = [1, 2, 3, 4]\n",
    "T = toeplitz(t)\n",
    "T"
   ]
  },
  {
   "cell_type": "code",
   "execution_count": 21,
   "id": "c2cd7718",
   "metadata": {},
   "outputs": [
    {
     "data": {
      "text/plain": [
       "array([[1, 2, 3, 4],\n",
       "       [2, 3, 4, 3],\n",
       "       [3, 4, 3, 4],\n",
       "       [4, 3, 4, 1]])"
      ]
     },
     "execution_count": 21,
     "metadata": {},
     "output_type": "execute_result"
    }
   ],
   "source": [
    "H = hankel(t, r=[2, 3, 4, 1])\n",
    "H"
   ]
  },
  {
   "cell_type": "code",
   "execution_count": 22,
   "id": "3a9aeee4",
   "metadata": {},
   "outputs": [
    {
     "data": {
      "text/plain": [
       "array([[ 1.78501581, -0.21208681, -0.04209628,  0.74637958],\n",
       "       [ 0.53894192,  0.23079716, -1.40159922, -0.85243471],\n",
       "       [-0.0150299 , -0.64750916, -2.20134668,  0.77635108],\n",
       "       [ 0.38649493, -1.37860228,  0.07308655,  1.88724148]])"
      ]
     },
     "execution_count": 22,
     "metadata": {},
     "output_type": "execute_result"
    }
   ],
   "source": [
    "lmb = 0.01\n",
    "I = np.eye(4)\n",
    "A = np.random.randn(4, 4)\n",
    "A"
   ]
  },
  {
   "cell_type": "code",
   "execution_count": 23,
   "id": "6975275a",
   "metadata": {},
   "outputs": [
    {
     "data": {
      "text/plain": [
       "array([[ 1.79501581, -0.21208681, -0.04209628,  0.74637958],\n",
       "       [ 0.53894192,  0.24079716, -1.40159922, -0.85243471],\n",
       "       [-0.0150299 , -0.64750916, -2.19134668,  0.77635108],\n",
       "       [ 0.38649493, -1.37860228,  0.07308655,  1.89724148]])"
      ]
     },
     "execution_count": 23,
     "metadata": {},
     "output_type": "execute_result"
    }
   ],
   "source": [
    "A_shift = A + lmb*I\n",
    "A_shift"
   ]
  },
  {
   "cell_type": "code",
   "execution_count": 25,
   "id": "115dc720",
   "metadata": {},
   "outputs": [
    {
     "data": {
      "text/plain": [
       "1.743058349393054"
      ]
     },
     "execution_count": 25,
     "metadata": {},
     "output_type": "execute_result"
    }
   ],
   "source": [
    "A = np.random.randn(4, 4)\n",
    "np.trace(A)"
   ]
  },
  {
   "cell_type": "code",
   "execution_count": 27,
   "id": "e6076f45",
   "metadata": {},
   "outputs": [
    {
     "data": {
      "text/plain": [
       "array([[ 0.21164277,  0.63946204],\n",
       "       [-1.31996931, -0.22327268]])"
      ]
     },
     "execution_count": 27,
     "metadata": {},
     "output_type": "execute_result"
    }
   ],
   "source": [
    "A = np.random.randn(4, 2)\n",
    "B = np.random.randn(4, 2)\n",
    "C = np.zeros((2, 2))\n",
    "\n",
    "for i in range(2):\n",
    "    for j in range(2):\n",
    "        C[i, j] = np.dot(A[:, i], B[:, j])\n",
    "        \n",
    "C"
   ]
  },
  {
   "cell_type": "code",
   "execution_count": 29,
   "id": "5fff26c6",
   "metadata": {},
   "outputs": [
    {
     "data": {
      "text/plain": [
       "array([[ 0.19, -0.29, -1.57, -0.42],\n",
       "       [-0.29,  0.56,  0.49,  0.26],\n",
       "       [-1.57,  0.49,  1.06,  0.35],\n",
       "       [-0.42,  0.26,  0.35,  1.73]])"
      ]
     },
     "execution_count": 29,
     "metadata": {},
     "output_type": "execute_result"
    }
   ],
   "source": [
    "A = np.random.randn(4, 4)\n",
    "Al = np.tril(A)\n",
    "S = Al + Al.T\n",
    "S.round(2)"
   ]
  },
  {
   "cell_type": "code",
   "execution_count": 31,
   "id": "98e5d0ce",
   "metadata": {},
   "outputs": [
    {
     "data": {
      "text/plain": [
       "array([[1., 0., 0., 0., 0., 0., 0., 0.],\n",
       "       [0., 2., 0., 0., 0., 0., 0., 0.],\n",
       "       [0., 0., 3., 0., 0., 0., 0., 0.],\n",
       "       [0., 0., 0., 4., 0., 0., 0., 0.]])"
      ]
     },
     "execution_count": 31,
     "metadata": {},
     "output_type": "execute_result"
    }
   ],
   "source": [
    "D = np.zeros((4, 8))\n",
    "for i in range(min(D.shape)):\n",
    "    D[i, i] = i + 1\n",
    "    \n",
    "D"
   ]
  },
  {
   "cell_type": "code",
   "execution_count": null,
   "id": "3c8d3658",
   "metadata": {},
   "outputs": [],
   "source": []
  }
 ],
 "metadata": {
  "kernelspec": {
   "display_name": "Python 3 (ipykernel)",
   "language": "python",
   "name": "python3"
  },
  "language_info": {
   "codemirror_mode": {
    "name": "ipython",
    "version": 3
   },
   "file_extension": ".py",
   "mimetype": "text/x-python",
   "name": "python",
   "nbconvert_exporter": "python",
   "pygments_lexer": "ipython3",
   "version": "3.8.5"
  }
 },
 "nbformat": 4,
 "nbformat_minor": 5
}
