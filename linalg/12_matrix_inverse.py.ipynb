{
 "cells": [
  {
   "cell_type": "code",
   "execution_count": 1,
   "id": "d33bafe4",
   "metadata": {},
   "outputs": [],
   "source": [
    "import matplotlib.pyplot as plt\n",
    "import numpy as np\n",
    "import sympy as sym"
   ]
  },
  {
   "cell_type": "code",
   "execution_count": 3,
   "id": "78595e13",
   "metadata": {},
   "outputs": [
    {
     "data": {
      "text/plain": [
       "array([[ 1., -0.,  0.],\n",
       "       [ 0.,  1.,  0.],\n",
       "       [-0.,  0.,  1.]])"
      ]
     },
     "execution_count": 3,
     "metadata": {},
     "output_type": "execute_result"
    }
   ],
   "source": [
    "A = np.random.randn(3, 3)\n",
    "Ai = np.linalg.inv(A)\n",
    "(A @ Ai).round(3)"
   ]
  },
  {
   "cell_type": "code",
   "execution_count": 4,
   "id": "f6223b52",
   "metadata": {},
   "outputs": [
    {
     "data": {
      "text/plain": [
       "array([[ 0.148, -0.407, -0.755,  1.   ,  0.   ,  0.   ],\n",
       "       [ 0.374, -0.419, -0.653,  0.   ,  1.   ,  0.   ],\n",
       "       [ 0.567,  0.285,  0.751,  0.   ,  0.   ,  1.   ]])"
      ]
     },
     "execution_count": 4,
     "metadata": {},
     "output_type": "execute_result"
    }
   ],
   "source": [
    "A = np.random.randn(3, 3)\n",
    "Acat = np.concatenate((A, np.eye(3, 3)), axis=1)\n",
    "Acat.round(3)"
   ]
  },
  {
   "cell_type": "code",
   "execution_count": 8,
   "id": "0a2186fe",
   "metadata": {},
   "outputs": [
    {
     "data": {
      "text/latex": [
       "$\\displaystyle \\left[\\begin{matrix}-2.1316282072803 \\cdot 10^{-14} & 1.95399252334028 \\cdot 10^{-14} & -4.44089209850063 \\cdot 10^{-15}\\\\-1.27897692436818 \\cdot 10^{-13} & 9.9475983006414 \\cdot 10^{-14} & -3.5527136788005 \\cdot 10^{-14}\\\\6.3948846218409 \\cdot 10^{-14} & -5.32907051820075 \\cdot 10^{-14} & 1.59872115546023 \\cdot 10^{-14}\\end{matrix}\\right]$"
      ],
      "text/plain": [
       "Matrix([\n",
       "[ -2.1316282072803e-14,  1.95399252334028e-14, -4.44089209850063e-15],\n",
       "[-1.27897692436818e-13,   9.9475983006414e-14,  -3.5527136788005e-14],\n",
       "[  6.3948846218409e-14, -5.32907051820075e-14,  1.59872115546023e-14]])"
      ]
     },
     "execution_count": 8,
     "metadata": {},
     "output_type": "execute_result"
    }
   ],
   "source": [
    "Ar = sym.Matrix(Acat).rref()[0]\n",
    "Ar = Ar[:, 3:]  # inverse\n",
    "Ai = np.linalg.inv(A)\n",
    "Ar - Ai"
   ]
  },
  {
   "cell_type": "code",
   "execution_count": 11,
   "id": "5641d198",
   "metadata": {},
   "outputs": [
    {
     "data": {
      "text/plain": [
       "array([[ 1., -0., -0.],\n",
       "       [-0.,  1.,  0.],\n",
       "       [-0.,  0.,  1.]])"
      ]
     },
     "execution_count": 11,
     "metadata": {},
     "output_type": "execute_result"
    }
   ],
   "source": [
    "A = np.random.randn(5, 3)\n",
    "Al = np.linalg.inv(A.T @ A) @ A.T\n",
    "(Al @ A).round(4)"
   ]
  },
  {
   "cell_type": "code",
   "execution_count": 13,
   "id": "041fa1be",
   "metadata": {},
   "outputs": [
    {
     "data": {
      "text/plain": [
       "array([[-0., -0.,  0.,  0.],\n",
       "       [ 0.,  0., -0.,  0.],\n",
       "       [ 0., -0.,  0.,  0.],\n",
       "       [ 0.,  0.,  0.,  0.]])"
      ]
     },
     "execution_count": 13,
     "metadata": {},
     "output_type": "execute_result"
    }
   ],
   "source": [
    "m = 4\n",
    "A = np.random.randn(m, m)\n",
    "\n",
    "M = np.zeros((m, m))\n",
    "G = M.copy()\n",
    "\n",
    "for i in range(m):\n",
    "    for j in range(m):\n",
    "        rows = [True] * m\n",
    "        rows[i] = False\n",
    "        cols = [True] * m\n",
    "        cols[j] = False\n",
    "        M[i, j] = np.linalg.det(A[rows, :][:, cols])\n",
    "        G[i, j] = (-1) ** (i + j)\n",
    "        \n",
    "C = M * G\n",
    "Ai = C.T / np.linalg.det(A)\n",
    "AiI = np.linalg.inv(A)\n",
    "(AiI - Ai).round(5)"
   ]
  },
  {
   "cell_type": "code",
   "execution_count": 15,
   "id": "51bf1e19",
   "metadata": {},
   "outputs": [
    {
     "data": {
      "text/plain": [
       "array([[-0., -0.,  0.,  0.,  0.],\n",
       "       [ 0.,  0., -0., -0.,  0.],\n",
       "       [-0.,  0.,  0.,  0.,  0.],\n",
       "       [-0., -0.,  0.,  0., -0.],\n",
       "       [ 0.,  0., -0., -0.,  0.]])"
      ]
     },
     "execution_count": 15,
     "metadata": {},
     "output_type": "execute_result"
    }
   ],
   "source": [
    "A = np.random.randn(5, 5)\n",
    "Ai = np.linalg.inv(A)\n",
    "Api = np.linalg.pinv(A)\n",
    "(Ai - Api).round(6)"
   ]
  },
  {
   "cell_type": "code",
   "execution_count": 16,
   "id": "10e90ae1",
   "metadata": {},
   "outputs": [
    {
     "data": {
      "text/plain": [
       "array([[-0., -0., -0., -0.,  0.],\n",
       "       [-0., -0., -0., -0.,  0.],\n",
       "       [-0., -0., -0., -0.,  0.]])"
      ]
     },
     "execution_count": 16,
     "metadata": {},
     "output_type": "execute_result"
    }
   ],
   "source": [
    "T = np.random.randn(5, 3)\n",
    "Tl = np.linalg.inv(T.T @ T) @ T.T  # left inv\n",
    "Tpi = np.linalg.pinv(T)\n",
    "(Tl - Tpi).round(7)"
   ]
  },
  {
   "cell_type": "code",
   "execution_count": null,
   "id": "ab62e379",
   "metadata": {},
   "outputs": [],
   "source": []
  }
 ],
 "metadata": {
  "kernelspec": {
   "display_name": "Python 3 (ipykernel)",
   "language": "python",
   "name": "python3"
  },
  "language_info": {
   "codemirror_mode": {
    "name": "ipython",
    "version": 3
   },
   "file_extension": ".py",
   "mimetype": "text/x-python",
   "name": "python",
   "nbconvert_exporter": "python",
   "pygments_lexer": "ipython3",
   "version": "3.8.5"
  }
 },
 "nbformat": 4,
 "nbformat_minor": 5
}
