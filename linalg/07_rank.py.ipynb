{
 "cells": [
  {
   "cell_type": "code",
   "execution_count": 1,
   "id": "659c535c",
   "metadata": {},
   "outputs": [],
   "source": [
    "import numpy as np"
   ]
  },
  {
   "cell_type": "code",
   "execution_count": 2,
   "id": "adaa44ab",
   "metadata": {},
   "outputs": [
    {
     "data": {
      "text/plain": [
       "3"
      ]
     },
     "execution_count": 2,
     "metadata": {},
     "output_type": "execute_result"
    }
   ],
   "source": [
    "A = np.random.randn(3, 6)\n",
    "np.linalg.matrix_rank(A)"
   ]
  },
  {
   "cell_type": "code",
   "execution_count": 3,
   "id": "14a65e2c",
   "metadata": {},
   "outputs": [
    {
     "data": {
      "text/plain": [
       "(3, 3)"
      ]
     },
     "execution_count": 3,
     "metadata": {},
     "output_type": "execute_result"
    }
   ],
   "source": [
    "s = np.random.randn()\n",
    "M = np.random.randn(3, 5)\n",
    "\n",
    "r1 = np.linalg.matrix_rank(M)\n",
    "r2 = np.linalg.matrix_rank(s * M)\n",
    "(r1, r2)"
   ]
  },
  {
   "cell_type": "code",
   "execution_count": 5,
   "id": "a16277b7",
   "metadata": {},
   "outputs": [],
   "source": [
    "#??np.linalg.matrix_rank"
   ]
  },
  {
   "cell_type": "code",
   "execution_count": 6,
   "id": "3b47e402",
   "metadata": {},
   "outputs": [
    {
     "data": {
      "text/plain": [
       "2"
      ]
     },
     "execution_count": 6,
     "metadata": {},
     "output_type": "execute_result"
    }
   ],
   "source": [
    "A = np.random.randn(9, 2)\n",
    "B = np.random.randn(2, 16)\n",
    "C = A @ B\n",
    "np.linalg.matrix_rank(C)"
   ]
  },
  {
   "cell_type": "code",
   "execution_count": 7,
   "id": "c5b1c6df",
   "metadata": {},
   "outputs": [
    {
     "name": "stdout",
     "output_type": "stream",
     "text": [
      "0\n",
      "4\n",
      "0.0\n"
     ]
    }
   ],
   "source": [
    "Z = np.zeros((5, 5))\n",
    "N = np.random.randn(5, 5)\n",
    "ZN = Z + N*np.finfo(float).eps*1e-307\n",
    "\n",
    "print(np.linalg.matrix_rank(Z))\n",
    "print(np.linalg.matrix_rank(ZN))\n",
    "print(np.linalg.norm(ZN, 'fro'))"
   ]
  },
  {
   "cell_type": "code",
   "execution_count": null,
   "id": "70479132",
   "metadata": {},
   "outputs": [],
   "source": []
  }
 ],
 "metadata": {
  "kernelspec": {
   "display_name": "Python 3 (ipykernel)",
   "language": "python",
   "name": "python3"
  },
  "language_info": {
   "codemirror_mode": {
    "name": "ipython",
    "version": 3
   },
   "file_extension": ".py",
   "mimetype": "text/x-python",
   "name": "python",
   "nbconvert_exporter": "python",
   "pygments_lexer": "ipython3",
   "version": "3.8.5"
  }
 },
 "nbformat": 4,
 "nbformat_minor": 5
}
