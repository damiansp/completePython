{
 "cells": [
  {
   "cell_type": "code",
   "execution_count": 1,
   "id": "98ef907d",
   "metadata": {},
   "outputs": [],
   "source": [
    "import matplotlib.pyplot as plt\n",
    "import numpy as np"
   ]
  },
  {
   "cell_type": "code",
   "execution_count": 2,
   "id": "9019dbb6",
   "metadata": {},
   "outputs": [
    {
     "data": {
      "text/plain": [
       "array([[-0.79,  1.34, -0.27],\n",
       "       [ 1.09, -0.58, -1.92],\n",
       "       [-1.98, -0.45,  0.24]])"
      ]
     },
     "execution_count": 2,
     "metadata": {},
     "output_type": "execute_result"
    }
   ],
   "source": [
    "A = np.random.randn(3, 3)\n",
    "A.round(2)"
   ]
  },
  {
   "cell_type": "code",
   "execution_count": 3,
   "id": "2ea83713",
   "metadata": {},
   "outputs": [
    {
     "data": {
      "text/plain": [
       "5.988650312040249"
      ]
     },
     "execution_count": 3,
     "metadata": {},
     "output_type": "execute_result"
    }
   ],
   "source": [
    "np.linalg.det(A)"
   ]
  },
  {
   "cell_type": "code",
   "execution_count": 4,
   "id": "649fc1f6",
   "metadata": {},
   "outputs": [
    {
     "data": {
      "text/plain": [
       "(1425407.9999999993, 1425408.0000000002)"
      ]
     },
     "execution_count": 4,
     "metadata": {},
     "output_type": "execute_result"
    }
   ],
   "source": [
    "A = np.random.randint(0, 11, (4, 4))\n",
    "b = np.random.randint(-10, 1)\n",
    "\n",
    "np.linalg.det(b * A), b**4 * np.linalg.det(A)"
   ]
  },
  {
   "cell_type": "code",
   "execution_count": 5,
   "id": "a76bc814",
   "metadata": {},
   "outputs": [],
   "source": [
    "ns = np.arange(3, 31)\n",
    "iters = 100\n",
    "dets = np.zeros((len(ns), iters))\n",
    "\n",
    "for ni, nval in enumerate(ns):\n",
    "    for i in range(iters):\n",
    "        A = np.random.randn(nval, nval)\n",
    "        A[:, 0] = A[:, 1]\n",
    "        dets[ni, i] = np.abs(np.linalg.det(A))"
   ]
  },
  {
   "cell_type": "code",
   "execution_count": 6,
   "id": "a8e11f3e",
   "metadata": {},
   "outputs": [
    {
     "data": {
      "text/plain": [
       "Text(0, 0.5, 'Log(det(A))')"
      ]
     },
     "execution_count": 6,
     "metadata": {},
     "output_type": "execute_result"
    },
    {
     "data": {
      "image/png": "[encoded data removed]",
      "text/plain": [
       "<Figure size 432x288 with 1 Axes>"
      ]
     },
     "metadata": {
      "needs_background": "light"
     },
     "output_type": "display_data"
    }
   ],
   "source": [
    "plt.plot(ns, np.log(np.mean(dets, axis=1)))\n",
    "plt.xlabel('Matrix (A) size')\n",
    "plt.ylabel('Log(det(A))')"
   ]
  },
  {
   "cell_type": "code",
   "execution_count": null,
   "id": "7000ecec",
   "metadata": {},
   "outputs": [],
   "source": []
  }
 ],
 "metadata": {
  "kernelspec": {
   "display_name": "Python 3 (ipykernel)",
   "language": "python",
   "name": "python3"
  },
  "language_info": {
   "codemirror_mode": {
    "name": "ipython",
    "version": 3
   },
   "file_extension": ".py",
   "mimetype": "text/x-python",
   "name": "python",
   "nbconvert_exporter": "python",
   "pygments_lexer": "ipython3",
   "version": "3.8.5"
  }
 },
 "nbformat": 4,
 "nbformat_minor": 5
}
