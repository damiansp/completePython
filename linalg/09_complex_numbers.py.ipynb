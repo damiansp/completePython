{
 "cells": [
  {
   "cell_type": "code",
   "execution_count": 1,
   "id": "48e45d3f",
   "metadata": {},
   "outputs": [],
   "source": [
    "import numpy as np"
   ]
  },
  {
   "cell_type": "code",
   "execution_count": 3,
   "id": "e6814f7b",
   "metadata": {},
   "outputs": [
    {
     "data": {
      "text/plain": [
       "(3+4j)"
      ]
     },
     "execution_count": 3,
     "metadata": {},
     "output_type": "execute_result"
    }
   ],
   "source": [
    "z = complex(3, 4)\n",
    "z"
   ]
  },
  {
   "cell_type": "code",
   "execution_count": 4,
   "id": "b01cfefa",
   "metadata": {},
   "outputs": [
    {
     "data": {
      "text/plain": [
       "array([3.+4.j, 0.+0.j])"
      ]
     },
     "execution_count": 4,
     "metadata": {},
     "output_type": "execute_result"
    }
   ],
   "source": [
    "Z = np.zeros(2, dtype=complex)\n",
    "Z[0] = 3+4j\n",
    "Z"
   ]
  },
  {
   "cell_type": "code",
   "execution_count": 5,
   "id": "23c0c8d7",
   "metadata": {},
   "outputs": [
    {
     "data": {
      "text/plain": [
       "array([-2.-1.j, -1.-3.j,  2.-2.j])"
      ]
     },
     "execution_count": 5,
     "metadata": {},
     "output_type": "execute_result"
    }
   ],
   "source": [
    "r = np.random.randint(-3, 4, size=3)\n",
    "im = np.random.randint(-3, 4, size=3)\n",
    "Z = r + im*1j\n",
    "Z"
   ]
  },
  {
   "cell_type": "code",
   "execution_count": 6,
   "id": "f9a53a95",
   "metadata": {},
   "outputs": [
    {
     "data": {
      "text/plain": [
       "array([-2.+1.j, -1.+3.j,  2.+2.j])"
      ]
     },
     "execution_count": 6,
     "metadata": {},
     "output_type": "execute_result"
    }
   ],
   "source": [
    "Z.conj()"
   ]
  },
  {
   "cell_type": "code",
   "execution_count": 7,
   "id": "65d03133",
   "metadata": {},
   "outputs": [
    {
     "data": {
      "text/plain": [
       "(-1+0j)"
      ]
     },
     "execution_count": 7,
     "metadata": {},
     "output_type": "execute_result"
    }
   ],
   "source": [
    "v = [0, 1j]\n",
    "np.dot(v, v)  # normal dot prod"
   ]
  },
  {
   "cell_type": "code",
   "execution_count": 8,
   "id": "824b59cd",
   "metadata": {},
   "outputs": [
    {
     "data": {
      "text/plain": [
       "(1+0j)"
      ]
     },
     "execution_count": 8,
     "metadata": {},
     "output_type": "execute_result"
    }
   ],
   "source": [
    "np.vdot(v, v)  # hermitian dot prod (mult by conj)"
   ]
  },
  {
   "cell_type": "code",
   "execution_count": 9,
   "id": "ec3c909c",
   "metadata": {},
   "outputs": [
    {
     "data": {
      "text/plain": [
       "array([[0.5+0.5j, 0.5-0.5j],\n",
       "       [0.5-0.5j, 0.5+0.5j]])"
      ]
     },
     "execution_count": 9,
     "metadata": {},
     "output_type": "execute_result"
    }
   ],
   "source": [
    "U = 0.5 * np.array([[1+1j, 1-1j], [1-1j, 1+1j]])\n",
    "U"
   ]
  },
  {
   "cell_type": "code",
   "execution_count": 10,
   "id": "b60350fa",
   "metadata": {},
   "outputs": [
    {
     "data": {
      "text/plain": [
       "matrix([[1.+0.j, 0.+0.j],\n",
       "        [0.+0.j, 1.+0.j]])"
      ]
     },
     "execution_count": 10,
     "metadata": {},
     "output_type": "execute_result"
    }
   ],
   "source": [
    "# Hermitian\n",
    "U @ np.matrix(U).H"
   ]
  },
  {
   "cell_type": "code",
   "execution_count": 11,
   "id": "3c34211d",
   "metadata": {},
   "outputs": [
    {
     "data": {
      "text/plain": [
       "array([[0.+0.j, 1.+0.j],\n",
       "       [1.+0.j, 0.+0.j]])"
      ]
     },
     "execution_count": 11,
     "metadata": {},
     "output_type": "execute_result"
    }
   ],
   "source": [
    "# Non-Hermitian\n",
    "U @ U.T"
   ]
  },
  {
   "cell_type": "code",
   "execution_count": 13,
   "id": "0abd101e",
   "metadata": {},
   "outputs": [
    {
     "data": {
      "text/plain": [
       "matrix([[ 0.22+0.14j, -0.27-0.99j, -1.9 +1.2j ],\n",
       "        [ 0.66+0.69j,  1.65+0.7j , -0.24-0.06j],\n",
       "        [ 0.76-0.01j, -0.42-0.94j, -0.61+1.17j]])"
      ]
     },
     "execution_count": 13,
     "metadata": {},
     "output_type": "execute_result"
    }
   ],
   "source": [
    "r = np.random.randn(3, 3)\n",
    "im = np.random.randn(3, 3)\n",
    "A = np.matrix(r + im*1j)\n",
    "A.round(2)"
   ]
  },
  {
   "cell_type": "code",
   "execution_count": 15,
   "id": "aca779be",
   "metadata": {},
   "outputs": [
    {
     "data": {
      "text/plain": [
       "matrix([[ 0.44+0.j  ,  0.39-1.68j, -1.14+1.21j],\n",
       "        [ 0.39+1.68j,  3.3 +0.j  , -0.66+0.88j],\n",
       "        [-1.14-1.21j, -0.66-0.88j, -1.22+0.j  ]])"
      ]
     },
     "execution_count": 15,
     "metadata": {},
     "output_type": "execute_result"
    }
   ],
   "source": [
    "A1 = A + A.H\n",
    "A1.round(2)"
   ]
  },
  {
   "cell_type": "code",
   "execution_count": 20,
   "id": "f283bb8b",
   "metadata": {},
   "outputs": [
    {
     "data": {
      "text/plain": [
       "array([ 0.44387571+0.j,  3.30373193+0.j, -1.22496098+0.j])"
      ]
     },
     "execution_count": 20,
     "metadata": {},
     "output_type": "execute_result"
    }
   ],
   "source": [
    "np.diag(A1)  # no imaginary part"
   ]
  },
  {
   "cell_type": "code",
   "execution_count": 21,
   "id": "0263f8c3",
   "metadata": {},
   "outputs": [
    {
     "data": {
      "text/plain": [
       "matrix([[ 6.18+0.j  , -0.51-1.9j ,  3.77+1.74j],\n",
       "        [-0.51+1.9j ,  4.2 +0.j  , -0.77+2.11j],\n",
       "        [ 3.77-1.74j, -0.77-2.11j,  3.37+0.j  ]])"
      ]
     },
     "execution_count": 21,
     "metadata": {},
     "output_type": "execute_result"
    }
   ],
   "source": [
    "A2 = A @ A.H\n",
    "A2.round(2)"
   ]
  },
  {
   "cell_type": "code",
   "execution_count": 23,
   "id": "532f3024",
   "metadata": {},
   "outputs": [
    {
     "data": {
      "text/plain": [
       "array([6.17618189+0.j, 4.19871582+0.j, 3.36605537+0.j])"
      ]
     },
     "execution_count": 23,
     "metadata": {},
     "output_type": "execute_result"
    }
   ],
   "source": [
    "np.diag(A2)"
   ]
  },
  {
   "cell_type": "code",
   "execution_count": 24,
   "id": "8d0296f7",
   "metadata": {},
   "outputs": [
    {
     "data": {
      "text/plain": [
       "matrix([[0.+0.j, 0.+0.j, 0.+0.j],\n",
       "        [0.+0.j, 0.+0.j, 0.+0.j],\n",
       "        [0.+0.j, 0.+0.j, 0.+0.j]])"
      ]
     },
     "execution_count": 24,
     "metadata": {},
     "output_type": "execute_result"
    }
   ],
   "source": [
    "# Test for Hermitian\n",
    "A1 - A1.H"
   ]
  },
  {
   "cell_type": "code",
   "execution_count": 25,
   "id": "eab2eaea",
   "metadata": {},
   "outputs": [
    {
     "data": {
      "text/plain": [
       "matrix([[0.+0.j, 0.+0.j, 0.+0.j],\n",
       "        [0.+0.j, 0.+0.j, 0.+0.j],\n",
       "        [0.+0.j, 0.+0.j, 0.+0.j]])"
      ]
     },
     "execution_count": 25,
     "metadata": {},
     "output_type": "execute_result"
    }
   ],
   "source": [
    "A2 - A2.H"
   ]
  },
  {
   "cell_type": "code",
   "execution_count": null,
   "id": "42f9d737",
   "metadata": {},
   "outputs": [],
   "source": []
  }
 ],
 "metadata": {
  "kernelspec": {
   "display_name": "Python 3 (ipykernel)",
   "language": "python",
   "name": "python3"
  },
  "language_info": {
   "codemirror_mode": {
    "name": "ipython",
    "version": 3
   },
   "file_extension": ".py",
   "mimetype": "text/x-python",
   "name": "python",
   "nbconvert_exporter": "python",
   "pygments_lexer": "ipython3",
   "version": "3.8.5"
  }
 },
 "nbformat": 4,
 "nbformat_minor": 5
}
