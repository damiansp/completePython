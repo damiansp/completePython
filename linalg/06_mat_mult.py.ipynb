{
 "cells": [
  {
   "cell_type": "code",
   "execution_count": 1,
   "id": "e95d4d7b",
   "metadata": {},
   "outputs": [],
   "source": [
    "import numpy as np"
   ]
  },
  {
   "cell_type": "code",
   "execution_count": 5,
   "id": "1d770132",
   "metadata": {},
   "outputs": [
    {
     "data": {
      "text/plain": [
       "array([[ 0.4 ,  1.88, -0.7 ],\n",
       "       [ 1.3 , -1.5 ,  2.61],\n",
       "       [-0.55, -3.08,  1.59]])"
      ]
     },
     "execution_count": 5,
     "metadata": {},
     "output_type": "execute_result"
    }
   ],
   "source": [
    "M = np.random.randn(3, 3)\n",
    "N = np.random.randn(3, 3)\n",
    "P = M @ N\n",
    "P.round(2)"
   ]
  },
  {
   "cell_type": "code",
   "execution_count": 6,
   "id": "86b861c8",
   "metadata": {},
   "outputs": [
    {
     "data": {
      "text/plain": [
       "array([[ 0.48, -1.39,  1.2 ],\n",
       "       [ 1.98,  0.72, -1.56],\n",
       "       [ 0.01,  0.4 , -0.72]])"
      ]
     },
     "execution_count": 6,
     "metadata": {},
     "output_type": "execute_result"
    }
   ],
   "source": [
    "(N @ M).round(2)"
   ]
  },
  {
   "cell_type": "code",
   "execution_count": 7,
   "id": "84406565",
   "metadata": {},
   "outputs": [
    {
     "data": {
      "text/plain": [
       "array([[ 0.43,  0.12, -0.31],\n",
       "       [-0.24, -1.62,  0.01],\n",
       "       [ 0.04, -0.52, -0.92]])"
      ]
     },
     "execution_count": 7,
     "metadata": {},
     "output_type": "execute_result"
    }
   ],
   "source": [
    "(M * N).round(2)  # element-wise"
   ]
  },
  {
   "cell_type": "code",
   "execution_count": 8,
   "id": "a342cba5",
   "metadata": {},
   "outputs": [
    {
     "data": {
      "text/plain": [
       "array([[1, 2, 3],\n",
       "       [4, 5, 6]])"
      ]
     },
     "execution_count": 8,
     "metadata": {},
     "output_type": "execute_result"
    }
   ],
   "source": [
    "A = np.array(\n",
    "    [[1, 2, 3],\n",
    "     [4, 5, 6]])\n",
    "A"
   ]
  },
  {
   "cell_type": "code",
   "execution_count": 9,
   "id": "3cee2a24",
   "metadata": {},
   "outputs": [
    {
     "data": {
      "text/plain": [
       "array([1, 2, 3, 4, 5, 6])"
      ]
     },
     "execution_count": 9,
     "metadata": {},
     "output_type": "execute_result"
    }
   ],
   "source": [
    "A.flatten()"
   ]
  },
  {
   "cell_type": "code",
   "execution_count": 11,
   "id": "8ce0bd8e",
   "metadata": {},
   "outputs": [
    {
     "data": {
      "text/plain": [
       "array([1, 4, 2, 5, 3, 6])"
      ]
     },
     "execution_count": 11,
     "metadata": {},
     "output_type": "execute_result"
    }
   ],
   "source": [
    "A.flatten(order='F')"
   ]
  },
  {
   "cell_type": "code",
   "execution_count": 12,
   "id": "530801b4",
   "metadata": {},
   "outputs": [
    {
     "data": {
      "text/plain": [
       "-3.006886631626301"
      ]
     },
     "execution_count": 12,
     "metadata": {},
     "output_type": "execute_result"
    }
   ],
   "source": [
    "# Frobenius dot prod\n",
    "np.trace(M.T @ N)"
   ]
  },
  {
   "cell_type": "code",
   "execution_count": 14,
   "id": "1ee9bd95",
   "metadata": {},
   "outputs": [
    {
     "data": {
      "text/plain": [
       "array([[ 0.00000000e+00,  0.00000000e+00, -2.22044605e-16],\n",
       "       [ 1.11022302e-16,  0.00000000e+00,  2.22044605e-16]])"
      ]
     },
     "execution_count": 14,
     "metadata": {},
     "output_type": "execute_result"
    }
   ],
   "source": [
    "A = np.random.randn(2, 4)\n",
    "B = np.random.randn(4, 3)\n",
    "P = np.zeros((2, 3))\n",
    "\n",
    "for i in range(4):\n",
    "    P += np.outer(A[:, i], B[i, :])\n",
    "    \n",
    "P - A@B  # ~ 0"
   ]
  },
  {
   "cell_type": "code",
   "execution_count": 15,
   "id": "136f06c7",
   "metadata": {},
   "outputs": [
    {
     "data": {
      "text/plain": [
       "(array([ 0.33239072, -2.43117566,  3.49991306,  1.00940677]),\n",
       " array([ 0.33239072, -2.43117566,  3.49991306,  1.00940677]))"
      ]
     },
     "execution_count": 15,
     "metadata": {},
     "output_type": "execute_result"
    }
   ],
   "source": [
    "D = np.diag(np.arange(1, 5))\n",
    "A = np.random.randn(4, 4)\n",
    "C1 = D * A\n",
    "C2 = D @ A\n",
    "(np.diag(C1), np.diag(C2))"
   ]
  },
  {
   "cell_type": "code",
   "execution_count": 17,
   "id": "8e86950a",
   "metadata": {},
   "outputs": [
    {
     "data": {
      "text/plain": [
       "array([[0.48338303, 0.        , 0.        ],\n",
       "       [0.        , 0.73471096, 0.        ],\n",
       "       [0.        , 0.        , 0.78441434]])"
      ]
     },
     "execution_count": 17,
     "metadata": {},
     "output_type": "execute_result"
    }
   ],
   "source": [
    "A = np.diag(np.random.rand(3))\n",
    "A"
   ]
  },
  {
   "cell_type": "code",
   "execution_count": 18,
   "id": "6e504bdb",
   "metadata": {},
   "outputs": [
    {
     "data": {
      "text/plain": [
       "array([[0., 0., 0.],\n",
       "       [0., 0., 0.],\n",
       "       [0., 0., 0.]])"
      ]
     },
     "execution_count": 18,
     "metadata": {},
     "output_type": "execute_result"
    }
   ],
   "source": [
    "C1 = (A.T + A) / 2\n",
    "C2 = A.T @ A\n",
    "\n",
    "C1 - np.sqrt(C2)"
   ]
  },
  {
   "cell_type": "code",
   "execution_count": 19,
   "id": "dade0147",
   "metadata": {},
   "outputs": [
    {
     "data": {
      "text/plain": [
       "True"
      ]
     },
     "execution_count": 19,
     "metadata": {},
     "output_type": "execute_result"
    }
   ],
   "source": [
    "n = 5\n",
    "A = np.random.randn(n, n)\n",
    "v = np.random.randn(n)\n",
    "\n",
    "LHS = np.linalg.norm(A @ v)\n",
    "RHS = np.linalg.norm(A, ord='fro') * np.linalg.norm(v)\n",
    "\n",
    "RHS > LHS # should always be true"
   ]
  },
  {
   "cell_type": "code",
   "execution_count": null,
   "id": "cc329082",
   "metadata": {},
   "outputs": [],
   "source": []
  }
 ],
 "metadata": {
  "kernelspec": {
   "display_name": "Python 3 (ipykernel)",
   "language": "python",
   "name": "python3"
  },
  "language_info": {
   "codemirror_mode": {
    "name": "ipython",
    "version": 3
   },
   "file_extension": ".py",
   "mimetype": "text/x-python",
   "name": "python",
   "nbconvert_exporter": "python",
   "pygments_lexer": "ipython3",
   "version": "3.8.5"
  }
 },
 "nbformat": 4,
 "nbformat_minor": 5
}
