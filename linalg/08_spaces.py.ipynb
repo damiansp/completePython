{
 "cells": [
  {
   "cell_type": "code",
   "execution_count": 1,
   "id": "683173a6",
   "metadata": {},
   "outputs": [],
   "source": [
    "import numpy as np\n",
    "from   scipy.linalg import null_space"
   ]
  },
  {
   "cell_type": "code",
   "execution_count": 2,
   "id": "c73f506b",
   "metadata": {},
   "outputs": [
    {
     "data": {
      "text/plain": [
       "array([[ 0.05983277],\n",
       "       [-0.8166076 ],\n",
       "       [-0.18550106],\n",
       "       [ 0.54328761]])"
      ]
     },
     "execution_count": 2,
     "metadata": {},
     "output_type": "execute_result"
    }
   ],
   "source": [
    "A = np.random.randn(3, 4)\n",
    "null_space(A)"
   ]
  },
  {
   "cell_type": "code",
   "execution_count": 3,
   "id": "6b06eade",
   "metadata": {},
   "outputs": [
    {
     "data": {
      "text/plain": [
       "array([[ 0.30549887],\n",
       "       [ 0.40600897],\n",
       "       [-0.68157234],\n",
       "       [ 0.52657981]])"
      ]
     },
     "execution_count": 3,
     "metadata": {},
     "output_type": "execute_result"
    }
   ],
   "source": [
    "# reduced rank mats\n",
    "A = np.random.randn(4, 3) @ np.random.randn(3, 4)\n",
    "B = np.random.randn(4, 3) @ np.random.randn(3, 4)\n",
    "null_A = null_space(A)\n",
    "null_A"
   ]
  },
  {
   "cell_type": "code",
   "execution_count": 5,
   "id": "0e45d4d6",
   "metadata": {},
   "outputs": [
    {
     "data": {
      "text/plain": [
       "array([[ 0.00000000e+00],\n",
       "       [ 0.00000000e+00],\n",
       "       [-4.44089210e-16],\n",
       "       [ 8.32667268e-17]])"
      ]
     },
     "execution_count": 5,
     "metadata": {},
     "output_type": "execute_result"
    }
   ],
   "source": [
    "B @ A @ null_A # ~0"
   ]
  },
  {
   "cell_type": "code",
   "execution_count": 6,
   "id": "1a85b28c",
   "metadata": {},
   "outputs": [
    {
     "data": {
      "text/plain": [
       "array([[-0.15786386],\n",
       "       [-3.09127979],\n",
       "       [ 3.55768326],\n",
       "       [ 2.42649881]])"
      ]
     },
     "execution_count": 6,
     "metadata": {},
     "output_type": "execute_result"
    }
   ],
   "source": [
    "A @ B @ null_A # not 0"
   ]
  },
  {
   "cell_type": "code",
   "execution_count": 7,
   "id": "4b7fc6c5",
   "metadata": {},
   "outputs": [
    {
     "data": {
      "text/plain": [
       "9"
      ]
     },
     "execution_count": 7,
     "metadata": {},
     "output_type": "execute_result"
    }
   ],
   "source": [
    "A = np.random.randn(16, 9) @ np.random.randn(9, 11)\n",
    "null_r = null_space(A)\n",
    "null_l = null_space(A.T)\n",
    "r = np.linalg.matrix_rank(A)\n",
    "r"
   ]
  },
  {
   "cell_type": "code",
   "execution_count": 8,
   "id": "d818a85c",
   "metadata": {},
   "outputs": [
    {
     "data": {
      "text/plain": [
       "(11, 16)"
      ]
     },
     "execution_count": 8,
     "metadata": {},
     "output_type": "execute_result"
    }
   ],
   "source": [
    "(null_r.shape[1] + r), (null_l.shape[1] + r)"
   ]
  },
  {
   "cell_type": "code",
   "execution_count": null,
   "id": "57c10ff6",
   "metadata": {},
   "outputs": [],
   "source": []
  }
 ],
 "metadata": {
  "kernelspec": {
   "display_name": "Python 3 (ipykernel)",
   "language": "python",
   "name": "python3"
  },
  "language_info": {
   "codemirror_mode": {
    "name": "ipython",
    "version": 3
   },
   "file_extension": ".py",
   "mimetype": "text/x-python",
   "name": "python",
   "nbconvert_exporter": "python",
   "pygments_lexer": "ipython3",
   "version": "3.8.5"
  }
 },
 "nbformat": 4,
 "nbformat_minor": 5
}
