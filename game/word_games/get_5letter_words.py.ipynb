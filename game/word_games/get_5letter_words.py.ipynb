{
 "cells": [
  {
   "cell_type": "code",
   "execution_count": 1,
   "id": "b4c63d52",
   "metadata": {},
   "outputs": [],
   "source": [
    "import json\n",
    "\n",
    "from bs4 import BeautifulSoup as BS\n",
    "import pandas as pd\n",
    "from   requests_html import HTMLSession"
   ]
  },
  {
   "cell_type": "code",
   "execution_count": 2,
   "id": "93ddfd6a",
   "metadata": {},
   "outputs": [],
   "source": [
    "landing = 'https://www.bestwordlist.com/5letterwords.htm'\n",
    "SESSION = HTMLSession()"
   ]
  },
  {
   "cell_type": "code",
   "execution_count": 3,
   "id": "8bd2f93b",
   "metadata": {},
   "outputs": [],
   "source": [
    "def make_soup(url):\n",
    "    res = SESSION.get(url)\n",
    "    html = res.html.html\n",
    "    soup = BS(html, 'html.parser')\n",
    "    return soup"
   ]
  },
  {
   "cell_type": "code",
   "execution_count": 4,
   "id": "dac43f14",
   "metadata": {},
   "outputs": [],
   "source": [
    "def parse_span(span):\n",
    "    words = span.text.strip()\n",
    "    return words.split()"
   ]
  },
  {
   "cell_type": "code",
   "execution_count": 9,
   "id": "d88bbe72",
   "metadata": {},
   "outputs": [],
   "source": [
    "def extract_words(soup):\n",
    "    words = []\n",
    "    word_spans = soup.find_all('span', class_='mot')\n",
    "    for span in word_spans:\n",
    "        word_list = parse_span(span)\n",
    "        words += word_list\n",
    "    # Disallow words with the same letter occurring multiple times\n",
    "    words = [word for word in words if len(word) == len(set(word))]\n",
    "    return words"
   ]
  },
  {
   "cell_type": "code",
   "execution_count": 10,
   "id": "72350301",
   "metadata": {},
   "outputs": [
    {
     "name": "stdout",
     "output_type": "stream",
     "text": [
      "Fetching words from https://www.bestwordlist.com/5letterwords.htm\n",
      "  Adding 339 words\n",
      "Fetching words from https://www.bestwordlist.com/5letterwordspage2.htm\n",
      "  Adding 414 words\n",
      "Fetching words from https://www.bestwordlist.com/5letterwordspage3.htm\n",
      "  Adding 446 words\n",
      "Fetching words from https://www.bestwordlist.com/5letterwordspage4.htm\n",
      "  Adding 380 words\n",
      "Fetching words from https://www.bestwordlist.com/5letterwordspage5.htm\n",
      "  Adding 432 words\n",
      "Fetching words from https://www.bestwordlist.com/5letterwordspage6.htm\n",
      "  Adding 425 words\n",
      "Fetching words from https://www.bestwordlist.com/5letterwordspage7.htm\n",
      "  Adding 351 words\n",
      "Fetching words from https://www.bestwordlist.com/5letterwordspage8.htm\n",
      "  Adding 421 words\n",
      "Fetching words from https://www.bestwordlist.com/5letterwordspage9.htm\n",
      "  Adding 363 words\n",
      "Fetching words from https://www.bestwordlist.com/5letterwordspage10.htm\n",
      "  Adding 413 words\n",
      "Fetching words from https://www.bestwordlist.com/5letterwordspage11.htm\n",
      "  Adding 370 words\n",
      "Fetching words from https://www.bestwordlist.com/5letterwordspage12.htm\n",
      "  Adding 315 words\n",
      "Fetching words from https://www.bestwordlist.com/5letterwordspage13.htm\n",
      "  Adding 340 words\n",
      "Fetching words from https://www.bestwordlist.com/5letterwordspage14.htm\n",
      "  Adding 422 words\n",
      "Fetching words from https://www.bestwordlist.com/5letterwordspage15.htm\n",
      "  Adding 408 words\n"
     ]
    }
   ],
   "source": [
    "all_words = []\n",
    "for page in range(1, 16):\n",
    "    if page == 1:\n",
    "        url = landing\n",
    "    else:\n",
    "        url = landing.replace('.htm', f'page{page}.htm')\n",
    "    print('Fetching words from', url)\n",
    "    soup = make_soup(url)\n",
    "    words = extract_words(soup)\n",
    "    print(f'  Adding {len(words)} words')\n",
    "    all_words += words"
   ]
  },
  {
   "cell_type": "code",
   "execution_count": 11,
   "id": "e7b285c4",
   "metadata": {},
   "outputs": [],
   "source": [
    "with open('data/wordlist_5letter.json', 'w') as f:\n",
    "    json.dump(all_words, f)"
   ]
  },
  {
   "cell_type": "code",
   "execution_count": 12,
   "id": "57630eb7",
   "metadata": {},
   "outputs": [
    {
     "data": {
      "text/plain": [
       "['ABETS', 'ABHOR', 'ABIDE', 'ABLED', 'ABLER']"
      ]
     },
     "execution_count": 12,
     "metadata": {},
     "output_type": "execute_result"
    }
   ],
   "source": [
    "all_words[:5]"
   ]
  },
  {
   "cell_type": "code",
   "execution_count": 13,
   "id": "99e2dfb5",
   "metadata": {},
   "outputs": [
    {
     "data": {
      "text/plain": [
       "['ZORIL', 'ZORIS', 'ZOUKS', 'ZOWIE', 'ZYMES']"
      ]
     },
     "execution_count": 13,
     "metadata": {},
     "output_type": "execute_result"
    }
   ],
   "source": [
    "all_words[-5:]"
   ]
  },
  {
   "cell_type": "code",
   "execution_count": null,
   "id": "f36dae7c",
   "metadata": {},
   "outputs": [],
   "source": []
  }
 ],
 "metadata": {
  "kernelspec": {
   "display_name": "Python 3 (ipykernel)",
   "language": "python",
   "name": "python3"
  },
  "language_info": {
   "codemirror_mode": {
    "name": "ipython",
    "version": 3
   },
   "file_extension": ".py",
   "mimetype": "text/x-python",
   "name": "python",
   "nbconvert_exporter": "python",
   "pygments_lexer": "ipython3",
   "version": "3.8.5"
  }
 },
 "nbformat": 4,
 "nbformat_minor": 5
}
