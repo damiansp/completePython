{
 "cells": [
  {
   "cell_type": "code",
   "execution_count": 1,
   "id": "8c5c3378",
   "metadata": {},
   "outputs": [],
   "source": [
    "import json\n",
    "\n",
    "import numpy as np"
   ]
  },
  {
   "cell_type": "code",
   "execution_count": 2,
   "id": "720824c9",
   "metadata": {},
   "outputs": [],
   "source": [
    "WORDLEN = 5"
   ]
  },
  {
   "cell_type": "code",
   "execution_count": 3,
   "id": "6a562798",
   "metadata": {},
   "outputs": [],
   "source": [
    "with open(f'data/wordlist_{WORDLEN}letter.json', 'r') as f:\n",
    "    words = json.load(f)"
   ]
  },
  {
   "cell_type": "code",
   "execution_count": 4,
   "id": "74c45ddc",
   "metadata": {},
   "outputs": [
    {
     "data": {
      "text/plain": [
       "['AAHED', 'AALII', 'AARGH', 'ABACA', 'ABACI']"
      ]
     },
     "execution_count": 4,
     "metadata": {},
     "output_type": "execute_result"
    }
   ],
   "source": [
    "words[:5]"
   ]
  },
  {
   "cell_type": "code",
   "execution_count": 5,
   "id": "9849d1a6",
   "metadata": {},
   "outputs": [],
   "source": [
    "def get_random_word(words):\n",
    "    return np.random.choice(words, 1)[0]"
   ]
  },
  {
   "cell_type": "code",
   "execution_count": 6,
   "id": "481102ee",
   "metadata": {},
   "outputs": [],
   "source": [
    "NOT_TRIED = GREY = '\\033[47m'\n",
    "RIGHT = GREEN = '\\033[42m'\n",
    "WRONG_SPOT = ORANGE = '\\033[43m'\n",
    "NOT_IN_WORD = RED = '\\033[41m'"
   ]
  },
  {
   "cell_type": "code",
   "execution_count": 42,
   "id": "a96c28e4",
   "metadata": {},
   "outputs": [],
   "source": [
    "ANSWER = list(get_random_word(words))"
   ]
  },
  {
   "cell_type": "code",
   "execution_count": 43,
   "id": "4341c0d9",
   "metadata": {},
   "outputs": [],
   "source": [
    "letters = list('ABCDEFGHIJKLMNOPQRSTUVWXYZ')\n",
    "status = {letter: NOT_TRIED for letter in letters}"
   ]
  },
  {
   "cell_type": "code",
   "execution_count": 44,
   "id": "500766e7",
   "metadata": {},
   "outputs": [],
   "source": [
    "def update_game_status(letters):\n",
    "    for i, letter in enumerate(letters):\n",
    "        if letter in ANSWER:\n",
    "            if letter == ANSWER[i]:\n",
    "                status[letter] = RIGHT\n",
    "            else:\n",
    "                status[letter] = WRONG_SPOT\n",
    "        else:\n",
    "            status[letter] = NOT_IN_WORD"
   ]
  },
  {
   "cell_type": "code",
   "execution_count": 45,
   "id": "21fb248a",
   "metadata": {},
   "outputs": [],
   "source": [
    "def display_letter(letter, **kwargs):\n",
    "    print(status[letter] + f' {letter} ', **kwargs)"
   ]
  },
  {
   "cell_type": "code",
   "execution_count": 46,
   "id": "86c4f517",
   "metadata": {},
   "outputs": [],
   "source": [
    "def display_status():\n",
    "    for i, letter in enumerate(status.keys()):\n",
    "        end = '\\n' if (i + 1) % 10 == 0 else ''\n",
    "        display_letter(letter, end=end)"
   ]
  },
  {
   "cell_type": "code",
   "execution_count": 47,
   "id": "5e038522",
   "metadata": {},
   "outputs": [],
   "source": [
    "def display(letters):\n",
    "    for i, letter in enumerate(letters):\n",
    "        end = '\\n' if i == WORDLEN - 1 else ''\n",
    "        display_letter(letter, end=end)\n",
    "    print()\n",
    "    display_status()"
   ]
  },
  {
   "cell_type": "code",
   "execution_count": 48,
   "id": "55a608af",
   "metadata": {},
   "outputs": [],
   "source": [
    "def play_turn(word):\n",
    "    assert len(word) == WORDLEN, f'Word must be {WORDLEN} letters'\n",
    "    letters = list(word.upper())\n",
    "    update_game_status(letters)\n",
    "    display(letters)"
   ]
  },
  {
   "cell_type": "code",
   "execution_count": 50,
   "id": "868b41e3",
   "metadata": {},
   "outputs": [
    {
     "name": "stdout",
     "output_type": "stream",
     "text": [
      "\u001b[43m S \u001b[41m T \u001b[41m A \u001b[41m R \u001b[42m E \n",
      "\n",
      "\u001b[41m A \u001b[47m B \u001b[47m C \u001b[47m D \u001b[42m E \u001b[47m F \u001b[47m G \u001b[47m H \u001b[47m I \u001b[47m J \n",
      "\u001b[47m K \u001b[47m L \u001b[47m M \u001b[47m N \u001b[47m O \u001b[47m P \u001b[47m Q \u001b[41m R \u001b[43m S \u001b[41m T \n",
      "\u001b[47m U \u001b[47m V \u001b[47m W \u001b[47m X \u001b[47m Y \u001b[47m Z "
     ]
    }
   ],
   "source": [
    "play_turn('STARE')"
   ]
  },
  {
   "cell_type": "code",
   "execution_count": 51,
   "id": "d7fc3b8b",
   "metadata": {},
   "outputs": [
    {
     "name": "stdout",
     "output_type": "stream",
     "text": [
      "\u001b[41m N \u001b[42m O \u001b[41m I \u001b[42m S \u001b[42m E \n",
      "\n",
      "\u001b[41m A \u001b[47m B \u001b[47m C \u001b[47m D \u001b[42m E \u001b[47m F \u001b[47m G \u001b[47m H \u001b[41m I \u001b[47m J \n",
      "\u001b[47m K \u001b[47m L \u001b[47m M \u001b[41m N \u001b[42m O \u001b[47m P \u001b[47m Q \u001b[41m R \u001b[42m S \u001b[41m T \n",
      "\u001b[47m U \u001b[47m V \u001b[47m W \u001b[47m X \u001b[47m Y \u001b[47m Z "
     ]
    }
   ],
   "source": [
    "play_turn('NOISE')"
   ]
  },
  {
   "cell_type": "code",
   "execution_count": 52,
   "id": "64aac1c5",
   "metadata": {},
   "outputs": [
    {
     "name": "stdout",
     "output_type": "stream",
     "text": [
      "\u001b[41m C \u001b[42m O \u001b[41m P \u001b[42m S \u001b[42m E \n",
      "\n",
      "\u001b[41m A \u001b[47m B \u001b[41m C \u001b[47m D \u001b[42m E \u001b[47m F \u001b[47m G \u001b[47m H \u001b[41m I \u001b[47m J \n",
      "\u001b[47m K \u001b[47m L \u001b[47m M \u001b[41m N \u001b[42m O \u001b[41m P \u001b[47m Q \u001b[41m R \u001b[42m S \u001b[41m T \n",
      "\u001b[47m U \u001b[47m V \u001b[47m W \u001b[47m X \u001b[47m Y \u001b[47m Z "
     ]
    }
   ],
   "source": [
    "play_turn('COPSE')"
   ]
  },
  {
   "cell_type": "code",
   "execution_count": 53,
   "id": "0f51c9c5",
   "metadata": {},
   "outputs": [
    {
     "name": "stdout",
     "output_type": "stream",
     "text": [
      "\u001b[41m H \u001b[42m O \u001b[42m U \u001b[42m S \u001b[42m E \n",
      "\n",
      "\u001b[41m A \u001b[47m B \u001b[41m C \u001b[47m D \u001b[42m E \u001b[47m F \u001b[47m G \u001b[41m H \u001b[41m I \u001b[47m J \n",
      "\u001b[47m K \u001b[47m L \u001b[47m M \u001b[41m N \u001b[42m O \u001b[41m P \u001b[47m Q \u001b[41m R \u001b[42m S \u001b[41m T \n",
      "\u001b[42m U \u001b[47m V \u001b[47m W \u001b[47m X \u001b[47m Y \u001b[47m Z "
     ]
    }
   ],
   "source": [
    "play_turn('HOUSE')"
   ]
  },
  {
   "cell_type": "code",
   "execution_count": 54,
   "id": "cfd84a5f",
   "metadata": {},
   "outputs": [
    {
     "name": "stdout",
     "output_type": "stream",
     "text": [
      "\u001b[41m M \u001b[42m O \u001b[42m U \u001b[42m S \u001b[42m E \n",
      "\n",
      "\u001b[41m A \u001b[47m B \u001b[41m C \u001b[47m D \u001b[42m E \u001b[47m F \u001b[47m G \u001b[41m H \u001b[41m I \u001b[47m J \n",
      "\u001b[47m K \u001b[47m L \u001b[41m M \u001b[41m N \u001b[42m O \u001b[41m P \u001b[47m Q \u001b[41m R \u001b[42m S \u001b[41m T \n",
      "\u001b[42m U \u001b[47m V \u001b[47m W \u001b[47m X \u001b[47m Y \u001b[47m Z "
     ]
    }
   ],
   "source": [
    "play_turn('MOUSE')"
   ]
  },
  {
   "cell_type": "code",
   "execution_count": 56,
   "id": "afe020e1",
   "metadata": {},
   "outputs": [
    {
     "name": "stdout",
     "output_type": "stream",
     "text": [
      "\u001b[41m L \u001b[42m O \u001b[42m U \u001b[42m S \u001b[42m E \n",
      "\n",
      "\u001b[41m A \u001b[47m B \u001b[41m C \u001b[47m D \u001b[42m E \u001b[47m F \u001b[47m G \u001b[41m H \u001b[41m I \u001b[47m J \n",
      "\u001b[47m K \u001b[41m L \u001b[41m M \u001b[41m N \u001b[42m O \u001b[41m P \u001b[47m Q \u001b[41m R \u001b[42m S \u001b[41m T \n",
      "\u001b[42m U \u001b[47m V \u001b[47m W \u001b[47m X \u001b[47m Y \u001b[47m Z "
     ]
    }
   ],
   "source": [
    "play_turn('LOUSE')"
   ]
  },
  {
   "cell_type": "code",
   "execution_count": 57,
   "id": "af71b071",
   "metadata": {},
   "outputs": [
    {
     "name": "stdout",
     "output_type": "stream",
     "text": [
      "\u001b[41m D \u001b[42m O \u001b[42m U \u001b[42m S \u001b[42m E \n",
      "\n",
      "\u001b[41m A \u001b[47m B \u001b[41m C \u001b[41m D \u001b[42m E \u001b[47m F \u001b[47m G \u001b[41m H \u001b[41m I \u001b[47m J \n",
      "\u001b[47m K \u001b[41m L \u001b[41m M \u001b[41m N \u001b[42m O \u001b[41m P \u001b[47m Q \u001b[41m R \u001b[42m S \u001b[41m T \n",
      "\u001b[42m U \u001b[47m V \u001b[47m W \u001b[47m X \u001b[47m Y \u001b[47m Z "
     ]
    }
   ],
   "source": [
    "play_turn('DOUSE')"
   ]
  },
  {
   "cell_type": "code",
   "execution_count": 58,
   "id": "926c13c3",
   "metadata": {},
   "outputs": [
    {
     "data": {
      "text/plain": [
       "['Y', 'O', 'U', 'S', 'E']"
      ]
     },
     "execution_count": 58,
     "metadata": {},
     "output_type": "execute_result"
    }
   ],
   "source": [
    "ANSWER"
   ]
  },
  {
   "cell_type": "code",
   "execution_count": null,
   "id": "cf645d2b",
   "metadata": {},
   "outputs": [],
   "source": []
  }
 ],
 "metadata": {
  "kernelspec": {
   "display_name": "Python 3 (ipykernel)",
   "language": "python",
   "name": "python3"
  },
  "language_info": {
   "codemirror_mode": {
    "name": "ipython",
    "version": 3
   },
   "file_extension": ".py",
   "mimetype": "text/x-python",
   "name": "python",
   "nbconvert_exporter": "python",
   "pygments_lexer": "ipython3",
   "version": "3.8.5"
  }
 },
 "nbformat": 4,
 "nbformat_minor": 5
}
