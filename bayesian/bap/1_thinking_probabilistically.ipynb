{
 "cells": [
  {
   "cell_type": "code",
   "execution_count": 1,
   "id": "85762573",
   "metadata": {},
   "outputs": [],
   "source": [
    "import preliz as pz"
   ]
  },
  {
   "cell_type": "code",
   "execution_count": 3,
   "id": "91880196",
   "metadata": {},
   "outputs": [],
   "source": [
    "#pz.BetaBinomial(alpha=10, beta=10, n=6).plot_interactive()"
   ]
  },
  {
   "cell_type": "code",
   "execution_count": null,
   "id": "8087eb2f",
   "metadata": {},
   "outputs": [],
   "source": []
  }
 ],
 "metadata": {
  "kernelspec": {
   "display_name": "Python 3 (ipykernel)",
   "language": "python",
   "name": "python3"
  },
  "language_info": {
   "codemirror_mode": {
    "name": "ipython",
    "version": 3
   },
   "file_extension": ".py",
   "mimetype": "text/x-python",
   "name": "python",
   "nbconvert_exporter": "python",
   "pygments_lexer": "ipython3",
   "version": "3.11.3"
  }
 },
 "nbformat": 4,
 "nbformat_minor": 5
}
