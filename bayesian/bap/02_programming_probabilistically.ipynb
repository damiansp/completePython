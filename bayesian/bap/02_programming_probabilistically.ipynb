{
 "cells": [
  {
   "cell_type": "code",
   "execution_count": 6,
   "id": "de1ab5da",
   "metadata": {},
   "outputs": [],
   "source": [
    "import numpy as np\n",
    "import preliz as pz\n",
    "import pymc as pm\n",
    "\n",
    "np.random.seed(321)"
   ]
  },
  {
   "cell_type": "markdown",
   "id": "31e0c1e5",
   "metadata": {},
   "source": [
    "### 2.1 Flipping Coins the PyMC Way"
   ]
  },
  {
   "cell_type": "markdown",
   "id": "9d6b986c",
   "metadata": {},
   "source": [
    "- θ ~ Beta(α=1, β=1)\n",
    "- Υ ~ Binomial(n=1, p=θ)"
   ]
  },
  {
   "cell_type": "code",
   "execution_count": 7,
   "id": "b32c629f",
   "metadata": {},
   "outputs": [],
   "source": [
    "trials = 4\n",
    "theta_real = 0.35\n",
    "data = pz.Binomial(n=1, p=theta_real).rvs(trials)"
   ]
  },
  {
   "cell_type": "code",
   "execution_count": 8,
   "id": "e3d37bbe",
   "metadata": {},
   "outputs": [
    {
     "name": "stderr",
     "output_type": "stream",
     "text": [
      "Initializing NUTS using jitter+adapt_diag...\n",
      "Multiprocess sampling (4 chains in 4 jobs)\n",
      "NUTS: [theta]\n"
     ]
    },
    {
     "data": {
      "application/vnd.jupyter.widget-view+json": {
       "model_id": "c933dbbfe101476db64dce200669e1f1",
       "version_major": 2,
       "version_minor": 0
      },
      "text/plain": [
       "Output()"
      ]
     },
     "metadata": {},
     "output_type": "display_data"
    },
    {
     "data": {
      "text/html": [
       "<pre style=\"white-space:pre;overflow-x:auto;line-height:normal;font-family:Menlo,'DejaVu Sans Mono',consolas,'Courier New',monospace\"></pre>\n"
      ],
      "text/plain": []
     },
     "metadata": {},
     "output_type": "display_data"
    },
    {
     "name": "stderr",
     "output_type": "stream",
     "text": [
      "Sampling 4 chains for 1_000 tune and 1_000 draw iterations (4_000 + 4_000 draws total) took 1 seconds.\n"
     ]
    }
   ],
   "source": [
    "with pm.Model() as first_mod:\n",
    "    theta = pm.Beta('theta', alpha=1., beta=1.)\n",
    "    y = pm.Bernoulli('y', p=theta, observed=data)\n",
    "    idata = pm.sample(1000)"
   ]
  },
  {
   "cell_type": "code",
   "execution_count": null,
   "id": "b54eec31",
   "metadata": {},
   "outputs": [],
   "source": []
  }
 ],
 "metadata": {
  "kernelspec": {
   "display_name": "Python 3 (ipykernel)",
   "language": "python",
   "name": "python3"
  },
  "language_info": {
   "codemirror_mode": {
    "name": "ipython",
    "version": 3
   },
   "file_extension": ".py",
   "mimetype": "text/x-python",
   "name": "python",
   "nbconvert_exporter": "python",
   "pygments_lexer": "ipython3",
   "version": "3.11.3"
  }
 },
 "nbformat": 4,
 "nbformat_minor": 5
}
