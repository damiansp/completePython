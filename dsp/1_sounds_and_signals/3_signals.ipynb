{
 "cells": [
  {
   "cell_type": "code",
   "execution_count": 1,
   "id": "4c68dc5b",
   "metadata": {},
   "outputs": [],
   "source": [
    "import sys\n",
    "\n",
    "sys.path.append('..')\n",
    "import thinkdsp as dsp"
   ]
  },
  {
   "cell_type": "code",
   "execution_count": 2,
   "id": "c7946f3d",
   "metadata": {},
   "outputs": [],
   "source": [
    "cos_sig = dsp.CosSignal(freq=440, amp=1., offset=0)\n",
    "sin_sig = dsp.SinSignal(freq=440, amp=1., offset=0)"
   ]
  },
  {
   "cell_type": "code",
   "execution_count": null,
   "id": "80cbad9b",
   "metadata": {},
   "outputs": [],
   "source": []
  }
 ],
 "metadata": {
  "kernelspec": {
   "display_name": "Python 3 (ipykernel)",
   "language": "python",
   "name": "python3"
  },
  "language_info": {
   "codemirror_mode": {
    "name": "ipython",
    "version": 3
   },
   "file_extension": ".py",
   "mimetype": "text/x-python",
   "name": "python",
   "nbconvert_exporter": "python",
   "pygments_lexer": "ipython3",
   "version": "3.11.3"
  }
 },
 "nbformat": 4,
 "nbformat_minor": 5
}
