{
 "cells": [
  {
   "cell_type": "code",
   "execution_count": 1,
   "id": "4c68dc5b",
   "metadata": {},
   "outputs": [],
   "source": [
    "import sys\n",
    "\n",
    "sys.path.append('..')\n",
    "import thinkdsp as dsp"
   ]
  },
  {
   "cell_type": "code",
   "execution_count": 2,
   "id": "c7946f3d",
   "metadata": {},
   "outputs": [
    {
     "ename": "TypeError",
     "evalue": "Sinusoid() takes no arguments",
     "output_type": "error",
     "traceback": [
      "\u001b[0;31m---------------------------------------------------------------------------\u001b[0m",
      "\u001b[0;31mTypeError\u001b[0m                                 Traceback (most recent call last)",
      "Cell \u001b[0;32mIn[2], line 1\u001b[0m\n\u001b[0;32m----> 1\u001b[0m cos_sig \u001b[38;5;241m=\u001b[39m \u001b[43mdsp\u001b[49m\u001b[38;5;241;43m.\u001b[39;49m\u001b[43mCosSignal\u001b[49m\u001b[43m(\u001b[49m\u001b[43mfreq\u001b[49m\u001b[38;5;241;43m=\u001b[39;49m\u001b[38;5;241;43m440\u001b[39;49m\u001b[43m,\u001b[49m\u001b[43m \u001b[49m\u001b[43mamp\u001b[49m\u001b[38;5;241;43m=\u001b[39;49m\u001b[38;5;241;43m1.\u001b[39;49m\u001b[43m,\u001b[49m\u001b[43m \u001b[49m\u001b[43moffset\u001b[49m\u001b[38;5;241;43m=\u001b[39;49m\u001b[38;5;241;43m0\u001b[39;49m\u001b[43m)\u001b[49m\n\u001b[1;32m      2\u001b[0m sin_sig \u001b[38;5;241m=\u001b[39m dsp\u001b[38;5;241m.\u001b[39mSinSignal(freq\u001b[38;5;241m=\u001b[39m\u001b[38;5;241m440\u001b[39m, amp\u001b[38;5;241m=\u001b[39m\u001b[38;5;241m1.\u001b[39m, offset\u001b[38;5;241m=\u001b[39m\u001b[38;5;241m0\u001b[39m)\n",
      "File \u001b[0;32m~/Learning/python/dsp/1_sounds_and_signals/../thinkdsp.py:71\u001b[0m, in \u001b[0;36mCosSignal\u001b[0;34m(freq, amp, offset)\u001b[0m\n\u001b[1;32m     63\u001b[0m \u001b[38;5;28;01mdef\u001b[39;00m \u001b[38;5;21mCosSignal\u001b[39m(\n\u001b[1;32m     64\u001b[0m         freq: \u001b[38;5;28mfloat\u001b[39m \u001b[38;5;241m=\u001b[39m \u001b[38;5;241m440\u001b[39m, amp: \u001b[38;5;28mfloat\u001b[39m \u001b[38;5;241m=\u001b[39m \u001b[38;5;241m1.\u001b[39m, offset: \u001b[38;5;28mfloat\u001b[39m \u001b[38;5;241m=\u001b[39m \u001b[38;5;241m0.\u001b[39m) \u001b[38;5;241m-\u001b[39m\u001b[38;5;241m>\u001b[39m Sinusoid:\n\u001b[1;32m     65\u001b[0m \u001b[38;5;250m    \u001b[39m\u001b[38;5;124;03m'''Makes a cosine Sinusoid.\u001b[39;00m\n\u001b[1;32m     66\u001b[0m \u001b[38;5;124;03m    Parameters:\u001b[39;00m\n\u001b[1;32m     67\u001b[0m \u001b[38;5;124;03m    - freq: frequency in Hz\u001b[39;00m\n\u001b[1;32m     68\u001b[0m \u001b[38;5;124;03m    - amp: amplitude, 1.0 is nominal max\u001b[39;00m\n\u001b[1;32m     69\u001b[0m \u001b[38;5;124;03m    - offset: phase offset in radians\u001b[39;00m\n\u001b[1;32m     70\u001b[0m \u001b[38;5;124;03m    '''\u001b[39;00m\n\u001b[0;32m---> 71\u001b[0m     \u001b[38;5;28;01mreturn\u001b[39;00m \u001b[43mSinusoid\u001b[49m\u001b[43m(\u001b[49m\u001b[43mfreq\u001b[49m\u001b[43m,\u001b[49m\u001b[43m \u001b[49m\u001b[43mamp\u001b[49m\u001b[43m,\u001b[49m\u001b[43m \u001b[49m\u001b[43moffset\u001b[49m\u001b[43m,\u001b[49m\u001b[43m \u001b[49m\u001b[43mfunc\u001b[49m\u001b[38;5;241;43m=\u001b[39;49m\u001b[43mnp\u001b[49m\u001b[38;5;241;43m.\u001b[39;49m\u001b[43mcos\u001b[49m\u001b[43m)\u001b[49m\n",
      "\u001b[0;31mTypeError\u001b[0m: Sinusoid() takes no arguments"
     ]
    }
   ],
   "source": [
    "cos_sig = dsp.CosSignal(freq=440, amp=1., offset=0)\n",
    "sin_sig = dsp.SinSignal(freq=440, amp=1., offset=0)"
   ]
  },
  {
   "cell_type": "code",
   "execution_count": null,
   "id": "80cbad9b",
   "metadata": {},
   "outputs": [],
   "source": []
  }
 ],
 "metadata": {
  "kernelspec": {
   "display_name": "Python 3 (ipykernel)",
   "language": "python",
   "name": "python3"
  },
  "language_info": {
   "codemirror_mode": {
    "name": "ipython",
    "version": 3
   },
   "file_extension": ".py",
   "mimetype": "text/x-python",
   "name": "python",
   "nbconvert_exporter": "python",
   "pygments_lexer": "ipython3",
   "version": "3.11.3"
  }
 },
 "nbformat": 4,
 "nbformat_minor": 5
}
