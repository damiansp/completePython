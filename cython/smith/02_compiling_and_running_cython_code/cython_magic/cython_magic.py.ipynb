{
 "cells": [
  {
   "cell_type": "code",
   "execution_count": 1,
   "id": "f76f0de3",
   "metadata": {},
   "outputs": [],
   "source": [
    "%load_ext Cython"
   ]
  },
  {
   "cell_type": "code",
   "execution_count": 2,
   "id": "ffc90c1d",
   "metadata": {},
   "outputs": [],
   "source": [
    "%%cython\n",
    "def fib_c(int n):\n",
    "    cdef int i\n",
    "    cdef int a=0, b=1\n",
    "    for _ in range(n):\n",
    "        a, b = a + b, a\n",
    "    return a"
   ]
  },
  {
   "cell_type": "code",
   "execution_count": 3,
   "id": "3ec0e74d",
   "metadata": {},
   "outputs": [
    {
     "name": "stdout",
     "output_type": "stream",
     "text": [
      "\u001b[34mUsers\u001b[m\u001b[m\r\n",
      "_cython_magic_bae5846cfb2ddf517193960fbf233608.c\r\n",
      "\u001b[31m_cython_magic_bae5846cfb2ddf517193960fbf233608.cpython-38-darwin.so\u001b[m\u001b[m\r\n",
      "_cython_magic_bae5846cfb2ddf517193960fbf233608.pyx\r\n"
     ]
    }
   ],
   "source": [
    "!ls ~/.ipython/cython"
   ]
  },
  {
   "cell_type": "code",
   "execution_count": 4,
   "id": "bb644223",
   "metadata": {},
   "outputs": [],
   "source": [
    "def fib_py(n):\n",
    "    a, b = 0, 1\n",
    "    for _ in range(n):\n",
    "        a, b = a + b, a\n",
    "    return a"
   ]
  },
  {
   "cell_type": "code",
   "execution_count": 5,
   "id": "cb5c582b",
   "metadata": {},
   "outputs": [
    {
     "name": "stdout",
     "output_type": "stream",
     "text": [
      "56.2 ns ± 0.326 ns per loop (mean ± std. dev. of 7 runs, 10000000 loops each)\n"
     ]
    }
   ],
   "source": [
    "%%timeit\n",
    "fib_c(25)"
   ]
  },
  {
   "cell_type": "code",
   "execution_count": 6,
   "id": "ffb2c90c",
   "metadata": {},
   "outputs": [
    {
     "name": "stdout",
     "output_type": "stream",
     "text": [
      "1.22 µs ± 18.8 ns per loop (mean ± std. dev. of 7 runs, 1000000 loops each)\n"
     ]
    }
   ],
   "source": [
    "%%timeit\n",
    "fib_py(25)"
   ]
  },
  {
   "cell_type": "code",
   "execution_count": 7,
   "id": "7ffedb40",
   "metadata": {},
   "outputs": [],
   "source": [
    "!rm -rf ~/.ipython/cython/_cython_magic_*"
   ]
  },
  {
   "cell_type": "code",
   "execution_count": null,
   "id": "0226d009",
   "metadata": {},
   "outputs": [],
   "source": []
  }
 ],
 "metadata": {
  "kernelspec": {
   "display_name": "Python 3 (ipykernel)",
   "language": "python",
   "name": "python3"
  },
  "language_info": {
   "codemirror_mode": {
    "name": "ipython",
    "version": 3
   },
   "file_extension": ".py",
   "mimetype": "text/x-python",
   "name": "python",
   "nbconvert_exporter": "python",
   "pygments_lexer": "ipython3",
   "version": "3.8.5"
  }
 },
 "nbformat": 4,
 "nbformat_minor": 5
}
