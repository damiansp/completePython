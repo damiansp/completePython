{
 "cells": [
  {
   "cell_type": "markdown",
   "id": "competent-child",
   "metadata": {},
   "source": [
    "\"Generalized Estimating Equations estimate generalized linear models for panel, cluster or repeated measures data when the observations are possibly correlated withing a cluster but uncorrelated across clusters. It supports estimation of the same one-parameter exponential families as Generalized Linear models (GLM).\""
   ]
  },
  {
   "cell_type": "code",
   "execution_count": 6,
   "id": "clean-intake",
   "metadata": {},
   "outputs": [],
   "source": [
    "import ssl\n",
    "\n",
    "import matplotlib.pyplot as plt\n",
    "import statsmodels.api as sm\n",
    "import statsmodels.formula.api as smf\n",
    "\n",
    "ssl._create_default_https_context = ssl._create_unverified_context"
   ]
  },
  {
   "cell_type": "code",
   "execution_count": 5,
   "id": "adaptive-acceptance",
   "metadata": {},
   "outputs": [
    {
     "data": {
      "text/html": [
       "<div>\n",
       "<style scoped>\n",
       "    .dataframe tbody tr th:only-of-type {\n",
       "        vertical-align: middle;\n",
       "    }\n",
       "\n",
       "    .dataframe tbody tr th {\n",
       "        vertical-align: top;\n",
       "    }\n",
       "\n",
       "    .dataframe thead th {\n",
       "        text-align: right;\n",
       "    }\n",
       "</style>\n",
       "<table border=\"1\" class=\"dataframe\">\n",
       "  <thead>\n",
       "    <tr style=\"text-align: right;\">\n",
       "      <th></th>\n",
       "      <th>y</th>\n",
       "      <th>trt</th>\n",
       "      <th>base</th>\n",
       "      <th>age</th>\n",
       "      <th>V4</th>\n",
       "      <th>subject</th>\n",
       "      <th>period</th>\n",
       "      <th>lbase</th>\n",
       "      <th>lage</th>\n",
       "    </tr>\n",
       "  </thead>\n",
       "  <tbody>\n",
       "    <tr>\n",
       "      <th>0</th>\n",
       "      <td>5</td>\n",
       "      <td>placebo</td>\n",
       "      <td>11</td>\n",
       "      <td>31</td>\n",
       "      <td>0</td>\n",
       "      <td>1</td>\n",
       "      <td>1</td>\n",
       "      <td>-0.756354</td>\n",
       "      <td>0.114204</td>\n",
       "    </tr>\n",
       "    <tr>\n",
       "      <th>1</th>\n",
       "      <td>3</td>\n",
       "      <td>placebo</td>\n",
       "      <td>11</td>\n",
       "      <td>31</td>\n",
       "      <td>0</td>\n",
       "      <td>1</td>\n",
       "      <td>2</td>\n",
       "      <td>-0.756354</td>\n",
       "      <td>0.114204</td>\n",
       "    </tr>\n",
       "    <tr>\n",
       "      <th>2</th>\n",
       "      <td>3</td>\n",
       "      <td>placebo</td>\n",
       "      <td>11</td>\n",
       "      <td>31</td>\n",
       "      <td>0</td>\n",
       "      <td>1</td>\n",
       "      <td>3</td>\n",
       "      <td>-0.756354</td>\n",
       "      <td>0.114204</td>\n",
       "    </tr>\n",
       "    <tr>\n",
       "      <th>3</th>\n",
       "      <td>3</td>\n",
       "      <td>placebo</td>\n",
       "      <td>11</td>\n",
       "      <td>31</td>\n",
       "      <td>1</td>\n",
       "      <td>1</td>\n",
       "      <td>4</td>\n",
       "      <td>-0.756354</td>\n",
       "      <td>0.114204</td>\n",
       "    </tr>\n",
       "    <tr>\n",
       "      <th>4</th>\n",
       "      <td>3</td>\n",
       "      <td>placebo</td>\n",
       "      <td>11</td>\n",
       "      <td>30</td>\n",
       "      <td>0</td>\n",
       "      <td>2</td>\n",
       "      <td>1</td>\n",
       "      <td>-0.756354</td>\n",
       "      <td>0.081414</td>\n",
       "    </tr>\n",
       "  </tbody>\n",
       "</table>\n",
       "</div>"
      ],
      "text/plain": [
       "   y      trt  base  age  V4  subject  period     lbase      lage\n",
       "0  5  placebo    11   31   0        1       1 -0.756354  0.114204\n",
       "1  3  placebo    11   31   0        1       2 -0.756354  0.114204\n",
       "2  3  placebo    11   31   0        1       3 -0.756354  0.114204\n",
       "3  3  placebo    11   31   1        1       4 -0.756354  0.114204\n",
       "4  3  placebo    11   30   0        2       1 -0.756354  0.081414"
      ]
     },
     "execution_count": 5,
     "metadata": {},
     "output_type": "execute_result"
    }
   ],
   "source": [
    "data = sm.datasets.get_rdataset('epil', package='MASS').data\n",
    "data.head()"
   ]
  },
  {
   "cell_type": "code",
   "execution_count": 8,
   "id": "occasional-nowhere",
   "metadata": {},
   "outputs": [
    {
     "data": {
      "image/png": "[encoded data removed]",
      "text/plain": [
       "<Figure size 432x288 with 1 Axes>"
      ]
     },
     "metadata": {
      "needs_background": "light"
     },
     "output_type": "display_data"
    }
   ],
   "source": [
    "plt.hist(data.y);"
   ]
  },
  {
   "cell_type": "code",
   "execution_count": 11,
   "id": "fuzzy-filing",
   "metadata": {},
   "outputs": [],
   "source": [
    "fam = sm.families.Poisson()\n",
    "ind = sm.cov_struct.Exchangeable()"
   ]
  },
  {
   "cell_type": "code",
   "execution_count": 13,
   "id": "decent-berkeley",
   "metadata": {},
   "outputs": [
    {
     "data": {
      "text/html": [
       "<table class=\"simpletable\">\n",
       "<caption>GEE Regression Results</caption>\n",
       "<tr>\n",
       "  <th>Dep. Variable:</th>                  <td>y</td>          <th>  No. Observations:  </th>    <td>236</td>  \n",
       "</tr>\n",
       "<tr>\n",
       "  <th>Model:</th>                         <td>GEE</td>         <th>  No. clusters:      </th>    <td>59</td>   \n",
       "</tr>\n",
       "<tr>\n",
       "  <th>Method:</th>                    <td>Generalized</td>     <th>  Min. cluster size: </th>     <td>4</td>   \n",
       "</tr>\n",
       "<tr>\n",
       "  <th></th>                      <td>Estimating Equations</td> <th>  Max. cluster size: </th>     <td>4</td>   \n",
       "</tr>\n",
       "<tr>\n",
       "  <th>Family:</th>                      <td>Poisson</td>       <th>  Mean cluster size: </th>    <td>4.0</td>  \n",
       "</tr>\n",
       "<tr>\n",
       "  <th>Dependence structure:</th>     <td>Exchangeable</td>     <th>  Num. iterations:   </th>     <td>2</td>   \n",
       "</tr>\n",
       "<tr>\n",
       "  <th>Date:</th>                   <td>Tue, 03 Aug 2021</td>   <th>  Scale:             </th>   <td>1.000</td> \n",
       "</tr>\n",
       "<tr>\n",
       "  <th>Covariance type: </th>            <td>robust</td>        <th>  Time:              </th> <td>07:05:03</td>\n",
       "</tr>\n",
       "</table>\n",
       "<table class=\"simpletable\">\n",
       "<tr>\n",
       "          <td></td>            <th>coef</th>     <th>std err</th>      <th>z</th>      <th>P>|z|</th>  <th>[0.025</th>    <th>0.975]</th>  \n",
       "</tr>\n",
       "<tr>\n",
       "  <th>Intercept</th>        <td>    0.5730</td> <td>    0.361</td> <td>    1.589</td> <td> 0.112</td> <td>   -0.134</td> <td>    1.280</td>\n",
       "</tr>\n",
       "<tr>\n",
       "  <th>trt[T.progabide]</th> <td>   -0.1519</td> <td>    0.171</td> <td>   -0.888</td> <td> 0.375</td> <td>   -0.487</td> <td>    0.183</td>\n",
       "</tr>\n",
       "<tr>\n",
       "  <th>age</th>              <td>    0.0223</td> <td>    0.011</td> <td>    1.960</td> <td> 0.050</td> <td> 2.11e-06</td> <td>    0.045</td>\n",
       "</tr>\n",
       "<tr>\n",
       "  <th>base</th>             <td>    0.0226</td> <td>    0.001</td> <td>   18.451</td> <td> 0.000</td> <td>    0.020</td> <td>    0.025</td>\n",
       "</tr>\n",
       "</table>\n",
       "<table class=\"simpletable\">\n",
       "<tr>\n",
       "  <th>Skew:</th>          <td>      3.7823</td> <th>  Kurtosis:          </th> <td>     28.6672</td>\n",
       "</tr>\n",
       "<tr>\n",
       "  <th>Centered skew:</th> <td>      2.7597</td> <th>  Centered kurtosis: </th> <td>     21.9865</td>\n",
       "</tr>\n",
       "</table>"
      ],
      "text/plain": [
       "<class 'statsmodels.iolib.summary.Summary'>\n",
       "\"\"\"\n",
       "                               GEE Regression Results                              \n",
       "===================================================================================\n",
       "Dep. Variable:                           y   No. Observations:                  236\n",
       "Model:                                 GEE   No. clusters:                       59\n",
       "Method:                        Generalized   Min. cluster size:                   4\n",
       "                      Estimating Equations   Max. cluster size:                   4\n",
       "Family:                            Poisson   Mean cluster size:                 4.0\n",
       "Dependence structure:         Exchangeable   Num. iterations:                     2\n",
       "Date:                     Tue, 03 Aug 2021   Scale:                           1.000\n",
       "Covariance type:                    robust   Time:                         07:05:03\n",
       "====================================================================================\n",
       "                       coef    std err          z      P>|z|      [0.025      0.975]\n",
       "------------------------------------------------------------------------------------\n",
       "Intercept            0.5730      0.361      1.589      0.112      -0.134       1.280\n",
       "trt[T.progabide]    -0.1519      0.171     -0.888      0.375      -0.487       0.183\n",
       "age                  0.0223      0.011      1.960      0.050    2.11e-06       0.045\n",
       "base                 0.0226      0.001     18.451      0.000       0.020       0.025\n",
       "==============================================================================\n",
       "Skew:                          3.7823   Kurtosis:                      28.6672\n",
       "Centered skew:                 2.7597   Centered kurtosis:             21.9865\n",
       "==============================================================================\n",
       "\"\"\""
      ]
     },
     "execution_count": 13,
     "metadata": {},
     "output_type": "execute_result"
    }
   ],
   "source": [
    "mod = smf.gee(\n",
    "    'y ~ age + trt + base', 'subject', data, cov_struct=ind, family=fam)\n",
    "res = mod.fit()\n",
    "res.summary()"
   ]
  },
  {
   "cell_type": "code",
   "execution_count": null,
   "id": "stylish-element",
   "metadata": {},
   "outputs": [],
   "source": []
  }
 ],
 "metadata": {
  "kernelspec": {
   "display_name": "Python 3",
   "language": "python",
   "name": "python3"
  },
  "language_info": {
   "codemirror_mode": {
    "name": "ipython",
    "version": 3
   },
   "file_extension": ".py",
   "mimetype": "text/x-python",
   "name": "python",
   "nbconvert_exporter": "python",
   "pygments_lexer": "ipython3",
   "version": "3.8.8"
  }
 },
 "nbformat": 4,
 "nbformat_minor": 5
}
